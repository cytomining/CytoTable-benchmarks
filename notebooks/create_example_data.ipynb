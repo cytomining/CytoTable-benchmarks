{
 "cells": [
  {
   "cell_type": "markdown",
   "id": "fa21b3a0-673d-4198-b2fb-c2a866b5b6a6",
   "metadata": {},
   "source": [
    "# Create Example Data\n",
    "\n",
    "Create example data for use in other work within this repo."
   ]
  },
  {
   "cell_type": "code",
   "execution_count": 1,
   "id": "1a6f4318-0645-4e3a-9acc-fd25c6051a29",
   "metadata": {
    "tags": []
   },
   "outputs": [],
   "source": [
    "# set ipyflow reactive mode\n",
    "%flow mode reactive"
   ]
  },
  {
   "cell_type": "code",
   "execution_count": 2,
   "id": "c5ea6c4b-03a1-4922-ba76-a6497f3a1d8b",
   "metadata": {
    "tags": []
   },
   "outputs": [],
   "source": [
    "import pathlib\n",
    "import shutil\n",
    "import sqlite3\n",
    "\n",
    "import duckdb\n",
    "import numpy as np\n",
    "import pyarrow as pa\n",
    "import requests\n",
    "from pyarrow import csv, parquet\n",
    "from utilities import download_file"
   ]
  },
  {
   "cell_type": "code",
   "execution_count": 3,
   "id": "9a238d77-063b-4bda-8b79-7d4d94052cee",
   "metadata": {
    "tags": []
   },
   "outputs": [],
   "source": [
    "url = \"https://github.com/cytomining/CytoTable/blob/main/tests/data/cellprofiler/NF1_SchwannCell_data/all_cellprofiler.sqlite?raw=true\"\n",
    "orig_filepath = \"./examples/data/all_cellprofiler.sqlite\""
   ]
  },
  {
   "cell_type": "code",
   "execution_count": 4,
   "id": "555bf039-32e0-4303-bf38-92b45f1c8f88",
   "metadata": {
    "tags": []
   },
   "outputs": [],
   "source": [
    "# create a data dir\n",
    "pathlib.Path(orig_filepath).parent.mkdir(exist_ok=True)"
   ]
  },
  {
   "cell_type": "code",
   "execution_count": 5,
   "id": "c14b218b-efcc-4b8f-a366-4178184eb7ca",
   "metadata": {
    "tags": []
   },
   "outputs": [
    {
     "name": "stdout",
     "output_type": "stream",
     "text": [
      "We already have downloaded the file!\n"
     ]
    }
   ],
   "source": [
    "# download the original file\n",
    "download_file(url, orig_filepath)"
   ]
  },
  {
   "cell_type": "code",
   "execution_count": 6,
   "id": "33e7131f-1e82-44d1-a791-98f9db0b104e",
   "metadata": {},
   "outputs": [
    {
     "data": {
      "text/plain": [
       "'./examples/data/all_cellprofiler_duplicate_three.sqlite'"
      ]
     },
     "execution_count": 6,
     "metadata": {},
     "output_type": "execute_result"
    }
   ],
   "source": [
    "# create a duplicate file for use in looped testing\n",
    "shutil.copy(\n",
    "    orig_filepath,\n",
    "    orig_filepath.replace(\"all_cellprofiler\", \"all_cellprofiler_duplicate\"),\n",
    ")\n",
    "shutil.copy(\n",
    "    orig_filepath,\n",
    "    orig_filepath.replace(\"all_cellprofiler\", \"all_cellprofiler_duplicate_two\"),\n",
    ")\n",
    "shutil.copy(\n",
    "    orig_filepath,\n",
    "    orig_filepath.replace(\"all_cellprofiler\", \"all_cellprofiler_duplicate_three\"),\n",
    ")"
   ]
  },
  {
   "cell_type": "code",
   "execution_count": 7,
   "id": "c9b0220c-2cdb-49cf-813f-84b09392060b",
   "metadata": {
    "tags": []
   },
   "outputs": [],
   "source": [
    "def multiply_database_size(filename: str, multiplier: int = 2):\n",
    "    \"\"\"\n",
    "    A function for doubling the size of the database given a filename.\n",
    "    Note: unique to CellProfiler SQLite output and accounts for\n",
    "    various unique keys.\n",
    "    \"\"\"\n",
    "    print(filename)\n",
    "\n",
    "    # Connect to the SQLite database\n",
    "    with sqlite3.connect(filename) as conn:\n",
    "        # Use sqlite3.Row to access columns by name\n",
    "        conn.row_factory = sqlite3.Row\n",
    "\n",
    "        # Create a cursor\n",
    "        cur = conn.cursor()\n",
    "\n",
    "        for tablename in [\"Per_Image\", \"Per_Cytoplasm\", \"Per_Nuclei\", \"Per_Cells\"]:\n",
    "            print(\n",
    "                f\"Start count {tablename}: {dict(cur.execute(f'SELECT count(*) FROM {tablename}').fetchall()[0])}\"\n",
    "            )\n",
    "            # Select all rows from the table\n",
    "            cur.execute(f\"SELECT * FROM {tablename}\")\n",
    "            rows = cur.fetchall()\n",
    "\n",
    "            # Find the maximum id in the existing data\n",
    "            max_id = max(row[\"ImageNumber\"] for row in rows)\n",
    "\n",
    "            new_rows = []\n",
    "            # use a mutliplier to control how many times the data is multiplied\n",
    "            for loop_multiply in range(1, multiplier):\n",
    "                # Copy the rows and increment the id values\n",
    "                for row in rows:\n",
    "                    new_row = dict(row)\n",
    "                    new_row[\"ImageNumber\"] += max_id * loop_multiply\n",
    "                    new_rows.append(new_row)\n",
    "\n",
    "            # Insert the new rows into the table\n",
    "            for row in new_rows:\n",
    "                placeholders = \", \".join(\"?\" * len(row))\n",
    "                columns = \", \".join(row.keys())\n",
    "                cur.execute(\n",
    "                    f\"INSERT INTO {tablename} ({columns}) VALUES ({placeholders})\",\n",
    "                    list(row.values()),\n",
    "                )\n",
    "\n",
    "            print(\n",
    "                f\"End count {tablename}: {dict(cur.execute(f'SELECT count(*) FROM {tablename}').fetchall()[0])}\"\n",
    "            )"
   ]
  },
  {
   "cell_type": "code",
   "execution_count": 8,
   "id": "381ddfe1-346a-4783-b951-2ef8db049448",
   "metadata": {
    "tags": []
   },
   "outputs": [
    {
     "name": "stdout",
     "output_type": "stream",
     "text": [
      "./examples/data/all_cellprofiler-x2.sqlite\n",
      "Start count Per_Image: {'count(*)': 32}\n",
      "End count Per_Image: {'count(*)': 64}\n",
      "Start count Per_Cytoplasm: {'count(*)': 242}\n",
      "End count Per_Cytoplasm: {'count(*)': 484}\n",
      "Start count Per_Nuclei: {'count(*)': 433}\n",
      "End count Per_Nuclei: {'count(*)': 866}\n",
      "Start count Per_Cells: {'count(*)': 242}\n",
      "End count Per_Cells: {'count(*)': 484}\n",
      "./examples/data/all_cellprofiler-x4.sqlite\n",
      "Start count Per_Image: {'count(*)': 64}\n",
      "End count Per_Image: {'count(*)': 128}\n",
      "Start count Per_Cytoplasm: {'count(*)': 484}\n",
      "End count Per_Cytoplasm: {'count(*)': 968}\n",
      "Start count Per_Nuclei: {'count(*)': 866}\n",
      "End count Per_Nuclei: {'count(*)': 1732}\n",
      "Start count Per_Cells: {'count(*)': 484}\n",
      "End count Per_Cells: {'count(*)': 968}\n",
      "./examples/data/all_cellprofiler-x8.sqlite\n",
      "Start count Per_Image: {'count(*)': 128}\n",
      "End count Per_Image: {'count(*)': 256}\n",
      "Start count Per_Cytoplasm: {'count(*)': 968}\n",
      "End count Per_Cytoplasm: {'count(*)': 1936}\n",
      "Start count Per_Nuclei: {'count(*)': 1732}\n",
      "End count Per_Nuclei: {'count(*)': 3464}\n",
      "Start count Per_Cells: {'count(*)': 968}\n",
      "End count Per_Cells: {'count(*)': 1936}\n",
      "./examples/data/all_cellprofiler-x16.sqlite\n",
      "Start count Per_Image: {'count(*)': 256}\n",
      "End count Per_Image: {'count(*)': 512}\n",
      "Start count Per_Cytoplasm: {'count(*)': 1936}\n",
      "End count Per_Cytoplasm: {'count(*)': 3872}\n",
      "Start count Per_Nuclei: {'count(*)': 3464}\n",
      "End count Per_Nuclei: {'count(*)': 6928}\n",
      "Start count Per_Cells: {'count(*)': 1936}\n",
      "End count Per_Cells: {'count(*)': 3872}\n",
      "./examples/data/all_cellprofiler-x32.sqlite\n",
      "Start count Per_Image: {'count(*)': 512}\n",
      "End count Per_Image: {'count(*)': 1024}\n",
      "Start count Per_Cytoplasm: {'count(*)': 3872}\n",
      "End count Per_Cytoplasm: {'count(*)': 7744}\n",
      "Start count Per_Nuclei: {'count(*)': 6928}\n",
      "End count Per_Nuclei: {'count(*)': 13856}\n",
      "Start count Per_Cells: {'count(*)': 3872}\n",
      "End count Per_Cells: {'count(*)': 7744}\n",
      "./examples/data/all_cellprofiler-x64.sqlite\n",
      "Start count Per_Image: {'count(*)': 1024}\n",
      "End count Per_Image: {'count(*)': 2048}\n",
      "Start count Per_Cytoplasm: {'count(*)': 7744}\n",
      "End count Per_Cytoplasm: {'count(*)': 15488}\n",
      "Start count Per_Nuclei: {'count(*)': 13856}\n",
      "End count Per_Nuclei: {'count(*)': 27712}\n",
      "Start count Per_Cells: {'count(*)': 7744}\n",
      "End count Per_Cells: {'count(*)': 15488}\n",
      "./examples/data/all_cellprofiler-x128.sqlite\n",
      "Start count Per_Image: {'count(*)': 2048}\n",
      "End count Per_Image: {'count(*)': 4096}\n",
      "Start count Per_Cytoplasm: {'count(*)': 15488}\n",
      "End count Per_Cytoplasm: {'count(*)': 30976}\n",
      "Start count Per_Nuclei: {'count(*)': 27712}\n",
      "End count Per_Nuclei: {'count(*)': 55424}\n",
      "Start count Per_Cells: {'count(*)': 15488}\n",
      "End count Per_Cells: {'count(*)': 30976}\n",
      "./examples/data/all_cellprofiler-x256.sqlite\n",
      "Start count Per_Image: {'count(*)': 4096}\n",
      "End count Per_Image: {'count(*)': 8192}\n",
      "Start count Per_Cytoplasm: {'count(*)': 30976}\n",
      "End count Per_Cytoplasm: {'count(*)': 61952}\n",
      "Start count Per_Nuclei: {'count(*)': 55424}\n",
      "End count Per_Nuclei: {'count(*)': 110848}\n",
      "Start count Per_Cells: {'count(*)': 30976}\n",
      "End count Per_Cells: {'count(*)': 61952}\n",
      "./examples/data/all_cellprofiler-x512.sqlite\n",
      "Start count Per_Image: {'count(*)': 8192}\n",
      "End count Per_Image: {'count(*)': 16384}\n",
      "Start count Per_Cytoplasm: {'count(*)': 61952}\n",
      "End count Per_Cytoplasm: {'count(*)': 123904}\n",
      "Start count Per_Nuclei: {'count(*)': 110848}\n",
      "End count Per_Nuclei: {'count(*)': 221696}\n",
      "Start count Per_Cells: {'count(*)': 61952}\n",
      "End count Per_Cells: {'count(*)': 123904}\n"
     ]
    }
   ],
   "source": [
    "# loop for copying the database and\n",
    "# doubling the database size each time\n",
    "number = 2\n",
    "previous_filepath = orig_filepath\n",
    "for _ in range(0, 9):\n",
    "    new_filepath = orig_filepath.replace(\".sqlite\", f\"-x{number}.sqlite\")\n",
    "    shutil.copy(previous_filepath, new_filepath)\n",
    "    multiply_database_size(filename=new_filepath, multiplier=2)\n",
    "    previous_filepath = new_filepath\n",
    "    number *= 2"
   ]
  },
  {
   "cell_type": "code",
   "execution_count": 9,
   "id": "ad5d8904-e1b6-4484-987f-b0e5ba208455",
   "metadata": {
    "tags": []
   },
   "outputs": [],
   "source": [
    "# add example parquet file\n",
    "duckdb.connect().execute(\n",
    "    f\"\"\"\n",
    "    /* Install and load sqlite plugin for duckdb */\n",
    "    INSTALL sqlite_scanner;\n",
    "    LOAD sqlite_scanner;\n",
    "\n",
    "    /* Copy content from nuclei table to parquet file */\n",
    "    COPY (select * from sqlite_scan('{orig_filepath}', 'Per_Nuclei')) \n",
    "    TO '{orig_filepath + '.nuclei.parquet'}'\n",
    "    (FORMAT PARQUET);\n",
    "    \"\"\",\n",
    ").close()"
   ]
  },
  {
   "cell_type": "code",
   "execution_count": 10,
   "id": "d7b2078e-1c95-42c3-b978-fd5957ce4a74",
   "metadata": {
    "tags": []
   },
   "outputs": [
    {
     "data": {
      "text/plain": [
       "'./examples/data/all_cellprofiler.sqlite.nuclei-copy.parquet'"
      ]
     },
     "execution_count": 10,
     "metadata": {},
     "output_type": "execute_result"
    }
   ],
   "source": [
    "# create a duplicate file for use in looped testing\n",
    "shutil.copy(\n",
    "    orig_filepath + \".nuclei.parquet\",\n",
    "    orig_filepath + \".nuclei-copy.parquet\",\n",
    ")"
   ]
  },
  {
   "cell_type": "code",
   "execution_count": 11,
   "id": "70a6b6dc-f5ad-4057-80d9-08de69371b2a",
   "metadata": {},
   "outputs": [],
   "source": [
    "# create randomized number data and related pyarrow table\n",
    "tbl_numeric = pa.Table.from_arrays(\n",
    "    [pa.array(np.random.rand(1000, 100)[:, i]) for i in range(100)],\n",
    "    names=[f\"Column_{i}\" for i in range(100)],\n",
    ")\n",
    "# Create a table and write it to file\n",
    "parquet.write_table(\n",
    "    table=tbl_numeric,\n",
    "    where=\"./examples/data/random_number_data.parquet\",\n",
    ")\n",
    "csv.write_csv(data=tbl_numeric, output_file=\"./examples/data/random_number_data.csv\")"
   ]
  },
  {
   "cell_type": "code",
   "execution_count": 12,
   "id": "c305d92b-8dbd-4e6d-a54b-6ac3872e4fb2",
   "metadata": {},
   "outputs": [
    {
     "data": {
      "text/plain": [
       "'./examples/data/random_number_data-copy.csv'"
      ]
     },
     "execution_count": 12,
     "metadata": {},
     "output_type": "execute_result"
    }
   ],
   "source": [
    "# create a duplicate file for use in looped testing\n",
    "shutil.copy(\n",
    "    \"./examples/data/random_number_data.parquet\",\n",
    "    \"./examples/data/random_number_data-copy.parquet\",\n",
    ")\n",
    "shutil.copy(\n",
    "    \"./examples/data/random_number_data.csv\",\n",
    "    \"./examples/data/random_number_data-copy.csv\",\n",
    ")"
   ]
  }
 ],
 "metadata": {
  "jupytext": {
   "formats": "ipynb,py:light"
  },
  "kernelspec": {
   "display_name": "Python 3 (ipyflow)",
   "language": "python",
   "name": "ipyflow"
  },
  "language_info": {
   "codemirror_mode": {
    "name": "ipython",
    "version": 3
   },
   "file_extension": ".py",
   "mimetype": "text/x-python",
   "name": "python",
   "nbconvert_exporter": "python",
   "pygments_lexer": "ipython3",
   "version": "3.9.16"
  }
 },
 "nbformat": 4,
 "nbformat_minor": 5
}
