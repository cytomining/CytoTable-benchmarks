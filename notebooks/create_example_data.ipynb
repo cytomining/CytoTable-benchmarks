{
 "cells": [
  {
   "cell_type": "markdown",
   "id": "fa21b3a0-673d-4198-b2fb-c2a866b5b6a6",
   "metadata": {},
   "source": [
    "# Create Example Data\n",
    "\n",
    "Create example data for use in other work within this repo."
   ]
  },
  {
   "cell_type": "code",
   "execution_count": 1,
   "id": "1a6f4318-0645-4e3a-9acc-fd25c6051a29",
   "metadata": {
    "tags": []
   },
   "outputs": [],
   "source": [
    "# set ipyflow reactive mode\n",
    "%flow mode reactive"
   ]
  },
  {
   "cell_type": "code",
   "execution_count": 2,
   "id": "c5ea6c4b-03a1-4922-ba76-a6497f3a1d8b",
   "metadata": {
    "tags": []
   },
   "outputs": [],
   "source": [
    "import pathlib\n",
    "import shutil\n",
    "import sqlite3\n",
    "\n",
    "import pandas as pd\n",
    "import requests"
   ]
  },
  {
   "cell_type": "code",
   "execution_count": 3,
   "id": "9a238d77-063b-4bda-8b79-7d4d94052cee",
   "metadata": {
    "tags": []
   },
   "outputs": [],
   "source": [
    "url = \"https://github.com/cytomining/CytoTable/blob/main/tests/data/cellprofiler/NF1_SchwannCell_data/all_cellprofiler.sqlite?raw=true\"\n",
    "orig_filepath = \"./examples/data/all_cellprofiler.sqlite\""
   ]
  },
  {
   "cell_type": "code",
   "execution_count": 4,
   "id": "ad5650e7-7c2b-4136-a87a-a64cc29e39fe",
   "metadata": {
    "tags": []
   },
   "outputs": [],
   "source": [
    "def download_file(url, filename):\n",
    "    if pathlib.Path(filename).exists():\n",
    "        print(\"We already have downloaded the file!\")\n",
    "        return\n",
    "\n",
    "    # Send a HTTP request to the URL of the file you want to access\n",
    "    response = requests.get(url)\n",
    "\n",
    "    # Check if the request was successful\n",
    "    if response.status_code == 200:\n",
    "        with open(filename, \"wb\") as file:\n",
    "            # Write the contents of the response to a file\n",
    "            file.write(response.content)\n",
    "    else:\n",
    "        print(f\"Failed to download file, status code: {response.status_code}\")"
   ]
  },
  {
   "cell_type": "code",
   "execution_count": 5,
   "id": "c14b218b-efcc-4b8f-a366-4178184eb7ca",
   "metadata": {
    "tags": []
   },
   "outputs": [
    {
     "name": "stdout",
     "output_type": "stream",
     "text": [
      "We already have downloaded the file!\n"
     ]
    }
   ],
   "source": [
    "# download the original file\n",
    "download_file(url, orig_filepath)"
   ]
  },
  {
   "cell_type": "code",
   "execution_count": 6,
   "id": "c9b0220c-2cdb-49cf-813f-84b09392060b",
   "metadata": {
    "tags": []
   },
   "outputs": [],
   "source": [
    "def double_database_size(filename: str) -> str:\n",
    "    \"\"\"\n",
    "    A function for doubling the size of the database given a filename.\n",
    "    Note: unique to CellProfiler SQLite output and accounts for\n",
    "    various unique keys.\n",
    "    \"\"\"\n",
    "    print(filename)\n",
    "\n",
    "    # Connect to the SQLite database\n",
    "    with sqlite3.connect(filename) as conn:\n",
    "        # Use sqlite3.Row to access columns by name\n",
    "        conn.row_factory = sqlite3.Row\n",
    "\n",
    "        # Create a cursor\n",
    "        cur = conn.cursor()\n",
    "\n",
    "        for tablename in [\"Per_Image\", \"Per_Cytoplasm\", \"Per_Nuclei\", \"Per_Cells\"]:\n",
    "            print(\n",
    "                f\"Start count {tablename}: {dict(cur.execute(f'SELECT count(*) FROM {tablename}').fetchall()[0])}\"\n",
    "            )\n",
    "            # Select all rows from the table\n",
    "            cur.execute(f\"SELECT * FROM {tablename}\")\n",
    "            rows = cur.fetchall()\n",
    "\n",
    "            # Find the maximum id in the existing data\n",
    "            max_id = max(row[\"ImageNumber\"] for row in rows)\n",
    "\n",
    "            # Copy the rows and increment the id values\n",
    "            new_rows = []\n",
    "            for row in rows:\n",
    "                new_row = dict(row)\n",
    "                new_row[\"ImageNumber\"] += max_id\n",
    "                new_rows.append(new_row)\n",
    "\n",
    "            # Insert the new rows into the table\n",
    "            for row in new_rows:\n",
    "                placeholders = \", \".join(\"?\" * len(row))\n",
    "                columns = \", \".join(row.keys())\n",
    "                cur.execute(\n",
    "                    f\"INSERT INTO {tablename} ({columns}) VALUES ({placeholders})\",\n",
    "                    list(row.values()),\n",
    "                )\n",
    "\n",
    "            print(\n",
    "                f\"End count {tablename}: {dict(cur.execute(f'SELECT count(*) FROM {tablename}').fetchall()[0])}\"\n",
    "            )"
   ]
  },
  {
   "cell_type": "code",
   "execution_count": 7,
   "id": "89193f64-31c2-43f5-937a-65ac38eab5d6",
   "metadata": {
    "tags": []
   },
   "outputs": [
    {
     "data": {
      "text/plain": [
       "'./examples/data/all_cellprofiler-x2.sqlite'"
      ]
     },
     "execution_count": 7,
     "metadata": {},
     "output_type": "execute_result"
    }
   ],
   "source": [
    "# copy the original with new name\n",
    "doubled_file = shutil.copy(\n",
    "    orig_filepath, orig_filepath.replace(\".sqlite\", \"-x2.sqlite\")\n",
    ")\n",
    "doubled_file"
   ]
  },
  {
   "cell_type": "code",
   "execution_count": 8,
   "id": "29a6bc83-9e82-44d8-aeea-f4733828f9a1",
   "metadata": {
    "tags": []
   },
   "outputs": [
    {
     "name": "stdout",
     "output_type": "stream",
     "text": [
      "./examples/data/all_cellprofiler-x2.sqlite\n",
      "Start count Per_Image: {'count(*)': 32}\n",
      "End count Per_Image: {'count(*)': 64}\n",
      "Start count Per_Cytoplasm: {'count(*)': 242}\n",
      "End count Per_Cytoplasm: {'count(*)': 484}\n",
      "Start count Per_Nuclei: {'count(*)': 433}\n",
      "End count Per_Nuclei: {'count(*)': 866}\n",
      "Start count Per_Cells: {'count(*)': 242}\n",
      "End count Per_Cells: {'count(*)': 484}\n"
     ]
    }
   ],
   "source": [
    "double_database_size(filename=doubled_file)"
   ]
  },
  {
   "cell_type": "code",
   "execution_count": 9,
   "id": "01fe11d4-fe1b-424f-852e-70805ba6bb21",
   "metadata": {
    "tags": []
   },
   "outputs": [
    {
     "data": {
      "text/plain": [
       "'./examples/data/all_cellprofiler-x4.sqlite'"
      ]
     },
     "execution_count": 9,
     "metadata": {},
     "output_type": "execute_result"
    }
   ],
   "source": [
    "# copy the original with new name\n",
    "quadrupled_file = shutil.copy(\n",
    "    doubled_file, orig_filepath.replace(\".sqlite\", \"-x4.sqlite\")\n",
    ")\n",
    "quadrupled_file"
   ]
  },
  {
   "cell_type": "code",
   "execution_count": 10,
   "id": "affd8671-2bff-4284-8cdc-fd806880ebb4",
   "metadata": {
    "tags": []
   },
   "outputs": [
    {
     "name": "stdout",
     "output_type": "stream",
     "text": [
      "./examples/data/all_cellprofiler-x4.sqlite\n",
      "Start count Per_Image: {'count(*)': 64}\n",
      "End count Per_Image: {'count(*)': 128}\n",
      "Start count Per_Cytoplasm: {'count(*)': 484}\n",
      "End count Per_Cytoplasm: {'count(*)': 968}\n",
      "Start count Per_Nuclei: {'count(*)': 866}\n",
      "End count Per_Nuclei: {'count(*)': 1732}\n",
      "Start count Per_Cells: {'count(*)': 484}\n",
      "End count Per_Cells: {'count(*)': 968}\n"
     ]
    }
   ],
   "source": [
    "double_database_size(filename=quadrupled_file)"
   ]
  },
  {
   "cell_type": "code",
   "execution_count": 11,
   "id": "b25f6e53-0c1e-4f5c-8abd-3b96f31245f9",
   "metadata": {},
   "outputs": [
    {
     "data": {
      "text/plain": [
       "'./examples/data/all_cellprofiler-x8.sqlite'"
      ]
     },
     "execution_count": 11,
     "metadata": {},
     "output_type": "execute_result"
    }
   ],
   "source": [
    "# copy the original with new name\n",
    "octupled_file = shutil.copy(\n",
    "    quadrupled_file, orig_filepath.replace(\".sqlite\", \"-x8.sqlite\")\n",
    ")\n",
    "octupled_file"
   ]
  },
  {
   "cell_type": "code",
   "execution_count": 12,
   "id": "9675d554-5e81-49cd-bb4c-864740eaf311",
   "metadata": {
    "tags": []
   },
   "outputs": [
    {
     "name": "stdout",
     "output_type": "stream",
     "text": [
      "./examples/data/all_cellprofiler-x8.sqlite\n",
      "Start count Per_Image: {'count(*)': 128}\n",
      "End count Per_Image: {'count(*)': 256}\n",
      "Start count Per_Cytoplasm: {'count(*)': 968}\n",
      "End count Per_Cytoplasm: {'count(*)': 1936}\n",
      "Start count Per_Nuclei: {'count(*)': 1732}\n",
      "End count Per_Nuclei: {'count(*)': 3464}\n",
      "Start count Per_Cells: {'count(*)': 968}\n",
      "End count Per_Cells: {'count(*)': 1936}\n"
     ]
    }
   ],
   "source": [
    "double_database_size(filename=octupled_file)"
   ]
  },
  {
   "cell_type": "code",
   "execution_count": 13,
   "id": "0618d251-7b5e-4200-83f6-0357e56bb905",
   "metadata": {
    "tags": []
   },
   "outputs": [
    {
     "data": {
      "text/plain": [
       "'./examples/data/all_cellprofiler-x16.sqlite'"
      ]
     },
     "execution_count": 13,
     "metadata": {},
     "output_type": "execute_result"
    }
   ],
   "source": [
    "# copy the original with new name\n",
    "hexadecupled_file = shutil.copy(\n",
    "    octupled_file, orig_filepath.replace(\".sqlite\", \"-x16.sqlite\")\n",
    ")\n",
    "hexadecupled_file"
   ]
  },
  {
   "cell_type": "code",
   "execution_count": 14,
   "id": "c10994f8-34bf-4161-b26e-2d9c196d743d",
   "metadata": {
    "tags": []
   },
   "outputs": [
    {
     "name": "stdout",
     "output_type": "stream",
     "text": [
      "./examples/data/all_cellprofiler-x16.sqlite\n",
      "Start count Per_Image: {'count(*)': 256}\n",
      "End count Per_Image: {'count(*)': 512}\n",
      "Start count Per_Cytoplasm: {'count(*)': 1936}\n",
      "End count Per_Cytoplasm: {'count(*)': 3872}\n",
      "Start count Per_Nuclei: {'count(*)': 3464}\n",
      "End count Per_Nuclei: {'count(*)': 6928}\n",
      "Start count Per_Cells: {'count(*)': 1936}\n",
      "End count Per_Cells: {'count(*)': 3872}\n"
     ]
    }
   ],
   "source": [
    "double_database_size(filename=hexadecupled_file)"
   ]
  }
 ],
 "metadata": {
  "jupytext": {
   "formats": "ipynb,py:light"
  },
  "kernelspec": {
   "display_name": "Python 3 (ipyflow)",
   "language": "python",
   "name": "ipyflow"
  },
  "language_info": {
   "codemirror_mode": {
    "name": "ipython",
    "version": 3
   },
   "file_extension": ".py",
   "mimetype": "text/x-python",
   "name": "python",
   "nbconvert_exporter": "python",
   "pygments_lexer": "ipython3",
   "version": "3.9.12"
  }
 },
 "nbformat": 4,
 "nbformat_minor": 5
}
