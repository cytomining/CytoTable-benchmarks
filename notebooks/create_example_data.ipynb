{
 "cells": [
  {
   "cell_type": "markdown",
   "id": "fa21b3a0-673d-4198-b2fb-c2a866b5b6a6",
   "metadata": {},
   "source": [
    "# Create Example Data\n",
    "\n",
    "Create example data for use in other work within this repo."
   ]
  },
  {
   "cell_type": "code",
   "execution_count": 1,
   "id": "1a6f4318-0645-4e3a-9acc-fd25c6051a29",
   "metadata": {
    "tags": []
   },
   "outputs": [],
   "source": [
    "# set ipyflow reactive mode\n",
    "%flow mode reactive"
   ]
  },
  {
   "cell_type": "code",
   "execution_count": 2,
   "id": "c5ea6c4b-03a1-4922-ba76-a6497f3a1d8b",
   "metadata": {
    "tags": []
   },
   "outputs": [],
   "source": [
    "import pathlib\n",
    "import shutil\n",
    "import sqlite3\n",
    "\n",
    "import requests\n",
    "from utilities import download_file"
   ]
  },
  {
   "cell_type": "code",
   "execution_count": 3,
   "id": "9a238d77-063b-4bda-8b79-7d4d94052cee",
   "metadata": {
    "tags": []
   },
   "outputs": [],
   "source": [
    "url = \"https://github.com/cytomining/CytoTable/blob/main/tests/data/cellprofiler/NF1_SchwannCell_data/all_cellprofiler.sqlite?raw=true\"\n",
    "orig_filepath = \"./examples/data/all_cellprofiler.sqlite\""
   ]
  },
  {
   "cell_type": "code",
   "execution_count": 4,
   "id": "c14b218b-efcc-4b8f-a366-4178184eb7ca",
   "metadata": {
    "tags": []
   },
   "outputs": [
    {
     "name": "stdout",
     "output_type": "stream",
     "text": [
      "We already have downloaded the file!\n"
     ]
    }
   ],
   "source": [
    "# download the original file\n",
    "download_file(url, orig_filepath)"
   ]
  },
  {
   "cell_type": "code",
   "execution_count": 5,
   "id": "c9b0220c-2cdb-49cf-813f-84b09392060b",
   "metadata": {
    "tags": []
   },
   "outputs": [],
   "source": [
    "def double_database_size(filename: str):\n",
    "    \"\"\"\n",
    "    A function for doubling the size of the database given a filename.\n",
    "    Note: unique to CellProfiler SQLite output and accounts for\n",
    "    various unique keys.\n",
    "    \"\"\"\n",
    "    print(filename)\n",
    "\n",
    "    # Connect to the SQLite database\n",
    "    with sqlite3.connect(filename) as conn:\n",
    "        # Use sqlite3.Row to access columns by name\n",
    "        conn.row_factory = sqlite3.Row\n",
    "\n",
    "        # Create a cursor\n",
    "        cur = conn.cursor()\n",
    "\n",
    "        for tablename in [\"Per_Image\", \"Per_Cytoplasm\", \"Per_Nuclei\", \"Per_Cells\"]:\n",
    "            print(\n",
    "                f\"Start count {tablename}: {dict(cur.execute(f'SELECT count(*) FROM {tablename}').fetchall()[0])}\"\n",
    "            )\n",
    "            # Select all rows from the table\n",
    "            cur.execute(f\"SELECT * FROM {tablename}\")\n",
    "            rows = cur.fetchall()\n",
    "\n",
    "            # Find the maximum id in the existing data\n",
    "            max_id = max(row[\"ImageNumber\"] for row in rows)\n",
    "\n",
    "            # Copy the rows and increment the id values\n",
    "            new_rows = []\n",
    "            for row in rows:\n",
    "                new_row = dict(row)\n",
    "                new_row[\"ImageNumber\"] += max_id\n",
    "                new_rows.append(new_row)\n",
    "\n",
    "            # Insert the new rows into the table\n",
    "            for row in new_rows:\n",
    "                placeholders = \", \".join(\"?\" * len(row))\n",
    "                columns = \", \".join(row.keys())\n",
    "                cur.execute(\n",
    "                    f\"INSERT INTO {tablename} ({columns}) VALUES ({placeholders})\",\n",
    "                    list(row.values()),\n",
    "                )\n",
    "\n",
    "            print(\n",
    "                f\"End count {tablename}: {dict(cur.execute(f'SELECT count(*) FROM {tablename}').fetchall()[0])}\"\n",
    "            )"
   ]
  },
  {
   "cell_type": "code",
   "execution_count": 7,
   "id": "381ddfe1-346a-4783-b951-2ef8db049448",
   "metadata": {
    "tags": []
   },
   "outputs": [
    {
     "name": "stdout",
     "output_type": "stream",
     "text": [
      "./examples/data/all_cellprofiler-x2.sqlite\n",
      "Start count Per_Image: {'count(*)': 32}\n",
      "End count Per_Image: {'count(*)': 64}\n",
      "Start count Per_Cytoplasm: {'count(*)': 242}\n",
      "End count Per_Cytoplasm: {'count(*)': 484}\n",
      "Start count Per_Nuclei: {'count(*)': 433}\n",
      "End count Per_Nuclei: {'count(*)': 866}\n",
      "Start count Per_Cells: {'count(*)': 242}\n",
      "End count Per_Cells: {'count(*)': 484}\n",
      "./examples/data/all_cellprofiler-x4.sqlite\n",
      "Start count Per_Image: {'count(*)': 64}\n",
      "End count Per_Image: {'count(*)': 128}\n",
      "Start count Per_Cytoplasm: {'count(*)': 484}\n",
      "End count Per_Cytoplasm: {'count(*)': 968}\n",
      "Start count Per_Nuclei: {'count(*)': 866}\n",
      "End count Per_Nuclei: {'count(*)': 1732}\n",
      "Start count Per_Cells: {'count(*)': 484}\n",
      "End count Per_Cells: {'count(*)': 968}\n",
      "./examples/data/all_cellprofiler-x8.sqlite\n",
      "Start count Per_Image: {'count(*)': 128}\n",
      "End count Per_Image: {'count(*)': 256}\n",
      "Start count Per_Cytoplasm: {'count(*)': 968}\n",
      "End count Per_Cytoplasm: {'count(*)': 1936}\n",
      "Start count Per_Nuclei: {'count(*)': 1732}\n",
      "End count Per_Nuclei: {'count(*)': 3464}\n",
      "Start count Per_Cells: {'count(*)': 968}\n",
      "End count Per_Cells: {'count(*)': 1936}\n",
      "./examples/data/all_cellprofiler-x16.sqlite\n",
      "Start count Per_Image: {'count(*)': 256}\n",
      "End count Per_Image: {'count(*)': 512}\n",
      "Start count Per_Cytoplasm: {'count(*)': 1936}\n",
      "End count Per_Cytoplasm: {'count(*)': 3872}\n",
      "Start count Per_Nuclei: {'count(*)': 3464}\n",
      "End count Per_Nuclei: {'count(*)': 6928}\n",
      "Start count Per_Cells: {'count(*)': 1936}\n",
      "End count Per_Cells: {'count(*)': 3872}\n",
      "./examples/data/all_cellprofiler-x32.sqlite\n",
      "Start count Per_Image: {'count(*)': 512}\n",
      "End count Per_Image: {'count(*)': 1024}\n",
      "Start count Per_Cytoplasm: {'count(*)': 3872}\n",
      "End count Per_Cytoplasm: {'count(*)': 7744}\n",
      "Start count Per_Nuclei: {'count(*)': 6928}\n",
      "End count Per_Nuclei: {'count(*)': 13856}\n",
      "Start count Per_Cells: {'count(*)': 3872}\n",
      "End count Per_Cells: {'count(*)': 7744}\n"
     ]
    }
   ],
   "source": [
    "# loop through 5 times, copying the database and\n",
    "# doubling the database size each time\n",
    "number = 2\n",
    "previous_filepath = orig_filepath\n",
    "for _ in range(0, 5):\n",
    "    new_filepath = orig_filepath.replace(\".sqlite\", f\"-x{number}.sqlite\")\n",
    "    shutil.copy(previous_filepath, new_filepath)\n",
    "    double_database_size(filename=new_filepath)\n",
    "    previous_filepath = new_filepath\n",
    "    number *= 2"
   ]
  }
 ],
 "metadata": {
  "jupytext": {
   "formats": "ipynb,py:light"
  },
  "kernelspec": {
   "display_name": "Python 3 (ipyflow)",
   "language": "python",
   "name": "ipyflow"
  },
  "language_info": {
   "codemirror_mode": {
    "name": "ipython",
    "version": 3
   },
   "file_extension": ".py",
   "mimetype": "text/x-python",
   "name": "python",
   "nbconvert_exporter": "python",
   "pygments_lexer": "ipython3",
   "version": "3.9.12"
  }
 },
 "nbformat": 4,
 "nbformat_minor": 5
}
