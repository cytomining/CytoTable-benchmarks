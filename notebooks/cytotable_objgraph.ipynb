{
 "cells": [
  {
   "cell_type": "markdown",
   "id": "cc479d78-e5e4-4802-81ac-45a75525cf49",
   "metadata": {},
   "source": [
    "# CytoTable object graph analysis\n",
    "\n",
    "This notebook explores how CytoTable objects operate. The work is related to [CytoTable#75](https://github.com/cytomining/CytoTable/issues/75)."
   ]
  },
  {
   "cell_type": "code",
   "execution_count": null,
   "id": "87e1ee63-7ca0-4df3-affa-7bcf7c94e3c9",
   "metadata": {
    "tags": []
   },
   "outputs": [],
   "source": [
    "import gc\n",
    "import shutil\n",
    "import tempfile\n",
    "\n",
    "import cytotable\n",
    "import objgraph\n",
    "from IPython.display import Image\n",
    "\n",
    "gc.set_debug(gc.DEBUG_LEAK)"
   ]
  },
  {
   "cell_type": "code",
   "execution_count": null,
   "id": "b8c6b962-a695-4855-9b20-ef4e972baf26",
   "metadata": {},
   "outputs": [],
   "source": [
    "# create a list of files to reference\n",
    "list_of_sqlite_files = [\n",
    "    \"./examples/data/all_cellprofiler.sqlite\",\n",
    "]\n",
    "graph_img = \"cytotable-object-graph.png\""
   ]
  },
  {
   "cell_type": "code",
   "execution_count": null,
   "id": "961337e2-d113-4ef7-8b3a-73a1d71decc5",
   "metadata": {
    "tags": []
   },
   "outputs": [],
   "source": [
    "cytotable.convert(\n",
    "    source_path=\"./examples/data/all_cellprofiler.sqlite\",\n",
    "    dest_path=\"./examples/data/test-result.parquet\",\n",
    "    dest_datatype=\"parquet\",\n",
    "    preset=\"cellprofiler_sqlite_pycytominer\",\n",
    ")"
   ]
  },
  {
   "cell_type": "code",
   "execution_count": null,
   "id": "dcc4128e-aa10-418f-9ddf-8e20837fd1ed",
   "metadata": {
    "tags": []
   },
   "outputs": [],
   "source": [
    "objgraph.show_refs(cytotable, refcounts=True, filename=graph_img)"
   ]
  },
  {
   "cell_type": "code",
   "execution_count": null,
   "id": "95f8d234-6749-46eb-bf44-1497c6c4ee79",
   "metadata": {},
   "outputs": [],
   "source": [
    "cytotable.convert(\n",
    "    source_path=\"./examples/data/all_cellprofiler.sqlite\",\n",
    "    dest_path=\"./examples/data/test-result.parquet\",\n",
    "    dest_datatype=\"parquet\",\n",
    "    preset=\"cellprofiler_sqlite_pycytominer\",\n",
    ")"
   ]
  },
  {
   "cell_type": "code",
   "execution_count": null,
   "id": "f01f88d8-d970-43c4-8457-17039eaf4700",
   "metadata": {
    "tags": []
   },
   "outputs": [],
   "source": [
    "print(objgraph.show_growth(limit=3), end=\"\\n\\n\")"
   ]
  },
  {
   "cell_type": "code",
   "execution_count": null,
   "id": "ccb41ba0-fcdc-4cae-93f7-0718215ea643",
   "metadata": {},
   "outputs": [],
   "source": [
    "cytotable.convert(\n",
    "    source_path=\"./examples/data/all_cellprofiler.sqlite\",\n",
    "    dest_path=\"./examples/data/test-result.parquet\",\n",
    "    dest_datatype=\"parquet\",\n",
    "    preset=\"cellprofiler_sqlite_pycytominer\",\n",
    ")"
   ]
  },
  {
   "cell_type": "code",
   "execution_count": null,
   "id": "d5392a34-a7be-4193-a1cd-190cec56594d",
   "metadata": {
    "tags": []
   },
   "outputs": [],
   "source": [
    "print(objgraph.show_growth(limit=3), end=\"\\n\\n\")"
   ]
  },
  {
   "cell_type": "code",
   "execution_count": null,
   "id": "5a009499-0f5a-44d0-b346-c517347e110c",
   "metadata": {},
   "outputs": [],
   "source": [
    "cytotable.convert(\n",
    "    source_path=\"./examples/data/all_cellprofiler.sqlite\",\n",
    "    dest_path=\"./examples/data/test-result.parquet\",\n",
    "    dest_datatype=\"parquet\",\n",
    "    preset=\"cellprofiler_sqlite_pycytominer\",\n",
    ")"
   ]
  },
  {
   "cell_type": "code",
   "execution_count": null,
   "id": "dc820412-f738-4cb3-a8e8-e7c7544a47af",
   "metadata": {
    "tags": []
   },
   "outputs": [],
   "source": [
    "print(objgraph.show_growth(limit=3), end=\"\\n\\n\")"
   ]
  },
  {
   "cell_type": "code",
   "execution_count": null,
   "id": "fa8cb7f5-ca0a-4590-ab4d-9a8f6463d215",
   "metadata": {
    "tags": []
   },
   "outputs": [],
   "source": [
    "objgraph.show_refs(cytotable, refcounts=True, filename=graph_img)"
   ]
  },
  {
   "cell_type": "code",
   "execution_count": null,
   "id": "155efaeb-a7dc-44d8-8a7a-e219892882f5",
   "metadata": {
    "tags": []
   },
   "outputs": [],
   "source": [
    "roots = objgraph.get_leaking_objects()\n",
    "objgraph.show_refs(roots[:3], refcounts=True, filename=\"roots.png\")"
   ]
  },
  {
   "cell_type": "code",
   "execution_count": null,
   "id": "abad469a-f8fd-42e7-8dcc-4db399bb713b",
   "metadata": {
    "tags": []
   },
   "outputs": [],
   "source": [
    "objgraph.show_most_common_types(objects=roots, shortnames=False)"
   ]
  },
  {
   "cell_type": "code",
   "execution_count": null,
   "id": "433428ca-d6a8-4460-9c63-a38327f08008",
   "metadata": {},
   "outputs": [],
   "source": [
    "print(objgraph.by_type(typename=\"dict\", objects=roots)[:5])"
   ]
  },
  {
   "cell_type": "code",
   "execution_count": null,
   "id": "522183da-299f-4c50-9caa-a9cbfe9da22e",
   "metadata": {},
   "outputs": [],
   "source": [
    "print(objgraph.by_type(typename=\"cell\", objects=roots)[:5])"
   ]
  },
  {
   "cell_type": "code",
   "execution_count": null,
   "id": "7bdf12d0-5399-457a-8798-ba3dbd96912b",
   "metadata": {
    "tags": []
   },
   "outputs": [],
   "source": [
    "# Explicitly collect garbage and check for memory leak warnings\n",
    "import sys\n",
    "\n",
    "import pandas as pd\n",
    "\n",
    "collected = gc.collect()\n",
    "if gc.garbage:\n",
    "    print(f\"Memory leak detected: {len(gc.garbage)} objects\")\n",
    "    df = pd.DataFrame(\n",
    "        [\n",
    "            {\"type\": type(obj), \"refcount\": sys.getrefcount(obj), \"repr\": repr(obj)}\n",
    "            for obj in gc.garbage\n",
    "        ]\n",
    "    )\n",
    "\n",
    "df.head()"
   ]
  },
  {
   "cell_type": "code",
   "execution_count": null,
   "id": "30b82ad4-f635-43f3-b9ef-06d70f64f0bc",
   "metadata": {},
   "outputs": [],
   "source": [
    "df.sort_values(by=\"refcount\", ascending=False).drop_duplicates()"
   ]
  },
  {
   "cell_type": "code",
   "execution_count": null,
   "id": "ee63c093-755c-43b5-89ff-467d969e7e0b",
   "metadata": {},
   "outputs": [],
   "source": []
  }
 ],
 "metadata": {
  "jupytext": {
   "formats": "ipynb,py:light"
  },
  "kernelspec": {
   "display_name": "Python 3 (ipyflow)",
   "language": "python",
   "name": "ipyflow"
  },
  "language_info": {
   "codemirror_mode": {
    "name": "ipython",
    "version": 3
   },
   "file_extension": ".py",
   "mimetype": "text/x-python",
   "name": "python",
   "nbconvert_exporter": "python",
   "pygments_lexer": "ipython3",
   "version": "3.9.12"
  }
 },
 "nbformat": 4,
 "nbformat_minor": 5
}
