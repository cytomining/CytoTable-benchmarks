{
 "cells": [
  {
   "cell_type": "markdown",
   "id": "cc479d78-e5e4-4802-81ac-45a75525cf49",
   "metadata": {},
   "source": [
    "# CytoTable object graph analysis\n",
    "\n",
    "This notebook explores how CytoTable objects operate. The work is related to [CytoTable#75](https://github.com/cytomining/CytoTable/issues/75)."
   ]
  },
  {
   "cell_type": "code",
   "execution_count": 1,
   "id": "87e1ee63-7ca0-4df3-affa-7bcf7c94e3c9",
   "metadata": {
    "tags": []
   },
   "outputs": [],
   "source": [
    "import shutil\n",
    "import tempfile\n",
    "\n",
    "import cytotable\n",
    "import objgraph\n",
    "from IPython.display import Image"
   ]
  },
  {
   "cell_type": "code",
   "execution_count": 2,
   "id": "b8c6b962-a695-4855-9b20-ef4e972baf26",
   "metadata": {},
   "outputs": [],
   "source": [
    "# create a list of files to reference\n",
    "list_of_sqlite_files = [\n",
    "    \"./examples/data/all_cellprofiler.sqlite\",\n",
    "]\n",
    "graph_img = \"cytotable-object-graph.png\""
   ]
  },
  {
   "cell_type": "code",
   "execution_count": 3,
   "id": "961337e2-d113-4ef7-8b3a-73a1d71decc5",
   "metadata": {
    "tags": []
   },
   "outputs": [
    {
     "data": {
      "text/plain": [
       "PosixPath('/Users/dabu5788/Documents/work/CytoTable-benchmarks-d33bs/notebooks/examples/data/test-result.parquet')"
      ]
     },
     "execution_count": 3,
     "metadata": {},
     "output_type": "execute_result"
    }
   ],
   "source": [
    "cytotable.convert(\n",
    "    source_path=\"./examples/data/all_cellprofiler.sqlite\",\n",
    "    dest_path=\"./examples/data/test-result.parquet\",\n",
    "    dest_datatype=\"parquet\",\n",
    "    preset=\"cellprofiler_sqlite_pycytominer\",\n",
    ")"
   ]
  },
  {
   "cell_type": "code",
   "execution_count": 4,
   "id": "dcc4128e-aa10-418f-9ddf-8e20837fd1ed",
   "metadata": {
    "tags": []
   },
   "outputs": [
    {
     "name": "stdout",
     "output_type": "stream",
     "text": [
      "Graph written to /var/folders/m0/31lvvzb50sl0d_l7bnb74cdr0000gq/T/objgraph-2kiknz8x.dot (27 nodes)\n",
      "Image generated as cytotable-object-graph.png\n"
     ]
    }
   ],
   "source": [
    "objgraph.show_refs(cytotable, refcounts=True, filename=graph_img)"
   ]
  },
  {
   "cell_type": "code",
   "execution_count": 5,
   "id": "95f8d234-6749-46eb-bf44-1497c6c4ee79",
   "metadata": {},
   "outputs": [
    {
     "name": "stderr",
     "output_type": "stream",
     "text": [
      "Reusing previously loaded Parsl configuration.\n"
     ]
    },
    {
     "data": {
      "text/plain": [
       "PosixPath('/Users/dabu5788/Documents/work/CytoTable-benchmarks-d33bs/notebooks/examples/data/test-result.parquet')"
      ]
     },
     "execution_count": 5,
     "metadata": {},
     "output_type": "execute_result"
    }
   ],
   "source": [
    "cytotable.convert(\n",
    "    source_path=\"./examples/data/all_cellprofiler.sqlite\",\n",
    "    dest_path=\"./examples/data/test-result.parquet\",\n",
    "    dest_datatype=\"parquet\",\n",
    "    preset=\"cellprofiler_sqlite_pycytominer\",\n",
    ")"
   ]
  },
  {
   "cell_type": "code",
   "execution_count": 6,
   "id": "f01f88d8-d970-43c4-8457-17039eaf4700",
   "metadata": {
    "tags": []
   },
   "outputs": [
    {
     "name": "stdout",
     "output_type": "stream",
     "text": [
      "function    30989    +30989\n",
      "tuple       22084    +22084\n",
      "dict        18528    +18528\n",
      "None\n",
      "\n"
     ]
    }
   ],
   "source": [
    "print(objgraph.show_growth(limit=3), end=\"\\n\\n\")"
   ]
  },
  {
   "cell_type": "code",
   "execution_count": 7,
   "id": "ccb41ba0-fcdc-4cae-93f7-0718215ea643",
   "metadata": {},
   "outputs": [
    {
     "name": "stderr",
     "output_type": "stream",
     "text": [
      "Reusing previously loaded Parsl configuration.\n"
     ]
    },
    {
     "data": {
      "text/plain": [
       "PosixPath('/Users/dabu5788/Documents/work/CytoTable-benchmarks-d33bs/notebooks/examples/data/test-result.parquet')"
      ]
     },
     "execution_count": 7,
     "metadata": {},
     "output_type": "execute_result"
    }
   ],
   "source": [
    "cytotable.convert(\n",
    "    source_path=\"./examples/data/all_cellprofiler.sqlite\",\n",
    "    dest_path=\"./examples/data/test-result.parquet\",\n",
    "    dest_datatype=\"parquet\",\n",
    "    preset=\"cellprofiler_sqlite_pycytominer\",\n",
    ")"
   ]
  },
  {
   "cell_type": "code",
   "execution_count": 8,
   "id": "d5392a34-a7be-4193-a1cd-190cec56594d",
   "metadata": {
    "tags": []
   },
   "outputs": [
    {
     "name": "stdout",
     "output_type": "stream",
     "text": [
      "dict    18585       +57\n",
      "list     8765       +39\n",
      "cell    11044       +14\n",
      "None\n",
      "\n"
     ]
    }
   ],
   "source": [
    "print(objgraph.show_growth(limit=3), end=\"\\n\\n\")"
   ]
  },
  {
   "cell_type": "code",
   "execution_count": 9,
   "id": "5a009499-0f5a-44d0-b346-c517347e110c",
   "metadata": {},
   "outputs": [
    {
     "name": "stderr",
     "output_type": "stream",
     "text": [
      "Reusing previously loaded Parsl configuration.\n"
     ]
    },
    {
     "data": {
      "text/plain": [
       "PosixPath('/Users/dabu5788/Documents/work/CytoTable-benchmarks-d33bs/notebooks/examples/data/test-result.parquet')"
      ]
     },
     "execution_count": 9,
     "metadata": {},
     "output_type": "execute_result"
    }
   ],
   "source": [
    "cytotable.convert(\n",
    "    source_path=\"./examples/data/all_cellprofiler.sqlite\",\n",
    "    dest_path=\"./examples/data/test-result.parquet\",\n",
    "    dest_datatype=\"parquet\",\n",
    "    preset=\"cellprofiler_sqlite_pycytominer\",\n",
    ")"
   ]
  },
  {
   "cell_type": "code",
   "execution_count": 10,
   "id": "dc820412-f738-4cb3-a8e8-e7c7544a47af",
   "metadata": {
    "tags": []
   },
   "outputs": [
    {
     "name": "stdout",
     "output_type": "stream",
     "text": [
      "dict    18644       +59\n",
      "list     8801       +36\n",
      "set      1398       +12\n",
      "None\n",
      "\n"
     ]
    }
   ],
   "source": [
    "print(objgraph.show_growth(limit=3), end=\"\\n\\n\")"
   ]
  },
  {
   "cell_type": "code",
   "execution_count": 11,
   "id": "fa8cb7f5-ca0a-4590-ab4d-9a8f6463d215",
   "metadata": {
    "tags": []
   },
   "outputs": [
    {
     "name": "stdout",
     "output_type": "stream",
     "text": [
      "Graph written to /var/folders/m0/31lvvzb50sl0d_l7bnb74cdr0000gq/T/objgraph-m6n5ciyf.dot (27 nodes)\n",
      "Image generated as cytotable-object-graph.png\n"
     ]
    }
   ],
   "source": [
    "objgraph.show_refs(cytotable, refcounts=True, filename=graph_img)"
   ]
  },
  {
   "cell_type": "code",
   "execution_count": 12,
   "id": "155efaeb-a7dc-44d8-8a7a-e219892882f5",
   "metadata": {
    "tags": []
   },
   "outputs": [
    {
     "name": "stdout",
     "output_type": "stream",
     "text": [
      "Graph written to /var/folders/m0/31lvvzb50sl0d_l7bnb74cdr0000gq/T/objgraph-e95ozh1s.dot (60 nodes)\n",
      "Image generated as roots.png\n"
     ]
    }
   ],
   "source": [
    "roots = objgraph.get_leaking_objects()\n",
    "objgraph.show_refs(roots[:3], refcounts=True, filename=\"roots.png\")"
   ]
  },
  {
   "cell_type": "code",
   "execution_count": 13,
   "id": "abad469a-f8fd-42e7-8dcc-4db399bb713b",
   "metadata": {
    "tags": []
   },
   "outputs": [
    {
     "name": "stdout",
     "output_type": "stream",
     "text": [
      "builtins.dict                         2467\n",
      "builtins.weakref                      1988\n",
      "builtins.tuple                        724\n",
      "_frozen_importlib_external.FileFinder 182\n",
      "builtins.list                         160\n",
      "_cffi_backend.CType                   63\n",
      "logging.PlaceHolder                   59\n",
      "builtins.slice                        59\n",
      "builtins.module                       52\n",
      "builtins.function                     50\n"
     ]
    }
   ],
   "source": [
    "objgraph.show_most_common_types(objects=roots, shortnames=False)"
   ]
  },
  {
   "cell_type": "code",
   "execution_count": 14,
   "id": "433428ca-d6a8-4460-9c63-a38327f08008",
   "metadata": {},
   "outputs": [
    {
     "name": "stdout",
     "output_type": "stream",
     "text": [
      "[{140684002326528: <weakref at 0x1442c9130; to 'type' at 0x7ff38bfbf800 (StataNonCatValueLabel)>}, {140684002330864: <weakref at 0x1442c9400; to 'ABCMeta' at 0x7ff38bfc08f0 (StataReader)>, 140684002333696: <weakref at 0x1442c9450; to 'type' at 0x7ff38bfc1400 (StataWriter)>}, {140684002338016: <weakref at 0x1442c94f0; to 'type' at 0x7ff38bfc24e0 (StataWriter117)>}, {140684002339536: <weakref at 0x1442c9590; to 'type' at 0x7ff38bfc2ad0 (StataWriterUTF8)>}, {140684002340480: <weakref at 0x1442e0680; to 'type' at 0x7ff38bfc2e80 (_EtreeFrameParser)>, 140684002341424: <weakref at 0x1442e06d0; to 'type' at 0x7ff38bfc3230 (_LxmlFrameParser)>}, {'Py_Repr': []}, {'__new__': <built-in method __new__ of type object at 0x144454b48>, '__doc__': 'File-level encryption properties for the low-level API', '__pyx_vtable__': <capsule object NULL at 0x144375090>}, {'__repr__': <slot wrapper '__repr__' of 'pyarrow._parquet.ParquetSchema' objects>, '__lt__': <slot wrapper '__lt__' of 'pyarrow._parquet.ParquetSchema' objects>, '__le__': <slot wrapper '__le__' of 'pyarrow._parquet.ParquetSchema' objects>, '__eq__': <slot wrapper '__eq__' of 'pyarrow._parquet.ParquetSchema' objects>, '__ne__': <slot wrapper '__ne__' of 'pyarrow._parquet.ParquetSchema' objects>, '__gt__': <slot wrapper '__gt__' of 'pyarrow._parquet.ParquetSchema' objects>, '__ge__': <slot wrapper '__ge__' of 'pyarrow._parquet.ParquetSchema' objects>, '__len__': <slot wrapper '__len__' of 'pyarrow._parquet.ParquetSchema' objects>, '__getitem__': <slot wrapper '__getitem__' of 'pyarrow._parquet.ParquetSchema' objects>, '__new__': <built-in method __new__ of type object at 0x144454ce0>, '__reduce__': <method '__reduce__' of 'pyarrow._parquet.ParquetSchema' objects>, 'to_arrow_schema': <method 'to_arrow_schema' of 'pyarrow._parquet.ParquetSchema' objects>, 'equals': <method 'equals' of 'pyarrow._parquet.ParquetSchema' objects>, 'column': <method 'column' of 'pyarrow._parquet.ParquetSchema' objects>, 'names': <attribute 'names' of 'pyarrow._parquet.ParquetSchema' objects>, '__doc__': 'A Parquet schema.', '__hash__': None}, {'__repr__': <slot wrapper '__repr__' of 'pyarrow._parquet.FileMetaData' objects>, '__lt__': <slot wrapper '__lt__' of 'pyarrow._parquet.FileMetaData' objects>, '__le__': <slot wrapper '__le__' of 'pyarrow._parquet.FileMetaData' objects>, '__eq__': <slot wrapper '__eq__' of 'pyarrow._parquet.FileMetaData' objects>, '__ne__': <slot wrapper '__ne__' of 'pyarrow._parquet.FileMetaData' objects>, '__gt__': <slot wrapper '__gt__' of 'pyarrow._parquet.FileMetaData' objects>, '__ge__': <slot wrapper '__ge__' of 'pyarrow._parquet.FileMetaData' objects>, '__new__': <built-in method __new__ of type object at 0x144454e78>, '__reduce__': <method '__reduce__' of 'pyarrow._parquet.FileMetaData' objects>, 'to_dict': <method 'to_dict' of 'pyarrow._parquet.FileMetaData' objects>, 'equals': <method 'equals' of 'pyarrow._parquet.FileMetaData' objects>, 'row_group': <method 'row_group' of 'pyarrow._parquet.FileMetaData' objects>, 'set_file_path': <method 'set_file_path' of 'pyarrow._parquet.FileMetaData' objects>, 'append_row_groups': <method 'append_row_groups' of 'pyarrow._parquet.FileMetaData' objects>, 'write_metadata_file': <method 'write_metadata_file' of 'pyarrow._parquet.FileMetaData' objects>, 'schema': <attribute 'schema' of 'pyarrow._parquet.FileMetaData' objects>, 'serialized_size': <attribute 'serialized_size' of 'pyarrow._parquet.FileMetaData' objects>, 'num_columns': <attribute 'num_columns' of 'pyarrow._parquet.FileMetaData' objects>, 'num_rows': <attribute 'num_rows' of 'pyarrow._parquet.FileMetaData' objects>, 'num_row_groups': <attribute 'num_row_groups' of 'pyarrow._parquet.FileMetaData' objects>, 'format_version': <attribute 'format_version' of 'pyarrow._parquet.FileMetaData' objects>, 'created_by': <attribute 'created_by' of 'pyarrow._parquet.FileMetaData' objects>, 'metadata': <attribute 'metadata' of 'pyarrow._parquet.FileMetaData' objects>, '__doc__': 'Parquet metadata for a single file.', '__hash__': None, '__pyx_vtable__': <capsule object NULL at 0x144375120>}, {'__repr__': <slot wrapper '__repr__' of 'pyarrow._parquet.RowGroupMetaData' objects>, '__lt__': <slot wrapper '__lt__' of 'pyarrow._parquet.RowGroupMetaData' objects>, '__le__': <slot wrapper '__le__' of 'pyarrow._parquet.RowGroupMetaData' objects>, '__eq__': <slot wrapper '__eq__' of 'pyarrow._parquet.RowGroupMetaData' objects>, '__ne__': <slot wrapper '__ne__' of 'pyarrow._parquet.RowGroupMetaData' objects>, '__gt__': <slot wrapper '__gt__' of 'pyarrow._parquet.RowGroupMetaData' objects>, '__ge__': <slot wrapper '__ge__' of 'pyarrow._parquet.RowGroupMetaData' objects>, '__new__': <built-in method __new__ of type object at 0x144455010>, '__reduce__': <method '__reduce__' of 'pyarrow._parquet.RowGroupMetaData' objects>, 'equals': <method 'equals' of 'pyarrow._parquet.RowGroupMetaData' objects>, 'column': <method 'column' of 'pyarrow._parquet.RowGroupMetaData' objects>, 'to_dict': <method 'to_dict' of 'pyarrow._parquet.RowGroupMetaData' objects>, 'num_columns': <attribute 'num_columns' of 'pyarrow._parquet.RowGroupMetaData' objects>, 'num_rows': <attribute 'num_rows' of 'pyarrow._parquet.RowGroupMetaData' objects>, 'total_byte_size': <attribute 'total_byte_size' of 'pyarrow._parquet.RowGroupMetaData' objects>, '__doc__': 'Metadata for a single row group.', '__hash__': None}, {'__repr__': <slot wrapper '__repr__' of 'pyarrow._parquet.ColumnChunkMetaData' objects>, '__lt__': <slot wrapper '__lt__' of 'pyarrow._parquet.ColumnChunkMetaData' objects>, '__le__': <slot wrapper '__le__' of 'pyarrow._parquet.ColumnChunkMetaData' objects>, '__eq__': <slot wrapper '__eq__' of 'pyarrow._parquet.ColumnChunkMetaData' objects>, '__ne__': <slot wrapper '__ne__' of 'pyarrow._parquet.ColumnChunkMetaData' objects>, '__gt__': <slot wrapper '__gt__' of 'pyarrow._parquet.ColumnChunkMetaData' objects>, '__ge__': <slot wrapper '__ge__' of 'pyarrow._parquet.ColumnChunkMetaData' objects>, '__new__': <built-in method __new__ of type object at 0x1444551a8>, 'to_dict': <method 'to_dict' of 'pyarrow._parquet.ColumnChunkMetaData' objects>, 'equals': <method 'equals' of 'pyarrow._parquet.ColumnChunkMetaData' objects>, 'file_offset': <attribute 'file_offset' of 'pyarrow._parquet.ColumnChunkMetaData' objects>, 'file_path': <attribute 'file_path' of 'pyarrow._parquet.ColumnChunkMetaData' objects>, 'physical_type': <attribute 'physical_type' of 'pyarrow._parquet.ColumnChunkMetaData' objects>, 'num_values': <attribute 'num_values' of 'pyarrow._parquet.ColumnChunkMetaData' objects>, 'path_in_schema': <attribute 'path_in_schema' of 'pyarrow._parquet.ColumnChunkMetaData' objects>, 'is_stats_set': <attribute 'is_stats_set' of 'pyarrow._parquet.ColumnChunkMetaData' objects>, 'statistics': <attribute 'statistics' of 'pyarrow._parquet.ColumnChunkMetaData' objects>, 'compression': <attribute 'compression' of 'pyarrow._parquet.ColumnChunkMetaData' objects>, 'encodings': <attribute 'encodings' of 'pyarrow._parquet.ColumnChunkMetaData' objects>, 'has_dictionary_page': <attribute 'has_dictionary_page' of 'pyarrow._parquet.ColumnChunkMetaData' objects>, 'dictionary_page_offset': <attribute 'dictionary_page_offset' of 'pyarrow._parquet.ColumnChunkMetaData' objects>, 'data_page_offset': <attribute 'data_page_offset' of 'pyarrow._parquet.ColumnChunkMetaData' objects>, 'has_index_page': <attribute 'has_index_page' of 'pyarrow._parquet.ColumnChunkMetaData' objects>, 'index_page_offset': <attribute 'index_page_offset' of 'pyarrow._parquet.ColumnChunkMetaData' objects>, 'total_compressed_size': <attribute 'total_compressed_size' of 'pyarrow._parquet.ColumnChunkMetaData' objects>, 'total_uncompressed_size': <attribute 'total_uncompressed_size' of 'pyarrow._parquet.ColumnChunkMetaData' objects>, '__doc__': 'Column metadata for a single row group.', '__hash__': None, '__pyx_vtable__': <capsule object NULL at 0x1443751b0>, '__reduce__': <method '__reduce_cython__' of 'pyarrow._parquet.ColumnChunkMetaData' objects>, '__setstate__': <method '__setstate_cython__' of 'pyarrow._parquet.ColumnChunkMetaData' objects>}, {'__repr__': <slot wrapper '__repr__' of 'pyarrow._parquet.Statistics' objects>, '__lt__': <slot wrapper '__lt__' of 'pyarrow._parquet.Statistics' objects>, '__le__': <slot wrapper '__le__' of 'pyarrow._parquet.Statistics' objects>, '__eq__': <slot wrapper '__eq__' of 'pyarrow._parquet.Statistics' objects>, '__ne__': <slot wrapper '__ne__' of 'pyarrow._parquet.Statistics' objects>, '__gt__': <slot wrapper '__gt__' of 'pyarrow._parquet.Statistics' objects>, '__ge__': <slot wrapper '__ge__' of 'pyarrow._parquet.Statistics' objects>, '__new__': <built-in method __new__ of type object at 0x144455340>, 'to_dict': <method 'to_dict' of 'pyarrow._parquet.Statistics' objects>, 'equals': <method 'equals' of 'pyarrow._parquet.Statistics' objects>, 'has_min_max': <attribute 'has_min_max' of 'pyarrow._parquet.Statistics' objects>, 'has_null_count': <attribute 'has_null_count' of 'pyarrow._parquet.Statistics' objects>, 'has_distinct_count': <attribute 'has_distinct_count' of 'pyarrow._parquet.Statistics' objects>, 'min_raw': <attribute 'min_raw' of 'pyarrow._parquet.Statistics' objects>, 'max_raw': <attribute 'max_raw' of 'pyarrow._parquet.Statistics' objects>, 'min': <attribute 'min' of 'pyarrow._parquet.Statistics' objects>, 'max': <attribute 'max' of 'pyarrow._parquet.Statistics' objects>, 'null_count': <attribute 'null_count' of 'pyarrow._parquet.Statistics' objects>, 'distinct_count': <attribute 'distinct_count' of 'pyarrow._parquet.Statistics' objects>, 'num_values': <attribute 'num_values' of 'pyarrow._parquet.Statistics' objects>, 'physical_type': <attribute 'physical_type' of 'pyarrow._parquet.Statistics' objects>, 'logical_type': <attribute 'logical_type' of 'pyarrow._parquet.Statistics' objects>, 'converted_type': <attribute 'converted_type' of 'pyarrow._parquet.Statistics' objects>, '__doc__': 'Statistics for a single column in a single row group.', '__hash__': None, '__pyx_vtable__': <capsule object NULL at 0x144375210>, '__reduce__': <method '__reduce_cython__' of 'pyarrow._parquet.Statistics' objects>, '__setstate__': <method '__setstate_cython__' of 'pyarrow._parquet.Statistics' objects>}, {'__new__': <built-in method __new__ of type object at 0x1444554d8>, '__doc__': 'File-level decryption properties for the low-level API', '__pyx_vtable__': <capsule object NULL at 0x144375270>}, {'__repr__': <slot wrapper '__repr__' of 'pyarrow._parquet.ParquetLogicalType' objects>, '__str__': <slot wrapper '__str__' of 'pyarrow._parquet.ParquetLogicalType' objects>, '__new__': <built-in method __new__ of type object at 0x144455670>, 'to_json': <method 'to_json' of 'pyarrow._parquet.ParquetLogicalType' objects>, 'type': <attribute 'type' of 'pyarrow._parquet.ParquetLogicalType' objects>, '__doc__': 'Logical type of parquet type.', '__pyx_vtable__': <capsule object NULL at 0x1443752d0>, '__reduce__': <method '__reduce_cython__' of 'pyarrow._parquet.ParquetLogicalType' objects>, '__setstate__': <method '__setstate_cython__' of 'pyarrow._parquet.ParquetLogicalType' objects>}, {'__repr__': <slot wrapper '__repr__' of 'pyarrow._parquet.ColumnSchema' objects>, '__lt__': <slot wrapper '__lt__' of 'pyarrow._parquet.ColumnSchema' objects>, '__le__': <slot wrapper '__le__' of 'pyarrow._parquet.ColumnSchema' objects>, '__eq__': <slot wrapper '__eq__' of 'pyarrow._parquet.ColumnSchema' objects>, '__ne__': <slot wrapper '__ne__' of 'pyarrow._parquet.ColumnSchema' objects>, '__gt__': <slot wrapper '__gt__' of 'pyarrow._parquet.ColumnSchema' objects>, '__ge__': <slot wrapper '__ge__' of 'pyarrow._parquet.ColumnSchema' objects>, '__new__': <built-in method __new__ of type object at 0x144455808>, '__reduce__': <method '__reduce__' of 'pyarrow._parquet.ColumnSchema' objects>, 'equals': <method 'equals' of 'pyarrow._parquet.ColumnSchema' objects>, 'name': <attribute 'name' of 'pyarrow._parquet.ColumnSchema' objects>, 'path': <attribute 'path' of 'pyarrow._parquet.ColumnSchema' objects>, 'max_definition_level': <attribute 'max_definition_level' of 'pyarrow._parquet.ColumnSchema' objects>, 'max_repetition_level': <attribute 'max_repetition_level' of 'pyarrow._parquet.ColumnSchema' objects>, 'physical_type': <attribute 'physical_type' of 'pyarrow._parquet.ColumnSchema' objects>, 'logical_type': <attribute 'logical_type' of 'pyarrow._parquet.ColumnSchema' objects>, 'converted_type': <attribute 'converted_type' of 'pyarrow._parquet.ColumnSchema' objects>, 'length': <attribute 'length' of 'pyarrow._parquet.ColumnSchema' objects>, 'precision': <attribute 'precision' of 'pyarrow._parquet.ColumnSchema' objects>, 'scale': <attribute 'scale' of 'pyarrow._parquet.ColumnSchema' objects>, '__doc__': 'Schema for a single column.', '__hash__': None}, {'__new__': <built-in method __new__ of type object at 0x1444559a0>, 'open': <method 'open' of 'pyarrow._parquet.ParquetReader' objects>, 'set_use_threads': <method 'set_use_threads' of 'pyarrow._parquet.ParquetReader' objects>, 'set_batch_size': <method 'set_batch_size' of 'pyarrow._parquet.ParquetReader' objects>, 'iter_batches': <method 'iter_batches' of 'pyarrow._parquet.ParquetReader' objects>, 'read_row_group': <method 'read_row_group' of 'pyarrow._parquet.ParquetReader' objects>, 'read_row_groups': <method 'read_row_groups' of 'pyarrow._parquet.ParquetReader' objects>, 'read_all': <method 'read_all' of 'pyarrow._parquet.ParquetReader' objects>, 'scan_contents': <method 'scan_contents' of 'pyarrow._parquet.ParquetReader' objects>, 'column_name_idx': <method 'column_name_idx' of 'pyarrow._parquet.ParquetReader' objects>, 'read_column': <method 'read_column' of 'pyarrow._parquet.ParquetReader' objects>, 'close': <method 'close' of 'pyarrow._parquet.ParquetReader' objects>, 'column_paths': <attribute 'column_paths' of 'pyarrow._parquet.ParquetReader' objects>, 'metadata': <attribute 'metadata' of 'pyarrow._parquet.ParquetReader' objects>, 'schema_arrow': <attribute 'schema_arrow' of 'pyarrow._parquet.ParquetReader' objects>, 'num_row_groups': <attribute 'num_row_groups' of 'pyarrow._parquet.ParquetReader' objects>, 'closed': <attribute 'closed' of 'pyarrow._parquet.ParquetReader' objects>, '_column_idx_map': <attribute '_column_idx_map' of 'pyarrow._parquet.ParquetReader' objects>, '__doc__': None, '__pyx_vtable__': <capsule object NULL at 0x144375360>, '__reduce__': <method '__reduce_cython__' of 'pyarrow._parquet.ParquetReader' objects>, '__setstate__': <method '__setstate_cython__' of 'pyarrow._parquet.ParquetReader' objects>}, {'__new__': <built-in method __new__ of type object at 0x144455b38>, 'close': <method 'close' of 'pyarrow._parquet.ParquetWriter' objects>, 'write_table': <method 'write_table' of 'pyarrow._parquet.ParquetWriter' objects>, 'metadata': <attribute 'metadata' of 'pyarrow._parquet.ParquetWriter' objects>, 'use_dictionary': <attribute 'use_dictionary' of 'pyarrow._parquet.ParquetWriter' objects>, 'use_deprecated_int96_timestamps': <attribute 'use_deprecated_int96_timestamps' of 'pyarrow._parquet.ParquetWriter' objects>, 'use_byte_stream_split': <attribute 'use_byte_stream_split' of 'pyarrow._parquet.ParquetWriter' objects>, 'column_encoding': <attribute 'column_encoding' of 'pyarrow._parquet.ParquetWriter' objects>, 'coerce_timestamps': <attribute 'coerce_timestamps' of 'pyarrow._parquet.ParquetWriter' objects>, 'allow_truncated_timestamps': <attribute 'allow_truncated_timestamps' of 'pyarrow._parquet.ParquetWriter' objects>, 'compression': <attribute 'compression' of 'pyarrow._parquet.ParquetWriter' objects>, 'compression_level': <attribute 'compression_level' of 'pyarrow._parquet.ParquetWriter' objects>, 'data_page_version': <attribute 'data_page_version' of 'pyarrow._parquet.ParquetWriter' objects>, 'use_compliant_nested_type': <attribute 'use_compliant_nested_type' of 'pyarrow._parquet.ParquetWriter' objects>, 'version': <attribute 'version' of 'pyarrow._parquet.ParquetWriter' objects>, 'write_statistics': <attribute 'write_statistics' of 'pyarrow._parquet.ParquetWriter' objects>, 'writer_engine_version': <attribute 'writer_engine_version' of 'pyarrow._parquet.ParquetWriter' objects>, 'row_group_size': <attribute 'row_group_size' of 'pyarrow._parquet.ParquetWriter' objects>, 'data_page_size': <attribute 'data_page_size' of 'pyarrow._parquet.ParquetWriter' objects>, 'encryption_properties': <attribute 'encryption_properties' of 'pyarrow._parquet.ParquetWriter' objects>, 'write_batch_size': <attribute 'write_batch_size' of 'pyarrow._parquet.ParquetWriter' objects>, 'dictionary_pagesize_limit': <attribute 'dictionary_pagesize_limit' of 'pyarrow._parquet.ParquetWriter' objects>, 'store_schema': <attribute 'store_schema' of 'pyarrow._parquet.ParquetWriter' objects>, '__doc__': None, '__reduce__': <method '__reduce_cython__' of 'pyarrow._parquet.ParquetWriter' objects>, '__setstate__': <method '__setstate_cython__' of 'pyarrow._parquet.ParquetWriter' objects>}, {'__new__': <built-in method __new__ of type object at 0x144455cd0>, '__doc__': None}, {'__new__': <built-in method __new__ of type object at 0x144455e68>, '__doc__': None}, {'__repr__': <slot wrapper '__repr__' of 'pyarrow._fs.FileInfo' objects>, '__init__': <slot wrapper '__init__' of 'pyarrow._fs.FileInfo' objects>, '__new__': <built-in method __new__ of type object at 0x1445be418>, 'type': <attribute 'type' of 'pyarrow._fs.FileInfo' objects>, 'is_file': <attribute 'is_file' of 'pyarrow._fs.FileInfo' objects>, 'path': <attribute 'path' of 'pyarrow._fs.FileInfo' objects>, 'base_name': <attribute 'base_name' of 'pyarrow._fs.FileInfo' objects>, 'size': <attribute 'size' of 'pyarrow._fs.FileInfo' objects>, 'extension': <attribute 'extension' of 'pyarrow._fs.FileInfo' objects>, 'mtime': <attribute 'mtime' of 'pyarrow._fs.FileInfo' objects>, 'mtime_ns': <attribute 'mtime_ns' of 'pyarrow._fs.FileInfo' objects>, '__doc__': \"FileInfo(path, FileType type=FileType.Unknown, mtime=None, *, mtime_ns=None, size=None)\\n\\n    FileSystem entry info.\\n\\n    Parameters\\n    ----------\\n    path : str\\n        The full path to the filesystem entry.\\n    type : FileType\\n        The type of the filesystem entry.\\n    mtime : datetime or float, default None\\n        If given, the modification time of the filesystem entry.\\n        If a float is given, it is the number of seconds since the\\n        Unix epoch.\\n    mtime_ns : int, default None\\n        If given, the modification time of the filesystem entry,\\n        in nanoseconds since the Unix epoch.\\n        `mtime` and `mtime_ns` are mutually exclusive.\\n    size : int, default None\\n        If given, the filesystem entry size in bytes.  This should only\\n        be given if `type` is `FileType.File`.\\n\\n    Examples\\n    --------\\n    Generate a file:\\n\\n    >>> from pyarrow import fs\\n    >>> local = fs.LocalFileSystem()\\n    >>> path_fs = local_path + '/pyarrow-fs-example.dat'\\n    >>> with local.open_output_stream(path_fs) as stream:\\n    ...     stream.write(b'data')\\n    4\\n\\n    Get FileInfo object using ``get_file_info()``:\\n\\n    >>> file_info = local.get_file_info(path_fs)\\n    >>> file_info\\n    <FileInfo for '.../pyarrow-fs-example.dat': type=FileType.File, size=4>\\n\\n    Inspect FileInfo attributes:\\n\\n    >>> file_info.type\\n    <FileType.File: 2>\\n\\n    >>> file_info.is_file\\n    True\\n\\n    >>> file_info.path\\n    '/.../pyarrow-fs-example.dat'\\n\\n    >>> file_info.base_name\\n    'pyarrow-fs-example.dat'\\n\\n    >>> file_info.size\\n    4\\n\\n    >>> file_info.extension\\n    'dat'\\n\\n    >>> file_info.mtime # doctest: +SKIP\\n    datetime.datetime(2022, 6, 29, 7, 56, 10, 873922, tzinfo=datetime.timezone.utc)\\n\\n    >>> file_info.mtime_ns # doctest: +SKIP\\n    1656489370873922073\\n    \", '__pyx_vtable__': <capsule object NULL at 0x144384240>, '__reduce__': <method '__reduce_cython__' of 'pyarrow._fs.FileInfo' objects>, '__setstate__': <method '__setstate_cython__' of 'pyarrow._fs.FileInfo' objects>}]\n"
     ]
    }
   ],
   "source": [
    "print(objgraph.by_type(typename=\"dict\", objects=roots)[:20])"
   ]
  },
  {
   "cell_type": "code",
   "execution_count": null,
   "id": "c00c6295-a7de-4ab5-a87c-a3b5c9cc424e",
   "metadata": {},
   "outputs": [],
   "source": []
  }
 ],
 "metadata": {
  "jupytext": {
   "formats": "ipynb,py:light"
  },
  "kernelspec": {
   "display_name": "Python 3 (ipyflow)",
   "language": "python",
   "name": "ipyflow"
  },
  "language_info": {
   "codemirror_mode": {
    "name": "ipython",
    "version": 3
   },
   "file_extension": ".py",
   "mimetype": "text/x-python",
   "name": "python",
   "nbconvert_exporter": "python",
   "pygments_lexer": "ipython3",
   "version": "3.9.12"
  }
 },
 "nbformat": 4,
 "nbformat_minor": 5
}
