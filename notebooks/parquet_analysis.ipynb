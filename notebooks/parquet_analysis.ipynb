{
 "cells": [
  {
   "cell_type": "markdown",
   "id": "529f5590-609a-4554-9254-e22e8a4822ad",
   "metadata": {
    "papermill": {
     "duration": 0.005442,
     "end_time": "2025-04-17T22:54:27.374051",
     "exception": false,
     "start_time": "2025-04-17T22:54:27.368609",
     "status": "completed"
    },
    "tags": []
   },
   "source": [
    "# Why Parquet?\n",
    "\n",
    "This notebook explores the benefits or drawbacks of using the [parquet](https://parquet.apache.org/docs/) file format relative to other formats such as CSV or SQLite."
   ]
  },
  {
   "cell_type": "code",
   "execution_count": 1,
   "id": "e2ac8b5f-d7b1-43aa-9589-19890914f646",
   "metadata": {
    "execution": {
     "iopub.execute_input": "2025-04-17T22:54:27.386322Z",
     "iopub.status.busy": "2025-04-17T22:54:27.385517Z",
     "iopub.status.idle": "2025-04-17T22:54:28.176130Z",
     "shell.execute_reply": "2025-04-17T22:54:28.175083Z"
    },
    "papermill": {
     "duration": 0.798708,
     "end_time": "2025-04-17T22:54:28.178285",
     "exception": false,
     "start_time": "2025-04-17T22:54:27.379577",
     "status": "completed"
    },
    "tags": []
   },
   "outputs": [],
   "source": [
    "import os\n",
    "import pathlib\n",
    "\n",
    "import numpy as np\n",
    "import pandas as pd\n",
    "import plotly.express as px\n",
    "import plotly.io as pio\n",
    "import sqlalchemy\n",
    "from IPython.display import Image\n",
    "from utilities import timer\n",
    "from utilities import get_system_info"
   ]
  },
  {
   "cell_type": "code",
   "execution_count": 2,
   "id": "5af2f06c-3317-4e88-9a3a-64860879f60f",
   "metadata": {
    "execution": {
     "iopub.execute_input": "2025-04-17T22:54:28.190394Z",
     "iopub.status.busy": "2025-04-17T22:54:28.190021Z",
     "iopub.status.idle": "2025-04-17T22:54:28.197232Z",
     "shell.execute_reply": "2025-04-17T22:54:28.196318Z"
    },
    "papermill": {
     "duration": 0.015392,
     "end_time": "2025-04-17T22:54:28.199165",
     "exception": false,
     "start_time": "2025-04-17T22:54:28.183773",
     "status": "completed"
    },
    "tags": []
   },
   "outputs": [
    {
     "name": "stdout",
     "output_type": "stream",
     "text": [
      "\n",
      "System Information:\n",
      "Operating System: Linux\n",
      "Machine Type: x86_64\n",
      "Processor: x86_64\n",
      "CPU Cores (Logical): 16\n",
      "CPU Cores (Physical): 8\n",
      "Total RAM (GB): 62.68\n",
      "Python Version: 3.11.9\n"
     ]
    }
   ],
   "source": [
    "# show the system information\n",
    "_ = get_system_info(show_output=True)"
   ]
  },
  {
   "cell_type": "code",
   "execution_count": 3,
   "id": "b3d7ac6d-3ffa-4a57-99ba-a0214c4e2753",
   "metadata": {
    "execution": {
     "iopub.execute_input": "2025-04-17T22:54:28.210509Z",
     "iopub.status.busy": "2025-04-17T22:54:28.210282Z",
     "iopub.status.idle": "2025-04-17T22:54:28.215756Z",
     "shell.execute_reply": "2025-04-17T22:54:28.214771Z"
    },
    "papermill": {
     "duration": 0.013273,
     "end_time": "2025-04-17T22:54:28.217661",
     "exception": false,
     "start_time": "2025-04-17T22:54:28.204388",
     "status": "completed"
    },
    "tags": []
   },
   "outputs": [],
   "source": [
    "# target file or table names\n",
    "image_dir = \"images\"\n",
    "csv_name = \"example.csv.gz\"\n",
    "parquet_name = \"example.parquet\"\n",
    "sqlite_name = \"example.sqlite\"\n",
    "sqlite_tbl_name = \"tbl_example\"\n",
    "file_write_time_image = f\"{image_dir}/parquet-comparisons-file-write-time.png\"\n",
    "file_storage_size_image = f\"{image_dir}/parquet-comparisons-file-storage-size.png\"\n",
    "file_read_time_all_image = (\n",
    "    f\"{image_dir}/parquet-comparisons-file-read-time-all-columns.png\"\n",
    ")\n",
    "file_read_time_one_image = (\n",
    "    f\"{image_dir}/parquet-comparisons-file-read-time-one-column.png\"\n",
    ")"
   ]
  },
  {
   "cell_type": "code",
   "execution_count": 4,
   "id": "03f507b9-fe30-45cf-a439-41778124fe00",
   "metadata": {
    "execution": {
     "iopub.execute_input": "2025-04-17T22:54:28.229455Z",
     "iopub.status.busy": "2025-04-17T22:54:28.229055Z",
     "iopub.status.idle": "2025-04-17T22:54:28.324550Z",
     "shell.execute_reply": "2025-04-17T22:54:28.323549Z"
    },
    "papermill": {
     "duration": 0.10283,
     "end_time": "2025-04-17T22:54:28.325775",
     "exception": false,
     "start_time": "2025-04-17T22:54:28.222945",
     "status": "completed"
    },
    "tags": []
   },
   "outputs": [
    {
     "data": {
      "text/html": [
       "<div>\n",
       "<style scoped>\n",
       "    .dataframe tbody tr th:only-of-type {\n",
       "        vertical-align: middle;\n",
       "    }\n",
       "\n",
       "    .dataframe tbody tr th {\n",
       "        vertical-align: top;\n",
       "    }\n",
       "\n",
       "    .dataframe thead th {\n",
       "        text-align: right;\n",
       "    }\n",
       "</style>\n",
       "<table border=\"1\" class=\"dataframe\">\n",
       "  <thead>\n",
       "    <tr style=\"text-align: right;\">\n",
       "      <th></th>\n",
       "      <th>col_0</th>\n",
       "      <th>col_1</th>\n",
       "    </tr>\n",
       "  </thead>\n",
       "  <tbody>\n",
       "    <tr>\n",
       "      <th>0</th>\n",
       "      <td>0.360252</td>\n",
       "      <td>0.470990</td>\n",
       "    </tr>\n",
       "    <tr>\n",
       "      <th>1</th>\n",
       "      <td>0.198758</td>\n",
       "      <td>0.464817</td>\n",
       "    </tr>\n",
       "  </tbody>\n",
       "</table>\n",
       "</div>"
      ],
      "text/plain": [
       "      col_0     col_1\n",
       "0  0.360252  0.470990\n",
       "1  0.198758  0.464817"
      ]
     },
     "execution_count": 4,
     "metadata": {},
     "output_type": "execute_result"
    }
   ],
   "source": [
    "# avoid a \"cold start\" for tested packages by using them before benchmarks\n",
    "df = pd.DataFrame(np.random.rand(2, 2), columns=[f\"col_{num}\" for num in range(0, 2)])\n",
    "# export and read using various methods\n",
    "df.to_csv(path_or_buf=csv_name, compression=\"gzip\")\n",
    "pd.read_csv(filepath_or_buffer=csv_name, compression=\"gzip\")\n",
    "df.to_sql(name=sqlite_tbl_name, con=f\"sqlite:///{sqlite_name}\")\n",
    "pd.read_sql(sql=f\"SELECT * FROM {sqlite_tbl_name}\", con=f\"sqlite:///{sqlite_name}\")\n",
    "df.to_parquet(path=parquet_name, compression=\"gzip\")\n",
    "pd.read_parquet(path=parquet_name)"
   ]
  },
  {
   "cell_type": "code",
   "execution_count": 5,
   "id": "e2bada16-8022-4125-8083-c937e76d914b",
   "metadata": {
    "execution": {
     "iopub.execute_input": "2025-04-17T22:54:28.332953Z",
     "iopub.status.busy": "2025-04-17T22:54:28.332582Z",
     "iopub.status.idle": "2025-04-17T22:54:28.337433Z",
     "shell.execute_reply": "2025-04-17T22:54:28.336636Z"
    },
    "papermill": {
     "duration": 0.009792,
     "end_time": "2025-04-17T22:54:28.338695",
     "exception": false,
     "start_time": "2025-04-17T22:54:28.328903",
     "status": "completed"
    },
    "tags": []
   },
   "outputs": [],
   "source": [
    "# remove any existing prior work\n",
    "for filename in [csv_name, parquet_name, sqlite_name]:\n",
    "    pathlib.Path(filename).unlink(missing_ok=True)"
   ]
  },
  {
   "cell_type": "code",
   "execution_count": 6,
   "id": "1f9eefe2-8379-490c-9977-807b781eb168",
   "metadata": {
    "execution": {
     "iopub.execute_input": "2025-04-17T22:54:28.345400Z",
     "iopub.status.busy": "2025-04-17T22:54:28.345169Z",
     "iopub.status.idle": "2025-04-17T22:54:53.627372Z",
     "shell.execute_reply": "2025-04-17T22:54:53.626620Z"
    },
    "papermill": {
     "duration": 25.288769,
     "end_time": "2025-04-17T22:54:53.630449",
     "exception": false,
     "start_time": "2025-04-17T22:54:28.341680",
     "status": "completed"
    },
    "tags": []
   },
   "outputs": [
    {
     "data": {
      "text/html": [
       "<div>\n",
       "<style scoped>\n",
       "    .dataframe tbody tr th:only-of-type {\n",
       "        vertical-align: middle;\n",
       "    }\n",
       "\n",
       "    .dataframe tbody tr th {\n",
       "        vertical-align: top;\n",
       "    }\n",
       "\n",
       "    .dataframe thead th {\n",
       "        text-align: right;\n",
       "    }\n",
       "</style>\n",
       "<table border=\"1\" class=\"dataframe\">\n",
       "  <thead>\n",
       "    <tr style=\"text-align: right;\">\n",
       "      <th></th>\n",
       "      <th>dataframe_shape (rows, cols)</th>\n",
       "      <th>csv_write_time (secs)</th>\n",
       "      <th>csv_size (bytes)</th>\n",
       "      <th>csv_read_time_all (secs)</th>\n",
       "      <th>csv_read_time_one (secs)</th>\n",
       "      <th>sqlite_write_time (secs)</th>\n",
       "      <th>sqlite_size (bytes)</th>\n",
       "      <th>sqlite_read_time_all (secs)</th>\n",
       "      <th>sqlite_read_time_one (secs)</th>\n",
       "      <th>parquet_write_time (secs)</th>\n",
       "      <th>parquet_size (bytes)</th>\n",
       "      <th>parquet_read_time_all (secs)</th>\n",
       "      <th>parquet_read_time_one (secs)</th>\n",
       "    </tr>\n",
       "  </thead>\n",
       "  <tbody>\n",
       "    <tr>\n",
       "      <th>0</th>\n",
       "      <td>(640, 320)</td>\n",
       "      <td>0.752756</td>\n",
       "      <td>1796841</td>\n",
       "      <td>0.055144</td>\n",
       "      <td>0.036472</td>\n",
       "      <td>0.278687</td>\n",
       "      <td>2654208</td>\n",
       "      <td>0.072446</td>\n",
       "      <td>0.003761</td>\n",
       "      <td>0.099325</td>\n",
       "      <td>1996784</td>\n",
       "      <td>0.046916</td>\n",
       "      <td>0.009676</td>\n",
       "    </tr>\n",
       "    <tr>\n",
       "      <th>1</th>\n",
       "      <td>(1280, 640)</td>\n",
       "      <td>2.967716</td>\n",
       "      <td>7176831</td>\n",
       "      <td>0.202708</td>\n",
       "      <td>0.155503</td>\n",
       "      <td>0.855103</td>\n",
       "      <td>7909376</td>\n",
       "      <td>0.285537</td>\n",
       "      <td>0.077747</td>\n",
       "      <td>0.301890</td>\n",
       "      <td>7686153</td>\n",
       "      <td>0.082116</td>\n",
       "      <td>0.022076</td>\n",
       "    </tr>\n",
       "    <tr>\n",
       "      <th>2</th>\n",
       "      <td>(2560, 1280)</td>\n",
       "      <td>11.856655</td>\n",
       "      <td>28693261</td>\n",
       "      <td>0.767045</td>\n",
       "      <td>0.514466</td>\n",
       "      <td>3.282262</td>\n",
       "      <td>31543296</td>\n",
       "      <td>1.174975</td>\n",
       "      <td>0.010246</td>\n",
       "      <td>1.049504</td>\n",
       "      <td>30260820</td>\n",
       "      <td>0.177258</td>\n",
       "      <td>0.029232</td>\n",
       "    </tr>\n",
       "  </tbody>\n",
       "</table>\n",
       "</div>"
      ],
      "text/plain": [
       "  dataframe_shape (rows, cols)  csv_write_time (secs)  csv_size (bytes)  \\\n",
       "0                   (640, 320)               0.752756           1796841   \n",
       "1                  (1280, 640)               2.967716           7176831   \n",
       "2                 (2560, 1280)              11.856655          28693261   \n",
       "\n",
       "   csv_read_time_all (secs)  csv_read_time_one (secs)  \\\n",
       "0                  0.055144                  0.036472   \n",
       "1                  0.202708                  0.155503   \n",
       "2                  0.767045                  0.514466   \n",
       "\n",
       "   sqlite_write_time (secs)  sqlite_size (bytes)  sqlite_read_time_all (secs)  \\\n",
       "0                  0.278687              2654208                     0.072446   \n",
       "1                  0.855103              7909376                     0.285537   \n",
       "2                  3.282262             31543296                     1.174975   \n",
       "\n",
       "   sqlite_read_time_one (secs)  parquet_write_time (secs)  \\\n",
       "0                     0.003761                   0.099325   \n",
       "1                     0.077747                   0.301890   \n",
       "2                     0.010246                   1.049504   \n",
       "\n",
       "   parquet_size (bytes)  parquet_read_time_all (secs)  \\\n",
       "0               1996784                      0.046916   \n",
       "1               7686153                      0.082116   \n",
       "2              30260820                      0.177258   \n",
       "\n",
       "   parquet_read_time_one (secs)  \n",
       "0                      0.009676  \n",
       "1                      0.022076  \n",
       "2                      0.029232  "
      ]
     },
     "execution_count": 6,
     "metadata": {},
     "output_type": "execute_result"
    }
   ],
   "source": [
    "# starting rowcount and col count\n",
    "nrows = 320\n",
    "ncols = 160\n",
    "\n",
    "# result list for storing data\n",
    "results = []\n",
    "\n",
    "# loop for iterating over increasingly large dataframes\n",
    "# and gathering data about operations on them\n",
    "for _ in range(1, 4):\n",
    "    # increase the size of the dataframe\n",
    "    nrows *= 2\n",
    "    ncols *= 2\n",
    "\n",
    "    # form a dataframe using randomized data\n",
    "    df = pd.DataFrame(\n",
    "        np.random.rand(nrows, ncols), columns=[f\"col_{num}\" for num in range(0, ncols)]\n",
    "    )\n",
    "\n",
    "    # append data to the result list\n",
    "    results.append(\n",
    "        {\n",
    "            # general information about the dataframe\n",
    "            \"dataframe_shape (rows, cols)\": str(df.shape),\n",
    "            # information about CSV\n",
    "            \"csv_write_time (secs)\": timer(\n",
    "                df.to_csv, path_or_buf=csv_name, compression=\"gzip\"\n",
    "            ),\n",
    "            \"csv_size (bytes)\": os.stat(csv_name).st_size,\n",
    "            \"csv_read_time_all (secs)\": timer(\n",
    "                pd.read_csv, filepath_or_buffer=csv_name, compression=\"gzip\"\n",
    "            ),\n",
    "            \"csv_read_time_one (secs)\": timer(\n",
    "                pd.read_csv,\n",
    "                filepath_or_buffer=csv_name,\n",
    "                compression=\"gzip\",\n",
    "                usecols=[\"col_2\"],\n",
    "            ),\n",
    "            # information about SQLite\n",
    "            \"sqlite_write_time (secs)\": timer(\n",
    "                df.to_sql,\n",
    "                name=sqlite_tbl_name,\n",
    "                con=f\"sqlite:///{sqlite_name}\",\n",
    "            ),\n",
    "            \"sqlite_size (bytes)\": os.stat(sqlite_name).st_size,\n",
    "            \"sqlite_read_time_all (secs)\": timer(\n",
    "                pd.read_sql,\n",
    "                sql=f\"SELECT * FROM {sqlite_tbl_name}\",\n",
    "                con=f\"sqlite:///{sqlite_name}\",\n",
    "            ),\n",
    "            \"sqlite_read_time_one (secs)\": timer(\n",
    "                pd.read_sql,\n",
    "                sql=f\"SELECT col_2 FROM {sqlite_tbl_name}\",\n",
    "                con=f\"sqlite:///{sqlite_name}\",\n",
    "            ),\n",
    "            # information about Parquet\n",
    "            \"parquet_write_time (secs)\": timer(\n",
    "                df.to_parquet, path=parquet_name, compression=\"gzip\"\n",
    "            ),\n",
    "            \"parquet_size (bytes)\": os.stat(parquet_name).st_size,\n",
    "            \"parquet_read_time_all (secs)\": timer(pd.read_parquet, path=parquet_name),\n",
    "            \"parquet_read_time_one (secs)\": timer(\n",
    "                pd.read_parquet, path=parquet_name, columns=[\"col_2\"]\n",
    "            ),\n",
    "        }\n",
    "    )\n",
    "\n",
    "    # remove any existing files in preparation for next steps\n",
    "    for filename in [csv_name, parquet_name, sqlite_name]:\n",
    "        pathlib.Path(filename).unlink(missing_ok=True)\n",
    "\n",
    "\n",
    "df_results = pd.DataFrame(results)\n",
    "df_results"
   ]
  },
  {
   "cell_type": "code",
   "execution_count": 7,
   "id": "a735ec26-02d4-42a4-9756-4cee2f33e69d",
   "metadata": {
    "execution": {
     "iopub.execute_input": "2025-04-17T22:54:53.642853Z",
     "iopub.status.busy": "2025-04-17T22:54:53.642532Z",
     "iopub.status.idle": "2025-04-17T22:54:55.047148Z",
     "shell.execute_reply": "2025-04-17T22:54:55.046357Z"
    },
    "papermill": {
     "duration": 1.412909,
     "end_time": "2025-04-17T22:54:55.048982",
     "exception": false,
     "start_time": "2025-04-17T22:54:53.636073",
     "status": "completed"
    },
    "tags": []
   },
   "outputs": [
    {
     "data": {
      "text/html": [
       "<img src=\"images/parquet-comparisons-file-write-time.png\"/>"
      ],
      "text/plain": [
       "<IPython.core.display.Image object>"
      ]
     },
     "execution_count": 7,
     "metadata": {},
     "output_type": "execute_result"
    }
   ],
   "source": [
    "# write times barchart\n",
    "fig = px.bar(\n",
    "    df_results,\n",
    "    x=[\n",
    "        \"csv_write_time (secs)\",\n",
    "        \"sqlite_write_time (secs)\",\n",
    "        \"parquet_write_time (secs)\",\n",
    "    ],\n",
    "    y=\"dataframe_shape (rows, cols)\",\n",
    "    orientation=\"h\",\n",
    "    barmode=\"group\",\n",
    "    labels={\"dataframe_shape (rows, cols)\": \"Data Shape\", \"value\": \"Seconds\"},\n",
    "    width=1300,\n",
    "    color_discrete_sequence=px.colors.qualitative.D3,\n",
    ")\n",
    "fig.update_layout(\n",
    "    legend_title_text=\"File Write Duration\",\n",
    "    legend=dict(x=0.68, y=0.02, bgcolor=\"rgba(255,255,255,0.8)\"),\n",
    "    font=dict(\n",
    "        size=20,  # global font size\n",
    "    ),\n",
    ")\n",
    "\n",
    "pio.write_image(fig, file_write_time_image)\n",
    "Image(url=file_write_time_image)"
   ]
  },
  {
   "cell_type": "code",
   "execution_count": 8,
   "id": "d4827e5d-b2e4-4b8c-bff8-db96e0b76949",
   "metadata": {
    "execution": {
     "iopub.execute_input": "2025-04-17T22:54:55.063846Z",
     "iopub.status.busy": "2025-04-17T22:54:55.063382Z",
     "iopub.status.idle": "2025-04-17T22:54:55.263394Z",
     "shell.execute_reply": "2025-04-17T22:54:55.262665Z"
    },
    "papermill": {
     "duration": 0.209197,
     "end_time": "2025-04-17T22:54:55.264973",
     "exception": false,
     "start_time": "2025-04-17T22:54:55.055776",
     "status": "completed"
    },
    "tags": []
   },
   "outputs": [
    {
     "data": {
      "text/html": [
       "<img src=\"images/parquet-comparisons-file-storage-size.png\"/>"
      ],
      "text/plain": [
       "<IPython.core.display.Image object>"
      ]
     },
     "execution_count": 8,
     "metadata": {},
     "output_type": "execute_result"
    }
   ],
   "source": [
    "# filesize barchart\n",
    "fig = px.bar(\n",
    "    df_results,\n",
    "    x=[\n",
    "        \"csv_size (bytes)\",\n",
    "        \"sqlite_size (bytes)\",\n",
    "        \"parquet_size (bytes)\",\n",
    "    ],\n",
    "    y=\"dataframe_shape (rows, cols)\",\n",
    "    orientation=\"h\",\n",
    "    barmode=\"group\",\n",
    "    labels={\"dataframe_shape (rows, cols)\": \"Data Shape\", \"value\": \"Bytes\"},\n",
    "    width=1300,\n",
    "    color_discrete_sequence=px.colors.qualitative.D3,\n",
    ")\n",
    "fig.update_layout(\n",
    "    legend_title_text=\"File Size\",\n",
    "    legend=dict(x=0.72, y=0.02, bgcolor=\"rgba(255,255,255,0.8)\"),\n",
    "    font=dict(\n",
    "        size=20,  # global font size\n",
    "    ),\n",
    ")\n",
    "\n",
    "pio.write_image(fig, file_storage_size_image)\n",
    "Image(url=file_storage_size_image)"
   ]
  },
  {
   "cell_type": "code",
   "execution_count": 9,
   "id": "9ab638a5-e6e1-47e5-a5f9-56f156a71bc7",
   "metadata": {
    "execution": {
     "iopub.execute_input": "2025-04-17T22:54:55.279422Z",
     "iopub.status.busy": "2025-04-17T22:54:55.279112Z",
     "iopub.status.idle": "2025-04-17T22:54:55.447992Z",
     "shell.execute_reply": "2025-04-17T22:54:55.446948Z"
    },
    "papermill": {
     "duration": 0.178202,
     "end_time": "2025-04-17T22:54:55.449987",
     "exception": false,
     "start_time": "2025-04-17T22:54:55.271785",
     "status": "completed"
    },
    "tags": []
   },
   "outputs": [
    {
     "data": {
      "text/html": [
       "<img src=\"images/parquet-comparisons-file-read-time-all-columns.png\"/>"
      ],
      "text/plain": [
       "<IPython.core.display.Image object>"
      ]
     },
     "execution_count": 9,
     "metadata": {},
     "output_type": "execute_result"
    }
   ],
   "source": [
    "# read time barchart (all columns)\n",
    "fig = px.line(\n",
    "    df_results,\n",
    "    y=[\n",
    "        \"csv_read_time_all (secs)\",\n",
    "        \"sqlite_read_time_all (secs)\",\n",
    "        \"parquet_read_time_all (secs)\",\n",
    "    ],\n",
    "    x=\"dataframe_shape (rows, cols)\",\n",
    "    labels={\"dataframe_shape (rows, cols)\": \"Data Shape\", \"value\": \"Seconds\"},\n",
    "    width=1300,\n",
    "    color_discrete_sequence=px.colors.qualitative.D3,\n",
    ")\n",
    "fig.update_layout(\n",
    "    legend_title_text=\"File Read Duration (all columns)\",\n",
    "    legend=dict(x=0.01, y=0.98, bgcolor=\"rgba(255,255,255,0.8)\"),\n",
    "    font=dict(\n",
    "        size=20,  # global font size\n",
    "    ),\n",
    ")\n",
    "fig.update_xaxes(range=[0, 2.13])\n",
    "fig.update_traces(mode=\"lines+markers\")\n",
    "\n",
    "pio.write_image(fig, file_read_time_all_image)\n",
    "Image(url=file_read_time_all_image)"
   ]
  },
  {
   "cell_type": "code",
   "execution_count": 10,
   "id": "fd99f232-8564-4b83-82c7-e4b0cc5cfbf4",
   "metadata": {
    "execution": {
     "iopub.execute_input": "2025-04-17T22:54:55.467225Z",
     "iopub.status.busy": "2025-04-17T22:54:55.466172Z",
     "iopub.status.idle": "2025-04-17T22:54:55.636297Z",
     "shell.execute_reply": "2025-04-17T22:54:55.635465Z"
    },
    "papermill": {
     "duration": 0.180901,
     "end_time": "2025-04-17T22:54:55.637877",
     "exception": false,
     "start_time": "2025-04-17T22:54:55.456976",
     "status": "completed"
    },
    "tags": []
   },
   "outputs": [
    {
     "data": {
      "text/html": [
       "<img src=\"images/parquet-comparisons-file-read-time-one-column.png\"/>"
      ],
      "text/plain": [
       "<IPython.core.display.Image object>"
      ]
     },
     "execution_count": 10,
     "metadata": {},
     "output_type": "execute_result"
    }
   ],
   "source": [
    "# read time barchart (one column)\n",
    "fig = px.line(\n",
    "    df_results,\n",
    "    y=[\n",
    "        \"csv_read_time_one (secs)\",\n",
    "        \"sqlite_read_time_one (secs)\",\n",
    "        \"parquet_read_time_one (secs)\",\n",
    "    ],\n",
    "    x=\"dataframe_shape (rows, cols)\",\n",
    "    labels={\"dataframe_shape (rows, cols)\": \"Data Shape\", \"value\": \"Seconds\"},\n",
    "    width=1300,\n",
    "    color_discrete_sequence=px.colors.qualitative.D3,\n",
    ")\n",
    "fig.update_layout(\n",
    "    legend_title_text=\"File Read Duration (one column)\",\n",
    "    legend=dict(x=0.01, y=0.98, bgcolor=\"rgba(255,255,255,0.8)\"),\n",
    "    font=dict(\n",
    "        size=20,  # global font size\n",
    "    ),\n",
    ")\n",
    "fig.update_xaxes(range=[0, 2.13])\n",
    "fig.update_traces(mode=\"lines+markers\")\n",
    "\n",
    "pio.write_image(fig, file_read_time_one_image)\n",
    "Image(url=file_read_time_one_image)"
   ]
  }
 ],
 "metadata": {
  "jupytext": {
   "formats": "ipynb,py:light"
  },
  "kernelspec": {
   "display_name": "Python 3 (ipykernel)",
   "language": "python",
   "name": "python3"
  },
  "language_info": {
   "codemirror_mode": {
    "name": "ipython",
    "version": 3
   },
   "file_extension": ".py",
   "mimetype": "text/x-python",
   "name": "python",
   "nbconvert_exporter": "python",
   "pygments_lexer": "ipython3",
   "version": "3.11.9"
  },
  "papermill": {
   "default_parameters": {},
   "duration": 32.063075,
   "end_time": "2025-04-17T22:54:58.264056",
   "environment_variables": {},
   "exception": null,
   "input_path": "parquet_analysis.ipynb",
   "output_path": "parquet_analysis.ipynb",
   "parameters": {},
   "start_time": "2025-04-17T22:54:26.200981",
   "version": "2.6.0"
  }
 },
 "nbformat": 4,
 "nbformat_minor": 5
}