{
 "cells": [
  {
   "cell_type": "markdown",
   "id": "529f5590-609a-4554-9254-e22e8a4822ad",
   "metadata": {
    "papermill": {
     "duration": 0.005861,
     "end_time": "2025-05-14T17:08:18.714587",
     "exception": false,
     "start_time": "2025-05-14T17:08:18.708726",
     "status": "completed"
    },
    "tags": []
   },
   "source": [
    "# Why Parquet?\n",
    "\n",
    "This notebook explores the benefits or drawbacks of using the [parquet](https://parquet.apache.org/docs/) file format relative to other formats such as CSV or SQLite."
   ]
  },
  {
   "cell_type": "code",
   "execution_count": 1,
   "id": "e2ac8b5f-d7b1-43aa-9589-19890914f646",
   "metadata": {
    "execution": {
     "iopub.execute_input": "2025-05-14T17:08:18.727070Z",
     "iopub.status.busy": "2025-05-14T17:08:18.726552Z",
     "iopub.status.idle": "2025-05-14T17:08:19.300963Z",
     "shell.execute_reply": "2025-05-14T17:08:19.300129Z"
    },
    "papermill": {
     "duration": 0.583058,
     "end_time": "2025-05-14T17:08:19.303101",
     "exception": false,
     "start_time": "2025-05-14T17:08:18.720043",
     "status": "completed"
    },
    "tags": []
   },
   "outputs": [],
   "source": [
    "import os\n",
    "import pathlib\n",
    "\n",
    "import numpy as np\n",
    "import pandas as pd\n",
    "import plotly.express as px\n",
    "import plotly.io as pio\n",
    "from IPython.display import Image\n",
    "from utilities import get_system_info, timer"
   ]
  },
  {
   "cell_type": "code",
   "execution_count": 2,
   "id": "5af2f06c-3317-4e88-9a3a-64860879f60f",
   "metadata": {
    "execution": {
     "iopub.execute_input": "2025-05-14T17:08:19.314788Z",
     "iopub.status.busy": "2025-05-14T17:08:19.314512Z",
     "iopub.status.idle": "2025-05-14T17:08:19.320525Z",
     "shell.execute_reply": "2025-05-14T17:08:19.319768Z"
    },
    "papermill": {
     "duration": 0.013558,
     "end_time": "2025-05-14T17:08:19.322066",
     "exception": false,
     "start_time": "2025-05-14T17:08:19.308508",
     "status": "completed"
    },
    "tags": []
   },
   "outputs": [
    {
     "name": "stdout",
     "output_type": "stream",
     "text": [
      "\n",
      "System Information:\n",
      "Operating System: Linux\n",
      "Machine Type: x86_64\n",
      "Processor: x86_64\n",
      "CPU Cores (Logical): 16\n",
      "CPU Cores (Physical): 8\n",
      "Total RAM (GB): 62.68\n",
      "Python Version: 3.11.9\n"
     ]
    }
   ],
   "source": [
    "# show the system information\n",
    "_ = get_system_info(show_output=True)"
   ]
  },
  {
   "cell_type": "code",
   "execution_count": 3,
   "id": "b3d7ac6d-3ffa-4a57-99ba-a0214c4e2753",
   "metadata": {
    "execution": {
     "iopub.execute_input": "2025-05-14T17:08:19.332806Z",
     "iopub.status.busy": "2025-05-14T17:08:19.332627Z",
     "iopub.status.idle": "2025-05-14T17:08:19.337676Z",
     "shell.execute_reply": "2025-05-14T17:08:19.336678Z"
    },
    "papermill": {
     "duration": 0.011987,
     "end_time": "2025-05-14T17:08:19.339250",
     "exception": false,
     "start_time": "2025-05-14T17:08:19.327263",
     "status": "completed"
    },
    "tags": []
   },
   "outputs": [],
   "source": [
    "# target file or table names\n",
    "image_dir = \"images\"\n",
    "csv_name = \"example.csv.gz\"\n",
    "parquet_name = \"example.parquet\"\n",
    "sqlite_name = \"example.sqlite\"\n",
    "sqlite_tbl_name = \"tbl_example\"\n",
    "file_write_time_image = f\"{image_dir}/parquet-comparisons-file-write-time.png\"\n",
    "file_storage_size_image = f\"{image_dir}/parquet-comparisons-file-storage-size.png\"\n",
    "file_read_time_all_image = (\n",
    "    f\"{image_dir}/parquet-comparisons-file-read-time-all-columns.png\"\n",
    ")\n",
    "file_read_time_one_image = (\n",
    "    f\"{image_dir}/parquet-comparisons-file-read-time-one-column.png\"\n",
    ")"
   ]
  },
  {
   "cell_type": "code",
   "execution_count": 4,
   "id": "03f507b9-fe30-45cf-a439-41778124fe00",
   "metadata": {
    "execution": {
     "iopub.execute_input": "2025-05-14T17:08:19.350382Z",
     "iopub.status.busy": "2025-05-14T17:08:19.350171Z",
     "iopub.status.idle": "2025-05-14T17:08:19.604414Z",
     "shell.execute_reply": "2025-05-14T17:08:19.603602Z"
    },
    "papermill": {
     "duration": 0.261715,
     "end_time": "2025-05-14T17:08:19.605977",
     "exception": false,
     "start_time": "2025-05-14T17:08:19.344262",
     "status": "completed"
    },
    "tags": []
   },
   "outputs": [
    {
     "data": {
      "text/html": [
       "<div>\n",
       "<style scoped>\n",
       "    .dataframe tbody tr th:only-of-type {\n",
       "        vertical-align: middle;\n",
       "    }\n",
       "\n",
       "    .dataframe tbody tr th {\n",
       "        vertical-align: top;\n",
       "    }\n",
       "\n",
       "    .dataframe thead th {\n",
       "        text-align: right;\n",
       "    }\n",
       "</style>\n",
       "<table border=\"1\" class=\"dataframe\">\n",
       "  <thead>\n",
       "    <tr style=\"text-align: right;\">\n",
       "      <th></th>\n",
       "      <th>col_0</th>\n",
       "      <th>col_1</th>\n",
       "    </tr>\n",
       "  </thead>\n",
       "  <tbody>\n",
       "    <tr>\n",
       "      <th>0</th>\n",
       "      <td>0.221617</td>\n",
       "      <td>0.846771</td>\n",
       "    </tr>\n",
       "    <tr>\n",
       "      <th>1</th>\n",
       "      <td>0.204887</td>\n",
       "      <td>0.056360</td>\n",
       "    </tr>\n",
       "  </tbody>\n",
       "</table>\n",
       "</div>"
      ],
      "text/plain": [
       "      col_0     col_1\n",
       "0  0.221617  0.846771\n",
       "1  0.204887  0.056360"
      ]
     },
     "execution_count": 4,
     "metadata": {},
     "output_type": "execute_result"
    }
   ],
   "source": [
    "# avoid a \"cold start\" for tested packages by using them before benchmarks\n",
    "df = pd.DataFrame(np.random.rand(2, 2), columns=[f\"col_{num}\" for num in range(0, 2)])\n",
    "# export and read using various methods\n",
    "df.to_csv(path_or_buf=csv_name, compression=\"gzip\")\n",
    "pd.read_csv(filepath_or_buffer=csv_name, compression=\"gzip\")\n",
    "df.to_sql(name=sqlite_tbl_name, con=f\"sqlite:///{sqlite_name}\")\n",
    "pd.read_sql(sql=f\"SELECT * FROM {sqlite_tbl_name}\", con=f\"sqlite:///{sqlite_name}\")\n",
    "df.to_parquet(path=parquet_name, compression=\"gzip\")\n",
    "pd.read_parquet(path=parquet_name)"
   ]
  },
  {
   "cell_type": "code",
   "execution_count": 5,
   "id": "e2bada16-8022-4125-8083-c937e76d914b",
   "metadata": {
    "execution": {
     "iopub.execute_input": "2025-05-14T17:08:19.618360Z",
     "iopub.status.busy": "2025-05-14T17:08:19.618157Z",
     "iopub.status.idle": "2025-05-14T17:08:19.623277Z",
     "shell.execute_reply": "2025-05-14T17:08:19.622294Z"
    },
    "papermill": {
     "duration": 0.012958,
     "end_time": "2025-05-14T17:08:19.624817",
     "exception": false,
     "start_time": "2025-05-14T17:08:19.611859",
     "status": "completed"
    },
    "tags": []
   },
   "outputs": [],
   "source": [
    "# remove any existing prior work\n",
    "for filename in [csv_name, parquet_name, sqlite_name]:\n",
    "    pathlib.Path(filename).unlink(missing_ok=True)"
   ]
  },
  {
   "cell_type": "code",
   "execution_count": 6,
   "id": "1f9eefe2-8379-490c-9977-807b781eb168",
   "metadata": {
    "execution": {
     "iopub.execute_input": "2025-05-14T17:08:19.636916Z",
     "iopub.status.busy": "2025-05-14T17:08:19.636660Z",
     "iopub.status.idle": "2025-05-14T17:08:44.610984Z",
     "shell.execute_reply": "2025-05-14T17:08:44.610106Z"
    },
    "papermill": {
     "duration": 24.982215,
     "end_time": "2025-05-14T17:08:44.612490",
     "exception": false,
     "start_time": "2025-05-14T17:08:19.630275",
     "status": "completed"
    },
    "tags": []
   },
   "outputs": [
    {
     "data": {
      "text/html": [
       "<div>\n",
       "<style scoped>\n",
       "    .dataframe tbody tr th:only-of-type {\n",
       "        vertical-align: middle;\n",
       "    }\n",
       "\n",
       "    .dataframe tbody tr th {\n",
       "        vertical-align: top;\n",
       "    }\n",
       "\n",
       "    .dataframe thead th {\n",
       "        text-align: right;\n",
       "    }\n",
       "</style>\n",
       "<table border=\"1\" class=\"dataframe\">\n",
       "  <thead>\n",
       "    <tr style=\"text-align: right;\">\n",
       "      <th></th>\n",
       "      <th>dataframe_shape (rows, cols)</th>\n",
       "      <th>csv_write_time (secs)</th>\n",
       "      <th>csv_size (bytes)</th>\n",
       "      <th>csv_read_time_all (secs)</th>\n",
       "      <th>csv_read_time_one (secs)</th>\n",
       "      <th>sqlite_write_time (secs)</th>\n",
       "      <th>sqlite_size (bytes)</th>\n",
       "      <th>sqlite_read_time_all (secs)</th>\n",
       "      <th>sqlite_read_time_one (secs)</th>\n",
       "      <th>parquet_write_time (secs)</th>\n",
       "      <th>parquet_size (bytes)</th>\n",
       "      <th>parquet_read_time_all (secs)</th>\n",
       "      <th>parquet_read_time_one (secs)</th>\n",
       "    </tr>\n",
       "  </thead>\n",
       "  <tbody>\n",
       "    <tr>\n",
       "      <th>0</th>\n",
       "      <td>(640, 320)</td>\n",
       "      <td>0.746025</td>\n",
       "      <td>1796485</td>\n",
       "      <td>0.055871</td>\n",
       "      <td>0.044502</td>\n",
       "      <td>0.278071</td>\n",
       "      <td>2654208</td>\n",
       "      <td>0.072607</td>\n",
       "      <td>0.003904</td>\n",
       "      <td>0.099566</td>\n",
       "      <td>1996893</td>\n",
       "      <td>0.029951</td>\n",
       "      <td>0.008593</td>\n",
       "    </tr>\n",
       "    <tr>\n",
       "      <th>1</th>\n",
       "      <td>(1280, 640)</td>\n",
       "      <td>2.916185</td>\n",
       "      <td>7176904</td>\n",
       "      <td>0.198618</td>\n",
       "      <td>0.152259</td>\n",
       "      <td>0.841780</td>\n",
       "      <td>7909376</td>\n",
       "      <td>0.285696</td>\n",
       "      <td>0.078382</td>\n",
       "      <td>0.300949</td>\n",
       "      <td>7685993</td>\n",
       "      <td>0.059325</td>\n",
       "      <td>0.015153</td>\n",
       "    </tr>\n",
       "    <tr>\n",
       "      <th>2</th>\n",
       "      <td>(2560, 1280)</td>\n",
       "      <td>11.679617</td>\n",
       "      <td>28693113</td>\n",
       "      <td>0.751035</td>\n",
       "      <td>0.511511</td>\n",
       "      <td>3.274895</td>\n",
       "      <td>31543296</td>\n",
       "      <td>1.196236</td>\n",
       "      <td>0.010673</td>\n",
       "      <td>1.057143</td>\n",
       "      <td>30260515</td>\n",
       "      <td>0.158482</td>\n",
       "      <td>0.030660</td>\n",
       "    </tr>\n",
       "  </tbody>\n",
       "</table>\n",
       "</div>"
      ],
      "text/plain": [
       "  dataframe_shape (rows, cols)  csv_write_time (secs)  csv_size (bytes)  \\\n",
       "0                   (640, 320)               0.746025           1796485   \n",
       "1                  (1280, 640)               2.916185           7176904   \n",
       "2                 (2560, 1280)              11.679617          28693113   \n",
       "\n",
       "   csv_read_time_all (secs)  csv_read_time_one (secs)  \\\n",
       "0                  0.055871                  0.044502   \n",
       "1                  0.198618                  0.152259   \n",
       "2                  0.751035                  0.511511   \n",
       "\n",
       "   sqlite_write_time (secs)  sqlite_size (bytes)  sqlite_read_time_all (secs)  \\\n",
       "0                  0.278071              2654208                     0.072607   \n",
       "1                  0.841780              7909376                     0.285696   \n",
       "2                  3.274895             31543296                     1.196236   \n",
       "\n",
       "   sqlite_read_time_one (secs)  parquet_write_time (secs)  \\\n",
       "0                     0.003904                   0.099566   \n",
       "1                     0.078382                   0.300949   \n",
       "2                     0.010673                   1.057143   \n",
       "\n",
       "   parquet_size (bytes)  parquet_read_time_all (secs)  \\\n",
       "0               1996893                      0.029951   \n",
       "1               7685993                      0.059325   \n",
       "2              30260515                      0.158482   \n",
       "\n",
       "   parquet_read_time_one (secs)  \n",
       "0                      0.008593  \n",
       "1                      0.015153  \n",
       "2                      0.030660  "
      ]
     },
     "execution_count": 6,
     "metadata": {},
     "output_type": "execute_result"
    }
   ],
   "source": [
    "# starting rowcount and col count\n",
    "nrows = 320\n",
    "ncols = 160\n",
    "\n",
    "# result list for storing data\n",
    "results = []\n",
    "\n",
    "# loop for iterating over increasingly large dataframes\n",
    "# and gathering data about operations on them\n",
    "for _ in range(1, 4):\n",
    "    # increase the size of the dataframe\n",
    "    nrows *= 2\n",
    "    ncols *= 2\n",
    "\n",
    "    # form a dataframe using randomized data\n",
    "    df = pd.DataFrame(\n",
    "        np.random.rand(nrows, ncols), columns=[f\"col_{num}\" for num in range(0, ncols)]\n",
    "    )\n",
    "\n",
    "    # append data to the result list\n",
    "    results.append(\n",
    "        {\n",
    "            # general information about the dataframe\n",
    "            \"dataframe_shape (rows, cols)\": str(df.shape),\n",
    "            # information about CSV\n",
    "            \"csv_write_time (secs)\": timer(\n",
    "                df.to_csv, path_or_buf=csv_name, compression=\"gzip\"\n",
    "            ),\n",
    "            \"csv_size (bytes)\": os.stat(csv_name).st_size,\n",
    "            \"csv_read_time_all (secs)\": timer(\n",
    "                pd.read_csv, filepath_or_buffer=csv_name, compression=\"gzip\"\n",
    "            ),\n",
    "            \"csv_read_time_one (secs)\": timer(\n",
    "                pd.read_csv,\n",
    "                filepath_or_buffer=csv_name,\n",
    "                compression=\"gzip\",\n",
    "                usecols=[\"col_2\"],\n",
    "            ),\n",
    "            # information about SQLite\n",
    "            \"sqlite_write_time (secs)\": timer(\n",
    "                df.to_sql,\n",
    "                name=sqlite_tbl_name,\n",
    "                con=f\"sqlite:///{sqlite_name}\",\n",
    "            ),\n",
    "            \"sqlite_size (bytes)\": os.stat(sqlite_name).st_size,\n",
    "            \"sqlite_read_time_all (secs)\": timer(\n",
    "                pd.read_sql,\n",
    "                sql=f\"SELECT * FROM {sqlite_tbl_name}\",\n",
    "                con=f\"sqlite:///{sqlite_name}\",\n",
    "            ),\n",
    "            \"sqlite_read_time_one (secs)\": timer(\n",
    "                pd.read_sql,\n",
    "                sql=f\"SELECT col_2 FROM {sqlite_tbl_name}\",\n",
    "                con=f\"sqlite:///{sqlite_name}\",\n",
    "            ),\n",
    "            # information about Parquet\n",
    "            \"parquet_write_time (secs)\": timer(\n",
    "                df.to_parquet, path=parquet_name, compression=\"gzip\"\n",
    "            ),\n",
    "            \"parquet_size (bytes)\": os.stat(parquet_name).st_size,\n",
    "            \"parquet_read_time_all (secs)\": timer(pd.read_parquet, path=parquet_name),\n",
    "            \"parquet_read_time_one (secs)\": timer(\n",
    "                pd.read_parquet, path=parquet_name, columns=[\"col_2\"]\n",
    "            ),\n",
    "        }\n",
    "    )\n",
    "\n",
    "    # remove any existing files in preparation for next steps\n",
    "    for filename in [csv_name, parquet_name, sqlite_name]:\n",
    "        pathlib.Path(filename).unlink(missing_ok=True)\n",
    "\n",
    "\n",
    "df_results = pd.DataFrame(results)\n",
    "df_results"
   ]
  },
  {
   "cell_type": "code",
   "execution_count": 7,
   "id": "a735ec26-02d4-42a4-9756-4cee2f33e69d",
   "metadata": {
    "execution": {
     "iopub.execute_input": "2025-05-14T17:08:44.626115Z",
     "iopub.status.busy": "2025-05-14T17:08:44.625927Z",
     "iopub.status.idle": "2025-05-14T17:08:45.870249Z",
     "shell.execute_reply": "2025-05-14T17:08:45.869463Z"
    },
    "papermill": {
     "duration": 1.252307,
     "end_time": "2025-05-14T17:08:45.871726",
     "exception": false,
     "start_time": "2025-05-14T17:08:44.619419",
     "status": "completed"
    },
    "tags": []
   },
   "outputs": [
    {
     "data": {
      "text/html": [
       "<img src=\"images/parquet-comparisons-file-write-time.png\"/>"
      ],
      "text/plain": [
       "<IPython.core.display.Image object>"
      ]
     },
     "execution_count": 7,
     "metadata": {},
     "output_type": "execute_result"
    }
   ],
   "source": [
    "# write times barchart\n",
    "fig = px.bar(\n",
    "    df_results,\n",
    "    x=[\n",
    "        \"csv_write_time (secs)\",\n",
    "        \"sqlite_write_time (secs)\",\n",
    "        \"parquet_write_time (secs)\",\n",
    "    ],\n",
    "    y=\"dataframe_shape (rows, cols)\",\n",
    "    orientation=\"h\",\n",
    "    barmode=\"group\",\n",
    "    labels={\"dataframe_shape (rows, cols)\": \"Data Shape\", \"value\": \"Seconds\"},\n",
    "    width=1300,\n",
    "    color_discrete_sequence=px.colors.qualitative.D3,\n",
    ")\n",
    "fig.update_layout(\n",
    "    legend_title_text=\"File Write Duration\",\n",
    "    legend=dict(x=0.68, y=0.02, bgcolor=\"rgba(255,255,255,0.8)\"),\n",
    "    font=dict(\n",
    "        size=20,  # global font size\n",
    "    ),\n",
    ")\n",
    "\n",
    "pio.write_image(fig, file_write_time_image)\n",
    "Image(url=file_write_time_image)"
   ]
  },
  {
   "cell_type": "code",
   "execution_count": 8,
   "id": "d4827e5d-b2e4-4b8c-bff8-db96e0b76949",
   "metadata": {
    "execution": {
     "iopub.execute_input": "2025-05-14T17:08:45.886254Z",
     "iopub.status.busy": "2025-05-14T17:08:45.885440Z",
     "iopub.status.idle": "2025-05-14T17:08:46.134294Z",
     "shell.execute_reply": "2025-05-14T17:08:46.133771Z"
    },
    "papermill": {
     "duration": 0.257468,
     "end_time": "2025-05-14T17:08:46.135855",
     "exception": false,
     "start_time": "2025-05-14T17:08:45.878387",
     "status": "completed"
    },
    "tags": []
   },
   "outputs": [
    {
     "data": {
      "text/html": [
       "<img src=\"images/parquet-comparisons-file-storage-size.png\"/>"
      ],
      "text/plain": [
       "<IPython.core.display.Image object>"
      ]
     },
     "execution_count": 8,
     "metadata": {},
     "output_type": "execute_result"
    }
   ],
   "source": [
    "# filesize barchart\n",
    "fig = px.bar(\n",
    "    df_results,\n",
    "    x=[\n",
    "        \"csv_size (bytes)\",\n",
    "        \"sqlite_size (bytes)\",\n",
    "        \"parquet_size (bytes)\",\n",
    "    ],\n",
    "    y=\"dataframe_shape (rows, cols)\",\n",
    "    orientation=\"h\",\n",
    "    barmode=\"group\",\n",
    "    labels={\"dataframe_shape (rows, cols)\": \"Data Shape\", \"value\": \"Bytes\"},\n",
    "    width=1300,\n",
    "    color_discrete_sequence=px.colors.qualitative.D3,\n",
    ")\n",
    "fig.update_layout(\n",
    "    legend_title_text=\"File Size\",\n",
    "    legend=dict(x=0.72, y=0.02, bgcolor=\"rgba(255,255,255,0.8)\"),\n",
    "    font=dict(\n",
    "        size=20,  # global font size\n",
    "    ),\n",
    ")\n",
    "\n",
    "pio.write_image(fig, file_storage_size_image)\n",
    "Image(url=file_storage_size_image)"
   ]
  },
  {
   "cell_type": "code",
   "execution_count": 9,
   "id": "9ab638a5-e6e1-47e5-a5f9-56f156a71bc7",
   "metadata": {
    "execution": {
     "iopub.execute_input": "2025-05-14T17:08:46.149252Z",
     "iopub.status.busy": "2025-05-14T17:08:46.148980Z",
     "iopub.status.idle": "2025-05-14T17:08:46.300048Z",
     "shell.execute_reply": "2025-05-14T17:08:46.299259Z"
    },
    "papermill": {
     "duration": 0.159619,
     "end_time": "2025-05-14T17:08:46.301590",
     "exception": false,
     "start_time": "2025-05-14T17:08:46.141971",
     "status": "completed"
    },
    "tags": []
   },
   "outputs": [
    {
     "data": {
      "text/html": [
       "<img src=\"images/parquet-comparisons-file-read-time-all-columns.png\"/>"
      ],
      "text/plain": [
       "<IPython.core.display.Image object>"
      ]
     },
     "execution_count": 9,
     "metadata": {},
     "output_type": "execute_result"
    }
   ],
   "source": [
    "# read time barchart (all columns)\n",
    "fig = px.line(\n",
    "    df_results,\n",
    "    y=[\n",
    "        \"csv_read_time_all (secs)\",\n",
    "        \"sqlite_read_time_all (secs)\",\n",
    "        \"parquet_read_time_all (secs)\",\n",
    "    ],\n",
    "    x=\"dataframe_shape (rows, cols)\",\n",
    "    labels={\"dataframe_shape (rows, cols)\": \"Data Shape\", \"value\": \"Seconds\"},\n",
    "    width=1300,\n",
    "    color_discrete_sequence=px.colors.qualitative.D3,\n",
    ")\n",
    "fig.update_layout(\n",
    "    legend_title_text=\"File Read Duration (all columns)\",\n",
    "    legend=dict(x=0.01, y=0.98, bgcolor=\"rgba(255,255,255,0.8)\"),\n",
    "    font=dict(\n",
    "        size=20,  # global font size\n",
    "    ),\n",
    ")\n",
    "fig.update_xaxes(range=[0, 2.13])\n",
    "fig.update_traces(mode=\"lines+markers\")\n",
    "\n",
    "pio.write_image(fig, file_read_time_all_image)\n",
    "Image(url=file_read_time_all_image)"
   ]
  },
  {
   "cell_type": "code",
   "execution_count": 10,
   "id": "fd99f232-8564-4b83-82c7-e4b0cc5cfbf4",
   "metadata": {
    "execution": {
     "iopub.execute_input": "2025-05-14T17:08:46.316945Z",
     "iopub.status.busy": "2025-05-14T17:08:46.316637Z",
     "iopub.status.idle": "2025-05-14T17:08:46.453371Z",
     "shell.execute_reply": "2025-05-14T17:08:46.452377Z"
    },
    "papermill": {
     "duration": 0.146281,
     "end_time": "2025-05-14T17:08:46.454748",
     "exception": false,
     "start_time": "2025-05-14T17:08:46.308467",
     "status": "completed"
    },
    "tags": []
   },
   "outputs": [
    {
     "data": {
      "text/html": [
       "<img src=\"images/parquet-comparisons-file-read-time-one-column.png\"/>"
      ],
      "text/plain": [
       "<IPython.core.display.Image object>"
      ]
     },
     "execution_count": 10,
     "metadata": {},
     "output_type": "execute_result"
    }
   ],
   "source": [
    "# read time barchart (one column)\n",
    "fig = px.line(\n",
    "    df_results,\n",
    "    y=[\n",
    "        \"csv_read_time_one (secs)\",\n",
    "        \"sqlite_read_time_one (secs)\",\n",
    "        \"parquet_read_time_one (secs)\",\n",
    "    ],\n",
    "    x=\"dataframe_shape (rows, cols)\",\n",
    "    labels={\"dataframe_shape (rows, cols)\": \"Data Shape\", \"value\": \"Seconds\"},\n",
    "    width=1300,\n",
    "    color_discrete_sequence=px.colors.qualitative.D3,\n",
    ")\n",
    "fig.update_layout(\n",
    "    legend_title_text=\"File Read Duration (one column)\",\n",
    "    legend=dict(x=0.01, y=0.98, bgcolor=\"rgba(255,255,255,0.8)\"),\n",
    "    font=dict(\n",
    "        size=20,  # global font size\n",
    "    ),\n",
    ")\n",
    "fig.update_xaxes(range=[0, 2.13])\n",
    "fig.update_traces(mode=\"lines+markers\")\n",
    "\n",
    "pio.write_image(fig, file_read_time_one_image)\n",
    "Image(url=file_read_time_one_image)"
   ]
  }
 ],
 "metadata": {
  "jupytext": {
   "formats": "ipynb,py:light"
  },
  "kernelspec": {
   "display_name": "Python 3 (ipykernel)",
   "language": "python",
   "name": "python3"
  },
  "language_info": {
   "codemirror_mode": {
    "name": "ipython",
    "version": 3
   },
   "file_extension": ".py",
   "mimetype": "text/x-python",
   "name": "python",
   "nbconvert_exporter": "python",
   "pygments_lexer": "ipython3",
   "version": "3.11.9"
  },
  "papermill": {
   "default_parameters": {},
   "duration": 31.54207,
   "end_time": "2025-05-14T17:08:49.080549",
   "environment_variables": {},
   "exception": null,
   "input_path": "parquet_analysis.ipynb",
   "output_path": "parquet_analysis.ipynb",
   "parameters": {},
   "start_time": "2025-05-14T17:08:17.538479",
   "version": "2.6.0"
  }
 },
 "nbformat": 4,
 "nbformat_minor": 5
}
