{
 "cells": [
  {
   "cell_type": "markdown",
   "id": "cc479d78-e5e4-4802-81ac-45a75525cf49",
   "metadata": {},
   "source": [
    "# PyArrow looped memory usage analysis\n",
    "\n",
    "This notebook explores how PyArrow uses memory when reading parquet files implemented in a loop. The work is related to [CytoTable#75](https://github.com/cytomining/CytoTable/issues/75)."
   ]
  },
  {
   "cell_type": "code",
   "execution_count": 1,
   "id": "87e1ee63-7ca0-4df3-affa-7bcf7c94e3c9",
   "metadata": {
    "tags": []
   },
   "outputs": [],
   "source": [
    "import io\n",
    "import itertools\n",
    "import json\n",
    "import pathlib\n",
    "import subprocess\n",
    "\n",
    "from IPython.display import IFrame"
   ]
  },
  {
   "cell_type": "code",
   "execution_count": 2,
   "id": "df7c70fe-263c-45ae-89d0-d0490da3bc94",
   "metadata": {
    "tags": []
   },
   "outputs": [],
   "source": [
    "# setup variables for use below\n",
    "target_python_list = [\n",
    "    \"./examples/pyarrow_parquet_reads_malloc.py\",\n",
    "    \"./examples/pyarrow_parquet_reads_mimalloc.py\",\n",
    "    \"./examples/pyarrow_parquet_reads_jemalloc.py\",\n",
    "    \"./examples/pyarrow_parquet_reads_malloc_memorymap.py\",\n",
    "    \"./examples/pyarrow_parquet_reads_mimalloc_memorymap.py\",\n",
    "    \"./examples/pyarrow_parquet_reads_jemalloc_memorymap.py\",\n",
    "]\n",
    "target_bin_list = [\n",
    "    f\"{pathlib.Path(target).name}.memray.bin\" for target in target_python_list\n",
    "]\n",
    "target_html_list = [f\"{target_bin}.html\" for target_bin in target_bin_list]"
   ]
  },
  {
   "cell_type": "code",
   "execution_count": 3,
   "id": "d60fdd60-6237-4bf2-abbe-d29af6ee2814",
   "metadata": {
    "tags": []
   },
   "outputs": [],
   "source": [
    "for target_python, target_bin, target_html in zip(\n",
    "    target_python_list, target_bin_list, target_html_list\n",
    "):\n",
    "    # create memory profile\n",
    "    memray_run = subprocess.run(\n",
    "        [\n",
    "            \"memray\",\n",
    "            \"run\",\n",
    "            \"--output\",\n",
    "            target_bin,\n",
    "            \"--force\",\n",
    "            \"--native\",\n",
    "            \"--follow-fork\",\n",
    "            target_python,\n",
    "        ],\n",
    "        capture_output=True,\n",
    "        check=True,\n",
    "    )\n",
    "    # create flamegraph data\n",
    "    memray_flamegraph = subprocess.run(\n",
    "        [\n",
    "            \"memray\",\n",
    "            \"flamegraph\",\n",
    "            \"--output\",\n",
    "            target_html,\n",
    "            \"--force\",\n",
    "            target_bin,\n",
    "        ],\n",
    "        capture_output=True,\n",
    "        check=True,\n",
    "    )"
   ]
  },
  {
   "cell_type": "code",
   "execution_count": 4,
   "id": "b66b58a1-f6f5-4d64-a548-d319ad1427e0",
   "metadata": {
    "tags": []
   },
   "outputs": [
    {
     "name": "stdout",
     "output_type": "stream",
     "text": [
      "pyarrow_parquet_reads_malloc.py.memray.bin.html\n"
     ]
    },
    {
     "data": {
      "text/html": [
       "\n",
       "        <iframe\n",
       "            width=\"100%\"\n",
       "            height=\"1000\"\n",
       "            src=\"pyarrow_parquet_reads_malloc.py.memray.bin.html\"\n",
       "            frameborder=\"0\"\n",
       "            allowfullscreen\n",
       "            \n",
       "        ></iframe>\n",
       "        "
      ],
      "text/plain": [
       "<IPython.lib.display.IFrame at 0x1124f0eb0>"
      ]
     },
     "execution_count": 4,
     "metadata": {},
     "output_type": "execute_result"
    }
   ],
   "source": [
    "# display flamegraph results\n",
    "print(target_html_list[0])\n",
    "IFrame(target_html_list[0], width=\"100%\", height=\"1000\")"
   ]
  },
  {
   "cell_type": "code",
   "execution_count": 5,
   "id": "3f567b61-fe2d-4445-a02e-3f5b960852cb",
   "metadata": {
    "tags": []
   },
   "outputs": [
    {
     "name": "stdout",
     "output_type": "stream",
     "text": [
      "pyarrow_parquet_reads_mimalloc.py.memray.bin.html\n"
     ]
    },
    {
     "data": {
      "text/html": [
       "\n",
       "        <iframe\n",
       "            width=\"100%\"\n",
       "            height=\"1000\"\n",
       "            src=\"pyarrow_parquet_reads_mimalloc.py.memray.bin.html\"\n",
       "            frameborder=\"0\"\n",
       "            allowfullscreen\n",
       "            \n",
       "        ></iframe>\n",
       "        "
      ],
      "text/plain": [
       "<IPython.lib.display.IFrame at 0x11252fc70>"
      ]
     },
     "execution_count": 5,
     "metadata": {},
     "output_type": "execute_result"
    }
   ],
   "source": [
    "# display flamegraph results\n",
    "print(target_html_list[1])\n",
    "IFrame(target_html_list[1], width=\"100%\", height=\"1000\")"
   ]
  },
  {
   "cell_type": "code",
   "execution_count": 6,
   "id": "07767518-362e-4fae-a157-5a29da492447",
   "metadata": {},
   "outputs": [
    {
     "name": "stdout",
     "output_type": "stream",
     "text": [
      "pyarrow_parquet_reads_jemalloc.py.memray.bin.html\n"
     ]
    },
    {
     "data": {
      "text/html": [
       "\n",
       "        <iframe\n",
       "            width=\"100%\"\n",
       "            height=\"1000\"\n",
       "            src=\"pyarrow_parquet_reads_jemalloc.py.memray.bin.html\"\n",
       "            frameborder=\"0\"\n",
       "            allowfullscreen\n",
       "            \n",
       "        ></iframe>\n",
       "        "
      ],
      "text/plain": [
       "<IPython.lib.display.IFrame at 0x11253aa90>"
      ]
     },
     "execution_count": 6,
     "metadata": {},
     "output_type": "execute_result"
    }
   ],
   "source": [
    "# display flamegraph results\n",
    "print(target_html_list[2])\n",
    "IFrame(target_html_list[2], width=\"100%\", height=\"1000\")"
   ]
  },
  {
   "cell_type": "code",
   "execution_count": 7,
   "id": "334a0fa7-6629-42f7-a910-d72590584514",
   "metadata": {
    "tags": []
   },
   "outputs": [
    {
     "name": "stdout",
     "output_type": "stream",
     "text": [
      "pyarrow_parquet_reads_malloc_memorymap.py.memray.bin.html\n"
     ]
    },
    {
     "data": {
      "text/html": [
       "\n",
       "        <iframe\n",
       "            width=\"100%\"\n",
       "            height=\"1000\"\n",
       "            src=\"pyarrow_parquet_reads_malloc_memorymap.py.memray.bin.html\"\n",
       "            frameborder=\"0\"\n",
       "            allowfullscreen\n",
       "            \n",
       "        ></iframe>\n",
       "        "
      ],
      "text/plain": [
       "<IPython.lib.display.IFrame at 0x1125b0d00>"
      ]
     },
     "execution_count": 7,
     "metadata": {},
     "output_type": "execute_result"
    }
   ],
   "source": [
    "# display flamegraph results\n",
    "print(target_html_list[3])\n",
    "IFrame(target_html_list[3], width=\"100%\", height=\"1000\")"
   ]
  },
  {
   "cell_type": "code",
   "execution_count": 8,
   "id": "90801196-0cc9-4603-8b42-87b645eda4ab",
   "metadata": {
    "tags": []
   },
   "outputs": [
    {
     "name": "stdout",
     "output_type": "stream",
     "text": [
      "pyarrow_parquet_reads_mimalloc_memorymap.py.memray.bin.html\n"
     ]
    },
    {
     "data": {
      "text/html": [
       "\n",
       "        <iframe\n",
       "            width=\"100%\"\n",
       "            height=\"1000\"\n",
       "            src=\"pyarrow_parquet_reads_mimalloc_memorymap.py.memray.bin.html\"\n",
       "            frameborder=\"0\"\n",
       "            allowfullscreen\n",
       "            \n",
       "        ></iframe>\n",
       "        "
      ],
      "text/plain": [
       "<IPython.lib.display.IFrame at 0x1125ecc10>"
      ]
     },
     "execution_count": 8,
     "metadata": {},
     "output_type": "execute_result"
    }
   ],
   "source": [
    "# display flamegraph results\n",
    "print(target_html_list[4])\n",
    "IFrame(target_html_list[4], width=\"100%\", height=\"1000\")"
   ]
  },
  {
   "cell_type": "code",
   "execution_count": 9,
   "id": "478aa4bb-1c51-41ee-9a0e-b9be633e34ff",
   "metadata": {
    "tags": []
   },
   "outputs": [
    {
     "name": "stdout",
     "output_type": "stream",
     "text": [
      "pyarrow_parquet_reads_jemalloc_memorymap.py.memray.bin.html\n"
     ]
    },
    {
     "data": {
      "text/html": [
       "\n",
       "        <iframe\n",
       "            width=\"100%\"\n",
       "            height=\"1000\"\n",
       "            src=\"pyarrow_parquet_reads_jemalloc_memorymap.py.memray.bin.html\"\n",
       "            frameborder=\"0\"\n",
       "            allowfullscreen\n",
       "            \n",
       "        ></iframe>\n",
       "        "
      ],
      "text/plain": [
       "<IPython.lib.display.IFrame at 0x11256e130>"
      ]
     },
     "execution_count": 9,
     "metadata": {},
     "output_type": "execute_result"
    }
   ],
   "source": [
    "# display flamegraph results\n",
    "print(target_html_list[5])\n",
    "IFrame(target_html_list[5], width=\"100%\", height=\"1000\")"
   ]
  },
  {
   "cell_type": "code",
   "execution_count": null,
   "id": "f918fb24-c7c9-4f91-934b-c4bbbf209b6f",
   "metadata": {},
   "outputs": [],
   "source": []
  }
 ],
 "metadata": {
  "jupytext": {
   "formats": "ipynb,py:light"
  },
  "kernelspec": {
   "display_name": "Python 3 (ipyflow)",
   "language": "python",
   "name": "ipyflow"
  },
  "language_info": {
   "codemirror_mode": {
    "name": "ipython",
    "version": 3
   },
   "file_extension": ".py",
   "mimetype": "text/x-python",
   "name": "python",
   "nbconvert_exporter": "python",
   "pygments_lexer": "ipython3",
   "version": "3.9.12"
  }
 },
 "nbformat": 4,
 "nbformat_minor": 5
}
