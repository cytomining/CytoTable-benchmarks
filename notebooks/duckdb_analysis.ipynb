{
 "cells": [
  {
   "cell_type": "markdown",
   "id": "9cef710a-ff78-4598-bf7b-2b9b75448c32",
   "metadata": {
    "papermill": {
     "duration": 0.00361,
     "end_time": "2025-04-17T22:27:07.169251",
     "exception": false,
     "start_time": "2025-04-17T22:27:07.165641",
     "status": "completed"
    },
    "tags": []
   },
   "source": [
    "# Why DuckDB?\n",
    "\n",
    "This notebook explores the benefits or drawbacks of using the [DuckDB](https://duckdb.org/) data joins relative to other methods such as Pandas DataFrames."
   ]
  },
  {
   "cell_type": "code",
   "execution_count": 1,
   "id": "d2e47e7d-0629-45e3-b1bd-bce07843ae4c",
   "metadata": {
    "execution": {
     "iopub.execute_input": "2025-04-17T22:27:07.178545Z",
     "iopub.status.busy": "2025-04-17T22:27:07.178098Z",
     "iopub.status.idle": "2025-04-17T22:27:08.430657Z",
     "shell.execute_reply": "2025-04-17T22:27:08.430372Z"
    },
    "papermill": {
     "duration": 1.257611,
     "end_time": "2025-04-17T22:27:08.431537",
     "exception": false,
     "start_time": "2025-04-17T22:27:07.173926",
     "status": "completed"
    },
    "tags": []
   },
   "outputs": [],
   "source": [
    "import io\n",
    "import itertools\n",
    "import json\n",
    "import pathlib\n",
    "import subprocess\n",
    "import tokenize\n",
    "from datetime import datetime\n",
    "\n",
    "import pandas as pd\n",
    "import plotly.express as px\n",
    "import plotly.io as pio\n",
    "from IPython.display import Image\n",
    "from utilities import get_system_info"
   ]
  },
  {
   "cell_type": "code",
   "execution_count": 2,
   "id": "4be76471-2d82-4712-9b4d-1a824874538b",
   "metadata": {
    "execution": {
     "iopub.execute_input": "2025-04-17T22:27:08.436499Z",
     "iopub.status.busy": "2025-04-17T22:27:08.436362Z",
     "iopub.status.idle": "2025-04-17T22:27:08.446764Z",
     "shell.execute_reply": "2025-04-17T22:27:08.446496Z"
    },
    "papermill": {
     "duration": 0.014777,
     "end_time": "2025-04-17T22:27:08.447438",
     "exception": false,
     "start_time": "2025-04-17T22:27:08.432661",
     "status": "completed"
    },
    "tags": []
   },
   "outputs": [
    {
     "name": "stdout",
     "output_type": "stream",
     "text": [
      "\n",
      "System Information:\n",
      "Operating System: Darwin\n",
      "Machine Type: arm64\n",
      "Processor: arm\n",
      "CPU Cores (Logical): 12\n",
      "CPU Cores (Physical): 12\n",
      "Total RAM (GB): 48.0\n",
      "Python Version: 3.11.11\n"
     ]
    }
   ],
   "source": [
    "# show the system information\n",
    "_ = get_system_info(show_output=True)"
   ]
  },
  {
   "cell_type": "code",
   "execution_count": 3,
   "id": "8d6efd13-0dce-4baa-b779-f5ec62dc535e",
   "metadata": {
    "execution": {
     "iopub.execute_input": "2025-04-17T22:27:08.454501Z",
     "iopub.status.busy": "2025-04-17T22:27:08.454403Z",
     "iopub.status.idle": "2025-04-17T22:27:08.486230Z",
     "shell.execute_reply": "2025-04-17T22:27:08.486000Z"
    },
    "papermill": {
     "duration": 0.036131,
     "end_time": "2025-04-17T22:27:08.486789",
     "exception": false,
     "start_time": "2025-04-17T22:27:08.450658",
     "status": "completed"
    },
    "tags": []
   },
   "outputs": [],
   "source": [
    "# target file or table names\n",
    "image_dir = \"images\"\n",
    "examples_dir = \"examples\"\n",
    "join_read_time_image = f\"{image_dir}/duckdb-comparisons-join-read-time.png\"\n",
    "join_mem_size_image = f\"{image_dir}/duckdb-comparisons-join-memory-size.png\"\n",
    "example_files_list = [\n",
    "    f\"{examples_dir}/join_pandas.py\",\n",
    "    f\"{examples_dir}/join_duckdb.py\",\n",
    "]\n",
    "example_data_list = [\n",
    "    f\"{examples_dir}/data/all_cellprofiler.sqlite\",\n",
    "    f\"{examples_dir}/data/all_cellprofiler-x2.sqlite\",\n",
    "    f\"{examples_dir}/data/all_cellprofiler-x4.sqlite\",\n",
    "    f\"{examples_dir}/data/all_cellprofiler-x8.sqlite\",\n",
    "    f\"{examples_dir}/data/all_cellprofiler-x16.sqlite\",\n",
    "    f\"{examples_dir}/data/all_cellprofiler-x32.sqlite\",\n",
    "]\n",
    "# format for memray time strings\n",
    "tformat = \"%Y-%m-%d %H:%M:%S.%f%z\""
   ]
  },
  {
   "cell_type": "code",
   "execution_count": 4,
   "id": "742e91b0-ef13-4199-a252-77695a2b9650",
   "metadata": {
    "execution": {
     "iopub.execute_input": "2025-04-17T22:27:08.493586Z",
     "iopub.status.busy": "2025-04-17T22:27:08.493474Z",
     "iopub.status.idle": "2025-04-17T22:27:10.070863Z",
     "shell.execute_reply": "2025-04-17T22:27:10.070489Z"
    },
    "papermill": {
     "duration": 1.581612,
     "end_time": "2025-04-17T22:27:10.071714",
     "exception": false,
     "start_time": "2025-04-17T22:27:08.490102",
     "status": "completed"
    },
    "tags": []
   },
   "outputs": [],
   "source": [
    "# avoid a \"cold start\" for tested packages by using them before benchmarks\n",
    "for example_file in example_files_list:\n",
    "    run = subprocess.run(\n",
    "        [\"python\", example_file, example_data_list[0]],\n",
    "        capture_output=True,\n",
    "    )"
   ]
  },
  {
   "cell_type": "code",
   "execution_count": 5,
   "id": "a33736e4-306b-45c4-affe-cef6e20eeddf",
   "metadata": {
    "execution": {
     "iopub.execute_input": "2025-04-17T22:27:10.077792Z",
     "iopub.status.busy": "2025-04-17T22:27:10.077428Z",
     "iopub.status.idle": "2025-04-17T22:27:29.612254Z",
     "shell.execute_reply": "2025-04-17T22:27:29.611785Z"
    },
    "papermill": {
     "duration": 19.539887,
     "end_time": "2025-04-17T22:27:29.612995",
     "exception": false,
     "start_time": "2025-04-17T22:27:10.073108",
     "status": "completed"
    },
    "tags": []
   },
   "outputs": [
    {
     "data": {
      "text/html": [
       "<div>\n",
       "<style scoped>\n",
       "    .dataframe tbody tr th:only-of-type {\n",
       "        vertical-align: middle;\n",
       "    }\n",
       "\n",
       "    .dataframe tbody tr th {\n",
       "        vertical-align: top;\n",
       "    }\n",
       "\n",
       "    .dataframe thead th {\n",
       "        text-align: right;\n",
       "    }\n",
       "</style>\n",
       "<table border=\"1\" class=\"dataframe\">\n",
       "  <thead>\n",
       "    <tr style=\"text-align: right;\">\n",
       "      <th></th>\n",
       "      <th>file_input</th>\n",
       "      <th>data_input</th>\n",
       "      <th>time_duration (secs)</th>\n",
       "      <th>total_memory (bytes)</th>\n",
       "    </tr>\n",
       "  </thead>\n",
       "  <tbody>\n",
       "    <tr>\n",
       "      <th>0</th>\n",
       "      <td>join_pandas.py</td>\n",
       "      <td>all_cellprofiler.sqlite</td>\n",
       "      <td>0.755</td>\n",
       "      <td>273748796</td>\n",
       "    </tr>\n",
       "    <tr>\n",
       "      <th>1</th>\n",
       "      <td>join_pandas.py</td>\n",
       "      <td>all_cellprofiler-x2.sqlite</td>\n",
       "      <td>0.812</td>\n",
       "      <td>337938802</td>\n",
       "    </tr>\n",
       "    <tr>\n",
       "      <th>2</th>\n",
       "      <td>join_pandas.py</td>\n",
       "      <td>all_cellprofiler-x4.sqlite</td>\n",
       "      <td>0.860</td>\n",
       "      <td>463923522</td>\n",
       "    </tr>\n",
       "    <tr>\n",
       "      <th>3</th>\n",
       "      <td>join_pandas.py</td>\n",
       "      <td>all_cellprofiler-x8.sqlite</td>\n",
       "      <td>0.986</td>\n",
       "      <td>715856478</td>\n",
       "    </tr>\n",
       "    <tr>\n",
       "      <th>4</th>\n",
       "      <td>join_pandas.py</td>\n",
       "      <td>all_cellprofiler-x16.sqlite</td>\n",
       "      <td>1.219</td>\n",
       "      <td>1224926854</td>\n",
       "    </tr>\n",
       "    <tr>\n",
       "      <th>5</th>\n",
       "      <td>join_pandas.py</td>\n",
       "      <td>all_cellprofiler-x32.sqlite</td>\n",
       "      <td>1.831</td>\n",
       "      <td>2240969478</td>\n",
       "    </tr>\n",
       "    <tr>\n",
       "      <th>6</th>\n",
       "      <td>join_duckdb.py</td>\n",
       "      <td>all_cellprofiler.sqlite</td>\n",
       "      <td>0.809</td>\n",
       "      <td>1002196420</td>\n",
       "    </tr>\n",
       "    <tr>\n",
       "      <th>7</th>\n",
       "      <td>join_duckdb.py</td>\n",
       "      <td>all_cellprofiler-x2.sqlite</td>\n",
       "      <td>0.782</td>\n",
       "      <td>950009966</td>\n",
       "    </tr>\n",
       "    <tr>\n",
       "      <th>8</th>\n",
       "      <td>join_duckdb.py</td>\n",
       "      <td>all_cellprofiler-x4.sqlite</td>\n",
       "      <td>0.826</td>\n",
       "      <td>1017437694</td>\n",
       "    </tr>\n",
       "    <tr>\n",
       "      <th>9</th>\n",
       "      <td>join_duckdb.py</td>\n",
       "      <td>all_cellprofiler-x8.sqlite</td>\n",
       "      <td>0.842</td>\n",
       "      <td>1047490030</td>\n",
       "    </tr>\n",
       "    <tr>\n",
       "      <th>10</th>\n",
       "      <td>join_duckdb.py</td>\n",
       "      <td>all_cellprofiler-x16.sqlite</td>\n",
       "      <td>0.886</td>\n",
       "      <td>1207430904</td>\n",
       "    </tr>\n",
       "    <tr>\n",
       "      <th>11</th>\n",
       "      <td>join_duckdb.py</td>\n",
       "      <td>all_cellprofiler-x32.sqlite</td>\n",
       "      <td>1.066</td>\n",
       "      <td>1637273224</td>\n",
       "    </tr>\n",
       "  </tbody>\n",
       "</table>\n",
       "</div>"
      ],
      "text/plain": [
       "        file_input                   data_input  time_duration (secs)  \\\n",
       "0   join_pandas.py      all_cellprofiler.sqlite                 0.755   \n",
       "1   join_pandas.py   all_cellprofiler-x2.sqlite                 0.812   \n",
       "2   join_pandas.py   all_cellprofiler-x4.sqlite                 0.860   \n",
       "3   join_pandas.py   all_cellprofiler-x8.sqlite                 0.986   \n",
       "4   join_pandas.py  all_cellprofiler-x16.sqlite                 1.219   \n",
       "5   join_pandas.py  all_cellprofiler-x32.sqlite                 1.831   \n",
       "6   join_duckdb.py      all_cellprofiler.sqlite                 0.809   \n",
       "7   join_duckdb.py   all_cellprofiler-x2.sqlite                 0.782   \n",
       "8   join_duckdb.py   all_cellprofiler-x4.sqlite                 0.826   \n",
       "9   join_duckdb.py   all_cellprofiler-x8.sqlite                 0.842   \n",
       "10  join_duckdb.py  all_cellprofiler-x16.sqlite                 0.886   \n",
       "11  join_duckdb.py  all_cellprofiler-x32.sqlite                 1.066   \n",
       "\n",
       "    total_memory (bytes)  \n",
       "0              273748796  \n",
       "1              337938802  \n",
       "2              463923522  \n",
       "3              715856478  \n",
       "4             1224926854  \n",
       "5             2240969478  \n",
       "6             1002196420  \n",
       "7              950009966  \n",
       "8             1017437694  \n",
       "9             1047490030  \n",
       "10            1207430904  \n",
       "11            1637273224  "
      ]
     },
     "execution_count": 5,
     "metadata": {},
     "output_type": "execute_result"
    }
   ],
   "source": [
    "# result list for storing data\n",
    "results = []\n",
    "\n",
    "# loop for iterating over examples and example data\n",
    "# and gathering data about operations on them\n",
    "for example_file, example_data in itertools.product(\n",
    "    example_files_list,\n",
    "    example_data_list,\n",
    "):\n",
    "    target_bin = f\"{example_file}_with_{example_data.replace(f'{examples_dir}/data/','')}.memray.bin\"\n",
    "    target_json = f\"{target_bin}.json\"\n",
    "    memray_run = subprocess.run(\n",
    "        [\n",
    "            \"memray\",\n",
    "            \"run\",\n",
    "            \"--output\",\n",
    "            target_bin,\n",
    "            \"--force\",\n",
    "            example_file,\n",
    "            example_data,\n",
    "        ],\n",
    "        capture_output=True,\n",
    "        check=True,\n",
    "    )\n",
    "\n",
    "    memray_stats = subprocess.run(\n",
    "        [\n",
    "            \"memray\",\n",
    "            \"stats\",\n",
    "            \"--json\",\n",
    "            \"--output\",\n",
    "            target_json,\n",
    "            \"--force\",\n",
    "            target_bin,\n",
    "        ],\n",
    "        capture_output=True,\n",
    "        check=True,\n",
    "    )\n",
    "\n",
    "    # open the json data\n",
    "    with open(target_json) as memray_json_file:\n",
    "        memray_data = json.load(memray_json_file)\n",
    "\n",
    "    # append data to the result list\n",
    "    results.append(\n",
    "        {\n",
    "            # general information about the dataframe\n",
    "            \"file_input\": example_file.replace(f\"{examples_dir}/\", \"\"),\n",
    "            \"data_input\": example_data.replace(f\"{examples_dir}/data/\", \"\"),\n",
    "            # information about pandas\n",
    "            \"time_duration (secs)\": (\n",
    "                datetime.strptime(memray_data[\"metadata\"][\"end_time\"], tformat)\n",
    "                - datetime.strptime(memray_data[\"metadata\"][\"start_time\"], tformat)\n",
    "            ).total_seconds(),\n",
    "            \"total_memory (bytes)\": memray_data[\"total_bytes_allocated\"],\n",
    "        }\n",
    "    )\n",
    "\n",
    "    # cleanup\n",
    "    pathlib.Path(target_bin).unlink(missing_ok=True)\n",
    "    pathlib.Path(target_json).unlink(missing_ok=True)\n",
    "\n",
    "df_results = pd.DataFrame(results)\n",
    "df_results"
   ]
  },
  {
   "cell_type": "code",
   "execution_count": 6,
   "id": "6f96b829-7d8f-438d-9f65-62f62ec264b3",
   "metadata": {
    "execution": {
     "iopub.execute_input": "2025-04-17T22:27:29.619010Z",
     "iopub.status.busy": "2025-04-17T22:27:29.618899Z",
     "iopub.status.idle": "2025-04-17T22:27:29.725025Z",
     "shell.execute_reply": "2025-04-17T22:27:29.724763Z"
    },
    "papermill": {
     "duration": 0.111279,
     "end_time": "2025-04-17T22:27:29.725655",
     "exception": false,
     "start_time": "2025-04-17T22:27:29.614376",
     "status": "completed"
    },
    "tags": []
   },
   "outputs": [
    {
     "data": {
      "text/html": [
       "<div>\n",
       "<style scoped>\n",
       "    .dataframe tbody tr th:only-of-type {\n",
       "        vertical-align: middle;\n",
       "    }\n",
       "\n",
       "    .dataframe tbody tr th {\n",
       "        vertical-align: top;\n",
       "    }\n",
       "\n",
       "    .dataframe thead th {\n",
       "        text-align: right;\n",
       "    }\n",
       "</style>\n",
       "<table border=\"1\" class=\"dataframe\">\n",
       "  <thead>\n",
       "    <tr style=\"text-align: right;\">\n",
       "      <th></th>\n",
       "      <th>data_input</th>\n",
       "      <th>data_input_renamed</th>\n",
       "      <th>pandas_time_duration (secs)</th>\n",
       "      <th>pandas_total_memory (bytes)</th>\n",
       "      <th>duckdb_time_duration (secs)</th>\n",
       "      <th>duckdb_total_memory (bytes)</th>\n",
       "    </tr>\n",
       "  </thead>\n",
       "  <tbody>\n",
       "    <tr>\n",
       "      <th>0</th>\n",
       "      <td>all_cellprofiler.sqlite</td>\n",
       "      <td>input.sqlite</td>\n",
       "      <td>0.755</td>\n",
       "      <td>2.737488e+08</td>\n",
       "      <td>0.809</td>\n",
       "      <td>1.002196e+09</td>\n",
       "    </tr>\n",
       "    <tr>\n",
       "      <th>1</th>\n",
       "      <td>all_cellprofiler-x2.sqlite</td>\n",
       "      <td>input-x2.sqlite</td>\n",
       "      <td>0.812</td>\n",
       "      <td>3.379388e+08</td>\n",
       "      <td>0.782</td>\n",
       "      <td>9.500100e+08</td>\n",
       "    </tr>\n",
       "    <tr>\n",
       "      <th>2</th>\n",
       "      <td>all_cellprofiler-x4.sqlite</td>\n",
       "      <td>input-x4.sqlite</td>\n",
       "      <td>0.860</td>\n",
       "      <td>4.639235e+08</td>\n",
       "      <td>0.826</td>\n",
       "      <td>1.017438e+09</td>\n",
       "    </tr>\n",
       "    <tr>\n",
       "      <th>3</th>\n",
       "      <td>all_cellprofiler-x8.sqlite</td>\n",
       "      <td>input-x8.sqlite</td>\n",
       "      <td>0.986</td>\n",
       "      <td>7.158565e+08</td>\n",
       "      <td>0.842</td>\n",
       "      <td>1.047490e+09</td>\n",
       "    </tr>\n",
       "    <tr>\n",
       "      <th>4</th>\n",
       "      <td>all_cellprofiler-x16.sqlite</td>\n",
       "      <td>input-x16.sqlite</td>\n",
       "      <td>1.219</td>\n",
       "      <td>1.224927e+09</td>\n",
       "      <td>0.886</td>\n",
       "      <td>1.207431e+09</td>\n",
       "    </tr>\n",
       "    <tr>\n",
       "      <th>5</th>\n",
       "      <td>all_cellprofiler-x32.sqlite</td>\n",
       "      <td>input-x32.sqlite</td>\n",
       "      <td>1.831</td>\n",
       "      <td>2.240969e+09</td>\n",
       "      <td>1.066</td>\n",
       "      <td>1.637273e+09</td>\n",
       "    </tr>\n",
       "  </tbody>\n",
       "</table>\n",
       "</div>"
      ],
      "text/plain": [
       "                    data_input data_input_renamed  \\\n",
       "0      all_cellprofiler.sqlite       input.sqlite   \n",
       "1   all_cellprofiler-x2.sqlite    input-x2.sqlite   \n",
       "2   all_cellprofiler-x4.sqlite    input-x4.sqlite   \n",
       "3   all_cellprofiler-x8.sqlite    input-x8.sqlite   \n",
       "4  all_cellprofiler-x16.sqlite   input-x16.sqlite   \n",
       "5  all_cellprofiler-x32.sqlite   input-x32.sqlite   \n",
       "\n",
       "   pandas_time_duration (secs)  pandas_total_memory (bytes)  \\\n",
       "0                        0.755                 2.737488e+08   \n",
       "1                        0.812                 3.379388e+08   \n",
       "2                        0.860                 4.639235e+08   \n",
       "3                        0.986                 7.158565e+08   \n",
       "4                        1.219                 1.224927e+09   \n",
       "5                        1.831                 2.240969e+09   \n",
       "\n",
       "   duckdb_time_duration (secs)  duckdb_total_memory (bytes)  \n",
       "0                        0.809                 1.002196e+09  \n",
       "1                        0.782                 9.500100e+08  \n",
       "2                        0.826                 1.017438e+09  \n",
       "3                        0.842                 1.047490e+09  \n",
       "4                        0.886                 1.207431e+09  \n",
       "5                        1.066                 1.637273e+09  "
      ]
     },
     "execution_count": 6,
     "metadata": {},
     "output_type": "execute_result"
    }
   ],
   "source": [
    "df_results[\"data_input_renamed\"] = df_results[\"data_input\"].str.replace(\n",
    "    \"all_cellprofiler\", \"input\"\n",
    ")\n",
    "df_results[\"pandas_time_duration (secs)\"] = df_results[\n",
    "    df_results[\"file_input\"] == \"join_pandas.py\"\n",
    "][\"time_duration (secs)\"]\n",
    "df_results[\"pandas_total_memory (bytes)\"] = df_results[\n",
    "    df_results[\"file_input\"] == \"join_pandas.py\"\n",
    "][\"total_memory (bytes)\"]\n",
    "df_results[\"duckdb_time_duration (secs)\"] = df_results[\n",
    "    df_results[\"file_input\"] == \"join_duckdb.py\"\n",
    "][\"time_duration (secs)\"]\n",
    "df_results[\"duckdb_total_memory (bytes)\"] = df_results[\n",
    "    df_results[\"file_input\"] == \"join_duckdb.py\"\n",
    "][\"total_memory (bytes)\"]\n",
    "df_results = (\n",
    "    df_results.apply(lambda x: pd.Series(x.dropna().values))\n",
    "    .drop([\"file_input\", \"time_duration (secs)\", \"total_memory (bytes)\"], axis=1)\n",
    "    .dropna()\n",
    ")\n",
    "df_results"
   ]
  },
  {
   "cell_type": "code",
   "execution_count": 7,
   "id": "f2dec74d-bf23-40da-989d-3d45049e17b2",
   "metadata": {
    "execution": {
     "iopub.execute_input": "2025-04-17T22:27:29.734749Z",
     "iopub.status.busy": "2025-04-17T22:27:29.734635Z",
     "iopub.status.idle": "2025-04-17T22:27:30.918926Z",
     "shell.execute_reply": "2025-04-17T22:27:30.918684Z"
    },
    "papermill": {
     "duration": 1.188993,
     "end_time": "2025-04-17T22:27:30.919664",
     "exception": false,
     "start_time": "2025-04-17T22:27:29.730671",
     "status": "completed"
    },
    "tags": []
   },
   "outputs": [
    {
     "data": {
      "text/html": [
       "<img src=\"images/duckdb-comparisons-join-read-time.png\"/>"
      ],
      "text/plain": [
       "<IPython.core.display.Image object>"
      ]
     },
     "execution_count": 7,
     "metadata": {},
     "output_type": "execute_result"
    }
   ],
   "source": [
    "# read time chart\n",
    "fig = px.line(\n",
    "    df_results,\n",
    "    y=[\n",
    "        \"pandas_time_duration (secs)\",\n",
    "        \"duckdb_time_duration (secs)\",\n",
    "    ],\n",
    "    x=\"data_input_renamed\",\n",
    "    labels={\"data_input_renamed\": \"Input File\", \"value\": \"Seconds\"},\n",
    "    width=1300,\n",
    "    color_discrete_sequence=px.colors.qualitative.T10,\n",
    ")\n",
    "fig.update_layout(\n",
    "    legend_title_text=\"Read Time Duration\",\n",
    "    legend=dict(x=0.01, y=0.98, bgcolor=\"rgba(255,255,255,0.8)\"),\n",
    "    font=dict(\n",
    "        size=20,  # global font size\n",
    "    ),\n",
    ")\n",
    "fig.update_xaxes(range=[-0.03, 5.2])\n",
    "fig.update_traces(mode=\"lines+markers\")\n",
    "\n",
    "pio.write_image(fig, join_read_time_image)\n",
    "Image(url=join_read_time_image)"
   ]
  },
  {
   "cell_type": "code",
   "execution_count": 8,
   "id": "47984c80-edfa-4bab-87f2-3f6034ff7e84",
   "metadata": {
    "execution": {
     "iopub.execute_input": "2025-04-17T22:27:30.925355Z",
     "iopub.status.busy": "2025-04-17T22:27:30.925234Z",
     "iopub.status.idle": "2025-04-17T22:27:31.104527Z",
     "shell.execute_reply": "2025-04-17T22:27:31.104248Z"
    },
    "papermill": {
     "duration": 0.184158,
     "end_time": "2025-04-17T22:27:31.105228",
     "exception": false,
     "start_time": "2025-04-17T22:27:30.921070",
     "status": "completed"
    },
    "tags": []
   },
   "outputs": [
    {
     "data": {
      "text/html": [
       "<img src=\"images/duckdb-comparisons-join-memory-size.png\"/>"
      ],
      "text/plain": [
       "<IPython.core.display.Image object>"
      ]
     },
     "execution_count": 8,
     "metadata": {},
     "output_type": "execute_result"
    }
   ],
   "source": [
    "# memory size\n",
    "fig = px.bar(\n",
    "    df_results,\n",
    "    x=[\n",
    "        \"pandas_total_memory (bytes)\",\n",
    "        \"duckdb_total_memory (bytes)\",\n",
    "    ],\n",
    "    y=\"data_input_renamed\",\n",
    "    labels={\"data_input_renamed\": \"Input File\", \"value\": \"Bytes\"},\n",
    "    orientation=\"h\",\n",
    "    barmode=\"group\",\n",
    "    width=1300,\n",
    "    color_discrete_sequence=px.colors.qualitative.T10,\n",
    ")\n",
    "fig.update_layout(\n",
    "    legend_title_text=\"In-memory Data Size\",\n",
    "    legend=dict(x=0.58, y=0.02, bgcolor=\"rgba(255,255,255,0.8)\"),\n",
    "    font=dict(\n",
    "        size=20,  # global font size\n",
    "    ),\n",
    ")\n",
    "\n",
    "pio.write_image(fig, join_mem_size_image)\n",
    "Image(url=join_mem_size_image)"
   ]
  }
 ],
 "metadata": {
  "jupytext": {
   "formats": "ipynb,py:light"
  },
  "kernelspec": {
   "display_name": "Python 3 (ipykernel)",
   "language": "python",
   "name": "python3"
  },
  "language_info": {
   "codemirror_mode": {
    "name": "ipython",
    "version": 3
   },
   "file_extension": ".py",
   "mimetype": "text/x-python",
   "name": "python",
   "nbconvert_exporter": "python",
   "pygments_lexer": "ipython3",
   "version": "3.11.11"
  },
  "papermill": {
   "default_parameters": {},
   "duration": 25.191325,
   "end_time": "2025-04-17T22:27:31.324046",
   "environment_variables": {},
   "exception": null,
   "input_path": "duckdb_analysis.ipynb",
   "output_path": "duckdb_analysis.ipynb",
   "parameters": {},
   "start_time": "2025-04-17T22:27:06.132721",
   "version": "2.6.0"
  }
 },
 "nbformat": 4,
 "nbformat_minor": 5
}
