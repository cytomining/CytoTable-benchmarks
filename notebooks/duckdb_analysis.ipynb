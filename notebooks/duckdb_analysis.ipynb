{
 "cells": [
  {
   "cell_type": "markdown",
   "id": "9cef710a-ff78-4598-bf7b-2b9b75448c32",
   "metadata": {
    "papermill": {
     "duration": 0.004932,
     "end_time": "2025-05-14T17:08:50.925134",
     "exception": false,
     "start_time": "2025-05-14T17:08:50.920202",
     "status": "completed"
    },
    "tags": []
   },
   "source": [
    "# Why DuckDB?\n",
    "\n",
    "This notebook explores the benefits or drawbacks of using the [DuckDB](https://duckdb.org/) data joins relative to other methods such as Pandas DataFrames."
   ]
  },
  {
   "cell_type": "code",
   "execution_count": 1,
   "id": "d2e47e7d-0629-45e3-b1bd-bce07843ae4c",
   "metadata": {
    "execution": {
     "iopub.execute_input": "2025-05-14T17:08:50.936799Z",
     "iopub.status.busy": "2025-05-14T17:08:50.936010Z",
     "iopub.status.idle": "2025-05-14T17:08:51.508466Z",
     "shell.execute_reply": "2025-05-14T17:08:51.507619Z"
    },
    "papermill": {
     "duration": 0.580047,
     "end_time": "2025-05-14T17:08:51.510527",
     "exception": false,
     "start_time": "2025-05-14T17:08:50.930480",
     "status": "completed"
    },
    "tags": []
   },
   "outputs": [],
   "source": [
    "import itertools\n",
    "import json\n",
    "import pathlib\n",
    "import subprocess\n",
    "from datetime import datetime\n",
    "\n",
    "import pandas as pd\n",
    "import plotly.express as px\n",
    "import plotly.io as pio\n",
    "from IPython.display import Image\n",
    "from utilities import get_system_info"
   ]
  },
  {
   "cell_type": "code",
   "execution_count": 2,
   "id": "4be76471-2d82-4712-9b4d-1a824874538b",
   "metadata": {
    "execution": {
     "iopub.execute_input": "2025-05-14T17:08:51.521581Z",
     "iopub.status.busy": "2025-05-14T17:08:51.521117Z",
     "iopub.status.idle": "2025-05-14T17:08:51.527488Z",
     "shell.execute_reply": "2025-05-14T17:08:51.526723Z"
    },
    "papermill": {
     "duration": 0.013888,
     "end_time": "2025-05-14T17:08:51.529064",
     "exception": false,
     "start_time": "2025-05-14T17:08:51.515176",
     "status": "completed"
    },
    "tags": []
   },
   "outputs": [
    {
     "name": "stdout",
     "output_type": "stream",
     "text": [
      "\n",
      "System Information:\n",
      "Operating System: Linux\n",
      "Machine Type: x86_64\n",
      "Processor: x86_64\n",
      "CPU Cores (Logical): 16\n",
      "CPU Cores (Physical): 8\n",
      "Total RAM (GB): 62.68\n",
      "Python Version: 3.11.9\n"
     ]
    }
   ],
   "source": [
    "# show the system information\n",
    "_ = get_system_info(show_output=True)"
   ]
  },
  {
   "cell_type": "code",
   "execution_count": 3,
   "id": "8d6efd13-0dce-4baa-b779-f5ec62dc535e",
   "metadata": {
    "execution": {
     "iopub.execute_input": "2025-05-14T17:08:51.538977Z",
     "iopub.status.busy": "2025-05-14T17:08:51.538773Z",
     "iopub.status.idle": "2025-05-14T17:08:51.544889Z",
     "shell.execute_reply": "2025-05-14T17:08:51.543993Z"
    },
    "papermill": {
     "duration": 0.012347,
     "end_time": "2025-05-14T17:08:51.546019",
     "exception": false,
     "start_time": "2025-05-14T17:08:51.533672",
     "status": "completed"
    },
    "tags": []
   },
   "outputs": [],
   "source": [
    "# target file or table names\n",
    "image_dir = \"images\"\n",
    "examples_dir = \"examples\"\n",
    "join_read_time_image = f\"{image_dir}/duckdb-comparisons-join-read-time.png\"\n",
    "join_mem_size_image = f\"{image_dir}/duckdb-comparisons-join-memory-size.png\"\n",
    "example_files_list = [\n",
    "    f\"{examples_dir}/join_pandas.py\",\n",
    "    f\"{examples_dir}/join_duckdb.py\",\n",
    "]\n",
    "example_data_list = [\n",
    "    f\"{examples_dir}/data/all_cellprofiler.sqlite\",\n",
    "    f\"{examples_dir}/data/all_cellprofiler-x2.sqlite\",\n",
    "    f\"{examples_dir}/data/all_cellprofiler-x4.sqlite\",\n",
    "    f\"{examples_dir}/data/all_cellprofiler-x8.sqlite\",\n",
    "    f\"{examples_dir}/data/all_cellprofiler-x16.sqlite\",\n",
    "    f\"{examples_dir}/data/all_cellprofiler-x32.sqlite\",\n",
    "]\n",
    "# format for memray time strings\n",
    "tformat = \"%Y-%m-%d %H:%M:%S.%f%z\""
   ]
  },
  {
   "cell_type": "code",
   "execution_count": 4,
   "id": "742e91b0-ef13-4199-a252-77695a2b9650",
   "metadata": {
    "execution": {
     "iopub.execute_input": "2025-05-14T17:08:51.554964Z",
     "iopub.status.busy": "2025-05-14T17:08:51.554753Z",
     "iopub.status.idle": "2025-05-14T17:08:53.289653Z",
     "shell.execute_reply": "2025-05-14T17:08:53.288759Z"
    },
    "papermill": {
     "duration": 1.741537,
     "end_time": "2025-05-14T17:08:53.291136",
     "exception": false,
     "start_time": "2025-05-14T17:08:51.549599",
     "status": "completed"
    },
    "tags": []
   },
   "outputs": [],
   "source": [
    "# avoid a \"cold start\" for tested packages by using them before benchmarks\n",
    "for example_file in example_files_list:\n",
    "    run = subprocess.run(\n",
    "        [\"python\", example_file, example_data_list[0]],\n",
    "        capture_output=True,\n",
    "    )"
   ]
  },
  {
   "cell_type": "code",
   "execution_count": 5,
   "id": "a33736e4-306b-45c4-affe-cef6e20eeddf",
   "metadata": {
    "execution": {
     "iopub.execute_input": "2025-05-14T17:08:53.301311Z",
     "iopub.status.busy": "2025-05-14T17:08:53.300632Z",
     "iopub.status.idle": "2025-05-14T17:09:45.313025Z",
     "shell.execute_reply": "2025-05-14T17:09:45.312133Z"
    },
    "papermill": {
     "duration": 52.024412,
     "end_time": "2025-05-14T17:09:45.318911",
     "exception": false,
     "start_time": "2025-05-14T17:08:53.294499",
     "status": "completed"
    },
    "tags": []
   },
   "outputs": [
    {
     "data": {
      "text/html": [
       "<div>\n",
       "<style scoped>\n",
       "    .dataframe tbody tr th:only-of-type {\n",
       "        vertical-align: middle;\n",
       "    }\n",
       "\n",
       "    .dataframe tbody tr th {\n",
       "        vertical-align: top;\n",
       "    }\n",
       "\n",
       "    .dataframe thead th {\n",
       "        text-align: right;\n",
       "    }\n",
       "</style>\n",
       "<table border=\"1\" class=\"dataframe\">\n",
       "  <thead>\n",
       "    <tr style=\"text-align: right;\">\n",
       "      <th></th>\n",
       "      <th>file_input</th>\n",
       "      <th>data_input</th>\n",
       "      <th>time_duration (secs)</th>\n",
       "      <th>total_memory (bytes)</th>\n",
       "    </tr>\n",
       "  </thead>\n",
       "  <tbody>\n",
       "    <tr>\n",
       "      <th>0</th>\n",
       "      <td>join_pandas.py</td>\n",
       "      <td>all_cellprofiler.sqlite</td>\n",
       "      <td>2.179</td>\n",
       "      <td>268382125</td>\n",
       "    </tr>\n",
       "    <tr>\n",
       "      <th>1</th>\n",
       "      <td>join_pandas.py</td>\n",
       "      <td>all_cellprofiler-x2.sqlite</td>\n",
       "      <td>2.267</td>\n",
       "      <td>334773443</td>\n",
       "    </tr>\n",
       "    <tr>\n",
       "      <th>2</th>\n",
       "      <td>join_pandas.py</td>\n",
       "      <td>all_cellprofiler-x4.sqlite</td>\n",
       "      <td>2.490</td>\n",
       "      <td>461037907</td>\n",
       "    </tr>\n",
       "    <tr>\n",
       "      <th>3</th>\n",
       "      <td>join_pandas.py</td>\n",
       "      <td>all_cellprofiler-x8.sqlite</td>\n",
       "      <td>2.881</td>\n",
       "      <td>715631223</td>\n",
       "    </tr>\n",
       "    <tr>\n",
       "      <th>4</th>\n",
       "      <td>join_pandas.py</td>\n",
       "      <td>all_cellprofiler-x16.sqlite</td>\n",
       "      <td>3.697</td>\n",
       "      <td>1223508623</td>\n",
       "    </tr>\n",
       "    <tr>\n",
       "      <th>5</th>\n",
       "      <td>join_pandas.py</td>\n",
       "      <td>all_cellprofiler-x32.sqlite</td>\n",
       "      <td>5.632</td>\n",
       "      <td>2239551247</td>\n",
       "    </tr>\n",
       "    <tr>\n",
       "      <th>6</th>\n",
       "      <td>join_duckdb.py</td>\n",
       "      <td>all_cellprofiler.sqlite</td>\n",
       "      <td>3.101</td>\n",
       "      <td>1264980644</td>\n",
       "    </tr>\n",
       "    <tr>\n",
       "      <th>7</th>\n",
       "      <td>join_duckdb.py</td>\n",
       "      <td>all_cellprofiler-x2.sqlite</td>\n",
       "      <td>2.839</td>\n",
       "      <td>1235699148</td>\n",
       "    </tr>\n",
       "    <tr>\n",
       "      <th>8</th>\n",
       "      <td>join_duckdb.py</td>\n",
       "      <td>all_cellprofiler-x4.sqlite</td>\n",
       "      <td>3.205</td>\n",
       "      <td>1286759098</td>\n",
       "    </tr>\n",
       "    <tr>\n",
       "      <th>9</th>\n",
       "      <td>join_duckdb.py</td>\n",
       "      <td>all_cellprofiler-x8.sqlite</td>\n",
       "      <td>3.260</td>\n",
       "      <td>1338241200</td>\n",
       "    </tr>\n",
       "    <tr>\n",
       "      <th>10</th>\n",
       "      <td>join_duckdb.py</td>\n",
       "      <td>all_cellprofiler-x16.sqlite</td>\n",
       "      <td>3.407</td>\n",
       "      <td>1469775949</td>\n",
       "    </tr>\n",
       "    <tr>\n",
       "      <th>11</th>\n",
       "      <td>join_duckdb.py</td>\n",
       "      <td>all_cellprofiler-x32.sqlite</td>\n",
       "      <td>3.815</td>\n",
       "      <td>1878787847</td>\n",
       "    </tr>\n",
       "  </tbody>\n",
       "</table>\n",
       "</div>"
      ],
      "text/plain": [
       "        file_input                   data_input  time_duration (secs)  \\\n",
       "0   join_pandas.py      all_cellprofiler.sqlite                 2.179   \n",
       "1   join_pandas.py   all_cellprofiler-x2.sqlite                 2.267   \n",
       "2   join_pandas.py   all_cellprofiler-x4.sqlite                 2.490   \n",
       "3   join_pandas.py   all_cellprofiler-x8.sqlite                 2.881   \n",
       "4   join_pandas.py  all_cellprofiler-x16.sqlite                 3.697   \n",
       "5   join_pandas.py  all_cellprofiler-x32.sqlite                 5.632   \n",
       "6   join_duckdb.py      all_cellprofiler.sqlite                 3.101   \n",
       "7   join_duckdb.py   all_cellprofiler-x2.sqlite                 2.839   \n",
       "8   join_duckdb.py   all_cellprofiler-x4.sqlite                 3.205   \n",
       "9   join_duckdb.py   all_cellprofiler-x8.sqlite                 3.260   \n",
       "10  join_duckdb.py  all_cellprofiler-x16.sqlite                 3.407   \n",
       "11  join_duckdb.py  all_cellprofiler-x32.sqlite                 3.815   \n",
       "\n",
       "    total_memory (bytes)  \n",
       "0              268382125  \n",
       "1              334773443  \n",
       "2              461037907  \n",
       "3              715631223  \n",
       "4             1223508623  \n",
       "5             2239551247  \n",
       "6             1264980644  \n",
       "7             1235699148  \n",
       "8             1286759098  \n",
       "9             1338241200  \n",
       "10            1469775949  \n",
       "11            1878787847  "
      ]
     },
     "execution_count": 5,
     "metadata": {},
     "output_type": "execute_result"
    }
   ],
   "source": [
    "# result list for storing data\n",
    "results = []\n",
    "\n",
    "# loop for iterating over examples and example data\n",
    "# and gathering data about operations on them\n",
    "for example_file, example_data in itertools.product(\n",
    "    example_files_list,\n",
    "    example_data_list,\n",
    "):\n",
    "    target_bin = f\"{example_file}_with_{example_data.replace(f'{examples_dir}/data/', '')}.memray.bin\"\n",
    "    target_json = f\"{target_bin}.json\"\n",
    "    memray_run = subprocess.run(\n",
    "        [\n",
    "            \"memray\",\n",
    "            \"run\",\n",
    "            \"--output\",\n",
    "            target_bin,\n",
    "            \"--force\",\n",
    "            example_file,\n",
    "            example_data,\n",
    "        ],\n",
    "        capture_output=True,\n",
    "        check=True,\n",
    "    )\n",
    "\n",
    "    memray_stats = subprocess.run(\n",
    "        [\n",
    "            \"memray\",\n",
    "            \"stats\",\n",
    "            \"--json\",\n",
    "            \"--output\",\n",
    "            target_json,\n",
    "            \"--force\",\n",
    "            target_bin,\n",
    "        ],\n",
    "        capture_output=True,\n",
    "        check=True,\n",
    "    )\n",
    "\n",
    "    # open the json data\n",
    "    with open(target_json) as memray_json_file:\n",
    "        memray_data = json.load(memray_json_file)\n",
    "\n",
    "    # append data to the result list\n",
    "    results.append(\n",
    "        {\n",
    "            # general information about the dataframe\n",
    "            \"file_input\": example_file.replace(f\"{examples_dir}/\", \"\"),\n",
    "            \"data_input\": example_data.replace(f\"{examples_dir}/data/\", \"\"),\n",
    "            # information about pandas\n",
    "            \"time_duration (secs)\": (\n",
    "                datetime.strptime(memray_data[\"metadata\"][\"end_time\"], tformat)\n",
    "                - datetime.strptime(memray_data[\"metadata\"][\"start_time\"], tformat)\n",
    "            ).total_seconds(),\n",
    "            \"total_memory (bytes)\": memray_data[\"total_bytes_allocated\"],\n",
    "        }\n",
    "    )\n",
    "\n",
    "    # cleanup\n",
    "    pathlib.Path(target_bin).unlink(missing_ok=True)\n",
    "    pathlib.Path(target_json).unlink(missing_ok=True)\n",
    "\n",
    "df_results = pd.DataFrame(results)\n",
    "df_results"
   ]
  },
  {
   "cell_type": "code",
   "execution_count": 6,
   "id": "6f96b829-7d8f-438d-9f65-62f62ec264b3",
   "metadata": {
    "execution": {
     "iopub.execute_input": "2025-05-14T17:09:45.329421Z",
     "iopub.status.busy": "2025-05-14T17:09:45.328826Z",
     "iopub.status.idle": "2025-05-14T17:09:45.363548Z",
     "shell.execute_reply": "2025-05-14T17:09:45.362522Z"
    },
    "papermill": {
     "duration": 0.041861,
     "end_time": "2025-05-14T17:09:45.365371",
     "exception": false,
     "start_time": "2025-05-14T17:09:45.323510",
     "status": "completed"
    },
    "tags": []
   },
   "outputs": [
    {
     "data": {
      "text/html": [
       "<div>\n",
       "<style scoped>\n",
       "    .dataframe tbody tr th:only-of-type {\n",
       "        vertical-align: middle;\n",
       "    }\n",
       "\n",
       "    .dataframe tbody tr th {\n",
       "        vertical-align: top;\n",
       "    }\n",
       "\n",
       "    .dataframe thead th {\n",
       "        text-align: right;\n",
       "    }\n",
       "</style>\n",
       "<table border=\"1\" class=\"dataframe\">\n",
       "  <thead>\n",
       "    <tr style=\"text-align: right;\">\n",
       "      <th></th>\n",
       "      <th>data_input</th>\n",
       "      <th>data_input_renamed</th>\n",
       "      <th>pandas_time_duration (secs)</th>\n",
       "      <th>pandas_total_memory (bytes)</th>\n",
       "      <th>duckdb_time_duration (secs)</th>\n",
       "      <th>duckdb_total_memory (bytes)</th>\n",
       "    </tr>\n",
       "  </thead>\n",
       "  <tbody>\n",
       "    <tr>\n",
       "      <th>0</th>\n",
       "      <td>all_cellprofiler.sqlite</td>\n",
       "      <td>input.sqlite</td>\n",
       "      <td>2.179</td>\n",
       "      <td>2.683821e+08</td>\n",
       "      <td>3.101</td>\n",
       "      <td>1.264981e+09</td>\n",
       "    </tr>\n",
       "    <tr>\n",
       "      <th>1</th>\n",
       "      <td>all_cellprofiler-x2.sqlite</td>\n",
       "      <td>input-x2.sqlite</td>\n",
       "      <td>2.267</td>\n",
       "      <td>3.347734e+08</td>\n",
       "      <td>2.839</td>\n",
       "      <td>1.235699e+09</td>\n",
       "    </tr>\n",
       "    <tr>\n",
       "      <th>2</th>\n",
       "      <td>all_cellprofiler-x4.sqlite</td>\n",
       "      <td>input-x4.sqlite</td>\n",
       "      <td>2.490</td>\n",
       "      <td>4.610379e+08</td>\n",
       "      <td>3.205</td>\n",
       "      <td>1.286759e+09</td>\n",
       "    </tr>\n",
       "    <tr>\n",
       "      <th>3</th>\n",
       "      <td>all_cellprofiler-x8.sqlite</td>\n",
       "      <td>input-x8.sqlite</td>\n",
       "      <td>2.881</td>\n",
       "      <td>7.156312e+08</td>\n",
       "      <td>3.260</td>\n",
       "      <td>1.338241e+09</td>\n",
       "    </tr>\n",
       "    <tr>\n",
       "      <th>4</th>\n",
       "      <td>all_cellprofiler-x16.sqlite</td>\n",
       "      <td>input-x16.sqlite</td>\n",
       "      <td>3.697</td>\n",
       "      <td>1.223509e+09</td>\n",
       "      <td>3.407</td>\n",
       "      <td>1.469776e+09</td>\n",
       "    </tr>\n",
       "    <tr>\n",
       "      <th>5</th>\n",
       "      <td>all_cellprofiler-x32.sqlite</td>\n",
       "      <td>input-x32.sqlite</td>\n",
       "      <td>5.632</td>\n",
       "      <td>2.239551e+09</td>\n",
       "      <td>3.815</td>\n",
       "      <td>1.878788e+09</td>\n",
       "    </tr>\n",
       "  </tbody>\n",
       "</table>\n",
       "</div>"
      ],
      "text/plain": [
       "                    data_input data_input_renamed  \\\n",
       "0      all_cellprofiler.sqlite       input.sqlite   \n",
       "1   all_cellprofiler-x2.sqlite    input-x2.sqlite   \n",
       "2   all_cellprofiler-x4.sqlite    input-x4.sqlite   \n",
       "3   all_cellprofiler-x8.sqlite    input-x8.sqlite   \n",
       "4  all_cellprofiler-x16.sqlite   input-x16.sqlite   \n",
       "5  all_cellprofiler-x32.sqlite   input-x32.sqlite   \n",
       "\n",
       "   pandas_time_duration (secs)  pandas_total_memory (bytes)  \\\n",
       "0                        2.179                 2.683821e+08   \n",
       "1                        2.267                 3.347734e+08   \n",
       "2                        2.490                 4.610379e+08   \n",
       "3                        2.881                 7.156312e+08   \n",
       "4                        3.697                 1.223509e+09   \n",
       "5                        5.632                 2.239551e+09   \n",
       "\n",
       "   duckdb_time_duration (secs)  duckdb_total_memory (bytes)  \n",
       "0                        3.101                 1.264981e+09  \n",
       "1                        2.839                 1.235699e+09  \n",
       "2                        3.205                 1.286759e+09  \n",
       "3                        3.260                 1.338241e+09  \n",
       "4                        3.407                 1.469776e+09  \n",
       "5                        3.815                 1.878788e+09  "
      ]
     },
     "execution_count": 6,
     "metadata": {},
     "output_type": "execute_result"
    }
   ],
   "source": [
    "df_results[\"data_input_renamed\"] = df_results[\"data_input\"].str.replace(\n",
    "    \"all_cellprofiler\", \"input\"\n",
    ")\n",
    "df_results[\"pandas_time_duration (secs)\"] = df_results[\n",
    "    df_results[\"file_input\"] == \"join_pandas.py\"\n",
    "][\"time_duration (secs)\"]\n",
    "df_results[\"pandas_total_memory (bytes)\"] = df_results[\n",
    "    df_results[\"file_input\"] == \"join_pandas.py\"\n",
    "][\"total_memory (bytes)\"]\n",
    "df_results[\"duckdb_time_duration (secs)\"] = df_results[\n",
    "    df_results[\"file_input\"] == \"join_duckdb.py\"\n",
    "][\"time_duration (secs)\"]\n",
    "df_results[\"duckdb_total_memory (bytes)\"] = df_results[\n",
    "    df_results[\"file_input\"] == \"join_duckdb.py\"\n",
    "][\"total_memory (bytes)\"]\n",
    "df_results = (\n",
    "    df_results.apply(lambda x: pd.Series(x.dropna().values))\n",
    "    .drop([\"file_input\", \"time_duration (secs)\", \"total_memory (bytes)\"], axis=1)\n",
    "    .dropna()\n",
    ")\n",
    "df_results"
   ]
  },
  {
   "cell_type": "code",
   "execution_count": 7,
   "id": "f2dec74d-bf23-40da-989d-3d45049e17b2",
   "metadata": {
    "execution": {
     "iopub.execute_input": "2025-05-14T17:09:45.376446Z",
     "iopub.status.busy": "2025-05-14T17:09:45.375886Z",
     "iopub.status.idle": "2025-05-14T17:09:46.682084Z",
     "shell.execute_reply": "2025-05-14T17:09:46.681044Z"
    },
    "papermill": {
     "duration": 1.312852,
     "end_time": "2025-05-14T17:09:46.683082",
     "exception": false,
     "start_time": "2025-05-14T17:09:45.370230",
     "status": "completed"
    },
    "tags": []
   },
   "outputs": [
    {
     "data": {
      "text/html": [
       "<img src=\"images/duckdb-comparisons-join-read-time.png\"/>"
      ],
      "text/plain": [
       "<IPython.core.display.Image object>"
      ]
     },
     "execution_count": 7,
     "metadata": {},
     "output_type": "execute_result"
    }
   ],
   "source": [
    "# read time chart\n",
    "fig = px.line(\n",
    "    df_results,\n",
    "    y=[\n",
    "        \"pandas_time_duration (secs)\",\n",
    "        \"duckdb_time_duration (secs)\",\n",
    "    ],\n",
    "    x=\"data_input_renamed\",\n",
    "    labels={\"data_input_renamed\": \"Input File\", \"value\": \"Seconds\"},\n",
    "    width=1300,\n",
    "    color_discrete_sequence=px.colors.qualitative.T10,\n",
    ")\n",
    "fig.update_layout(\n",
    "    legend_title_text=\"Read Time Duration\",\n",
    "    legend=dict(x=0.01, y=0.98, bgcolor=\"rgba(255,255,255,0.8)\"),\n",
    "    font=dict(\n",
    "        size=20,  # global font size\n",
    "    ),\n",
    ")\n",
    "fig.update_xaxes(range=[-0.03, 5.2])\n",
    "fig.update_traces(mode=\"lines+markers\")\n",
    "\n",
    "pio.write_image(fig, join_read_time_image)\n",
    "Image(url=join_read_time_image)"
   ]
  },
  {
   "cell_type": "code",
   "execution_count": 8,
   "id": "47984c80-edfa-4bab-87f2-3f6034ff7e84",
   "metadata": {
    "execution": {
     "iopub.execute_input": "2025-05-14T17:09:46.690106Z",
     "iopub.status.busy": "2025-05-14T17:09:46.689727Z",
     "iopub.status.idle": "2025-05-14T17:09:46.848944Z",
     "shell.execute_reply": "2025-05-14T17:09:46.848164Z"
    },
    "papermill": {
     "duration": 0.163838,
     "end_time": "2025-05-14T17:09:46.850046",
     "exception": false,
     "start_time": "2025-05-14T17:09:46.686208",
     "status": "completed"
    },
    "tags": []
   },
   "outputs": [
    {
     "data": {
      "text/html": [
       "<img src=\"images/duckdb-comparisons-join-memory-size.png\"/>"
      ],
      "text/plain": [
       "<IPython.core.display.Image object>"
      ]
     },
     "execution_count": 8,
     "metadata": {},
     "output_type": "execute_result"
    }
   ],
   "source": [
    "# memory size\n",
    "fig = px.bar(\n",
    "    df_results,\n",
    "    x=[\n",
    "        \"pandas_total_memory (bytes)\",\n",
    "        \"duckdb_total_memory (bytes)\",\n",
    "    ],\n",
    "    y=\"data_input_renamed\",\n",
    "    labels={\"data_input_renamed\": \"Input File\", \"value\": \"Bytes\"},\n",
    "    orientation=\"h\",\n",
    "    barmode=\"group\",\n",
    "    width=1300,\n",
    "    color_discrete_sequence=px.colors.qualitative.T10,\n",
    ")\n",
    "fig.update_layout(\n",
    "    legend_title_text=\"In-memory Data Size\",\n",
    "    legend=dict(x=0.58, y=0.02, bgcolor=\"rgba(255,255,255,0.8)\"),\n",
    "    font=dict(\n",
    "        size=20,  # global font size\n",
    "    ),\n",
    ")\n",
    "\n",
    "pio.write_image(fig, join_mem_size_image)\n",
    "Image(url=join_mem_size_image)"
   ]
  }
 ],
 "metadata": {
  "jupytext": {
   "formats": "ipynb,py:light"
  },
  "kernelspec": {
   "display_name": "Python 3 (ipykernel)",
   "language": "python",
   "name": "python3"
  },
  "language_info": {
   "codemirror_mode": {
    "name": "ipython",
    "version": 3
   },
   "file_extension": ".py",
   "mimetype": "text/x-python",
   "name": "python",
   "nbconvert_exporter": "python",
   "pygments_lexer": "ipython3",
   "version": "3.11.9"
  },
  "papermill": {
   "default_parameters": {},
   "duration": 59.515217,
   "end_time": "2025-05-14T17:09:49.472130",
   "environment_variables": {},
   "exception": null,
   "input_path": "duckdb_analysis.ipynb",
   "output_path": "duckdb_analysis.ipynb",
   "parameters": {},
   "start_time": "2025-05-14T17:08:49.956913",
   "version": "2.6.0"
  }
 },
 "nbformat": 4,
 "nbformat_minor": 5
}