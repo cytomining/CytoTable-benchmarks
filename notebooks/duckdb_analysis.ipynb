{
 "cells": [
  {
   "cell_type": "markdown",
   "id": "9cef710a-ff78-4598-bf7b-2b9b75448c32",
   "metadata": {
    "papermill": {
     "duration": 0.004765,
     "end_time": "2025-04-17T22:55:00.297624",
     "exception": false,
     "start_time": "2025-04-17T22:55:00.292859",
     "status": "completed"
    },
    "tags": []
   },
   "source": [
    "# Why DuckDB?\n",
    "\n",
    "This notebook explores the benefits or drawbacks of using the [DuckDB](https://duckdb.org/) data joins relative to other methods such as Pandas DataFrames."
   ]
  },
  {
   "cell_type": "code",
   "execution_count": 1,
   "id": "d2e47e7d-0629-45e3-b1bd-bce07843ae4c",
   "metadata": {
    "execution": {
     "iopub.execute_input": "2025-04-17T22:55:00.308736Z",
     "iopub.status.busy": "2025-04-17T22:55:00.307953Z",
     "iopub.status.idle": "2025-04-17T22:55:00.915972Z",
     "shell.execute_reply": "2025-04-17T22:55:00.914904Z"
    },
    "papermill": {
     "duration": 0.615158,
     "end_time": "2025-04-17T22:55:00.918107",
     "exception": false,
     "start_time": "2025-04-17T22:55:00.302949",
     "status": "completed"
    },
    "tags": []
   },
   "outputs": [],
   "source": [
    "import io\n",
    "import itertools\n",
    "import json\n",
    "import pathlib\n",
    "import subprocess\n",
    "import tokenize\n",
    "from datetime import datetime\n",
    "\n",
    "import pandas as pd\n",
    "import plotly.express as px\n",
    "import plotly.io as pio\n",
    "from IPython.display import Image\n",
    "from utilities import get_system_info"
   ]
  },
  {
   "cell_type": "code",
   "execution_count": 2,
   "id": "4be76471-2d82-4712-9b4d-1a824874538b",
   "metadata": {
    "execution": {
     "iopub.execute_input": "2025-04-17T22:55:00.929241Z",
     "iopub.status.busy": "2025-04-17T22:55:00.928917Z",
     "iopub.status.idle": "2025-04-17T22:55:00.935631Z",
     "shell.execute_reply": "2025-04-17T22:55:00.934851Z"
    },
    "papermill": {
     "duration": 0.014383,
     "end_time": "2025-04-17T22:55:00.937227",
     "exception": false,
     "start_time": "2025-04-17T22:55:00.922844",
     "status": "completed"
    },
    "tags": []
   },
   "outputs": [
    {
     "name": "stdout",
     "output_type": "stream",
     "text": [
      "\n",
      "System Information:\n",
      "Operating System: Linux\n",
      "Machine Type: x86_64\n",
      "Processor: x86_64\n",
      "CPU Cores (Logical): 16\n",
      "CPU Cores (Physical): 8\n",
      "Total RAM (GB): 62.68\n",
      "Python Version: 3.11.9\n"
     ]
    }
   ],
   "source": [
    "# show the system information\n",
    "_ = get_system_info(show_output=True)"
   ]
  },
  {
   "cell_type": "code",
   "execution_count": 3,
   "id": "8d6efd13-0dce-4baa-b779-f5ec62dc535e",
   "metadata": {
    "execution": {
     "iopub.execute_input": "2025-04-17T22:55:00.947107Z",
     "iopub.status.busy": "2025-04-17T22:55:00.946885Z",
     "iopub.status.idle": "2025-04-17T22:55:00.952641Z",
     "shell.execute_reply": "2025-04-17T22:55:00.951737Z"
    },
    "papermill": {
     "duration": 0.012525,
     "end_time": "2025-04-17T22:55:00.954419",
     "exception": false,
     "start_time": "2025-04-17T22:55:00.941894",
     "status": "completed"
    },
    "tags": []
   },
   "outputs": [],
   "source": [
    "# target file or table names\n",
    "image_dir = \"images\"\n",
    "examples_dir = \"examples\"\n",
    "join_read_time_image = f\"{image_dir}/duckdb-comparisons-join-read-time.png\"\n",
    "join_mem_size_image = f\"{image_dir}/duckdb-comparisons-join-memory-size.png\"\n",
    "example_files_list = [\n",
    "    f\"{examples_dir}/join_pandas.py\",\n",
    "    f\"{examples_dir}/join_duckdb.py\",\n",
    "]\n",
    "example_data_list = [\n",
    "    f\"{examples_dir}/data/all_cellprofiler.sqlite\",\n",
    "    f\"{examples_dir}/data/all_cellprofiler-x2.sqlite\",\n",
    "    f\"{examples_dir}/data/all_cellprofiler-x4.sqlite\",\n",
    "    f\"{examples_dir}/data/all_cellprofiler-x8.sqlite\",\n",
    "    f\"{examples_dir}/data/all_cellprofiler-x16.sqlite\",\n",
    "    f\"{examples_dir}/data/all_cellprofiler-x32.sqlite\",\n",
    "]\n",
    "# format for memray time strings\n",
    "tformat = \"%Y-%m-%d %H:%M:%S.%f%z\""
   ]
  },
  {
   "cell_type": "code",
   "execution_count": 4,
   "id": "742e91b0-ef13-4199-a252-77695a2b9650",
   "metadata": {
    "execution": {
     "iopub.execute_input": "2025-04-17T22:55:00.964831Z",
     "iopub.status.busy": "2025-04-17T22:55:00.964474Z",
     "iopub.status.idle": "2025-04-17T22:55:02.735183Z",
     "shell.execute_reply": "2025-04-17T22:55:02.734326Z"
    },
    "papermill": {
     "duration": 1.778086,
     "end_time": "2025-04-17T22:55:02.737167",
     "exception": false,
     "start_time": "2025-04-17T22:55:00.959081",
     "status": "completed"
    },
    "tags": []
   },
   "outputs": [],
   "source": [
    "# avoid a \"cold start\" for tested packages by using them before benchmarks\n",
    "for example_file in example_files_list:\n",
    "    run = subprocess.run(\n",
    "        [\"python\", example_file, example_data_list[0]],\n",
    "        capture_output=True,\n",
    "    )"
   ]
  },
  {
   "cell_type": "code",
   "execution_count": 5,
   "id": "a33736e4-306b-45c4-affe-cef6e20eeddf",
   "metadata": {
    "execution": {
     "iopub.execute_input": "2025-04-17T22:55:02.748527Z",
     "iopub.status.busy": "2025-04-17T22:55:02.748074Z",
     "iopub.status.idle": "2025-04-17T22:55:54.192385Z",
     "shell.execute_reply": "2025-04-17T22:55:54.191550Z"
    },
    "papermill": {
     "duration": 51.456039,
     "end_time": "2025-04-17T22:55:54.198079",
     "exception": false,
     "start_time": "2025-04-17T22:55:02.742040",
     "status": "completed"
    },
    "tags": []
   },
   "outputs": [
    {
     "data": {
      "text/html": [
       "<div>\n",
       "<style scoped>\n",
       "    .dataframe tbody tr th:only-of-type {\n",
       "        vertical-align: middle;\n",
       "    }\n",
       "\n",
       "    .dataframe tbody tr th {\n",
       "        vertical-align: top;\n",
       "    }\n",
       "\n",
       "    .dataframe thead th {\n",
       "        text-align: right;\n",
       "    }\n",
       "</style>\n",
       "<table border=\"1\" class=\"dataframe\">\n",
       "  <thead>\n",
       "    <tr style=\"text-align: right;\">\n",
       "      <th></th>\n",
       "      <th>file_input</th>\n",
       "      <th>data_input</th>\n",
       "      <th>time_duration (secs)</th>\n",
       "      <th>total_memory (bytes)</th>\n",
       "    </tr>\n",
       "  </thead>\n",
       "  <tbody>\n",
       "    <tr>\n",
       "      <th>0</th>\n",
       "      <td>join_pandas.py</td>\n",
       "      <td>all_cellprofiler.sqlite</td>\n",
       "      <td>2.224</td>\n",
       "      <td>268384221</td>\n",
       "    </tr>\n",
       "    <tr>\n",
       "      <th>1</th>\n",
       "      <td>join_pandas.py</td>\n",
       "      <td>all_cellprofiler-x2.sqlite</td>\n",
       "      <td>2.336</td>\n",
       "      <td>334775539</td>\n",
       "    </tr>\n",
       "    <tr>\n",
       "      <th>2</th>\n",
       "      <td>join_pandas.py</td>\n",
       "      <td>all_cellprofiler-x4.sqlite</td>\n",
       "      <td>2.530</td>\n",
       "      <td>458942851</td>\n",
       "    </tr>\n",
       "    <tr>\n",
       "      <th>3</th>\n",
       "      <td>join_pandas.py</td>\n",
       "      <td>all_cellprofiler-x8.sqlite</td>\n",
       "      <td>2.979</td>\n",
       "      <td>713536167</td>\n",
       "    </tr>\n",
       "    <tr>\n",
       "      <th>4</th>\n",
       "      <td>join_pandas.py</td>\n",
       "      <td>all_cellprofiler-x16.sqlite</td>\n",
       "      <td>3.803</td>\n",
       "      <td>1223510719</td>\n",
       "    </tr>\n",
       "    <tr>\n",
       "      <th>5</th>\n",
       "      <td>join_pandas.py</td>\n",
       "      <td>all_cellprofiler-x32.sqlite</td>\n",
       "      <td>5.813</td>\n",
       "      <td>2239553343</td>\n",
       "    </tr>\n",
       "    <tr>\n",
       "      <th>6</th>\n",
       "      <td>join_duckdb.py</td>\n",
       "      <td>all_cellprofiler.sqlite</td>\n",
       "      <td>2.886</td>\n",
       "      <td>1241381835</td>\n",
       "    </tr>\n",
       "    <tr>\n",
       "      <th>7</th>\n",
       "      <td>join_duckdb.py</td>\n",
       "      <td>all_cellprofiler-x2.sqlite</td>\n",
       "      <td>2.829</td>\n",
       "      <td>1303649388</td>\n",
       "    </tr>\n",
       "    <tr>\n",
       "      <th>8</th>\n",
       "      <td>join_duckdb.py</td>\n",
       "      <td>all_cellprofiler-x4.sqlite</td>\n",
       "      <td>2.939</td>\n",
       "      <td>1303564780</td>\n",
       "    </tr>\n",
       "    <tr>\n",
       "      <th>9</th>\n",
       "      <td>join_duckdb.py</td>\n",
       "      <td>all_cellprofiler-x8.sqlite</td>\n",
       "      <td>3.329</td>\n",
       "      <td>1283848423</td>\n",
       "    </tr>\n",
       "    <tr>\n",
       "      <th>10</th>\n",
       "      <td>join_duckdb.py</td>\n",
       "      <td>all_cellprofiler-x16.sqlite</td>\n",
       "      <td>3.148</td>\n",
       "      <td>1459833223</td>\n",
       "    </tr>\n",
       "    <tr>\n",
       "      <th>11</th>\n",
       "      <td>join_duckdb.py</td>\n",
       "      <td>all_cellprofiler-x32.sqlite</td>\n",
       "      <td>3.591</td>\n",
       "      <td>1873251232</td>\n",
       "    </tr>\n",
       "  </tbody>\n",
       "</table>\n",
       "</div>"
      ],
      "text/plain": [
       "        file_input                   data_input  time_duration (secs)  \\\n",
       "0   join_pandas.py      all_cellprofiler.sqlite                 2.224   \n",
       "1   join_pandas.py   all_cellprofiler-x2.sqlite                 2.336   \n",
       "2   join_pandas.py   all_cellprofiler-x4.sqlite                 2.530   \n",
       "3   join_pandas.py   all_cellprofiler-x8.sqlite                 2.979   \n",
       "4   join_pandas.py  all_cellprofiler-x16.sqlite                 3.803   \n",
       "5   join_pandas.py  all_cellprofiler-x32.sqlite                 5.813   \n",
       "6   join_duckdb.py      all_cellprofiler.sqlite                 2.886   \n",
       "7   join_duckdb.py   all_cellprofiler-x2.sqlite                 2.829   \n",
       "8   join_duckdb.py   all_cellprofiler-x4.sqlite                 2.939   \n",
       "9   join_duckdb.py   all_cellprofiler-x8.sqlite                 3.329   \n",
       "10  join_duckdb.py  all_cellprofiler-x16.sqlite                 3.148   \n",
       "11  join_duckdb.py  all_cellprofiler-x32.sqlite                 3.591   \n",
       "\n",
       "    total_memory (bytes)  \n",
       "0              268384221  \n",
       "1              334775539  \n",
       "2              458942851  \n",
       "3              713536167  \n",
       "4             1223510719  \n",
       "5             2239553343  \n",
       "6             1241381835  \n",
       "7             1303649388  \n",
       "8             1303564780  \n",
       "9             1283848423  \n",
       "10            1459833223  \n",
       "11            1873251232  "
      ]
     },
     "execution_count": 5,
     "metadata": {},
     "output_type": "execute_result"
    }
   ],
   "source": [
    "# result list for storing data\n",
    "results = []\n",
    "\n",
    "# loop for iterating over examples and example data\n",
    "# and gathering data about operations on them\n",
    "for example_file, example_data in itertools.product(\n",
    "    example_files_list,\n",
    "    example_data_list,\n",
    "):\n",
    "    target_bin = f\"{example_file}_with_{example_data.replace(f'{examples_dir}/data/','')}.memray.bin\"\n",
    "    target_json = f\"{target_bin}.json\"\n",
    "    memray_run = subprocess.run(\n",
    "        [\n",
    "            \"memray\",\n",
    "            \"run\",\n",
    "            \"--output\",\n",
    "            target_bin,\n",
    "            \"--force\",\n",
    "            example_file,\n",
    "            example_data,\n",
    "        ],\n",
    "        capture_output=True,\n",
    "        check=True,\n",
    "    )\n",
    "\n",
    "    memray_stats = subprocess.run(\n",
    "        [\n",
    "            \"memray\",\n",
    "            \"stats\",\n",
    "            \"--json\",\n",
    "            \"--output\",\n",
    "            target_json,\n",
    "            \"--force\",\n",
    "            target_bin,\n",
    "        ],\n",
    "        capture_output=True,\n",
    "        check=True,\n",
    "    )\n",
    "\n",
    "    # open the json data\n",
    "    with open(target_json) as memray_json_file:\n",
    "        memray_data = json.load(memray_json_file)\n",
    "\n",
    "    # append data to the result list\n",
    "    results.append(\n",
    "        {\n",
    "            # general information about the dataframe\n",
    "            \"file_input\": example_file.replace(f\"{examples_dir}/\", \"\"),\n",
    "            \"data_input\": example_data.replace(f\"{examples_dir}/data/\", \"\"),\n",
    "            # information about pandas\n",
    "            \"time_duration (secs)\": (\n",
    "                datetime.strptime(memray_data[\"metadata\"][\"end_time\"], tformat)\n",
    "                - datetime.strptime(memray_data[\"metadata\"][\"start_time\"], tformat)\n",
    "            ).total_seconds(),\n",
    "            \"total_memory (bytes)\": memray_data[\"total_bytes_allocated\"],\n",
    "        }\n",
    "    )\n",
    "\n",
    "    # cleanup\n",
    "    pathlib.Path(target_bin).unlink(missing_ok=True)\n",
    "    pathlib.Path(target_json).unlink(missing_ok=True)\n",
    "\n",
    "df_results = pd.DataFrame(results)\n",
    "df_results"
   ]
  },
  {
   "cell_type": "code",
   "execution_count": 6,
   "id": "6f96b829-7d8f-438d-9f65-62f62ec264b3",
   "metadata": {
    "execution": {
     "iopub.execute_input": "2025-04-17T22:55:54.208546Z",
     "iopub.status.busy": "2025-04-17T22:55:54.207890Z",
     "iopub.status.idle": "2025-04-17T22:55:54.242492Z",
     "shell.execute_reply": "2025-04-17T22:55:54.241640Z"
    },
    "papermill": {
     "duration": 0.041489,
     "end_time": "2025-04-17T22:55:54.244068",
     "exception": false,
     "start_time": "2025-04-17T22:55:54.202579",
     "status": "completed"
    },
    "tags": []
   },
   "outputs": [
    {
     "data": {
      "text/html": [
       "<div>\n",
       "<style scoped>\n",
       "    .dataframe tbody tr th:only-of-type {\n",
       "        vertical-align: middle;\n",
       "    }\n",
       "\n",
       "    .dataframe tbody tr th {\n",
       "        vertical-align: top;\n",
       "    }\n",
       "\n",
       "    .dataframe thead th {\n",
       "        text-align: right;\n",
       "    }\n",
       "</style>\n",
       "<table border=\"1\" class=\"dataframe\">\n",
       "  <thead>\n",
       "    <tr style=\"text-align: right;\">\n",
       "      <th></th>\n",
       "      <th>data_input</th>\n",
       "      <th>data_input_renamed</th>\n",
       "      <th>pandas_time_duration (secs)</th>\n",
       "      <th>pandas_total_memory (bytes)</th>\n",
       "      <th>duckdb_time_duration (secs)</th>\n",
       "      <th>duckdb_total_memory (bytes)</th>\n",
       "    </tr>\n",
       "  </thead>\n",
       "  <tbody>\n",
       "    <tr>\n",
       "      <th>0</th>\n",
       "      <td>all_cellprofiler.sqlite</td>\n",
       "      <td>input.sqlite</td>\n",
       "      <td>2.224</td>\n",
       "      <td>2.683842e+08</td>\n",
       "      <td>2.886</td>\n",
       "      <td>1.241382e+09</td>\n",
       "    </tr>\n",
       "    <tr>\n",
       "      <th>1</th>\n",
       "      <td>all_cellprofiler-x2.sqlite</td>\n",
       "      <td>input-x2.sqlite</td>\n",
       "      <td>2.336</td>\n",
       "      <td>3.347755e+08</td>\n",
       "      <td>2.829</td>\n",
       "      <td>1.303649e+09</td>\n",
       "    </tr>\n",
       "    <tr>\n",
       "      <th>2</th>\n",
       "      <td>all_cellprofiler-x4.sqlite</td>\n",
       "      <td>input-x4.sqlite</td>\n",
       "      <td>2.530</td>\n",
       "      <td>4.589429e+08</td>\n",
       "      <td>2.939</td>\n",
       "      <td>1.303565e+09</td>\n",
       "    </tr>\n",
       "    <tr>\n",
       "      <th>3</th>\n",
       "      <td>all_cellprofiler-x8.sqlite</td>\n",
       "      <td>input-x8.sqlite</td>\n",
       "      <td>2.979</td>\n",
       "      <td>7.135362e+08</td>\n",
       "      <td>3.329</td>\n",
       "      <td>1.283848e+09</td>\n",
       "    </tr>\n",
       "    <tr>\n",
       "      <th>4</th>\n",
       "      <td>all_cellprofiler-x16.sqlite</td>\n",
       "      <td>input-x16.sqlite</td>\n",
       "      <td>3.803</td>\n",
       "      <td>1.223511e+09</td>\n",
       "      <td>3.148</td>\n",
       "      <td>1.459833e+09</td>\n",
       "    </tr>\n",
       "    <tr>\n",
       "      <th>5</th>\n",
       "      <td>all_cellprofiler-x32.sqlite</td>\n",
       "      <td>input-x32.sqlite</td>\n",
       "      <td>5.813</td>\n",
       "      <td>2.239553e+09</td>\n",
       "      <td>3.591</td>\n",
       "      <td>1.873251e+09</td>\n",
       "    </tr>\n",
       "  </tbody>\n",
       "</table>\n",
       "</div>"
      ],
      "text/plain": [
       "                    data_input data_input_renamed  \\\n",
       "0      all_cellprofiler.sqlite       input.sqlite   \n",
       "1   all_cellprofiler-x2.sqlite    input-x2.sqlite   \n",
       "2   all_cellprofiler-x4.sqlite    input-x4.sqlite   \n",
       "3   all_cellprofiler-x8.sqlite    input-x8.sqlite   \n",
       "4  all_cellprofiler-x16.sqlite   input-x16.sqlite   \n",
       "5  all_cellprofiler-x32.sqlite   input-x32.sqlite   \n",
       "\n",
       "   pandas_time_duration (secs)  pandas_total_memory (bytes)  \\\n",
       "0                        2.224                 2.683842e+08   \n",
       "1                        2.336                 3.347755e+08   \n",
       "2                        2.530                 4.589429e+08   \n",
       "3                        2.979                 7.135362e+08   \n",
       "4                        3.803                 1.223511e+09   \n",
       "5                        5.813                 2.239553e+09   \n",
       "\n",
       "   duckdb_time_duration (secs)  duckdb_total_memory (bytes)  \n",
       "0                        2.886                 1.241382e+09  \n",
       "1                        2.829                 1.303649e+09  \n",
       "2                        2.939                 1.303565e+09  \n",
       "3                        3.329                 1.283848e+09  \n",
       "4                        3.148                 1.459833e+09  \n",
       "5                        3.591                 1.873251e+09  "
      ]
     },
     "execution_count": 6,
     "metadata": {},
     "output_type": "execute_result"
    }
   ],
   "source": [
    "df_results[\"data_input_renamed\"] = df_results[\"data_input\"].str.replace(\n",
    "    \"all_cellprofiler\", \"input\"\n",
    ")\n",
    "df_results[\"pandas_time_duration (secs)\"] = df_results[\n",
    "    df_results[\"file_input\"] == \"join_pandas.py\"\n",
    "][\"time_duration (secs)\"]\n",
    "df_results[\"pandas_total_memory (bytes)\"] = df_results[\n",
    "    df_results[\"file_input\"] == \"join_pandas.py\"\n",
    "][\"total_memory (bytes)\"]\n",
    "df_results[\"duckdb_time_duration (secs)\"] = df_results[\n",
    "    df_results[\"file_input\"] == \"join_duckdb.py\"\n",
    "][\"time_duration (secs)\"]\n",
    "df_results[\"duckdb_total_memory (bytes)\"] = df_results[\n",
    "    df_results[\"file_input\"] == \"join_duckdb.py\"\n",
    "][\"total_memory (bytes)\"]\n",
    "df_results = (\n",
    "    df_results.apply(lambda x: pd.Series(x.dropna().values))\n",
    "    .drop([\"file_input\", \"time_duration (secs)\", \"total_memory (bytes)\"], axis=1)\n",
    "    .dropna()\n",
    ")\n",
    "df_results"
   ]
  },
  {
   "cell_type": "code",
   "execution_count": 7,
   "id": "f2dec74d-bf23-40da-989d-3d45049e17b2",
   "metadata": {
    "execution": {
     "iopub.execute_input": "2025-04-17T22:55:54.255083Z",
     "iopub.status.busy": "2025-04-17T22:55:54.254372Z",
     "iopub.status.idle": "2025-04-17T22:55:55.598029Z",
     "shell.execute_reply": "2025-04-17T22:55:55.597032Z"
    },
    "papermill": {
     "duration": 1.351531,
     "end_time": "2025-04-17T22:55:55.600478",
     "exception": false,
     "start_time": "2025-04-17T22:55:54.248947",
     "status": "completed"
    },
    "tags": []
   },
   "outputs": [
    {
     "data": {
      "text/html": [
       "<img src=\"images/duckdb-comparisons-join-read-time.png\"/>"
      ],
      "text/plain": [
       "<IPython.core.display.Image object>"
      ]
     },
     "execution_count": 7,
     "metadata": {},
     "output_type": "execute_result"
    }
   ],
   "source": [
    "# read time chart\n",
    "fig = px.line(\n",
    "    df_results,\n",
    "    y=[\n",
    "        \"pandas_time_duration (secs)\",\n",
    "        \"duckdb_time_duration (secs)\",\n",
    "    ],\n",
    "    x=\"data_input_renamed\",\n",
    "    labels={\"data_input_renamed\": \"Input File\", \"value\": \"Seconds\"},\n",
    "    width=1300,\n",
    "    color_discrete_sequence=px.colors.qualitative.T10,\n",
    ")\n",
    "fig.update_layout(\n",
    "    legend_title_text=\"Read Time Duration\",\n",
    "    legend=dict(x=0.01, y=0.98, bgcolor=\"rgba(255,255,255,0.8)\"),\n",
    "    font=dict(\n",
    "        size=20,  # global font size\n",
    "    ),\n",
    ")\n",
    "fig.update_xaxes(range=[-0.03, 5.2])\n",
    "fig.update_traces(mode=\"lines+markers\")\n",
    "\n",
    "pio.write_image(fig, join_read_time_image)\n",
    "Image(url=join_read_time_image)"
   ]
  },
  {
   "cell_type": "code",
   "execution_count": 8,
   "id": "47984c80-edfa-4bab-87f2-3f6034ff7e84",
   "metadata": {
    "execution": {
     "iopub.execute_input": "2025-04-17T22:55:55.608507Z",
     "iopub.status.busy": "2025-04-17T22:55:55.608079Z",
     "iopub.status.idle": "2025-04-17T22:55:55.762350Z",
     "shell.execute_reply": "2025-04-17T22:55:55.761637Z"
    },
    "papermill": {
     "duration": 0.16019,
     "end_time": "2025-04-17T22:55:55.763856",
     "exception": false,
     "start_time": "2025-04-17T22:55:55.603666",
     "status": "completed"
    },
    "tags": []
   },
   "outputs": [
    {
     "data": {
      "text/html": [
       "<img src=\"images/duckdb-comparisons-join-memory-size.png\"/>"
      ],
      "text/plain": [
       "<IPython.core.display.Image object>"
      ]
     },
     "execution_count": 8,
     "metadata": {},
     "output_type": "execute_result"
    }
   ],
   "source": [
    "# memory size\n",
    "fig = px.bar(\n",
    "    df_results,\n",
    "    x=[\n",
    "        \"pandas_total_memory (bytes)\",\n",
    "        \"duckdb_total_memory (bytes)\",\n",
    "    ],\n",
    "    y=\"data_input_renamed\",\n",
    "    labels={\"data_input_renamed\": \"Input File\", \"value\": \"Bytes\"},\n",
    "    orientation=\"h\",\n",
    "    barmode=\"group\",\n",
    "    width=1300,\n",
    "    color_discrete_sequence=px.colors.qualitative.T10,\n",
    ")\n",
    "fig.update_layout(\n",
    "    legend_title_text=\"In-memory Data Size\",\n",
    "    legend=dict(x=0.58, y=0.02, bgcolor=\"rgba(255,255,255,0.8)\"),\n",
    "    font=dict(\n",
    "        size=20,  # global font size\n",
    "    ),\n",
    ")\n",
    "\n",
    "pio.write_image(fig, join_mem_size_image)\n",
    "Image(url=join_mem_size_image)"
   ]
  }
 ],
 "metadata": {
  "jupytext": {
   "formats": "ipynb,py:light"
  },
  "kernelspec": {
   "display_name": "Python 3 (ipykernel)",
   "language": "python",
   "name": "python3"
  },
  "language_info": {
   "codemirror_mode": {
    "name": "ipython",
    "version": 3
   },
   "file_extension": ".py",
   "mimetype": "text/x-python",
   "name": "python",
   "nbconvert_exporter": "python",
   "pygments_lexer": "ipython3",
   "version": "3.11.9"
  },
  "papermill": {
   "default_parameters": {},
   "duration": 59.276553,
   "end_time": "2025-04-17T22:55:58.389711",
   "environment_variables": {},
   "exception": null,
   "input_path": "duckdb_analysis.ipynb",
   "output_path": "duckdb_analysis.ipynb",
   "parameters": {},
   "start_time": "2025-04-17T22:54:59.113158",
   "version": "2.6.0"
  }
 },
 "nbformat": 4,
 "nbformat_minor": 5
}