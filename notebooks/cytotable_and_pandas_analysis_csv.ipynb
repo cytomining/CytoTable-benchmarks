{
 "cells": [
  {
   "cell_type": "markdown",
   "id": "9cef710a-ff78-4598-bf7b-2b9b75448c32",
   "metadata": {
    "papermill": {
     "duration": 0.005297,
     "end_time": "2025-05-14T18:14:03.265955",
     "exception": false,
     "start_time": "2025-05-14T18:14:03.260658",
     "status": "completed"
    },
    "tags": []
   },
   "source": [
    "# CytoTable (convert) and Pandas (Merges) Performance Comparisons\n",
    "\n",
    "This notebook explores CytoTable (convert) and Pandas (DataFrame merges) usage with datasets of varying size to help describe performance impacts."
   ]
  },
  {
   "cell_type": "code",
   "execution_count": 1,
   "id": "d2e47e7d-0629-45e3-b1bd-bce07843ae4c",
   "metadata": {
    "execution": {
     "iopub.execute_input": "2025-05-14T18:14:03.278792Z",
     "iopub.status.busy": "2025-05-14T18:14:03.278145Z",
     "iopub.status.idle": "2025-05-14T18:14:04.057936Z",
     "shell.execute_reply": "2025-05-14T18:14:04.057222Z"
    },
    "papermill": {
     "duration": 0.78774,
     "end_time": "2025-05-14T18:14:04.060120",
     "exception": false,
     "start_time": "2025-05-14T18:14:03.272380",
     "status": "completed"
    },
    "tags": []
   },
   "outputs": [],
   "source": [
    "import itertools\n",
    "import json\n",
    "import os\n",
    "import pathlib\n",
    "import re\n",
    "import signal\n",
    "import subprocess\n",
    "from datetime import datetime\n",
    "\n",
    "import pandas as pd\n",
    "import plotly.express as px\n",
    "import plotly.io as pio\n",
    "import psutil\n",
    "from IPython.display import Image\n",
    "from utilities import (\n",
    "    get_memory_peak_and_time_duration,\n",
    "    get_parsl_peak_memory,\n",
    "    get_system_info,\n",
    ")\n",
    "\n",
    "# set plotly default theme\n",
    "pio.templates.default = \"simple_white\"\n",
    "# monitoring database for parsl multiprocessing work\n",
    "db_file = \"runinfo/monitoring.db\""
   ]
  },
  {
   "cell_type": "code",
   "execution_count": 2,
   "id": "b1d56430-c859-4790-b57a-d81cb0622daa",
   "metadata": {
    "execution": {
     "iopub.execute_input": "2025-05-14T18:14:04.071153Z",
     "iopub.status.busy": "2025-05-14T18:14:04.070867Z",
     "iopub.status.idle": "2025-05-14T18:14:04.077195Z",
     "shell.execute_reply": "2025-05-14T18:14:04.076482Z"
    },
    "papermill": {
     "duration": 0.013683,
     "end_time": "2025-05-14T18:14:04.078668",
     "exception": false,
     "start_time": "2025-05-14T18:14:04.064985",
     "status": "completed"
    },
    "tags": []
   },
   "outputs": [
    {
     "name": "stdout",
     "output_type": "stream",
     "text": [
      "\n",
      "System Information:\n",
      "Operating System: Linux\n",
      "Machine Type: x86_64\n",
      "Processor: x86_64\n",
      "CPU Cores (Logical): 16\n",
      "CPU Cores (Physical): 8\n",
      "Total RAM (GB): 62.68\n",
      "Python Version: 3.11.9\n"
     ]
    }
   ],
   "source": [
    "# show the system information\n",
    "_ = get_system_info(show_output=True)"
   ]
  },
  {
   "cell_type": "code",
   "execution_count": 3,
   "id": "bdc968d0-a9e9-48df-9f4b-67d1f8a7a33c",
   "metadata": {
    "execution": {
     "iopub.execute_input": "2025-05-14T18:14:04.088517Z",
     "iopub.status.busy": "2025-05-14T18:14:04.088344Z",
     "iopub.status.idle": "2025-05-14T18:14:04.100738Z",
     "shell.execute_reply": "2025-05-14T18:14:04.100082Z"
    },
    "papermill": {
     "duration": 0.018972,
     "end_time": "2025-05-14T18:14:04.102214",
     "exception": false,
     "start_time": "2025-05-14T18:14:04.083242",
     "status": "completed"
    },
    "tags": []
   },
   "outputs": [
    {
     "data": {
      "text/plain": [
       "'cytotable-benchmarks-2FApAEcz-py3.11/bin/python'"
      ]
     },
     "execution_count": 3,
     "metadata": {},
     "output_type": "execute_result"
    }
   ],
   "source": [
    "# observe the virtual env for dependency inheritance with memray\n",
    "# from subprocedure calls\n",
    "\"/\".join(\n",
    "    subprocess.run(\n",
    "        [\n",
    "            \"which\",\n",
    "            \"python\",\n",
    "        ],\n",
    "        capture_output=True,\n",
    "        check=True,\n",
    "    )\n",
    "    # decode bytestring as utf-8\n",
    "    .stdout.decode(\"utf-8\")\n",
    "    # remove personal file structure\n",
    "    .split(\"/\")[6:]\n",
    "    # replace final newline\n",
    ").replace(\"\\n\", \"\")"
   ]
  },
  {
   "cell_type": "code",
   "execution_count": 4,
   "id": "8d6efd13-0dce-4baa-b779-f5ec62dc535e",
   "metadata": {
    "execution": {
     "iopub.execute_input": "2025-05-14T18:14:04.113530Z",
     "iopub.status.busy": "2025-05-14T18:14:04.113233Z",
     "iopub.status.idle": "2025-05-14T18:14:04.118781Z",
     "shell.execute_reply": "2025-05-14T18:14:04.118149Z"
    },
    "papermill": {
     "duration": 0.012864,
     "end_time": "2025-05-14T18:14:04.120203",
     "exception": false,
     "start_time": "2025-05-14T18:14:04.107339",
     "status": "completed"
    },
    "tags": []
   },
   "outputs": [],
   "source": [
    "# target file or table names\n",
    "image_dir = \"images\"\n",
    "examples_dir = \"examples\"\n",
    "join_read_time_image = (\n",
    "    f\"{image_dir}/cytotable-and-pandas-comparisons-join-completion-time-csv.png\"\n",
    ")\n",
    "join_mem_size_image = (\n",
    "    f\"{image_dir}/cytotable-and-pandas-comparisons-join-memory-size-csv.png\"\n",
    ")\n",
    "example_files_list = [\n",
    "    f\"{examples_dir}/cytotable_convert_examplehuman_multiprocess_csv.py\",\n",
    "    f\"{examples_dir}/cytotable_convert_examplehuman_multithread_csv.py\",\n",
    "    f\"{examples_dir}/pandas_merge_examplehuman_csv.py\",\n",
    "]\n",
    "example_data_list = [\n",
    "    f\"{examples_dir}/data/examplehuman_cellprofiler_features_csv\",\n",
    "    f\"{examples_dir}/data/examplehuman_cellprofiler_features_csv-x2\",\n",
    "    f\"{examples_dir}/data/examplehuman_cellprofiler_features_csv-x4\",\n",
    "    f\"{examples_dir}/data/examplehuman_cellprofiler_features_csv-x8\",\n",
    "    f\"{examples_dir}/data/examplehuman_cellprofiler_features_csv-x16\",\n",
    "    f\"{examples_dir}/data/examplehuman_cellprofiler_features_csv-x32\",\n",
    "    f\"{examples_dir}/data/examplehuman_cellprofiler_features_csv-x64\",\n",
    "    f\"{examples_dir}/data/examplehuman_cellprofiler_features_csv-x128\",\n",
    "    f\"{examples_dir}/data/examplehuman_cellprofiler_features_csv-x256\",\n",
    "    f\"{examples_dir}/data/examplehuman_cellprofiler_features_csv-x512\",\n",
    "    f\"{examples_dir}/data/examplehuman_cellprofiler_features_csv-x1024\",\n",
    "    f\"{examples_dir}/data/examplehuman_cellprofiler_features_csv-x2048\",\n",
    "    f\"{examples_dir}/data/examplehuman_cellprofiler_features_csv-x4096\",\n",
    "    f\"{examples_dir}/data/examplehuman_cellprofiler_features_csv-x8192\",\n",
    "]\n",
    "\n",
    "# format for memray time strings\n",
    "tformat = \"%Y-%m-%d %H:%M:%S.%f%z\""
   ]
  },
  {
   "cell_type": "code",
   "execution_count": 5,
   "id": "4346167e-7a0a-406a-9ed0-11592b3e9294",
   "metadata": {
    "execution": {
     "iopub.execute_input": "2025-05-14T18:14:04.132090Z",
     "iopub.status.busy": "2025-05-14T18:14:04.131907Z",
     "iopub.status.idle": "2025-05-14T18:14:04.136389Z",
     "shell.execute_reply": "2025-05-14T18:14:04.135594Z"
    },
    "papermill": {
     "duration": 0.012649,
     "end_time": "2025-05-14T18:14:04.138079",
     "exception": false,
     "start_time": "2025-05-14T18:14:04.125430",
     "status": "completed"
    },
    "tags": []
   },
   "outputs": [],
   "source": [
    "# Define the Parquet file path\n",
    "results_parquet_file = \"cytotable_pandas_results.parquet\"\n",
    "\n",
    "# Load existing results if available\n",
    "if pathlib.Path(results_parquet_file).exists():\n",
    "    df_results = pd.read_parquet(results_parquet_file)\n",
    "    results = df_results.to_dict(orient=\"records\")\n",
    "else:\n",
    "    results = []"
   ]
  },
  {
   "cell_type": "code",
   "execution_count": 6,
   "id": "a33736e4-306b-45c4-affe-cef6e20eeddf",
   "metadata": {
    "execution": {
     "iopub.execute_input": "2025-05-14T18:14:04.147719Z",
     "iopub.status.busy": "2025-05-14T18:14:04.147397Z",
     "iopub.status.idle": "2025-05-14T19:56:39.129107Z",
     "shell.execute_reply": "2025-05-14T19:56:39.127733Z"
    },
    "papermill": {
     "duration": 6155.02308,
     "end_time": "2025-05-14T19:56:39.166337",
     "exception": false,
     "start_time": "2025-05-14T18:14:04.143257",
     "status": "completed"
    },
    "tags": []
   },
   "outputs": [
    {
     "name": "stdout",
     "output_type": "stream",
     "text": [
      "Starting examples/cytotable_convert_examplehuman_multiprocess_csv.py with examples/data/examplehuman_cellprofiler_features_csv, iteration 0.\n"
     ]
    },
    {
     "name": "stdout",
     "output_type": "stream",
     "text": [
      "Finished examples/cytotable_convert_examplehuman_multiprocess_csv.py with examples/data/examplehuman_cellprofiler_features_csv, iteration 0.\n",
      "Starting examples/cytotable_convert_examplehuman_multiprocess_csv.py with examples/data/examplehuman_cellprofiler_features_csv, iteration 1.\n"
     ]
    },
    {
     "name": "stdout",
     "output_type": "stream",
     "text": [
      "Finished examples/cytotable_convert_examplehuman_multiprocess_csv.py with examples/data/examplehuman_cellprofiler_features_csv, iteration 1.\n",
      "Starting examples/cytotable_convert_examplehuman_multiprocess_csv.py with examples/data/examplehuman_cellprofiler_features_csv, iteration 2.\n"
     ]
    },
    {
     "name": "stdout",
     "output_type": "stream",
     "text": [
      "Finished examples/cytotable_convert_examplehuman_multiprocess_csv.py with examples/data/examplehuman_cellprofiler_features_csv, iteration 2.\n",
      "Starting examples/cytotable_convert_examplehuman_multiprocess_csv.py with examples/data/examplehuman_cellprofiler_features_csv, iteration 3.\n"
     ]
    },
    {
     "name": "stdout",
     "output_type": "stream",
     "text": [
      "Finished examples/cytotable_convert_examplehuman_multiprocess_csv.py with examples/data/examplehuman_cellprofiler_features_csv, iteration 3.\n",
      "Starting examples/cytotable_convert_examplehuman_multiprocess_csv.py with examples/data/examplehuman_cellprofiler_features_csv, iteration 4.\n"
     ]
    },
    {
     "name": "stdout",
     "output_type": "stream",
     "text": [
      "Finished examples/cytotable_convert_examplehuman_multiprocess_csv.py with examples/data/examplehuman_cellprofiler_features_csv, iteration 4.\n",
      "Starting examples/cytotable_convert_examplehuman_multiprocess_csv.py with examples/data/examplehuman_cellprofiler_features_csv, iteration 5.\n"
     ]
    },
    {
     "name": "stdout",
     "output_type": "stream",
     "text": [
      "Finished examples/cytotable_convert_examplehuman_multiprocess_csv.py with examples/data/examplehuman_cellprofiler_features_csv, iteration 5.\n",
      "Starting examples/cytotable_convert_examplehuman_multiprocess_csv.py with examples/data/examplehuman_cellprofiler_features_csv-x2, iteration 0.\n"
     ]
    },
    {
     "name": "stdout",
     "output_type": "stream",
     "text": [
      "Finished examples/cytotable_convert_examplehuman_multiprocess_csv.py with examples/data/examplehuman_cellprofiler_features_csv-x2, iteration 0.\n",
      "Starting examples/cytotable_convert_examplehuman_multiprocess_csv.py with examples/data/examplehuman_cellprofiler_features_csv-x2, iteration 1.\n"
     ]
    },
    {
     "name": "stdout",
     "output_type": "stream",
     "text": [
      "Finished examples/cytotable_convert_examplehuman_multiprocess_csv.py with examples/data/examplehuman_cellprofiler_features_csv-x2, iteration 1.\n",
      "Starting examples/cytotable_convert_examplehuman_multiprocess_csv.py with examples/data/examplehuman_cellprofiler_features_csv-x2, iteration 2.\n"
     ]
    },
    {
     "name": "stdout",
     "output_type": "stream",
     "text": [
      "Finished examples/cytotable_convert_examplehuman_multiprocess_csv.py with examples/data/examplehuman_cellprofiler_features_csv-x2, iteration 2.\n",
      "Starting examples/cytotable_convert_examplehuman_multiprocess_csv.py with examples/data/examplehuman_cellprofiler_features_csv-x2, iteration 3.\n"
     ]
    },
    {
     "name": "stdout",
     "output_type": "stream",
     "text": [
      "Finished examples/cytotable_convert_examplehuman_multiprocess_csv.py with examples/data/examplehuman_cellprofiler_features_csv-x2, iteration 3.\n",
      "Starting examples/cytotable_convert_examplehuman_multiprocess_csv.py with examples/data/examplehuman_cellprofiler_features_csv-x2, iteration 4.\n"
     ]
    },
    {
     "name": "stdout",
     "output_type": "stream",
     "text": [
      "Finished examples/cytotable_convert_examplehuman_multiprocess_csv.py with examples/data/examplehuman_cellprofiler_features_csv-x2, iteration 4.\n",
      "Starting examples/cytotable_convert_examplehuman_multiprocess_csv.py with examples/data/examplehuman_cellprofiler_features_csv-x2, iteration 5.\n"
     ]
    },
    {
     "name": "stdout",
     "output_type": "stream",
     "text": [
      "Finished examples/cytotable_convert_examplehuman_multiprocess_csv.py with examples/data/examplehuman_cellprofiler_features_csv-x2, iteration 5.\n",
      "Starting examples/cytotable_convert_examplehuman_multiprocess_csv.py with examples/data/examplehuman_cellprofiler_features_csv-x4, iteration 0.\n"
     ]
    },
    {
     "name": "stdout",
     "output_type": "stream",
     "text": [
      "Finished examples/cytotable_convert_examplehuman_multiprocess_csv.py with examples/data/examplehuman_cellprofiler_features_csv-x4, iteration 0.\n",
      "Starting examples/cytotable_convert_examplehuman_multiprocess_csv.py with examples/data/examplehuman_cellprofiler_features_csv-x4, iteration 1.\n"
     ]
    },
    {
     "name": "stdout",
     "output_type": "stream",
     "text": [
      "Finished examples/cytotable_convert_examplehuman_multiprocess_csv.py with examples/data/examplehuman_cellprofiler_features_csv-x4, iteration 1.\n",
      "Starting examples/cytotable_convert_examplehuman_multiprocess_csv.py with examples/data/examplehuman_cellprofiler_features_csv-x4, iteration 2.\n"
     ]
    },
    {
     "name": "stdout",
     "output_type": "stream",
     "text": [
      "Finished examples/cytotable_convert_examplehuman_multiprocess_csv.py with examples/data/examplehuman_cellprofiler_features_csv-x4, iteration 2.\n",
      "Starting examples/cytotable_convert_examplehuman_multiprocess_csv.py with examples/data/examplehuman_cellprofiler_features_csv-x4, iteration 3.\n"
     ]
    },
    {
     "name": "stdout",
     "output_type": "stream",
     "text": [
      "Finished examples/cytotable_convert_examplehuman_multiprocess_csv.py with examples/data/examplehuman_cellprofiler_features_csv-x4, iteration 3.\n",
      "Starting examples/cytotable_convert_examplehuman_multiprocess_csv.py with examples/data/examplehuman_cellprofiler_features_csv-x4, iteration 4.\n"
     ]
    },
    {
     "name": "stdout",
     "output_type": "stream",
     "text": [
      "Finished examples/cytotable_convert_examplehuman_multiprocess_csv.py with examples/data/examplehuman_cellprofiler_features_csv-x4, iteration 4.\n",
      "Starting examples/cytotable_convert_examplehuman_multiprocess_csv.py with examples/data/examplehuman_cellprofiler_features_csv-x4, iteration 5.\n"
     ]
    },
    {
     "name": "stdout",
     "output_type": "stream",
     "text": [
      "Finished examples/cytotable_convert_examplehuman_multiprocess_csv.py with examples/data/examplehuman_cellprofiler_features_csv-x4, iteration 5.\n",
      "Starting examples/cytotable_convert_examplehuman_multiprocess_csv.py with examples/data/examplehuman_cellprofiler_features_csv-x8, iteration 0.\n"
     ]
    },
    {
     "name": "stdout",
     "output_type": "stream",
     "text": [
      "Finished examples/cytotable_convert_examplehuman_multiprocess_csv.py with examples/data/examplehuman_cellprofiler_features_csv-x8, iteration 0.\n",
      "Starting examples/cytotable_convert_examplehuman_multiprocess_csv.py with examples/data/examplehuman_cellprofiler_features_csv-x8, iteration 1.\n"
     ]
    },
    {
     "name": "stdout",
     "output_type": "stream",
     "text": [
      "Finished examples/cytotable_convert_examplehuman_multiprocess_csv.py with examples/data/examplehuman_cellprofiler_features_csv-x8, iteration 1.\n",
      "Starting examples/cytotable_convert_examplehuman_multiprocess_csv.py with examples/data/examplehuman_cellprofiler_features_csv-x8, iteration 2.\n"
     ]
    },
    {
     "name": "stdout",
     "output_type": "stream",
     "text": [
      "Finished examples/cytotable_convert_examplehuman_multiprocess_csv.py with examples/data/examplehuman_cellprofiler_features_csv-x8, iteration 2.\n",
      "Starting examples/cytotable_convert_examplehuman_multiprocess_csv.py with examples/data/examplehuman_cellprofiler_features_csv-x8, iteration 3.\n"
     ]
    },
    {
     "name": "stdout",
     "output_type": "stream",
     "text": [
      "Finished examples/cytotable_convert_examplehuman_multiprocess_csv.py with examples/data/examplehuman_cellprofiler_features_csv-x8, iteration 3.\n",
      "Starting examples/cytotable_convert_examplehuman_multiprocess_csv.py with examples/data/examplehuman_cellprofiler_features_csv-x8, iteration 4.\n"
     ]
    },
    {
     "name": "stdout",
     "output_type": "stream",
     "text": [
      "Finished examples/cytotable_convert_examplehuman_multiprocess_csv.py with examples/data/examplehuman_cellprofiler_features_csv-x8, iteration 4.\n",
      "Starting examples/cytotable_convert_examplehuman_multiprocess_csv.py with examples/data/examplehuman_cellprofiler_features_csv-x8, iteration 5.\n"
     ]
    },
    {
     "name": "stdout",
     "output_type": "stream",
     "text": [
      "Finished examples/cytotable_convert_examplehuman_multiprocess_csv.py with examples/data/examplehuman_cellprofiler_features_csv-x8, iteration 5.\n",
      "Starting examples/cytotable_convert_examplehuman_multiprocess_csv.py with examples/data/examplehuman_cellprofiler_features_csv-x16, iteration 0.\n"
     ]
    },
    {
     "name": "stdout",
     "output_type": "stream",
     "text": [
      "Finished examples/cytotable_convert_examplehuman_multiprocess_csv.py with examples/data/examplehuman_cellprofiler_features_csv-x16, iteration 0.\n",
      "Starting examples/cytotable_convert_examplehuman_multiprocess_csv.py with examples/data/examplehuman_cellprofiler_features_csv-x16, iteration 1.\n"
     ]
    },
    {
     "name": "stdout",
     "output_type": "stream",
     "text": [
      "Finished examples/cytotable_convert_examplehuman_multiprocess_csv.py with examples/data/examplehuman_cellprofiler_features_csv-x16, iteration 1.\n",
      "Starting examples/cytotable_convert_examplehuman_multiprocess_csv.py with examples/data/examplehuman_cellprofiler_features_csv-x16, iteration 2.\n"
     ]
    },
    {
     "name": "stdout",
     "output_type": "stream",
     "text": [
      "Finished examples/cytotable_convert_examplehuman_multiprocess_csv.py with examples/data/examplehuman_cellprofiler_features_csv-x16, iteration 2.\n",
      "Starting examples/cytotable_convert_examplehuman_multiprocess_csv.py with examples/data/examplehuman_cellprofiler_features_csv-x16, iteration 3.\n"
     ]
    },
    {
     "name": "stdout",
     "output_type": "stream",
     "text": [
      "Finished examples/cytotable_convert_examplehuman_multiprocess_csv.py with examples/data/examplehuman_cellprofiler_features_csv-x16, iteration 3.\n",
      "Starting examples/cytotable_convert_examplehuman_multiprocess_csv.py with examples/data/examplehuman_cellprofiler_features_csv-x16, iteration 4.\n"
     ]
    },
    {
     "name": "stdout",
     "output_type": "stream",
     "text": [
      "Finished examples/cytotable_convert_examplehuman_multiprocess_csv.py with examples/data/examplehuman_cellprofiler_features_csv-x16, iteration 4.\n",
      "Starting examples/cytotable_convert_examplehuman_multiprocess_csv.py with examples/data/examplehuman_cellprofiler_features_csv-x16, iteration 5.\n"
     ]
    },
    {
     "name": "stdout",
     "output_type": "stream",
     "text": [
      "Finished examples/cytotable_convert_examplehuman_multiprocess_csv.py with examples/data/examplehuman_cellprofiler_features_csv-x16, iteration 5.\n",
      "Starting examples/cytotable_convert_examplehuman_multiprocess_csv.py with examples/data/examplehuman_cellprofiler_features_csv-x32, iteration 0.\n"
     ]
    },
    {
     "name": "stdout",
     "output_type": "stream",
     "text": [
      "Finished examples/cytotable_convert_examplehuman_multiprocess_csv.py with examples/data/examplehuman_cellprofiler_features_csv-x32, iteration 0.\n",
      "Starting examples/cytotable_convert_examplehuman_multiprocess_csv.py with examples/data/examplehuman_cellprofiler_features_csv-x32, iteration 1.\n"
     ]
    },
    {
     "name": "stdout",
     "output_type": "stream",
     "text": [
      "Finished examples/cytotable_convert_examplehuman_multiprocess_csv.py with examples/data/examplehuman_cellprofiler_features_csv-x32, iteration 1.\n",
      "Starting examples/cytotable_convert_examplehuman_multiprocess_csv.py with examples/data/examplehuman_cellprofiler_features_csv-x32, iteration 2.\n"
     ]
    },
    {
     "name": "stdout",
     "output_type": "stream",
     "text": [
      "Finished examples/cytotable_convert_examplehuman_multiprocess_csv.py with examples/data/examplehuman_cellprofiler_features_csv-x32, iteration 2.\n",
      "Starting examples/cytotable_convert_examplehuman_multiprocess_csv.py with examples/data/examplehuman_cellprofiler_features_csv-x32, iteration 3.\n"
     ]
    },
    {
     "name": "stdout",
     "output_type": "stream",
     "text": [
      "Finished examples/cytotable_convert_examplehuman_multiprocess_csv.py with examples/data/examplehuman_cellprofiler_features_csv-x32, iteration 3.\n",
      "Starting examples/cytotable_convert_examplehuman_multiprocess_csv.py with examples/data/examplehuman_cellprofiler_features_csv-x32, iteration 4.\n"
     ]
    },
    {
     "name": "stdout",
     "output_type": "stream",
     "text": [
      "Finished examples/cytotable_convert_examplehuman_multiprocess_csv.py with examples/data/examplehuman_cellprofiler_features_csv-x32, iteration 4.\n",
      "Starting examples/cytotable_convert_examplehuman_multiprocess_csv.py with examples/data/examplehuman_cellprofiler_features_csv-x32, iteration 5.\n"
     ]
    },
    {
     "name": "stdout",
     "output_type": "stream",
     "text": [
      "Finished examples/cytotable_convert_examplehuman_multiprocess_csv.py with examples/data/examplehuman_cellprofiler_features_csv-x32, iteration 5.\n",
      "Starting examples/cytotable_convert_examplehuman_multiprocess_csv.py with examples/data/examplehuman_cellprofiler_features_csv-x64, iteration 0.\n"
     ]
    },
    {
     "name": "stdout",
     "output_type": "stream",
     "text": [
      "Finished examples/cytotable_convert_examplehuman_multiprocess_csv.py with examples/data/examplehuman_cellprofiler_features_csv-x64, iteration 0.\n",
      "Starting examples/cytotable_convert_examplehuman_multiprocess_csv.py with examples/data/examplehuman_cellprofiler_features_csv-x64, iteration 1.\n"
     ]
    },
    {
     "name": "stdout",
     "output_type": "stream",
     "text": [
      "Finished examples/cytotable_convert_examplehuman_multiprocess_csv.py with examples/data/examplehuman_cellprofiler_features_csv-x64, iteration 1.\n",
      "Starting examples/cytotable_convert_examplehuman_multiprocess_csv.py with examples/data/examplehuman_cellprofiler_features_csv-x64, iteration 2.\n"
     ]
    },
    {
     "name": "stdout",
     "output_type": "stream",
     "text": [
      "Finished examples/cytotable_convert_examplehuman_multiprocess_csv.py with examples/data/examplehuman_cellprofiler_features_csv-x64, iteration 2.\n",
      "Starting examples/cytotable_convert_examplehuman_multiprocess_csv.py with examples/data/examplehuman_cellprofiler_features_csv-x64, iteration 3.\n"
     ]
    },
    {
     "name": "stdout",
     "output_type": "stream",
     "text": [
      "Finished examples/cytotable_convert_examplehuman_multiprocess_csv.py with examples/data/examplehuman_cellprofiler_features_csv-x64, iteration 3.\n",
      "Starting examples/cytotable_convert_examplehuman_multiprocess_csv.py with examples/data/examplehuman_cellprofiler_features_csv-x64, iteration 4.\n"
     ]
    },
    {
     "name": "stdout",
     "output_type": "stream",
     "text": [
      "Finished examples/cytotable_convert_examplehuman_multiprocess_csv.py with examples/data/examplehuman_cellprofiler_features_csv-x64, iteration 4.\n",
      "Starting examples/cytotable_convert_examplehuman_multiprocess_csv.py with examples/data/examplehuman_cellprofiler_features_csv-x64, iteration 5.\n"
     ]
    },
    {
     "name": "stdout",
     "output_type": "stream",
     "text": [
      "Finished examples/cytotable_convert_examplehuman_multiprocess_csv.py with examples/data/examplehuman_cellprofiler_features_csv-x64, iteration 5.\n",
      "Starting examples/cytotable_convert_examplehuman_multiprocess_csv.py with examples/data/examplehuman_cellprofiler_features_csv-x128, iteration 0.\n"
     ]
    },
    {
     "name": "stdout",
     "output_type": "stream",
     "text": [
      "Finished examples/cytotable_convert_examplehuman_multiprocess_csv.py with examples/data/examplehuman_cellprofiler_features_csv-x128, iteration 0.\n",
      "Starting examples/cytotable_convert_examplehuman_multiprocess_csv.py with examples/data/examplehuman_cellprofiler_features_csv-x128, iteration 1.\n"
     ]
    },
    {
     "name": "stdout",
     "output_type": "stream",
     "text": [
      "Finished examples/cytotable_convert_examplehuman_multiprocess_csv.py with examples/data/examplehuman_cellprofiler_features_csv-x128, iteration 1.\n",
      "Starting examples/cytotable_convert_examplehuman_multiprocess_csv.py with examples/data/examplehuman_cellprofiler_features_csv-x128, iteration 2.\n"
     ]
    },
    {
     "name": "stdout",
     "output_type": "stream",
     "text": [
      "Finished examples/cytotable_convert_examplehuman_multiprocess_csv.py with examples/data/examplehuman_cellprofiler_features_csv-x128, iteration 2.\n",
      "Starting examples/cytotable_convert_examplehuman_multiprocess_csv.py with examples/data/examplehuman_cellprofiler_features_csv-x128, iteration 3.\n"
     ]
    },
    {
     "name": "stdout",
     "output_type": "stream",
     "text": [
      "Finished examples/cytotable_convert_examplehuman_multiprocess_csv.py with examples/data/examplehuman_cellprofiler_features_csv-x128, iteration 3.\n",
      "Starting examples/cytotable_convert_examplehuman_multiprocess_csv.py with examples/data/examplehuman_cellprofiler_features_csv-x128, iteration 4.\n"
     ]
    },
    {
     "name": "stdout",
     "output_type": "stream",
     "text": [
      "Finished examples/cytotable_convert_examplehuman_multiprocess_csv.py with examples/data/examplehuman_cellprofiler_features_csv-x128, iteration 4.\n",
      "Starting examples/cytotable_convert_examplehuman_multiprocess_csv.py with examples/data/examplehuman_cellprofiler_features_csv-x128, iteration 5.\n"
     ]
    },
    {
     "name": "stdout",
     "output_type": "stream",
     "text": [
      "Finished examples/cytotable_convert_examplehuman_multiprocess_csv.py with examples/data/examplehuman_cellprofiler_features_csv-x128, iteration 5.\n",
      "Starting examples/cytotable_convert_examplehuman_multiprocess_csv.py with examples/data/examplehuman_cellprofiler_features_csv-x256, iteration 0.\n"
     ]
    },
    {
     "name": "stdout",
     "output_type": "stream",
     "text": [
      "Finished examples/cytotable_convert_examplehuman_multiprocess_csv.py with examples/data/examplehuman_cellprofiler_features_csv-x256, iteration 0.\n",
      "Starting examples/cytotable_convert_examplehuman_multiprocess_csv.py with examples/data/examplehuman_cellprofiler_features_csv-x256, iteration 1.\n"
     ]
    },
    {
     "name": "stdout",
     "output_type": "stream",
     "text": [
      "Finished examples/cytotable_convert_examplehuman_multiprocess_csv.py with examples/data/examplehuman_cellprofiler_features_csv-x256, iteration 1.\n",
      "Starting examples/cytotable_convert_examplehuman_multiprocess_csv.py with examples/data/examplehuman_cellprofiler_features_csv-x256, iteration 2.\n"
     ]
    },
    {
     "name": "stdout",
     "output_type": "stream",
     "text": [
      "Finished examples/cytotable_convert_examplehuman_multiprocess_csv.py with examples/data/examplehuman_cellprofiler_features_csv-x256, iteration 2.\n",
      "Starting examples/cytotable_convert_examplehuman_multiprocess_csv.py with examples/data/examplehuman_cellprofiler_features_csv-x256, iteration 3.\n"
     ]
    },
    {
     "name": "stdout",
     "output_type": "stream",
     "text": [
      "Finished examples/cytotable_convert_examplehuman_multiprocess_csv.py with examples/data/examplehuman_cellprofiler_features_csv-x256, iteration 3.\n",
      "Starting examples/cytotable_convert_examplehuman_multiprocess_csv.py with examples/data/examplehuman_cellprofiler_features_csv-x256, iteration 4.\n"
     ]
    },
    {
     "name": "stdout",
     "output_type": "stream",
     "text": [
      "Finished examples/cytotable_convert_examplehuman_multiprocess_csv.py with examples/data/examplehuman_cellprofiler_features_csv-x256, iteration 4.\n",
      "Starting examples/cytotable_convert_examplehuman_multiprocess_csv.py with examples/data/examplehuman_cellprofiler_features_csv-x256, iteration 5.\n"
     ]
    },
    {
     "name": "stdout",
     "output_type": "stream",
     "text": [
      "Finished examples/cytotable_convert_examplehuman_multiprocess_csv.py with examples/data/examplehuman_cellprofiler_features_csv-x256, iteration 5.\n",
      "Starting examples/cytotable_convert_examplehuman_multiprocess_csv.py with examples/data/examplehuman_cellprofiler_features_csv-x512, iteration 0.\n"
     ]
    },
    {
     "name": "stdout",
     "output_type": "stream",
     "text": [
      "Finished examples/cytotable_convert_examplehuman_multiprocess_csv.py with examples/data/examplehuman_cellprofiler_features_csv-x512, iteration 0.\n",
      "Starting examples/cytotable_convert_examplehuman_multiprocess_csv.py with examples/data/examplehuman_cellprofiler_features_csv-x512, iteration 1.\n"
     ]
    },
    {
     "name": "stdout",
     "output_type": "stream",
     "text": [
      "Finished examples/cytotable_convert_examplehuman_multiprocess_csv.py with examples/data/examplehuman_cellprofiler_features_csv-x512, iteration 1.\n",
      "Starting examples/cytotable_convert_examplehuman_multiprocess_csv.py with examples/data/examplehuman_cellprofiler_features_csv-x512, iteration 2.\n"
     ]
    },
    {
     "name": "stdout",
     "output_type": "stream",
     "text": [
      "Finished examples/cytotable_convert_examplehuman_multiprocess_csv.py with examples/data/examplehuman_cellprofiler_features_csv-x512, iteration 2.\n",
      "Starting examples/cytotable_convert_examplehuman_multiprocess_csv.py with examples/data/examplehuman_cellprofiler_features_csv-x512, iteration 3.\n"
     ]
    },
    {
     "name": "stdout",
     "output_type": "stream",
     "text": [
      "Finished examples/cytotable_convert_examplehuman_multiprocess_csv.py with examples/data/examplehuman_cellprofiler_features_csv-x512, iteration 3.\n",
      "Starting examples/cytotable_convert_examplehuman_multiprocess_csv.py with examples/data/examplehuman_cellprofiler_features_csv-x512, iteration 4.\n"
     ]
    },
    {
     "name": "stdout",
     "output_type": "stream",
     "text": [
      "Finished examples/cytotable_convert_examplehuman_multiprocess_csv.py with examples/data/examplehuman_cellprofiler_features_csv-x512, iteration 4.\n",
      "Starting examples/cytotable_convert_examplehuman_multiprocess_csv.py with examples/data/examplehuman_cellprofiler_features_csv-x512, iteration 5.\n"
     ]
    },
    {
     "name": "stdout",
     "output_type": "stream",
     "text": [
      "Finished examples/cytotable_convert_examplehuman_multiprocess_csv.py with examples/data/examplehuman_cellprofiler_features_csv-x512, iteration 5.\n",
      "Starting examples/cytotable_convert_examplehuman_multiprocess_csv.py with examples/data/examplehuman_cellprofiler_features_csv-x1024, iteration 0.\n"
     ]
    },
    {
     "name": "stdout",
     "output_type": "stream",
     "text": [
      "Finished examples/cytotable_convert_examplehuman_multiprocess_csv.py with examples/data/examplehuman_cellprofiler_features_csv-x1024, iteration 0.\n",
      "Starting examples/cytotable_convert_examplehuman_multiprocess_csv.py with examples/data/examplehuman_cellprofiler_features_csv-x1024, iteration 1.\n"
     ]
    },
    {
     "name": "stdout",
     "output_type": "stream",
     "text": [
      "Finished examples/cytotable_convert_examplehuman_multiprocess_csv.py with examples/data/examplehuman_cellprofiler_features_csv-x1024, iteration 1.\n",
      "Starting examples/cytotable_convert_examplehuman_multiprocess_csv.py with examples/data/examplehuman_cellprofiler_features_csv-x1024, iteration 2.\n"
     ]
    },
    {
     "name": "stdout",
     "output_type": "stream",
     "text": [
      "Finished examples/cytotable_convert_examplehuman_multiprocess_csv.py with examples/data/examplehuman_cellprofiler_features_csv-x1024, iteration 2.\n",
      "Starting examples/cytotable_convert_examplehuman_multiprocess_csv.py with examples/data/examplehuman_cellprofiler_features_csv-x1024, iteration 3.\n"
     ]
    },
    {
     "name": "stdout",
     "output_type": "stream",
     "text": [
      "Finished examples/cytotable_convert_examplehuman_multiprocess_csv.py with examples/data/examplehuman_cellprofiler_features_csv-x1024, iteration 3.\n",
      "Starting examples/cytotable_convert_examplehuman_multiprocess_csv.py with examples/data/examplehuman_cellprofiler_features_csv-x1024, iteration 4.\n"
     ]
    },
    {
     "name": "stdout",
     "output_type": "stream",
     "text": [
      "Finished examples/cytotable_convert_examplehuman_multiprocess_csv.py with examples/data/examplehuman_cellprofiler_features_csv-x1024, iteration 4.\n",
      "Starting examples/cytotable_convert_examplehuman_multiprocess_csv.py with examples/data/examplehuman_cellprofiler_features_csv-x1024, iteration 5.\n"
     ]
    },
    {
     "name": "stdout",
     "output_type": "stream",
     "text": [
      "Finished examples/cytotable_convert_examplehuman_multiprocess_csv.py with examples/data/examplehuman_cellprofiler_features_csv-x1024, iteration 5.\n",
      "Starting examples/cytotable_convert_examplehuman_multiprocess_csv.py with examples/data/examplehuman_cellprofiler_features_csv-x2048, iteration 0.\n"
     ]
    },
    {
     "name": "stdout",
     "output_type": "stream",
     "text": [
      "Finished examples/cytotable_convert_examplehuman_multiprocess_csv.py with examples/data/examplehuman_cellprofiler_features_csv-x2048, iteration 0.\n",
      "Starting examples/cytotable_convert_examplehuman_multiprocess_csv.py with examples/data/examplehuman_cellprofiler_features_csv-x2048, iteration 1.\n"
     ]
    },
    {
     "name": "stdout",
     "output_type": "stream",
     "text": [
      "Finished examples/cytotable_convert_examplehuman_multiprocess_csv.py with examples/data/examplehuman_cellprofiler_features_csv-x2048, iteration 1.\n",
      "Starting examples/cytotable_convert_examplehuman_multiprocess_csv.py with examples/data/examplehuman_cellprofiler_features_csv-x2048, iteration 2.\n"
     ]
    },
    {
     "name": "stdout",
     "output_type": "stream",
     "text": [
      "Finished examples/cytotable_convert_examplehuman_multiprocess_csv.py with examples/data/examplehuman_cellprofiler_features_csv-x2048, iteration 2.\n",
      "Starting examples/cytotable_convert_examplehuman_multiprocess_csv.py with examples/data/examplehuman_cellprofiler_features_csv-x2048, iteration 3.\n"
     ]
    },
    {
     "name": "stdout",
     "output_type": "stream",
     "text": [
      "Finished examples/cytotable_convert_examplehuman_multiprocess_csv.py with examples/data/examplehuman_cellprofiler_features_csv-x2048, iteration 3.\n",
      "Starting examples/cytotable_convert_examplehuman_multiprocess_csv.py with examples/data/examplehuman_cellprofiler_features_csv-x2048, iteration 4.\n"
     ]
    },
    {
     "name": "stdout",
     "output_type": "stream",
     "text": [
      "Finished examples/cytotable_convert_examplehuman_multiprocess_csv.py with examples/data/examplehuman_cellprofiler_features_csv-x2048, iteration 4.\n",
      "Starting examples/cytotable_convert_examplehuman_multiprocess_csv.py with examples/data/examplehuman_cellprofiler_features_csv-x2048, iteration 5.\n"
     ]
    },
    {
     "name": "stdout",
     "output_type": "stream",
     "text": [
      "Finished examples/cytotable_convert_examplehuman_multiprocess_csv.py with examples/data/examplehuman_cellprofiler_features_csv-x2048, iteration 5.\n",
      "Starting examples/cytotable_convert_examplehuman_multiprocess_csv.py with examples/data/examplehuman_cellprofiler_features_csv-x4096, iteration 0.\n"
     ]
    },
    {
     "name": "stdout",
     "output_type": "stream",
     "text": [
      "Finished examples/cytotable_convert_examplehuman_multiprocess_csv.py with examples/data/examplehuman_cellprofiler_features_csv-x4096, iteration 0.\n",
      "Starting examples/cytotable_convert_examplehuman_multiprocess_csv.py with examples/data/examplehuman_cellprofiler_features_csv-x4096, iteration 1.\n"
     ]
    },
    {
     "name": "stdout",
     "output_type": "stream",
     "text": [
      "Finished examples/cytotable_convert_examplehuman_multiprocess_csv.py with examples/data/examplehuman_cellprofiler_features_csv-x4096, iteration 1.\n",
      "Starting examples/cytotable_convert_examplehuman_multiprocess_csv.py with examples/data/examplehuman_cellprofiler_features_csv-x4096, iteration 2.\n"
     ]
    },
    {
     "name": "stdout",
     "output_type": "stream",
     "text": [
      "Finished examples/cytotable_convert_examplehuman_multiprocess_csv.py with examples/data/examplehuman_cellprofiler_features_csv-x4096, iteration 2.\n",
      "Starting examples/cytotable_convert_examplehuman_multiprocess_csv.py with examples/data/examplehuman_cellprofiler_features_csv-x4096, iteration 3.\n"
     ]
    },
    {
     "name": "stdout",
     "output_type": "stream",
     "text": [
      "Finished examples/cytotable_convert_examplehuman_multiprocess_csv.py with examples/data/examplehuman_cellprofiler_features_csv-x4096, iteration 3.\n",
      "Starting examples/cytotable_convert_examplehuman_multiprocess_csv.py with examples/data/examplehuman_cellprofiler_features_csv-x4096, iteration 4.\n"
     ]
    },
    {
     "name": "stdout",
     "output_type": "stream",
     "text": [
      "Finished examples/cytotable_convert_examplehuman_multiprocess_csv.py with examples/data/examplehuman_cellprofiler_features_csv-x4096, iteration 4.\n",
      "Starting examples/cytotable_convert_examplehuman_multiprocess_csv.py with examples/data/examplehuman_cellprofiler_features_csv-x4096, iteration 5.\n"
     ]
    },
    {
     "name": "stdout",
     "output_type": "stream",
     "text": [
      "Finished examples/cytotable_convert_examplehuman_multiprocess_csv.py with examples/data/examplehuman_cellprofiler_features_csv-x4096, iteration 5.\n",
      "Starting examples/cytotable_convert_examplehuman_multiprocess_csv.py with examples/data/examplehuman_cellprofiler_features_csv-x8192, iteration 0.\n"
     ]
    },
    {
     "name": "stdout",
     "output_type": "stream",
     "text": [
      "Finished examples/cytotable_convert_examplehuman_multiprocess_csv.py with examples/data/examplehuman_cellprofiler_features_csv-x8192, iteration 0.\n",
      "Starting examples/cytotable_convert_examplehuman_multiprocess_csv.py with examples/data/examplehuman_cellprofiler_features_csv-x8192, iteration 1.\n"
     ]
    },
    {
     "name": "stdout",
     "output_type": "stream",
     "text": [
      "Finished examples/cytotable_convert_examplehuman_multiprocess_csv.py with examples/data/examplehuman_cellprofiler_features_csv-x8192, iteration 1.\n",
      "Starting examples/cytotable_convert_examplehuman_multiprocess_csv.py with examples/data/examplehuman_cellprofiler_features_csv-x8192, iteration 2.\n"
     ]
    },
    {
     "name": "stdout",
     "output_type": "stream",
     "text": [
      "Finished examples/cytotable_convert_examplehuman_multiprocess_csv.py with examples/data/examplehuman_cellprofiler_features_csv-x8192, iteration 2.\n",
      "Starting examples/cytotable_convert_examplehuman_multiprocess_csv.py with examples/data/examplehuman_cellprofiler_features_csv-x8192, iteration 3.\n"
     ]
    },
    {
     "name": "stdout",
     "output_type": "stream",
     "text": [
      "Finished examples/cytotable_convert_examplehuman_multiprocess_csv.py with examples/data/examplehuman_cellprofiler_features_csv-x8192, iteration 3.\n",
      "Starting examples/cytotable_convert_examplehuman_multiprocess_csv.py with examples/data/examplehuman_cellprofiler_features_csv-x8192, iteration 4.\n"
     ]
    },
    {
     "name": "stdout",
     "output_type": "stream",
     "text": [
      "Finished examples/cytotable_convert_examplehuman_multiprocess_csv.py with examples/data/examplehuman_cellprofiler_features_csv-x8192, iteration 4.\n",
      "Starting examples/cytotable_convert_examplehuman_multiprocess_csv.py with examples/data/examplehuman_cellprofiler_features_csv-x8192, iteration 5.\n"
     ]
    },
    {
     "name": "stdout",
     "output_type": "stream",
     "text": [
      "Finished examples/cytotable_convert_examplehuman_multiprocess_csv.py with examples/data/examplehuman_cellprofiler_features_csv-x8192, iteration 5.\n",
      "Starting examples/cytotable_convert_examplehuman_multithread_csv.py with examples/data/examplehuman_cellprofiler_features_csv, iteration 0.\n"
     ]
    },
    {
     "name": "stdout",
     "output_type": "stream",
     "text": [
      "Finished examples/cytotable_convert_examplehuman_multithread_csv.py with examples/data/examplehuman_cellprofiler_features_csv, iteration 0.\n",
      "Starting examples/cytotable_convert_examplehuman_multithread_csv.py with examples/data/examplehuman_cellprofiler_features_csv, iteration 1.\n"
     ]
    },
    {
     "name": "stdout",
     "output_type": "stream",
     "text": [
      "Finished examples/cytotable_convert_examplehuman_multithread_csv.py with examples/data/examplehuman_cellprofiler_features_csv, iteration 1.\n",
      "Starting examples/cytotable_convert_examplehuman_multithread_csv.py with examples/data/examplehuman_cellprofiler_features_csv, iteration 2.\n"
     ]
    },
    {
     "name": "stdout",
     "output_type": "stream",
     "text": [
      "Finished examples/cytotable_convert_examplehuman_multithread_csv.py with examples/data/examplehuman_cellprofiler_features_csv, iteration 2.\n",
      "Starting examples/cytotable_convert_examplehuman_multithread_csv.py with examples/data/examplehuman_cellprofiler_features_csv, iteration 3.\n"
     ]
    },
    {
     "name": "stdout",
     "output_type": "stream",
     "text": [
      "Finished examples/cytotable_convert_examplehuman_multithread_csv.py with examples/data/examplehuman_cellprofiler_features_csv, iteration 3.\n",
      "Starting examples/cytotable_convert_examplehuman_multithread_csv.py with examples/data/examplehuman_cellprofiler_features_csv, iteration 4.\n"
     ]
    },
    {
     "name": "stdout",
     "output_type": "stream",
     "text": [
      "Finished examples/cytotable_convert_examplehuman_multithread_csv.py with examples/data/examplehuman_cellprofiler_features_csv, iteration 4.\n",
      "Starting examples/cytotable_convert_examplehuman_multithread_csv.py with examples/data/examplehuman_cellprofiler_features_csv, iteration 5.\n"
     ]
    },
    {
     "name": "stdout",
     "output_type": "stream",
     "text": [
      "Finished examples/cytotable_convert_examplehuman_multithread_csv.py with examples/data/examplehuman_cellprofiler_features_csv, iteration 5.\n",
      "Starting examples/cytotable_convert_examplehuman_multithread_csv.py with examples/data/examplehuman_cellprofiler_features_csv-x2, iteration 0.\n"
     ]
    },
    {
     "name": "stdout",
     "output_type": "stream",
     "text": [
      "Finished examples/cytotable_convert_examplehuman_multithread_csv.py with examples/data/examplehuman_cellprofiler_features_csv-x2, iteration 0.\n",
      "Starting examples/cytotable_convert_examplehuman_multithread_csv.py with examples/data/examplehuman_cellprofiler_features_csv-x2, iteration 1.\n"
     ]
    },
    {
     "name": "stdout",
     "output_type": "stream",
     "text": [
      "Finished examples/cytotable_convert_examplehuman_multithread_csv.py with examples/data/examplehuman_cellprofiler_features_csv-x2, iteration 1.\n",
      "Starting examples/cytotable_convert_examplehuman_multithread_csv.py with examples/data/examplehuman_cellprofiler_features_csv-x2, iteration 2.\n"
     ]
    },
    {
     "name": "stdout",
     "output_type": "stream",
     "text": [
      "Finished examples/cytotable_convert_examplehuman_multithread_csv.py with examples/data/examplehuman_cellprofiler_features_csv-x2, iteration 2.\n",
      "Starting examples/cytotable_convert_examplehuman_multithread_csv.py with examples/data/examplehuman_cellprofiler_features_csv-x2, iteration 3.\n"
     ]
    },
    {
     "name": "stdout",
     "output_type": "stream",
     "text": [
      "Finished examples/cytotable_convert_examplehuman_multithread_csv.py with examples/data/examplehuman_cellprofiler_features_csv-x2, iteration 3.\n",
      "Starting examples/cytotable_convert_examplehuman_multithread_csv.py with examples/data/examplehuman_cellprofiler_features_csv-x2, iteration 4.\n"
     ]
    },
    {
     "name": "stdout",
     "output_type": "stream",
     "text": [
      "Finished examples/cytotable_convert_examplehuman_multithread_csv.py with examples/data/examplehuman_cellprofiler_features_csv-x2, iteration 4.\n",
      "Starting examples/cytotable_convert_examplehuman_multithread_csv.py with examples/data/examplehuman_cellprofiler_features_csv-x2, iteration 5.\n"
     ]
    },
    {
     "name": "stdout",
     "output_type": "stream",
     "text": [
      "Finished examples/cytotable_convert_examplehuman_multithread_csv.py with examples/data/examplehuman_cellprofiler_features_csv-x2, iteration 5.\n",
      "Starting examples/cytotable_convert_examplehuman_multithread_csv.py with examples/data/examplehuman_cellprofiler_features_csv-x4, iteration 0.\n"
     ]
    },
    {
     "name": "stdout",
     "output_type": "stream",
     "text": [
      "Finished examples/cytotable_convert_examplehuman_multithread_csv.py with examples/data/examplehuman_cellprofiler_features_csv-x4, iteration 0.\n",
      "Starting examples/cytotable_convert_examplehuman_multithread_csv.py with examples/data/examplehuman_cellprofiler_features_csv-x4, iteration 1.\n"
     ]
    },
    {
     "name": "stdout",
     "output_type": "stream",
     "text": [
      "Finished examples/cytotable_convert_examplehuman_multithread_csv.py with examples/data/examplehuman_cellprofiler_features_csv-x4, iteration 1.\n",
      "Starting examples/cytotable_convert_examplehuman_multithread_csv.py with examples/data/examplehuman_cellprofiler_features_csv-x4, iteration 2.\n"
     ]
    },
    {
     "name": "stdout",
     "output_type": "stream",
     "text": [
      "Finished examples/cytotable_convert_examplehuman_multithread_csv.py with examples/data/examplehuman_cellprofiler_features_csv-x4, iteration 2.\n",
      "Starting examples/cytotable_convert_examplehuman_multithread_csv.py with examples/data/examplehuman_cellprofiler_features_csv-x4, iteration 3.\n"
     ]
    },
    {
     "name": "stdout",
     "output_type": "stream",
     "text": [
      "Finished examples/cytotable_convert_examplehuman_multithread_csv.py with examples/data/examplehuman_cellprofiler_features_csv-x4, iteration 3.\n",
      "Starting examples/cytotable_convert_examplehuman_multithread_csv.py with examples/data/examplehuman_cellprofiler_features_csv-x4, iteration 4.\n"
     ]
    },
    {
     "name": "stdout",
     "output_type": "stream",
     "text": [
      "Finished examples/cytotable_convert_examplehuman_multithread_csv.py with examples/data/examplehuman_cellprofiler_features_csv-x4, iteration 4.\n",
      "Starting examples/cytotable_convert_examplehuman_multithread_csv.py with examples/data/examplehuman_cellprofiler_features_csv-x4, iteration 5.\n"
     ]
    },
    {
     "name": "stdout",
     "output_type": "stream",
     "text": [
      "Finished examples/cytotable_convert_examplehuman_multithread_csv.py with examples/data/examplehuman_cellprofiler_features_csv-x4, iteration 5.\n",
      "Starting examples/cytotable_convert_examplehuman_multithread_csv.py with examples/data/examplehuman_cellprofiler_features_csv-x8, iteration 0.\n"
     ]
    },
    {
     "name": "stdout",
     "output_type": "stream",
     "text": [
      "Finished examples/cytotable_convert_examplehuman_multithread_csv.py with examples/data/examplehuman_cellprofiler_features_csv-x8, iteration 0.\n",
      "Starting examples/cytotable_convert_examplehuman_multithread_csv.py with examples/data/examplehuman_cellprofiler_features_csv-x8, iteration 1.\n"
     ]
    },
    {
     "name": "stdout",
     "output_type": "stream",
     "text": [
      "Finished examples/cytotable_convert_examplehuman_multithread_csv.py with examples/data/examplehuman_cellprofiler_features_csv-x8, iteration 1.\n",
      "Starting examples/cytotable_convert_examplehuman_multithread_csv.py with examples/data/examplehuman_cellprofiler_features_csv-x8, iteration 2.\n"
     ]
    },
    {
     "name": "stdout",
     "output_type": "stream",
     "text": [
      "Finished examples/cytotable_convert_examplehuman_multithread_csv.py with examples/data/examplehuman_cellprofiler_features_csv-x8, iteration 2.\n",
      "Starting examples/cytotable_convert_examplehuman_multithread_csv.py with examples/data/examplehuman_cellprofiler_features_csv-x8, iteration 3.\n"
     ]
    },
    {
     "name": "stdout",
     "output_type": "stream",
     "text": [
      "Finished examples/cytotable_convert_examplehuman_multithread_csv.py with examples/data/examplehuman_cellprofiler_features_csv-x8, iteration 3.\n",
      "Starting examples/cytotable_convert_examplehuman_multithread_csv.py with examples/data/examplehuman_cellprofiler_features_csv-x8, iteration 4.\n"
     ]
    },
    {
     "name": "stdout",
     "output_type": "stream",
     "text": [
      "Finished examples/cytotable_convert_examplehuman_multithread_csv.py with examples/data/examplehuman_cellprofiler_features_csv-x8, iteration 4.\n",
      "Starting examples/cytotable_convert_examplehuman_multithread_csv.py with examples/data/examplehuman_cellprofiler_features_csv-x8, iteration 5.\n"
     ]
    },
    {
     "name": "stdout",
     "output_type": "stream",
     "text": [
      "Finished examples/cytotable_convert_examplehuman_multithread_csv.py with examples/data/examplehuman_cellprofiler_features_csv-x8, iteration 5.\n",
      "Starting examples/cytotable_convert_examplehuman_multithread_csv.py with examples/data/examplehuman_cellprofiler_features_csv-x16, iteration 0.\n"
     ]
    },
    {
     "name": "stdout",
     "output_type": "stream",
     "text": [
      "Finished examples/cytotable_convert_examplehuman_multithread_csv.py with examples/data/examplehuman_cellprofiler_features_csv-x16, iteration 0.\n",
      "Starting examples/cytotable_convert_examplehuman_multithread_csv.py with examples/data/examplehuman_cellprofiler_features_csv-x16, iteration 1.\n"
     ]
    },
    {
     "name": "stdout",
     "output_type": "stream",
     "text": [
      "Finished examples/cytotable_convert_examplehuman_multithread_csv.py with examples/data/examplehuman_cellprofiler_features_csv-x16, iteration 1.\n",
      "Starting examples/cytotable_convert_examplehuman_multithread_csv.py with examples/data/examplehuman_cellprofiler_features_csv-x16, iteration 2.\n"
     ]
    },
    {
     "name": "stdout",
     "output_type": "stream",
     "text": [
      "Finished examples/cytotable_convert_examplehuman_multithread_csv.py with examples/data/examplehuman_cellprofiler_features_csv-x16, iteration 2.\n",
      "Starting examples/cytotable_convert_examplehuman_multithread_csv.py with examples/data/examplehuman_cellprofiler_features_csv-x16, iteration 3.\n"
     ]
    },
    {
     "name": "stdout",
     "output_type": "stream",
     "text": [
      "Finished examples/cytotable_convert_examplehuman_multithread_csv.py with examples/data/examplehuman_cellprofiler_features_csv-x16, iteration 3.\n",
      "Starting examples/cytotable_convert_examplehuman_multithread_csv.py with examples/data/examplehuman_cellprofiler_features_csv-x16, iteration 4.\n"
     ]
    },
    {
     "name": "stdout",
     "output_type": "stream",
     "text": [
      "Finished examples/cytotable_convert_examplehuman_multithread_csv.py with examples/data/examplehuman_cellprofiler_features_csv-x16, iteration 4.\n",
      "Starting examples/cytotable_convert_examplehuman_multithread_csv.py with examples/data/examplehuman_cellprofiler_features_csv-x16, iteration 5.\n"
     ]
    },
    {
     "name": "stdout",
     "output_type": "stream",
     "text": [
      "Finished examples/cytotable_convert_examplehuman_multithread_csv.py with examples/data/examplehuman_cellprofiler_features_csv-x16, iteration 5.\n",
      "Starting examples/cytotable_convert_examplehuman_multithread_csv.py with examples/data/examplehuman_cellprofiler_features_csv-x32, iteration 0.\n"
     ]
    },
    {
     "name": "stdout",
     "output_type": "stream",
     "text": [
      "Finished examples/cytotable_convert_examplehuman_multithread_csv.py with examples/data/examplehuman_cellprofiler_features_csv-x32, iteration 0.\n",
      "Starting examples/cytotable_convert_examplehuman_multithread_csv.py with examples/data/examplehuman_cellprofiler_features_csv-x32, iteration 1.\n"
     ]
    },
    {
     "name": "stdout",
     "output_type": "stream",
     "text": [
      "Finished examples/cytotable_convert_examplehuman_multithread_csv.py with examples/data/examplehuman_cellprofiler_features_csv-x32, iteration 1.\n",
      "Starting examples/cytotable_convert_examplehuman_multithread_csv.py with examples/data/examplehuman_cellprofiler_features_csv-x32, iteration 2.\n"
     ]
    },
    {
     "name": "stdout",
     "output_type": "stream",
     "text": [
      "Finished examples/cytotable_convert_examplehuman_multithread_csv.py with examples/data/examplehuman_cellprofiler_features_csv-x32, iteration 2.\n",
      "Starting examples/cytotable_convert_examplehuman_multithread_csv.py with examples/data/examplehuman_cellprofiler_features_csv-x32, iteration 3.\n"
     ]
    },
    {
     "name": "stdout",
     "output_type": "stream",
     "text": [
      "Finished examples/cytotable_convert_examplehuman_multithread_csv.py with examples/data/examplehuman_cellprofiler_features_csv-x32, iteration 3.\n",
      "Starting examples/cytotable_convert_examplehuman_multithread_csv.py with examples/data/examplehuman_cellprofiler_features_csv-x32, iteration 4.\n"
     ]
    },
    {
     "name": "stdout",
     "output_type": "stream",
     "text": [
      "Finished examples/cytotable_convert_examplehuman_multithread_csv.py with examples/data/examplehuman_cellprofiler_features_csv-x32, iteration 4.\n",
      "Starting examples/cytotable_convert_examplehuman_multithread_csv.py with examples/data/examplehuman_cellprofiler_features_csv-x32, iteration 5.\n"
     ]
    },
    {
     "name": "stdout",
     "output_type": "stream",
     "text": [
      "Finished examples/cytotable_convert_examplehuman_multithread_csv.py with examples/data/examplehuman_cellprofiler_features_csv-x32, iteration 5.\n",
      "Starting examples/cytotable_convert_examplehuman_multithread_csv.py with examples/data/examplehuman_cellprofiler_features_csv-x64, iteration 0.\n"
     ]
    },
    {
     "name": "stdout",
     "output_type": "stream",
     "text": [
      "Finished examples/cytotable_convert_examplehuman_multithread_csv.py with examples/data/examplehuman_cellprofiler_features_csv-x64, iteration 0.\n",
      "Starting examples/cytotable_convert_examplehuman_multithread_csv.py with examples/data/examplehuman_cellprofiler_features_csv-x64, iteration 1.\n"
     ]
    },
    {
     "name": "stdout",
     "output_type": "stream",
     "text": [
      "Finished examples/cytotable_convert_examplehuman_multithread_csv.py with examples/data/examplehuman_cellprofiler_features_csv-x64, iteration 1.\n",
      "Starting examples/cytotable_convert_examplehuman_multithread_csv.py with examples/data/examplehuman_cellprofiler_features_csv-x64, iteration 2.\n"
     ]
    },
    {
     "name": "stdout",
     "output_type": "stream",
     "text": [
      "Finished examples/cytotable_convert_examplehuman_multithread_csv.py with examples/data/examplehuman_cellprofiler_features_csv-x64, iteration 2.\n",
      "Starting examples/cytotable_convert_examplehuman_multithread_csv.py with examples/data/examplehuman_cellprofiler_features_csv-x64, iteration 3.\n"
     ]
    },
    {
     "name": "stdout",
     "output_type": "stream",
     "text": [
      "Finished examples/cytotable_convert_examplehuman_multithread_csv.py with examples/data/examplehuman_cellprofiler_features_csv-x64, iteration 3.\n",
      "Starting examples/cytotable_convert_examplehuman_multithread_csv.py with examples/data/examplehuman_cellprofiler_features_csv-x64, iteration 4.\n"
     ]
    },
    {
     "name": "stdout",
     "output_type": "stream",
     "text": [
      "Finished examples/cytotable_convert_examplehuman_multithread_csv.py with examples/data/examplehuman_cellprofiler_features_csv-x64, iteration 4.\n",
      "Starting examples/cytotable_convert_examplehuman_multithread_csv.py with examples/data/examplehuman_cellprofiler_features_csv-x64, iteration 5.\n"
     ]
    },
    {
     "name": "stdout",
     "output_type": "stream",
     "text": [
      "Finished examples/cytotable_convert_examplehuman_multithread_csv.py with examples/data/examplehuman_cellprofiler_features_csv-x64, iteration 5.\n",
      "Starting examples/cytotable_convert_examplehuman_multithread_csv.py with examples/data/examplehuman_cellprofiler_features_csv-x128, iteration 0.\n"
     ]
    },
    {
     "name": "stdout",
     "output_type": "stream",
     "text": [
      "Finished examples/cytotable_convert_examplehuman_multithread_csv.py with examples/data/examplehuman_cellprofiler_features_csv-x128, iteration 0.\n",
      "Starting examples/cytotable_convert_examplehuman_multithread_csv.py with examples/data/examplehuman_cellprofiler_features_csv-x128, iteration 1.\n"
     ]
    },
    {
     "name": "stdout",
     "output_type": "stream",
     "text": [
      "Finished examples/cytotable_convert_examplehuman_multithread_csv.py with examples/data/examplehuman_cellprofiler_features_csv-x128, iteration 1.\n",
      "Starting examples/cytotable_convert_examplehuman_multithread_csv.py with examples/data/examplehuman_cellprofiler_features_csv-x128, iteration 2.\n"
     ]
    },
    {
     "name": "stdout",
     "output_type": "stream",
     "text": [
      "Finished examples/cytotable_convert_examplehuman_multithread_csv.py with examples/data/examplehuman_cellprofiler_features_csv-x128, iteration 2.\n",
      "Starting examples/cytotable_convert_examplehuman_multithread_csv.py with examples/data/examplehuman_cellprofiler_features_csv-x128, iteration 3.\n"
     ]
    },
    {
     "name": "stdout",
     "output_type": "stream",
     "text": [
      "Finished examples/cytotable_convert_examplehuman_multithread_csv.py with examples/data/examplehuman_cellprofiler_features_csv-x128, iteration 3.\n",
      "Starting examples/cytotable_convert_examplehuman_multithread_csv.py with examples/data/examplehuman_cellprofiler_features_csv-x128, iteration 4.\n"
     ]
    },
    {
     "name": "stdout",
     "output_type": "stream",
     "text": [
      "Finished examples/cytotable_convert_examplehuman_multithread_csv.py with examples/data/examplehuman_cellprofiler_features_csv-x128, iteration 4.\n",
      "Starting examples/cytotable_convert_examplehuman_multithread_csv.py with examples/data/examplehuman_cellprofiler_features_csv-x128, iteration 5.\n"
     ]
    },
    {
     "name": "stdout",
     "output_type": "stream",
     "text": [
      "Finished examples/cytotable_convert_examplehuman_multithread_csv.py with examples/data/examplehuman_cellprofiler_features_csv-x128, iteration 5.\n",
      "Starting examples/cytotable_convert_examplehuman_multithread_csv.py with examples/data/examplehuman_cellprofiler_features_csv-x256, iteration 0.\n"
     ]
    },
    {
     "name": "stdout",
     "output_type": "stream",
     "text": [
      "Finished examples/cytotable_convert_examplehuman_multithread_csv.py with examples/data/examplehuman_cellprofiler_features_csv-x256, iteration 0.\n",
      "Starting examples/cytotable_convert_examplehuman_multithread_csv.py with examples/data/examplehuman_cellprofiler_features_csv-x256, iteration 1.\n"
     ]
    },
    {
     "name": "stdout",
     "output_type": "stream",
     "text": [
      "Finished examples/cytotable_convert_examplehuman_multithread_csv.py with examples/data/examplehuman_cellprofiler_features_csv-x256, iteration 1.\n",
      "Starting examples/cytotable_convert_examplehuman_multithread_csv.py with examples/data/examplehuman_cellprofiler_features_csv-x256, iteration 2.\n"
     ]
    },
    {
     "name": "stdout",
     "output_type": "stream",
     "text": [
      "Finished examples/cytotable_convert_examplehuman_multithread_csv.py with examples/data/examplehuman_cellprofiler_features_csv-x256, iteration 2.\n",
      "Starting examples/cytotable_convert_examplehuman_multithread_csv.py with examples/data/examplehuman_cellprofiler_features_csv-x256, iteration 3.\n"
     ]
    },
    {
     "name": "stdout",
     "output_type": "stream",
     "text": [
      "Finished examples/cytotable_convert_examplehuman_multithread_csv.py with examples/data/examplehuman_cellprofiler_features_csv-x256, iteration 3.\n",
      "Starting examples/cytotable_convert_examplehuman_multithread_csv.py with examples/data/examplehuman_cellprofiler_features_csv-x256, iteration 4.\n"
     ]
    },
    {
     "name": "stdout",
     "output_type": "stream",
     "text": [
      "Finished examples/cytotable_convert_examplehuman_multithread_csv.py with examples/data/examplehuman_cellprofiler_features_csv-x256, iteration 4.\n",
      "Starting examples/cytotable_convert_examplehuman_multithread_csv.py with examples/data/examplehuman_cellprofiler_features_csv-x256, iteration 5.\n"
     ]
    },
    {
     "name": "stdout",
     "output_type": "stream",
     "text": [
      "Finished examples/cytotable_convert_examplehuman_multithread_csv.py with examples/data/examplehuman_cellprofiler_features_csv-x256, iteration 5.\n",
      "Starting examples/cytotable_convert_examplehuman_multithread_csv.py with examples/data/examplehuman_cellprofiler_features_csv-x512, iteration 0.\n"
     ]
    },
    {
     "name": "stdout",
     "output_type": "stream",
     "text": [
      "Finished examples/cytotable_convert_examplehuman_multithread_csv.py with examples/data/examplehuman_cellprofiler_features_csv-x512, iteration 0.\n",
      "Starting examples/cytotable_convert_examplehuman_multithread_csv.py with examples/data/examplehuman_cellprofiler_features_csv-x512, iteration 1.\n"
     ]
    },
    {
     "name": "stdout",
     "output_type": "stream",
     "text": [
      "Finished examples/cytotable_convert_examplehuman_multithread_csv.py with examples/data/examplehuman_cellprofiler_features_csv-x512, iteration 1.\n",
      "Starting examples/cytotable_convert_examplehuman_multithread_csv.py with examples/data/examplehuman_cellprofiler_features_csv-x512, iteration 2.\n"
     ]
    },
    {
     "name": "stdout",
     "output_type": "stream",
     "text": [
      "Finished examples/cytotable_convert_examplehuman_multithread_csv.py with examples/data/examplehuman_cellprofiler_features_csv-x512, iteration 2.\n",
      "Starting examples/cytotable_convert_examplehuman_multithread_csv.py with examples/data/examplehuman_cellprofiler_features_csv-x512, iteration 3.\n"
     ]
    },
    {
     "name": "stdout",
     "output_type": "stream",
     "text": [
      "Finished examples/cytotable_convert_examplehuman_multithread_csv.py with examples/data/examplehuman_cellprofiler_features_csv-x512, iteration 3.\n",
      "Starting examples/cytotable_convert_examplehuman_multithread_csv.py with examples/data/examplehuman_cellprofiler_features_csv-x512, iteration 4.\n"
     ]
    },
    {
     "name": "stdout",
     "output_type": "stream",
     "text": [
      "Finished examples/cytotable_convert_examplehuman_multithread_csv.py with examples/data/examplehuman_cellprofiler_features_csv-x512, iteration 4.\n",
      "Starting examples/cytotable_convert_examplehuman_multithread_csv.py with examples/data/examplehuman_cellprofiler_features_csv-x512, iteration 5.\n"
     ]
    },
    {
     "name": "stdout",
     "output_type": "stream",
     "text": [
      "Finished examples/cytotable_convert_examplehuman_multithread_csv.py with examples/data/examplehuman_cellprofiler_features_csv-x512, iteration 5.\n",
      "Starting examples/cytotable_convert_examplehuman_multithread_csv.py with examples/data/examplehuman_cellprofiler_features_csv-x1024, iteration 0.\n"
     ]
    },
    {
     "name": "stdout",
     "output_type": "stream",
     "text": [
      "Finished examples/cytotable_convert_examplehuman_multithread_csv.py with examples/data/examplehuman_cellprofiler_features_csv-x1024, iteration 0.\n",
      "Starting examples/cytotable_convert_examplehuman_multithread_csv.py with examples/data/examplehuman_cellprofiler_features_csv-x1024, iteration 1.\n"
     ]
    },
    {
     "name": "stdout",
     "output_type": "stream",
     "text": [
      "Finished examples/cytotable_convert_examplehuman_multithread_csv.py with examples/data/examplehuman_cellprofiler_features_csv-x1024, iteration 1.\n",
      "Starting examples/cytotable_convert_examplehuman_multithread_csv.py with examples/data/examplehuman_cellprofiler_features_csv-x1024, iteration 2.\n"
     ]
    },
    {
     "name": "stdout",
     "output_type": "stream",
     "text": [
      "Finished examples/cytotable_convert_examplehuman_multithread_csv.py with examples/data/examplehuman_cellprofiler_features_csv-x1024, iteration 2.\n",
      "Starting examples/cytotable_convert_examplehuman_multithread_csv.py with examples/data/examplehuman_cellprofiler_features_csv-x1024, iteration 3.\n"
     ]
    },
    {
     "name": "stdout",
     "output_type": "stream",
     "text": [
      "Finished examples/cytotable_convert_examplehuman_multithread_csv.py with examples/data/examplehuman_cellprofiler_features_csv-x1024, iteration 3.\n",
      "Starting examples/cytotable_convert_examplehuman_multithread_csv.py with examples/data/examplehuman_cellprofiler_features_csv-x1024, iteration 4.\n"
     ]
    },
    {
     "name": "stdout",
     "output_type": "stream",
     "text": [
      "Finished examples/cytotable_convert_examplehuman_multithread_csv.py with examples/data/examplehuman_cellprofiler_features_csv-x1024, iteration 4.\n",
      "Starting examples/cytotable_convert_examplehuman_multithread_csv.py with examples/data/examplehuman_cellprofiler_features_csv-x1024, iteration 5.\n"
     ]
    },
    {
     "name": "stdout",
     "output_type": "stream",
     "text": [
      "Finished examples/cytotable_convert_examplehuman_multithread_csv.py with examples/data/examplehuman_cellprofiler_features_csv-x1024, iteration 5.\n",
      "Starting examples/cytotable_convert_examplehuman_multithread_csv.py with examples/data/examplehuman_cellprofiler_features_csv-x2048, iteration 0.\n"
     ]
    },
    {
     "name": "stdout",
     "output_type": "stream",
     "text": [
      "Finished examples/cytotable_convert_examplehuman_multithread_csv.py with examples/data/examplehuman_cellprofiler_features_csv-x2048, iteration 0.\n",
      "Starting examples/cytotable_convert_examplehuman_multithread_csv.py with examples/data/examplehuman_cellprofiler_features_csv-x2048, iteration 1.\n"
     ]
    },
    {
     "name": "stdout",
     "output_type": "stream",
     "text": [
      "Finished examples/cytotable_convert_examplehuman_multithread_csv.py with examples/data/examplehuman_cellprofiler_features_csv-x2048, iteration 1.\n",
      "Starting examples/cytotable_convert_examplehuman_multithread_csv.py with examples/data/examplehuman_cellprofiler_features_csv-x2048, iteration 2.\n"
     ]
    },
    {
     "name": "stdout",
     "output_type": "stream",
     "text": [
      "Finished examples/cytotable_convert_examplehuman_multithread_csv.py with examples/data/examplehuman_cellprofiler_features_csv-x2048, iteration 2.\n",
      "Starting examples/cytotable_convert_examplehuman_multithread_csv.py with examples/data/examplehuman_cellprofiler_features_csv-x2048, iteration 3.\n"
     ]
    },
    {
     "name": "stdout",
     "output_type": "stream",
     "text": [
      "Finished examples/cytotable_convert_examplehuman_multithread_csv.py with examples/data/examplehuman_cellprofiler_features_csv-x2048, iteration 3.\n",
      "Starting examples/cytotable_convert_examplehuman_multithread_csv.py with examples/data/examplehuman_cellprofiler_features_csv-x2048, iteration 4.\n"
     ]
    },
    {
     "name": "stdout",
     "output_type": "stream",
     "text": [
      "Finished examples/cytotable_convert_examplehuman_multithread_csv.py with examples/data/examplehuman_cellprofiler_features_csv-x2048, iteration 4.\n",
      "Starting examples/cytotable_convert_examplehuman_multithread_csv.py with examples/data/examplehuman_cellprofiler_features_csv-x2048, iteration 5.\n"
     ]
    },
    {
     "name": "stdout",
     "output_type": "stream",
     "text": [
      "Finished examples/cytotable_convert_examplehuman_multithread_csv.py with examples/data/examplehuman_cellprofiler_features_csv-x2048, iteration 5.\n",
      "Starting examples/cytotable_convert_examplehuman_multithread_csv.py with examples/data/examplehuman_cellprofiler_features_csv-x4096, iteration 0.\n"
     ]
    },
    {
     "name": "stdout",
     "output_type": "stream",
     "text": [
      "Finished examples/cytotable_convert_examplehuman_multithread_csv.py with examples/data/examplehuman_cellprofiler_features_csv-x4096, iteration 0.\n",
      "Starting examples/cytotable_convert_examplehuman_multithread_csv.py with examples/data/examplehuman_cellprofiler_features_csv-x4096, iteration 1.\n"
     ]
    },
    {
     "name": "stdout",
     "output_type": "stream",
     "text": [
      "Finished examples/cytotable_convert_examplehuman_multithread_csv.py with examples/data/examplehuman_cellprofiler_features_csv-x4096, iteration 1.\n",
      "Starting examples/cytotable_convert_examplehuman_multithread_csv.py with examples/data/examplehuman_cellprofiler_features_csv-x4096, iteration 2.\n"
     ]
    },
    {
     "name": "stdout",
     "output_type": "stream",
     "text": [
      "Finished examples/cytotable_convert_examplehuman_multithread_csv.py with examples/data/examplehuman_cellprofiler_features_csv-x4096, iteration 2.\n",
      "Starting examples/cytotable_convert_examplehuman_multithread_csv.py with examples/data/examplehuman_cellprofiler_features_csv-x4096, iteration 3.\n"
     ]
    },
    {
     "name": "stdout",
     "output_type": "stream",
     "text": [
      "Finished examples/cytotable_convert_examplehuman_multithread_csv.py with examples/data/examplehuman_cellprofiler_features_csv-x4096, iteration 3.\n",
      "Starting examples/cytotable_convert_examplehuman_multithread_csv.py with examples/data/examplehuman_cellprofiler_features_csv-x4096, iteration 4.\n"
     ]
    },
    {
     "name": "stdout",
     "output_type": "stream",
     "text": [
      "Finished examples/cytotable_convert_examplehuman_multithread_csv.py with examples/data/examplehuman_cellprofiler_features_csv-x4096, iteration 4.\n",
      "Starting examples/cytotable_convert_examplehuman_multithread_csv.py with examples/data/examplehuman_cellprofiler_features_csv-x4096, iteration 5.\n"
     ]
    },
    {
     "name": "stdout",
     "output_type": "stream",
     "text": [
      "Finished examples/cytotable_convert_examplehuman_multithread_csv.py with examples/data/examplehuman_cellprofiler_features_csv-x4096, iteration 5.\n",
      "Starting examples/cytotable_convert_examplehuman_multithread_csv.py with examples/data/examplehuman_cellprofiler_features_csv-x8192, iteration 0.\n"
     ]
    },
    {
     "name": "stdout",
     "output_type": "stream",
     "text": [
      "Finished examples/cytotable_convert_examplehuman_multithread_csv.py with examples/data/examplehuman_cellprofiler_features_csv-x8192, iteration 0.\n",
      "Starting examples/cytotable_convert_examplehuman_multithread_csv.py with examples/data/examplehuman_cellprofiler_features_csv-x8192, iteration 1.\n"
     ]
    },
    {
     "name": "stdout",
     "output_type": "stream",
     "text": [
      "Finished examples/cytotable_convert_examplehuman_multithread_csv.py with examples/data/examplehuman_cellprofiler_features_csv-x8192, iteration 1.\n",
      "Starting examples/cytotable_convert_examplehuman_multithread_csv.py with examples/data/examplehuman_cellprofiler_features_csv-x8192, iteration 2.\n"
     ]
    },
    {
     "name": "stdout",
     "output_type": "stream",
     "text": [
      "Finished examples/cytotable_convert_examplehuman_multithread_csv.py with examples/data/examplehuman_cellprofiler_features_csv-x8192, iteration 2.\n",
      "Starting examples/cytotable_convert_examplehuman_multithread_csv.py with examples/data/examplehuman_cellprofiler_features_csv-x8192, iteration 3.\n"
     ]
    },
    {
     "name": "stdout",
     "output_type": "stream",
     "text": [
      "Finished examples/cytotable_convert_examplehuman_multithread_csv.py with examples/data/examplehuman_cellprofiler_features_csv-x8192, iteration 3.\n",
      "Starting examples/cytotable_convert_examplehuman_multithread_csv.py with examples/data/examplehuman_cellprofiler_features_csv-x8192, iteration 4.\n"
     ]
    },
    {
     "name": "stdout",
     "output_type": "stream",
     "text": [
      "Finished examples/cytotable_convert_examplehuman_multithread_csv.py with examples/data/examplehuman_cellprofiler_features_csv-x8192, iteration 4.\n",
      "Starting examples/cytotable_convert_examplehuman_multithread_csv.py with examples/data/examplehuman_cellprofiler_features_csv-x8192, iteration 5.\n"
     ]
    },
    {
     "name": "stdout",
     "output_type": "stream",
     "text": [
      "Finished examples/cytotable_convert_examplehuman_multithread_csv.py with examples/data/examplehuman_cellprofiler_features_csv-x8192, iteration 5.\n",
      "Starting examples/pandas_merge_examplehuman_csv.py with examples/data/examplehuman_cellprofiler_features_csv, iteration 0.\n"
     ]
    },
    {
     "name": "stdout",
     "output_type": "stream",
     "text": [
      "Finished examples/pandas_merge_examplehuman_csv.py with examples/data/examplehuman_cellprofiler_features_csv, iteration 0.\n",
      "Starting examples/pandas_merge_examplehuman_csv.py with examples/data/examplehuman_cellprofiler_features_csv, iteration 1.\n"
     ]
    },
    {
     "name": "stdout",
     "output_type": "stream",
     "text": [
      "Finished examples/pandas_merge_examplehuman_csv.py with examples/data/examplehuman_cellprofiler_features_csv, iteration 1.\n",
      "Starting examples/pandas_merge_examplehuman_csv.py with examples/data/examplehuman_cellprofiler_features_csv, iteration 2.\n"
     ]
    },
    {
     "name": "stdout",
     "output_type": "stream",
     "text": [
      "Finished examples/pandas_merge_examplehuman_csv.py with examples/data/examplehuman_cellprofiler_features_csv, iteration 2.\n",
      "Starting examples/pandas_merge_examplehuman_csv.py with examples/data/examplehuman_cellprofiler_features_csv, iteration 3.\n"
     ]
    },
    {
     "name": "stdout",
     "output_type": "stream",
     "text": [
      "Finished examples/pandas_merge_examplehuman_csv.py with examples/data/examplehuman_cellprofiler_features_csv, iteration 3.\n",
      "Starting examples/pandas_merge_examplehuman_csv.py with examples/data/examplehuman_cellprofiler_features_csv, iteration 4.\n"
     ]
    },
    {
     "name": "stdout",
     "output_type": "stream",
     "text": [
      "Finished examples/pandas_merge_examplehuman_csv.py with examples/data/examplehuman_cellprofiler_features_csv, iteration 4.\n",
      "Starting examples/pandas_merge_examplehuman_csv.py with examples/data/examplehuman_cellprofiler_features_csv, iteration 5.\n"
     ]
    },
    {
     "name": "stdout",
     "output_type": "stream",
     "text": [
      "Finished examples/pandas_merge_examplehuman_csv.py with examples/data/examplehuman_cellprofiler_features_csv, iteration 5.\n",
      "Starting examples/pandas_merge_examplehuman_csv.py with examples/data/examplehuman_cellprofiler_features_csv-x2, iteration 0.\n"
     ]
    },
    {
     "name": "stdout",
     "output_type": "stream",
     "text": [
      "Finished examples/pandas_merge_examplehuman_csv.py with examples/data/examplehuman_cellprofiler_features_csv-x2, iteration 0.\n",
      "Starting examples/pandas_merge_examplehuman_csv.py with examples/data/examplehuman_cellprofiler_features_csv-x2, iteration 1.\n"
     ]
    },
    {
     "name": "stdout",
     "output_type": "stream",
     "text": [
      "Finished examples/pandas_merge_examplehuman_csv.py with examples/data/examplehuman_cellprofiler_features_csv-x2, iteration 1.\n",
      "Starting examples/pandas_merge_examplehuman_csv.py with examples/data/examplehuman_cellprofiler_features_csv-x2, iteration 2.\n"
     ]
    },
    {
     "name": "stdout",
     "output_type": "stream",
     "text": [
      "Finished examples/pandas_merge_examplehuman_csv.py with examples/data/examplehuman_cellprofiler_features_csv-x2, iteration 2.\n",
      "Starting examples/pandas_merge_examplehuman_csv.py with examples/data/examplehuman_cellprofiler_features_csv-x2, iteration 3.\n"
     ]
    },
    {
     "name": "stdout",
     "output_type": "stream",
     "text": [
      "Finished examples/pandas_merge_examplehuman_csv.py with examples/data/examplehuman_cellprofiler_features_csv-x2, iteration 3.\n",
      "Starting examples/pandas_merge_examplehuman_csv.py with examples/data/examplehuman_cellprofiler_features_csv-x2, iteration 4.\n"
     ]
    },
    {
     "name": "stdout",
     "output_type": "stream",
     "text": [
      "Finished examples/pandas_merge_examplehuman_csv.py with examples/data/examplehuman_cellprofiler_features_csv-x2, iteration 4.\n",
      "Starting examples/pandas_merge_examplehuman_csv.py with examples/data/examplehuman_cellprofiler_features_csv-x2, iteration 5.\n"
     ]
    },
    {
     "name": "stdout",
     "output_type": "stream",
     "text": [
      "Finished examples/pandas_merge_examplehuman_csv.py with examples/data/examplehuman_cellprofiler_features_csv-x2, iteration 5.\n",
      "Starting examples/pandas_merge_examplehuman_csv.py with examples/data/examplehuman_cellprofiler_features_csv-x4, iteration 0.\n"
     ]
    },
    {
     "name": "stdout",
     "output_type": "stream",
     "text": [
      "Finished examples/pandas_merge_examplehuman_csv.py with examples/data/examplehuman_cellprofiler_features_csv-x4, iteration 0.\n",
      "Starting examples/pandas_merge_examplehuman_csv.py with examples/data/examplehuman_cellprofiler_features_csv-x4, iteration 1.\n"
     ]
    },
    {
     "name": "stdout",
     "output_type": "stream",
     "text": [
      "Finished examples/pandas_merge_examplehuman_csv.py with examples/data/examplehuman_cellprofiler_features_csv-x4, iteration 1.\n",
      "Starting examples/pandas_merge_examplehuman_csv.py with examples/data/examplehuman_cellprofiler_features_csv-x4, iteration 2.\n"
     ]
    },
    {
     "name": "stdout",
     "output_type": "stream",
     "text": [
      "Finished examples/pandas_merge_examplehuman_csv.py with examples/data/examplehuman_cellprofiler_features_csv-x4, iteration 2.\n",
      "Starting examples/pandas_merge_examplehuman_csv.py with examples/data/examplehuman_cellprofiler_features_csv-x4, iteration 3.\n"
     ]
    },
    {
     "name": "stdout",
     "output_type": "stream",
     "text": [
      "Finished examples/pandas_merge_examplehuman_csv.py with examples/data/examplehuman_cellprofiler_features_csv-x4, iteration 3.\n",
      "Starting examples/pandas_merge_examplehuman_csv.py with examples/data/examplehuman_cellprofiler_features_csv-x4, iteration 4.\n"
     ]
    },
    {
     "name": "stdout",
     "output_type": "stream",
     "text": [
      "Finished examples/pandas_merge_examplehuman_csv.py with examples/data/examplehuman_cellprofiler_features_csv-x4, iteration 4.\n",
      "Starting examples/pandas_merge_examplehuman_csv.py with examples/data/examplehuman_cellprofiler_features_csv-x4, iteration 5.\n"
     ]
    },
    {
     "name": "stdout",
     "output_type": "stream",
     "text": [
      "Finished examples/pandas_merge_examplehuman_csv.py with examples/data/examplehuman_cellprofiler_features_csv-x4, iteration 5.\n",
      "Starting examples/pandas_merge_examplehuman_csv.py with examples/data/examplehuman_cellprofiler_features_csv-x8, iteration 0.\n"
     ]
    },
    {
     "name": "stdout",
     "output_type": "stream",
     "text": [
      "Finished examples/pandas_merge_examplehuman_csv.py with examples/data/examplehuman_cellprofiler_features_csv-x8, iteration 0.\n",
      "Starting examples/pandas_merge_examplehuman_csv.py with examples/data/examplehuman_cellprofiler_features_csv-x8, iteration 1.\n"
     ]
    },
    {
     "name": "stdout",
     "output_type": "stream",
     "text": [
      "Finished examples/pandas_merge_examplehuman_csv.py with examples/data/examplehuman_cellprofiler_features_csv-x8, iteration 1.\n",
      "Starting examples/pandas_merge_examplehuman_csv.py with examples/data/examplehuman_cellprofiler_features_csv-x8, iteration 2.\n"
     ]
    },
    {
     "name": "stdout",
     "output_type": "stream",
     "text": [
      "Finished examples/pandas_merge_examplehuman_csv.py with examples/data/examplehuman_cellprofiler_features_csv-x8, iteration 2.\n",
      "Starting examples/pandas_merge_examplehuman_csv.py with examples/data/examplehuman_cellprofiler_features_csv-x8, iteration 3.\n"
     ]
    },
    {
     "name": "stdout",
     "output_type": "stream",
     "text": [
      "Finished examples/pandas_merge_examplehuman_csv.py with examples/data/examplehuman_cellprofiler_features_csv-x8, iteration 3.\n",
      "Starting examples/pandas_merge_examplehuman_csv.py with examples/data/examplehuman_cellprofiler_features_csv-x8, iteration 4.\n"
     ]
    },
    {
     "name": "stdout",
     "output_type": "stream",
     "text": [
      "Finished examples/pandas_merge_examplehuman_csv.py with examples/data/examplehuman_cellprofiler_features_csv-x8, iteration 4.\n",
      "Starting examples/pandas_merge_examplehuman_csv.py with examples/data/examplehuman_cellprofiler_features_csv-x8, iteration 5.\n"
     ]
    },
    {
     "name": "stdout",
     "output_type": "stream",
     "text": [
      "Finished examples/pandas_merge_examplehuman_csv.py with examples/data/examplehuman_cellprofiler_features_csv-x8, iteration 5.\n",
      "Starting examples/pandas_merge_examplehuman_csv.py with examples/data/examplehuman_cellprofiler_features_csv-x16, iteration 0.\n"
     ]
    },
    {
     "name": "stdout",
     "output_type": "stream",
     "text": [
      "Finished examples/pandas_merge_examplehuman_csv.py with examples/data/examplehuman_cellprofiler_features_csv-x16, iteration 0.\n",
      "Starting examples/pandas_merge_examplehuman_csv.py with examples/data/examplehuman_cellprofiler_features_csv-x16, iteration 1.\n"
     ]
    },
    {
     "name": "stdout",
     "output_type": "stream",
     "text": [
      "Finished examples/pandas_merge_examplehuman_csv.py with examples/data/examplehuman_cellprofiler_features_csv-x16, iteration 1.\n",
      "Starting examples/pandas_merge_examplehuman_csv.py with examples/data/examplehuman_cellprofiler_features_csv-x16, iteration 2.\n"
     ]
    },
    {
     "name": "stdout",
     "output_type": "stream",
     "text": [
      "Finished examples/pandas_merge_examplehuman_csv.py with examples/data/examplehuman_cellprofiler_features_csv-x16, iteration 2.\n",
      "Starting examples/pandas_merge_examplehuman_csv.py with examples/data/examplehuman_cellprofiler_features_csv-x16, iteration 3.\n"
     ]
    },
    {
     "name": "stdout",
     "output_type": "stream",
     "text": [
      "Finished examples/pandas_merge_examplehuman_csv.py with examples/data/examplehuman_cellprofiler_features_csv-x16, iteration 3.\n",
      "Starting examples/pandas_merge_examplehuman_csv.py with examples/data/examplehuman_cellprofiler_features_csv-x16, iteration 4.\n"
     ]
    },
    {
     "name": "stdout",
     "output_type": "stream",
     "text": [
      "Finished examples/pandas_merge_examplehuman_csv.py with examples/data/examplehuman_cellprofiler_features_csv-x16, iteration 4.\n",
      "Starting examples/pandas_merge_examplehuman_csv.py with examples/data/examplehuman_cellprofiler_features_csv-x16, iteration 5.\n"
     ]
    },
    {
     "name": "stdout",
     "output_type": "stream",
     "text": [
      "Finished examples/pandas_merge_examplehuman_csv.py with examples/data/examplehuman_cellprofiler_features_csv-x16, iteration 5.\n",
      "Starting examples/pandas_merge_examplehuman_csv.py with examples/data/examplehuman_cellprofiler_features_csv-x32, iteration 0.\n"
     ]
    },
    {
     "name": "stdout",
     "output_type": "stream",
     "text": [
      "Finished examples/pandas_merge_examplehuman_csv.py with examples/data/examplehuman_cellprofiler_features_csv-x32, iteration 0.\n",
      "Starting examples/pandas_merge_examplehuman_csv.py with examples/data/examplehuman_cellprofiler_features_csv-x32, iteration 1.\n"
     ]
    },
    {
     "name": "stdout",
     "output_type": "stream",
     "text": [
      "Finished examples/pandas_merge_examplehuman_csv.py with examples/data/examplehuman_cellprofiler_features_csv-x32, iteration 1.\n",
      "Starting examples/pandas_merge_examplehuman_csv.py with examples/data/examplehuman_cellprofiler_features_csv-x32, iteration 2.\n"
     ]
    },
    {
     "name": "stdout",
     "output_type": "stream",
     "text": [
      "Finished examples/pandas_merge_examplehuman_csv.py with examples/data/examplehuman_cellprofiler_features_csv-x32, iteration 2.\n",
      "Starting examples/pandas_merge_examplehuman_csv.py with examples/data/examplehuman_cellprofiler_features_csv-x32, iteration 3.\n"
     ]
    },
    {
     "name": "stdout",
     "output_type": "stream",
     "text": [
      "Finished examples/pandas_merge_examplehuman_csv.py with examples/data/examplehuman_cellprofiler_features_csv-x32, iteration 3.\n",
      "Starting examples/pandas_merge_examplehuman_csv.py with examples/data/examplehuman_cellprofiler_features_csv-x32, iteration 4.\n"
     ]
    },
    {
     "name": "stdout",
     "output_type": "stream",
     "text": [
      "Finished examples/pandas_merge_examplehuman_csv.py with examples/data/examplehuman_cellprofiler_features_csv-x32, iteration 4.\n",
      "Starting examples/pandas_merge_examplehuman_csv.py with examples/data/examplehuman_cellprofiler_features_csv-x32, iteration 5.\n"
     ]
    },
    {
     "name": "stdout",
     "output_type": "stream",
     "text": [
      "Finished examples/pandas_merge_examplehuman_csv.py with examples/data/examplehuman_cellprofiler_features_csv-x32, iteration 5.\n",
      "Starting examples/pandas_merge_examplehuman_csv.py with examples/data/examplehuman_cellprofiler_features_csv-x64, iteration 0.\n"
     ]
    },
    {
     "name": "stdout",
     "output_type": "stream",
     "text": [
      "Finished examples/pandas_merge_examplehuman_csv.py with examples/data/examplehuman_cellprofiler_features_csv-x64, iteration 0.\n",
      "Starting examples/pandas_merge_examplehuman_csv.py with examples/data/examplehuman_cellprofiler_features_csv-x64, iteration 1.\n"
     ]
    },
    {
     "name": "stdout",
     "output_type": "stream",
     "text": [
      "Finished examples/pandas_merge_examplehuman_csv.py with examples/data/examplehuman_cellprofiler_features_csv-x64, iteration 1.\n",
      "Starting examples/pandas_merge_examplehuman_csv.py with examples/data/examplehuman_cellprofiler_features_csv-x64, iteration 2.\n"
     ]
    },
    {
     "name": "stdout",
     "output_type": "stream",
     "text": [
      "Finished examples/pandas_merge_examplehuman_csv.py with examples/data/examplehuman_cellprofiler_features_csv-x64, iteration 2.\n",
      "Starting examples/pandas_merge_examplehuman_csv.py with examples/data/examplehuman_cellprofiler_features_csv-x64, iteration 3.\n"
     ]
    },
    {
     "name": "stdout",
     "output_type": "stream",
     "text": [
      "Finished examples/pandas_merge_examplehuman_csv.py with examples/data/examplehuman_cellprofiler_features_csv-x64, iteration 3.\n",
      "Starting examples/pandas_merge_examplehuman_csv.py with examples/data/examplehuman_cellprofiler_features_csv-x64, iteration 4.\n"
     ]
    },
    {
     "name": "stdout",
     "output_type": "stream",
     "text": [
      "Finished examples/pandas_merge_examplehuman_csv.py with examples/data/examplehuman_cellprofiler_features_csv-x64, iteration 4.\n",
      "Starting examples/pandas_merge_examplehuman_csv.py with examples/data/examplehuman_cellprofiler_features_csv-x64, iteration 5.\n"
     ]
    },
    {
     "name": "stdout",
     "output_type": "stream",
     "text": [
      "Finished examples/pandas_merge_examplehuman_csv.py with examples/data/examplehuman_cellprofiler_features_csv-x64, iteration 5.\n",
      "Starting examples/pandas_merge_examplehuman_csv.py with examples/data/examplehuman_cellprofiler_features_csv-x128, iteration 0.\n"
     ]
    },
    {
     "name": "stdout",
     "output_type": "stream",
     "text": [
      "Finished examples/pandas_merge_examplehuman_csv.py with examples/data/examplehuman_cellprofiler_features_csv-x128, iteration 0.\n",
      "Starting examples/pandas_merge_examplehuman_csv.py with examples/data/examplehuman_cellprofiler_features_csv-x128, iteration 1.\n"
     ]
    },
    {
     "name": "stdout",
     "output_type": "stream",
     "text": [
      "Finished examples/pandas_merge_examplehuman_csv.py with examples/data/examplehuman_cellprofiler_features_csv-x128, iteration 1.\n",
      "Starting examples/pandas_merge_examplehuman_csv.py with examples/data/examplehuman_cellprofiler_features_csv-x128, iteration 2.\n"
     ]
    },
    {
     "name": "stdout",
     "output_type": "stream",
     "text": [
      "Finished examples/pandas_merge_examplehuman_csv.py with examples/data/examplehuman_cellprofiler_features_csv-x128, iteration 2.\n",
      "Starting examples/pandas_merge_examplehuman_csv.py with examples/data/examplehuman_cellprofiler_features_csv-x128, iteration 3.\n"
     ]
    },
    {
     "name": "stdout",
     "output_type": "stream",
     "text": [
      "Finished examples/pandas_merge_examplehuman_csv.py with examples/data/examplehuman_cellprofiler_features_csv-x128, iteration 3.\n",
      "Starting examples/pandas_merge_examplehuman_csv.py with examples/data/examplehuman_cellprofiler_features_csv-x128, iteration 4.\n"
     ]
    },
    {
     "name": "stdout",
     "output_type": "stream",
     "text": [
      "Finished examples/pandas_merge_examplehuman_csv.py with examples/data/examplehuman_cellprofiler_features_csv-x128, iteration 4.\n",
      "Starting examples/pandas_merge_examplehuman_csv.py with examples/data/examplehuman_cellprofiler_features_csv-x128, iteration 5.\n"
     ]
    },
    {
     "name": "stdout",
     "output_type": "stream",
     "text": [
      "Finished examples/pandas_merge_examplehuman_csv.py with examples/data/examplehuman_cellprofiler_features_csv-x128, iteration 5.\n",
      "Starting examples/pandas_merge_examplehuman_csv.py with examples/data/examplehuman_cellprofiler_features_csv-x256, iteration 0.\n"
     ]
    },
    {
     "name": "stdout",
     "output_type": "stream",
     "text": [
      "Finished examples/pandas_merge_examplehuman_csv.py with examples/data/examplehuman_cellprofiler_features_csv-x256, iteration 0.\n",
      "Starting examples/pandas_merge_examplehuman_csv.py with examples/data/examplehuman_cellprofiler_features_csv-x256, iteration 1.\n"
     ]
    },
    {
     "name": "stdout",
     "output_type": "stream",
     "text": [
      "Finished examples/pandas_merge_examplehuman_csv.py with examples/data/examplehuman_cellprofiler_features_csv-x256, iteration 1.\n",
      "Starting examples/pandas_merge_examplehuman_csv.py with examples/data/examplehuman_cellprofiler_features_csv-x256, iteration 2.\n"
     ]
    },
    {
     "name": "stdout",
     "output_type": "stream",
     "text": [
      "Finished examples/pandas_merge_examplehuman_csv.py with examples/data/examplehuman_cellprofiler_features_csv-x256, iteration 2.\n",
      "Starting examples/pandas_merge_examplehuman_csv.py with examples/data/examplehuman_cellprofiler_features_csv-x256, iteration 3.\n"
     ]
    },
    {
     "name": "stdout",
     "output_type": "stream",
     "text": [
      "Finished examples/pandas_merge_examplehuman_csv.py with examples/data/examplehuman_cellprofiler_features_csv-x256, iteration 3.\n",
      "Starting examples/pandas_merge_examplehuman_csv.py with examples/data/examplehuman_cellprofiler_features_csv-x256, iteration 4.\n"
     ]
    },
    {
     "name": "stdout",
     "output_type": "stream",
     "text": [
      "Finished examples/pandas_merge_examplehuman_csv.py with examples/data/examplehuman_cellprofiler_features_csv-x256, iteration 4.\n",
      "Starting examples/pandas_merge_examplehuman_csv.py with examples/data/examplehuman_cellprofiler_features_csv-x256, iteration 5.\n"
     ]
    },
    {
     "name": "stdout",
     "output_type": "stream",
     "text": [
      "Finished examples/pandas_merge_examplehuman_csv.py with examples/data/examplehuman_cellprofiler_features_csv-x256, iteration 5.\n",
      "Starting examples/pandas_merge_examplehuman_csv.py with examples/data/examplehuman_cellprofiler_features_csv-x512, iteration 0.\n"
     ]
    },
    {
     "name": "stdout",
     "output_type": "stream",
     "text": [
      "Finished examples/pandas_merge_examplehuman_csv.py with examples/data/examplehuman_cellprofiler_features_csv-x512, iteration 0.\n",
      "Starting examples/pandas_merge_examplehuman_csv.py with examples/data/examplehuman_cellprofiler_features_csv-x512, iteration 1.\n"
     ]
    },
    {
     "name": "stdout",
     "output_type": "stream",
     "text": [
      "Finished examples/pandas_merge_examplehuman_csv.py with examples/data/examplehuman_cellprofiler_features_csv-x512, iteration 1.\n",
      "Starting examples/pandas_merge_examplehuman_csv.py with examples/data/examplehuman_cellprofiler_features_csv-x512, iteration 2.\n"
     ]
    },
    {
     "name": "stdout",
     "output_type": "stream",
     "text": [
      "Finished examples/pandas_merge_examplehuman_csv.py with examples/data/examplehuman_cellprofiler_features_csv-x512, iteration 2.\n",
      "Starting examples/pandas_merge_examplehuman_csv.py with examples/data/examplehuman_cellprofiler_features_csv-x512, iteration 3.\n"
     ]
    },
    {
     "name": "stdout",
     "output_type": "stream",
     "text": [
      "Finished examples/pandas_merge_examplehuman_csv.py with examples/data/examplehuman_cellprofiler_features_csv-x512, iteration 3.\n",
      "Starting examples/pandas_merge_examplehuman_csv.py with examples/data/examplehuman_cellprofiler_features_csv-x512, iteration 4.\n"
     ]
    },
    {
     "name": "stdout",
     "output_type": "stream",
     "text": [
      "Finished examples/pandas_merge_examplehuman_csv.py with examples/data/examplehuman_cellprofiler_features_csv-x512, iteration 4.\n",
      "Starting examples/pandas_merge_examplehuman_csv.py with examples/data/examplehuman_cellprofiler_features_csv-x512, iteration 5.\n"
     ]
    },
    {
     "name": "stdout",
     "output_type": "stream",
     "text": [
      "Finished examples/pandas_merge_examplehuman_csv.py with examples/data/examplehuman_cellprofiler_features_csv-x512, iteration 5.\n",
      "Starting examples/pandas_merge_examplehuman_csv.py with examples/data/examplehuman_cellprofiler_features_csv-x1024, iteration 0.\n"
     ]
    },
    {
     "name": "stdout",
     "output_type": "stream",
     "text": [
      "Finished examples/pandas_merge_examplehuman_csv.py with examples/data/examplehuman_cellprofiler_features_csv-x1024, iteration 0.\n",
      "Starting examples/pandas_merge_examplehuman_csv.py with examples/data/examplehuman_cellprofiler_features_csv-x1024, iteration 1.\n"
     ]
    },
    {
     "name": "stdout",
     "output_type": "stream",
     "text": [
      "Finished examples/pandas_merge_examplehuman_csv.py with examples/data/examplehuman_cellprofiler_features_csv-x1024, iteration 1.\n",
      "Starting examples/pandas_merge_examplehuman_csv.py with examples/data/examplehuman_cellprofiler_features_csv-x1024, iteration 2.\n"
     ]
    },
    {
     "name": "stdout",
     "output_type": "stream",
     "text": [
      "Finished examples/pandas_merge_examplehuman_csv.py with examples/data/examplehuman_cellprofiler_features_csv-x1024, iteration 2.\n",
      "Starting examples/pandas_merge_examplehuman_csv.py with examples/data/examplehuman_cellprofiler_features_csv-x1024, iteration 3.\n"
     ]
    },
    {
     "name": "stdout",
     "output_type": "stream",
     "text": [
      "Finished examples/pandas_merge_examplehuman_csv.py with examples/data/examplehuman_cellprofiler_features_csv-x1024, iteration 3.\n",
      "Starting examples/pandas_merge_examplehuman_csv.py with examples/data/examplehuman_cellprofiler_features_csv-x1024, iteration 4.\n"
     ]
    },
    {
     "name": "stdout",
     "output_type": "stream",
     "text": [
      "Finished examples/pandas_merge_examplehuman_csv.py with examples/data/examplehuman_cellprofiler_features_csv-x1024, iteration 4.\n",
      "Starting examples/pandas_merge_examplehuman_csv.py with examples/data/examplehuman_cellprofiler_features_csv-x1024, iteration 5.\n"
     ]
    },
    {
     "name": "stdout",
     "output_type": "stream",
     "text": [
      "Finished examples/pandas_merge_examplehuman_csv.py with examples/data/examplehuman_cellprofiler_features_csv-x1024, iteration 5.\n",
      "Starting examples/pandas_merge_examplehuman_csv.py with examples/data/examplehuman_cellprofiler_features_csv-x2048, iteration 0.\n"
     ]
    },
    {
     "name": "stdout",
     "output_type": "stream",
     "text": [
      "Finished examples/pandas_merge_examplehuman_csv.py with examples/data/examplehuman_cellprofiler_features_csv-x2048, iteration 0.\n",
      "Starting examples/pandas_merge_examplehuman_csv.py with examples/data/examplehuman_cellprofiler_features_csv-x2048, iteration 1.\n"
     ]
    },
    {
     "name": "stdout",
     "output_type": "stream",
     "text": [
      "Finished examples/pandas_merge_examplehuman_csv.py with examples/data/examplehuman_cellprofiler_features_csv-x2048, iteration 1.\n",
      "Starting examples/pandas_merge_examplehuman_csv.py with examples/data/examplehuman_cellprofiler_features_csv-x2048, iteration 2.\n"
     ]
    },
    {
     "name": "stdout",
     "output_type": "stream",
     "text": [
      "Finished examples/pandas_merge_examplehuman_csv.py with examples/data/examplehuman_cellprofiler_features_csv-x2048, iteration 2.\n",
      "Starting examples/pandas_merge_examplehuman_csv.py with examples/data/examplehuman_cellprofiler_features_csv-x2048, iteration 3.\n"
     ]
    },
    {
     "name": "stdout",
     "output_type": "stream",
     "text": [
      "Finished examples/pandas_merge_examplehuman_csv.py with examples/data/examplehuman_cellprofiler_features_csv-x2048, iteration 3.\n",
      "Starting examples/pandas_merge_examplehuman_csv.py with examples/data/examplehuman_cellprofiler_features_csv-x2048, iteration 4.\n"
     ]
    },
    {
     "name": "stdout",
     "output_type": "stream",
     "text": [
      "Finished examples/pandas_merge_examplehuman_csv.py with examples/data/examplehuman_cellprofiler_features_csv-x2048, iteration 4.\n",
      "Starting examples/pandas_merge_examplehuman_csv.py with examples/data/examplehuman_cellprofiler_features_csv-x2048, iteration 5.\n"
     ]
    },
    {
     "name": "stdout",
     "output_type": "stream",
     "text": [
      "Finished examples/pandas_merge_examplehuman_csv.py with examples/data/examplehuman_cellprofiler_features_csv-x2048, iteration 5.\n",
      "Starting examples/pandas_merge_examplehuman_csv.py with examples/data/examplehuman_cellprofiler_features_csv-x4096, iteration 0.\n"
     ]
    },
    {
     "name": "stdout",
     "output_type": "stream",
     "text": [
      "Finished examples/pandas_merge_examplehuman_csv.py with examples/data/examplehuman_cellprofiler_features_csv-x4096, iteration 0.\n",
      "Starting examples/pandas_merge_examplehuman_csv.py with examples/data/examplehuman_cellprofiler_features_csv-x4096, iteration 1.\n"
     ]
    },
    {
     "name": "stdout",
     "output_type": "stream",
     "text": [
      "Finished examples/pandas_merge_examplehuman_csv.py with examples/data/examplehuman_cellprofiler_features_csv-x4096, iteration 1.\n",
      "Starting examples/pandas_merge_examplehuman_csv.py with examples/data/examplehuman_cellprofiler_features_csv-x4096, iteration 2.\n"
     ]
    },
    {
     "name": "stdout",
     "output_type": "stream",
     "text": [
      "Finished examples/pandas_merge_examplehuman_csv.py with examples/data/examplehuman_cellprofiler_features_csv-x4096, iteration 2.\n",
      "Starting examples/pandas_merge_examplehuman_csv.py with examples/data/examplehuman_cellprofiler_features_csv-x4096, iteration 3.\n"
     ]
    },
    {
     "name": "stdout",
     "output_type": "stream",
     "text": [
      "Finished examples/pandas_merge_examplehuman_csv.py with examples/data/examplehuman_cellprofiler_features_csv-x4096, iteration 3.\n",
      "Starting examples/pandas_merge_examplehuman_csv.py with examples/data/examplehuman_cellprofiler_features_csv-x4096, iteration 4.\n"
     ]
    },
    {
     "name": "stdout",
     "output_type": "stream",
     "text": [
      "Finished examples/pandas_merge_examplehuman_csv.py with examples/data/examplehuman_cellprofiler_features_csv-x4096, iteration 4.\n",
      "Starting examples/pandas_merge_examplehuman_csv.py with examples/data/examplehuman_cellprofiler_features_csv-x4096, iteration 5.\n"
     ]
    },
    {
     "name": "stdout",
     "output_type": "stream",
     "text": [
      "Finished examples/pandas_merge_examplehuman_csv.py with examples/data/examplehuman_cellprofiler_features_csv-x4096, iteration 5.\n",
      "Starting examples/pandas_merge_examplehuman_csv.py with examples/data/examplehuman_cellprofiler_features_csv-x8192, iteration 0.\n"
     ]
    },
    {
     "name": "stdout",
     "output_type": "stream",
     "text": [
      "Finished examples/pandas_merge_examplehuman_csv.py with examples/data/examplehuman_cellprofiler_features_csv-x8192, iteration 0.\n",
      "Starting examples/pandas_merge_examplehuman_csv.py with examples/data/examplehuman_cellprofiler_features_csv-x8192, iteration 1.\n"
     ]
    },
    {
     "name": "stdout",
     "output_type": "stream",
     "text": [
      "Finished examples/pandas_merge_examplehuman_csv.py with examples/data/examplehuman_cellprofiler_features_csv-x8192, iteration 1.\n",
      "Starting examples/pandas_merge_examplehuman_csv.py with examples/data/examplehuman_cellprofiler_features_csv-x8192, iteration 2.\n"
     ]
    },
    {
     "name": "stdout",
     "output_type": "stream",
     "text": [
      "Finished examples/pandas_merge_examplehuman_csv.py with examples/data/examplehuman_cellprofiler_features_csv-x8192, iteration 2.\n",
      "Starting examples/pandas_merge_examplehuman_csv.py with examples/data/examplehuman_cellprofiler_features_csv-x8192, iteration 3.\n"
     ]
    },
    {
     "name": "stdout",
     "output_type": "stream",
     "text": [
      "Finished examples/pandas_merge_examplehuman_csv.py with examples/data/examplehuman_cellprofiler_features_csv-x8192, iteration 3.\n",
      "Starting examples/pandas_merge_examplehuman_csv.py with examples/data/examplehuman_cellprofiler_features_csv-x8192, iteration 4.\n"
     ]
    },
    {
     "name": "stdout",
     "output_type": "stream",
     "text": [
      "Finished examples/pandas_merge_examplehuman_csv.py with examples/data/examplehuman_cellprofiler_features_csv-x8192, iteration 4.\n",
      "Starting examples/pandas_merge_examplehuman_csv.py with examples/data/examplehuman_cellprofiler_features_csv-x8192, iteration 5.\n"
     ]
    },
    {
     "name": "stdout",
     "output_type": "stream",
     "text": [
      "Finished examples/pandas_merge_examplehuman_csv.py with examples/data/examplehuman_cellprofiler_features_csv-x8192, iteration 5.\n",
      "Processing complete. Results saved to 'cytotable_pandas_results.parquet'.\n"
     ]
    }
   ],
   "source": [
    "# Number of iterations for each combination\n",
    "num_iterations = 6\n",
    "\n",
    "# Loop through each combination of example file and data file\n",
    "for example_file, example_data in itertools.product(\n",
    "    example_files_list, example_data_list\n",
    "):\n",
    "    for iteration in range(num_iterations):\n",
    "\n",
    "        print(f\"Starting {example_file} with {example_data}, iteration {iteration}.\")\n",
    "        # Skip if this combination and iteration are already processed\n",
    "        if any(\n",
    "            result[\"file_input\"] == example_file\n",
    "            and result[\"data_input\"] == example_data\n",
    "            and result[\"iteration\"] == iteration\n",
    "            for result in results\n",
    "        ):\n",
    "            print(\n",
    "                f\"Skipping already processed: {example_file} with {example_data}, iteration {iteration}\"\n",
    "            )\n",
    "            continue\n",
    "\n",
    "        try:\n",
    "            # gather memory peak and time duration\n",
    "            memory_peak, time_duration = get_memory_peak_and_time_duration(\n",
    "                cmd=[\n",
    "                    \"python\",\n",
    "                    example_file,\n",
    "                    example_data,\n",
    "                ],\n",
    "                polling_pause_seconds=0.1,\n",
    "                # if we have a multiprocessed parsl process skip memory\n",
    "                # (we will check this via parsl monitoring).\n",
    "                skip_memory_check=(\"multiprocess\" in example_file),\n",
    "            )\n",
    "\n",
    "            # Append the result\n",
    "            results.append(\n",
    "                {\n",
    "                    \"file_input\": example_file.replace(f\"{examples_dir}/\", \"\"),\n",
    "                    \"data_input\": example_data,\n",
    "                    \"iteration\": iteration,\n",
    "                    \"time_duration (secs)\": time_duration,\n",
    "                    \"peak_memory (bytes)\": (\n",
    "                        memory_peak\n",
    "                        # if we have a multiprocessed parsl result we must\n",
    "                        # gather the peak memory using parsl's monitoring\n",
    "                        # database.\n",
    "                        if \"multiprocess\" not in example_file\n",
    "                        else get_parsl_peak_memory(db_file=db_file)\n",
    "                    ),\n",
    "                }\n",
    "            )\n",
    "\n",
    "            # Save intermediate results to Parquet\n",
    "            df_results = pd.DataFrame(results)\n",
    "            df_results.to_parquet(results_parquet_file, index=False)\n",
    "\n",
    "        except Exception as e:\n",
    "            print(\n",
    "                f\"Error processing {example_file} with {example_data}, iteration {iteration}: {e}\"\n",
    "            )\n",
    "\n",
    "        finally:\n",
    "            # remove monitoring database if present from parsl processing\n",
    "            if pathlib.Path(db_file).is_file():\n",
    "                pathlib.Path(db_file).unlink()\n",
    "            print(\n",
    "                f\"Finished {example_file} with {example_data}, iteration {iteration}.\"\n",
    "            )\n",
    "\n",
    "\n",
    "# Final save to Parquet\n",
    "df_results = pd.DataFrame(results)\n",
    "df_results.to_parquet(results_parquet_file, index=False)\n",
    "\n",
    "print(f\"Processing complete. Results saved to '{results_parquet_file}'.\")"
   ]
  },
  {
   "cell_type": "code",
   "execution_count": 7,
   "id": "d7812972-0470-4892-b47e-b90074a473c4",
   "metadata": {
    "execution": {
     "iopub.execute_input": "2025-05-14T19:56:39.211751Z",
     "iopub.status.busy": "2025-05-14T19:56:39.211431Z",
     "iopub.status.idle": "2025-05-14T19:56:39.264049Z",
     "shell.execute_reply": "2025-05-14T19:56:39.263097Z"
    },
    "papermill": {
     "duration": 0.07414,
     "end_time": "2025-05-14T19:56:39.265283",
     "exception": false,
     "start_time": "2025-05-14T19:56:39.191143",
     "status": "completed"
    },
    "tags": []
   },
   "outputs": [
    {
     "data": {
      "text/html": [
       "<div>\n",
       "<style scoped>\n",
       "    .dataframe tbody tr th:only-of-type {\n",
       "        vertical-align: middle;\n",
       "    }\n",
       "\n",
       "    .dataframe tbody tr th {\n",
       "        vertical-align: top;\n",
       "    }\n",
       "\n",
       "    .dataframe thead th {\n",
       "        text-align: right;\n",
       "    }\n",
       "</style>\n",
       "<table border=\"1\" class=\"dataframe\">\n",
       "  <thead>\n",
       "    <tr style=\"text-align: right;\">\n",
       "      <th></th>\n",
       "      <th>file_input</th>\n",
       "      <th>data_input</th>\n",
       "      <th>iteration</th>\n",
       "      <th>time_duration (secs)</th>\n",
       "      <th>peak_memory (bytes)</th>\n",
       "      <th>peak_memory (GB)</th>\n",
       "      <th>data_input_size_mb</th>\n",
       "      <th>data_input_with_size</th>\n",
       "      <th>data_input_renamed</th>\n",
       "    </tr>\n",
       "  </thead>\n",
       "  <tbody>\n",
       "    <tr>\n",
       "      <th>0</th>\n",
       "      <td>cytotable_convert_examplehuman_multiprocess_cs...</td>\n",
       "      <td>examples/data/examplehuman_cellprofiler_featur...</td>\n",
       "      <td>0</td>\n",
       "      <td>20.981794</td>\n",
       "      <td>3.349709e+08</td>\n",
       "      <td>0.311966</td>\n",
       "      <td>1.414125</td>\n",
       "      <td>examples/data/examplehuman_cellprofiler_featur...</td>\n",
       "      <td>input_csv (1 MB)</td>\n",
       "    </tr>\n",
       "    <tr>\n",
       "      <th>1</th>\n",
       "      <td>cytotable_convert_examplehuman_multiprocess_cs...</td>\n",
       "      <td>examples/data/examplehuman_cellprofiler_featur...</td>\n",
       "      <td>1</td>\n",
       "      <td>20.731451</td>\n",
       "      <td>3.349135e+08</td>\n",
       "      <td>0.311913</td>\n",
       "      <td>1.414125</td>\n",
       "      <td>examples/data/examplehuman_cellprofiler_featur...</td>\n",
       "      <td>input_csv (1 MB)</td>\n",
       "    </tr>\n",
       "    <tr>\n",
       "      <th>2</th>\n",
       "      <td>cytotable_convert_examplehuman_multiprocess_cs...</td>\n",
       "      <td>examples/data/examplehuman_cellprofiler_featur...</td>\n",
       "      <td>2</td>\n",
       "      <td>20.990158</td>\n",
       "      <td>3.348234e+08</td>\n",
       "      <td>0.311829</td>\n",
       "      <td>1.414125</td>\n",
       "      <td>examples/data/examplehuman_cellprofiler_featur...</td>\n",
       "      <td>input_csv (1 MB)</td>\n",
       "    </tr>\n",
       "    <tr>\n",
       "      <th>3</th>\n",
       "      <td>cytotable_convert_examplehuman_multiprocess_cs...</td>\n",
       "      <td>examples/data/examplehuman_cellprofiler_featur...</td>\n",
       "      <td>3</td>\n",
       "      <td>20.725288</td>\n",
       "      <td>3.350774e+08</td>\n",
       "      <td>0.312065</td>\n",
       "      <td>1.414125</td>\n",
       "      <td>examples/data/examplehuman_cellprofiler_featur...</td>\n",
       "      <td>input_csv (1 MB)</td>\n",
       "    </tr>\n",
       "    <tr>\n",
       "      <th>4</th>\n",
       "      <td>cytotable_convert_examplehuman_multiprocess_cs...</td>\n",
       "      <td>examples/data/examplehuman_cellprofiler_featur...</td>\n",
       "      <td>4</td>\n",
       "      <td>20.749313</td>\n",
       "      <td>3.342705e+08</td>\n",
       "      <td>0.311314</td>\n",
       "      <td>1.414125</td>\n",
       "      <td>examples/data/examplehuman_cellprofiler_featur...</td>\n",
       "      <td>input_csv (1 MB)</td>\n",
       "    </tr>\n",
       "    <tr>\n",
       "      <th>...</th>\n",
       "      <td>...</td>\n",
       "      <td>...</td>\n",
       "      <td>...</td>\n",
       "      <td>...</td>\n",
       "      <td>...</td>\n",
       "      <td>...</td>\n",
       "      <td>...</td>\n",
       "      <td>...</td>\n",
       "      <td>...</td>\n",
       "    </tr>\n",
       "    <tr>\n",
       "      <th>247</th>\n",
       "      <td>pandas_merge_examplehuman_csv.py</td>\n",
       "      <td>examples/data/examplehuman_cellprofiler_featur...</td>\n",
       "      <td>1</td>\n",
       "      <td>95.369457</td>\n",
       "      <td>2.429664e+10</td>\n",
       "      <td>22.628010</td>\n",
       "      <td>10922.421144</td>\n",
       "      <td>examples/data/examplehuman_cellprofiler_featur...</td>\n",
       "      <td>input_csv-x8192 (10922 MB)</td>\n",
       "    </tr>\n",
       "    <tr>\n",
       "      <th>248</th>\n",
       "      <td>pandas_merge_examplehuman_csv.py</td>\n",
       "      <td>examples/data/examplehuman_cellprofiler_featur...</td>\n",
       "      <td>2</td>\n",
       "      <td>92.656957</td>\n",
       "      <td>2.468546e+10</td>\n",
       "      <td>22.990124</td>\n",
       "      <td>10922.421144</td>\n",
       "      <td>examples/data/examplehuman_cellprofiler_featur...</td>\n",
       "      <td>input_csv-x8192 (10922 MB)</td>\n",
       "    </tr>\n",
       "    <tr>\n",
       "      <th>249</th>\n",
       "      <td>pandas_merge_examplehuman_csv.py</td>\n",
       "      <td>examples/data/examplehuman_cellprofiler_featur...</td>\n",
       "      <td>3</td>\n",
       "      <td>92.837449</td>\n",
       "      <td>2.389194e+10</td>\n",
       "      <td>22.251102</td>\n",
       "      <td>10922.421144</td>\n",
       "      <td>examples/data/examplehuman_cellprofiler_featur...</td>\n",
       "      <td>input_csv-x8192 (10922 MB)</td>\n",
       "    </tr>\n",
       "    <tr>\n",
       "      <th>250</th>\n",
       "      <td>pandas_merge_examplehuman_csv.py</td>\n",
       "      <td>examples/data/examplehuman_cellprofiler_featur...</td>\n",
       "      <td>4</td>\n",
       "      <td>92.357122</td>\n",
       "      <td>2.406183e+10</td>\n",
       "      <td>22.409325</td>\n",
       "      <td>10922.421144</td>\n",
       "      <td>examples/data/examplehuman_cellprofiler_featur...</td>\n",
       "      <td>input_csv-x8192 (10922 MB)</td>\n",
       "    </tr>\n",
       "    <tr>\n",
       "      <th>251</th>\n",
       "      <td>pandas_merge_examplehuman_csv.py</td>\n",
       "      <td>examples/data/examplehuman_cellprofiler_featur...</td>\n",
       "      <td>5</td>\n",
       "      <td>93.636200</td>\n",
       "      <td>2.437643e+10</td>\n",
       "      <td>22.702316</td>\n",
       "      <td>10922.421144</td>\n",
       "      <td>examples/data/examplehuman_cellprofiler_featur...</td>\n",
       "      <td>input_csv-x8192 (10922 MB)</td>\n",
       "    </tr>\n",
       "  </tbody>\n",
       "</table>\n",
       "<p>252 rows × 9 columns</p>\n",
       "</div>"
      ],
      "text/plain": [
       "                                            file_input  \\\n",
       "0    cytotable_convert_examplehuman_multiprocess_cs...   \n",
       "1    cytotable_convert_examplehuman_multiprocess_cs...   \n",
       "2    cytotable_convert_examplehuman_multiprocess_cs...   \n",
       "3    cytotable_convert_examplehuman_multiprocess_cs...   \n",
       "4    cytotable_convert_examplehuman_multiprocess_cs...   \n",
       "..                                                 ...   \n",
       "247                   pandas_merge_examplehuman_csv.py   \n",
       "248                   pandas_merge_examplehuman_csv.py   \n",
       "249                   pandas_merge_examplehuman_csv.py   \n",
       "250                   pandas_merge_examplehuman_csv.py   \n",
       "251                   pandas_merge_examplehuman_csv.py   \n",
       "\n",
       "                                            data_input  iteration  \\\n",
       "0    examples/data/examplehuman_cellprofiler_featur...          0   \n",
       "1    examples/data/examplehuman_cellprofiler_featur...          1   \n",
       "2    examples/data/examplehuman_cellprofiler_featur...          2   \n",
       "3    examples/data/examplehuman_cellprofiler_featur...          3   \n",
       "4    examples/data/examplehuman_cellprofiler_featur...          4   \n",
       "..                                                 ...        ...   \n",
       "247  examples/data/examplehuman_cellprofiler_featur...          1   \n",
       "248  examples/data/examplehuman_cellprofiler_featur...          2   \n",
       "249  examples/data/examplehuman_cellprofiler_featur...          3   \n",
       "250  examples/data/examplehuman_cellprofiler_featur...          4   \n",
       "251  examples/data/examplehuman_cellprofiler_featur...          5   \n",
       "\n",
       "     time_duration (secs)  peak_memory (bytes)  peak_memory (GB)  \\\n",
       "0               20.981794         3.349709e+08          0.311966   \n",
       "1               20.731451         3.349135e+08          0.311913   \n",
       "2               20.990158         3.348234e+08          0.311829   \n",
       "3               20.725288         3.350774e+08          0.312065   \n",
       "4               20.749313         3.342705e+08          0.311314   \n",
       "..                    ...                  ...               ...   \n",
       "247             95.369457         2.429664e+10         22.628010   \n",
       "248             92.656957         2.468546e+10         22.990124   \n",
       "249             92.837449         2.389194e+10         22.251102   \n",
       "250             92.357122         2.406183e+10         22.409325   \n",
       "251             93.636200         2.437643e+10         22.702316   \n",
       "\n",
       "     data_input_size_mb                               data_input_with_size  \\\n",
       "0              1.414125  examples/data/examplehuman_cellprofiler_featur...   \n",
       "1              1.414125  examples/data/examplehuman_cellprofiler_featur...   \n",
       "2              1.414125  examples/data/examplehuman_cellprofiler_featur...   \n",
       "3              1.414125  examples/data/examplehuman_cellprofiler_featur...   \n",
       "4              1.414125  examples/data/examplehuman_cellprofiler_featur...   \n",
       "..                  ...                                                ...   \n",
       "247        10922.421144  examples/data/examplehuman_cellprofiler_featur...   \n",
       "248        10922.421144  examples/data/examplehuman_cellprofiler_featur...   \n",
       "249        10922.421144  examples/data/examplehuman_cellprofiler_featur...   \n",
       "250        10922.421144  examples/data/examplehuman_cellprofiler_featur...   \n",
       "251        10922.421144  examples/data/examplehuman_cellprofiler_featur...   \n",
       "\n",
       "             data_input_renamed  \n",
       "0              input_csv (1 MB)  \n",
       "1              input_csv (1 MB)  \n",
       "2              input_csv (1 MB)  \n",
       "3              input_csv (1 MB)  \n",
       "4              input_csv (1 MB)  \n",
       "..                          ...  \n",
       "247  input_csv-x8192 (10922 MB)  \n",
       "248  input_csv-x8192 (10922 MB)  \n",
       "249  input_csv-x8192 (10922 MB)  \n",
       "250  input_csv-x8192 (10922 MB)  \n",
       "251  input_csv-x8192 (10922 MB)  \n",
       "\n",
       "[252 rows x 9 columns]"
      ]
     },
     "execution_count": 7,
     "metadata": {},
     "output_type": "execute_result"
    }
   ],
   "source": [
    "# add columns for data understandability in plots\n",
    "def get_file_size_mb(path):\n",
    "    \"\"\"\n",
    "    Returns the size in MB of a file or total size of all files in a directory.\n",
    "    \"\"\"\n",
    "    p = pathlib.Path(path)\n",
    "    try:\n",
    "        if p.is_file():\n",
    "            return p.stat().st_size / 1024 / 1024\n",
    "        elif p.is_dir():\n",
    "            return (\n",
    "                sum(f.stat().st_size for f in p.rglob(\"*\") if f.is_file()) / 1024 / 1024\n",
    "            )\n",
    "        else:\n",
    "            return None\n",
    "    except FileNotFoundError:\n",
    "        return None\n",
    "\n",
    "\n",
    "# memory usage in MB\n",
    "df_results[\"peak_memory (GB)\"] = df_results[\"peak_memory (bytes)\"] / 1024 / 1024 / 1024\n",
    "\n",
    "# data input size additions for greater context\n",
    "df_results[\"data_input_size_mb\"] = df_results[\"data_input\"].apply(get_file_size_mb)\n",
    "df_results[\"data_input_with_size\"] = (\n",
    "    df_results[\"data_input\"]\n",
    "    + \" (\"\n",
    "    + round(df_results[\"data_input_size_mb\"]).astype(\"int64\").astype(\"str\")\n",
    "    + \" MB)\"\n",
    ")\n",
    "\n",
    "# rename data input to simplify\n",
    "df_results[\"data_input_renamed\"] = (\n",
    "    df_results[\"data_input_with_size\"]\n",
    "    .str.replace(f\"{examples_dir}/data/\", \"\")\n",
    "    .str.replace(\"examplehuman_cellprofiler_features_\", \"input_\")\n",
    ")\n",
    "df_results"
   ]
  },
  {
   "cell_type": "code",
   "execution_count": 8,
   "id": "6f96b829-7d8f-438d-9f65-62f62ec264b3",
   "metadata": {
    "execution": {
     "iopub.execute_input": "2025-05-14T19:56:39.305902Z",
     "iopub.status.busy": "2025-05-14T19:56:39.305587Z",
     "iopub.status.idle": "2025-05-14T19:56:39.334404Z",
     "shell.execute_reply": "2025-05-14T19:56:39.333453Z"
    },
    "papermill": {
     "duration": 0.050608,
     "end_time": "2025-05-14T19:56:39.335582",
     "exception": false,
     "start_time": "2025-05-14T19:56:39.284974",
     "status": "completed"
    },
    "tags": []
   },
   "outputs": [
    {
     "data": {
      "text/html": [
       "<div>\n",
       "<style scoped>\n",
       "    .dataframe tbody tr th:only-of-type {\n",
       "        vertical-align: middle;\n",
       "    }\n",
       "\n",
       "    .dataframe tbody tr th {\n",
       "        vertical-align: top;\n",
       "    }\n",
       "\n",
       "    .dataframe thead th {\n",
       "        text-align: right;\n",
       "    }\n",
       "</style>\n",
       "<table border=\"1\" class=\"dataframe\">\n",
       "  <thead>\n",
       "    <tr style=\"text-align: right;\">\n",
       "      <th></th>\n",
       "      <th>data_input</th>\n",
       "      <th>iteration</th>\n",
       "      <th>peak_memory (bytes)</th>\n",
       "      <th>data_input_size_mb</th>\n",
       "      <th>data_input_with_size</th>\n",
       "      <th>data_input_renamed</th>\n",
       "      <th>cytotable_time_duration (multiprocess) (secs)</th>\n",
       "      <th>cytotable_peak_memory (multiprocess) (GB)</th>\n",
       "      <th>cytotable_time_duration (multithread) (secs)</th>\n",
       "      <th>cytotable_peak_memory (multithread) (GB)</th>\n",
       "      <th>pandas_time_duration (secs)</th>\n",
       "      <th>pandas_peak_memory (GB)</th>\n",
       "    </tr>\n",
       "  </thead>\n",
       "  <tbody>\n",
       "    <tr>\n",
       "      <th>0</th>\n",
       "      <td>examples/data/examplehuman_cellprofiler_featur...</td>\n",
       "      <td>0</td>\n",
       "      <td>3.349709e+08</td>\n",
       "      <td>1.414125</td>\n",
       "      <td>examples/data/examplehuman_cellprofiler_featur...</td>\n",
       "      <td>input_csv (1 MB)</td>\n",
       "      <td>20.981794</td>\n",
       "      <td>0.311966</td>\n",
       "      <td>2.997917</td>\n",
       "      <td>0.243740</td>\n",
       "      <td>0.702126</td>\n",
       "      <td>0.110638</td>\n",
       "    </tr>\n",
       "    <tr>\n",
       "      <th>1</th>\n",
       "      <td>examples/data/examplehuman_cellprofiler_featur...</td>\n",
       "      <td>1</td>\n",
       "      <td>3.349135e+08</td>\n",
       "      <td>1.414125</td>\n",
       "      <td>examples/data/examplehuman_cellprofiler_featur...</td>\n",
       "      <td>input_csv (1 MB)</td>\n",
       "      <td>20.731451</td>\n",
       "      <td>0.311913</td>\n",
       "      <td>2.991671</td>\n",
       "      <td>0.248013</td>\n",
       "      <td>0.584849</td>\n",
       "      <td>0.114052</td>\n",
       "    </tr>\n",
       "    <tr>\n",
       "      <th>2</th>\n",
       "      <td>examples/data/examplehuman_cellprofiler_featur...</td>\n",
       "      <td>2</td>\n",
       "      <td>3.348234e+08</td>\n",
       "      <td>1.414125</td>\n",
       "      <td>examples/data/examplehuman_cellprofiler_featur...</td>\n",
       "      <td>input_csv (1 MB)</td>\n",
       "      <td>20.990158</td>\n",
       "      <td>0.311829</td>\n",
       "      <td>3.009408</td>\n",
       "      <td>0.235371</td>\n",
       "      <td>0.695516</td>\n",
       "      <td>0.112953</td>\n",
       "    </tr>\n",
       "    <tr>\n",
       "      <th>3</th>\n",
       "      <td>examples/data/examplehuman_cellprofiler_featur...</td>\n",
       "      <td>3</td>\n",
       "      <td>3.350774e+08</td>\n",
       "      <td>1.414125</td>\n",
       "      <td>examples/data/examplehuman_cellprofiler_featur...</td>\n",
       "      <td>input_csv (1 MB)</td>\n",
       "      <td>20.725288</td>\n",
       "      <td>0.312065</td>\n",
       "      <td>2.998291</td>\n",
       "      <td>0.235367</td>\n",
       "      <td>0.701317</td>\n",
       "      <td>0.112778</td>\n",
       "    </tr>\n",
       "    <tr>\n",
       "      <th>4</th>\n",
       "      <td>examples/data/examplehuman_cellprofiler_featur...</td>\n",
       "      <td>4</td>\n",
       "      <td>3.342705e+08</td>\n",
       "      <td>1.414125</td>\n",
       "      <td>examples/data/examplehuman_cellprofiler_featur...</td>\n",
       "      <td>input_csv (1 MB)</td>\n",
       "      <td>20.749313</td>\n",
       "      <td>0.311314</td>\n",
       "      <td>2.941357</td>\n",
       "      <td>0.235741</td>\n",
       "      <td>0.704329</td>\n",
       "      <td>0.112957</td>\n",
       "    </tr>\n",
       "    <tr>\n",
       "      <th>...</th>\n",
       "      <td>...</td>\n",
       "      <td>...</td>\n",
       "      <td>...</td>\n",
       "      <td>...</td>\n",
       "      <td>...</td>\n",
       "      <td>...</td>\n",
       "      <td>...</td>\n",
       "      <td>...</td>\n",
       "      <td>...</td>\n",
       "      <td>...</td>\n",
       "      <td>...</td>\n",
       "      <td>...</td>\n",
       "    </tr>\n",
       "    <tr>\n",
       "      <th>79</th>\n",
       "      <td>examples/data/examplehuman_cellprofiler_featur...</td>\n",
       "      <td>1</td>\n",
       "      <td>2.767725e+09</td>\n",
       "      <td>10922.421144</td>\n",
       "      <td>examples/data/examplehuman_cellprofiler_featur...</td>\n",
       "      <td>input_csv-x8192 (10922 MB)</td>\n",
       "      <td>141.259489</td>\n",
       "      <td>2.577644</td>\n",
       "      <td>141.305364</td>\n",
       "      <td>4.570572</td>\n",
       "      <td>95.369457</td>\n",
       "      <td>22.628010</td>\n",
       "    </tr>\n",
       "    <tr>\n",
       "      <th>80</th>\n",
       "      <td>examples/data/examplehuman_cellprofiler_featur...</td>\n",
       "      <td>2</td>\n",
       "      <td>2.768441e+09</td>\n",
       "      <td>10922.421144</td>\n",
       "      <td>examples/data/examplehuman_cellprofiler_featur...</td>\n",
       "      <td>input_csv-x8192 (10922 MB)</td>\n",
       "      <td>141.573577</td>\n",
       "      <td>2.578312</td>\n",
       "      <td>141.732157</td>\n",
       "      <td>4.630157</td>\n",
       "      <td>92.656957</td>\n",
       "      <td>22.990124</td>\n",
       "    </tr>\n",
       "    <tr>\n",
       "      <th>81</th>\n",
       "      <td>examples/data/examplehuman_cellprofiler_featur...</td>\n",
       "      <td>3</td>\n",
       "      <td>2.724692e+09</td>\n",
       "      <td>10922.421144</td>\n",
       "      <td>examples/data/examplehuman_cellprofiler_featur...</td>\n",
       "      <td>input_csv-x8192 (10922 MB)</td>\n",
       "      <td>142.025290</td>\n",
       "      <td>2.537567</td>\n",
       "      <td>141.402291</td>\n",
       "      <td>4.601284</td>\n",
       "      <td>92.837449</td>\n",
       "      <td>22.251102</td>\n",
       "    </tr>\n",
       "    <tr>\n",
       "      <th>82</th>\n",
       "      <td>examples/data/examplehuman_cellprofiler_featur...</td>\n",
       "      <td>4</td>\n",
       "      <td>2.800398e+09</td>\n",
       "      <td>10922.421144</td>\n",
       "      <td>examples/data/examplehuman_cellprofiler_featur...</td>\n",
       "      <td>input_csv-x8192 (10922 MB)</td>\n",
       "      <td>141.646941</td>\n",
       "      <td>2.608074</td>\n",
       "      <td>141.124171</td>\n",
       "      <td>4.666851</td>\n",
       "      <td>92.357122</td>\n",
       "      <td>22.409325</td>\n",
       "    </tr>\n",
       "    <tr>\n",
       "      <th>83</th>\n",
       "      <td>examples/data/examplehuman_cellprofiler_featur...</td>\n",
       "      <td>5</td>\n",
       "      <td>2.759090e+09</td>\n",
       "      <td>10922.421144</td>\n",
       "      <td>examples/data/examplehuman_cellprofiler_featur...</td>\n",
       "      <td>input_csv-x8192 (10922 MB)</td>\n",
       "      <td>142.315501</td>\n",
       "      <td>2.569603</td>\n",
       "      <td>141.356888</td>\n",
       "      <td>4.379971</td>\n",
       "      <td>93.636200</td>\n",
       "      <td>22.702316</td>\n",
       "    </tr>\n",
       "  </tbody>\n",
       "</table>\n",
       "<p>84 rows × 12 columns</p>\n",
       "</div>"
      ],
      "text/plain": [
       "                                           data_input  iteration  \\\n",
       "0   examples/data/examplehuman_cellprofiler_featur...          0   \n",
       "1   examples/data/examplehuman_cellprofiler_featur...          1   \n",
       "2   examples/data/examplehuman_cellprofiler_featur...          2   \n",
       "3   examples/data/examplehuman_cellprofiler_featur...          3   \n",
       "4   examples/data/examplehuman_cellprofiler_featur...          4   \n",
       "..                                                ...        ...   \n",
       "79  examples/data/examplehuman_cellprofiler_featur...          1   \n",
       "80  examples/data/examplehuman_cellprofiler_featur...          2   \n",
       "81  examples/data/examplehuman_cellprofiler_featur...          3   \n",
       "82  examples/data/examplehuman_cellprofiler_featur...          4   \n",
       "83  examples/data/examplehuman_cellprofiler_featur...          5   \n",
       "\n",
       "    peak_memory (bytes)  data_input_size_mb  \\\n",
       "0          3.349709e+08            1.414125   \n",
       "1          3.349135e+08            1.414125   \n",
       "2          3.348234e+08            1.414125   \n",
       "3          3.350774e+08            1.414125   \n",
       "4          3.342705e+08            1.414125   \n",
       "..                  ...                 ...   \n",
       "79         2.767725e+09        10922.421144   \n",
       "80         2.768441e+09        10922.421144   \n",
       "81         2.724692e+09        10922.421144   \n",
       "82         2.800398e+09        10922.421144   \n",
       "83         2.759090e+09        10922.421144   \n",
       "\n",
       "                                 data_input_with_size  \\\n",
       "0   examples/data/examplehuman_cellprofiler_featur...   \n",
       "1   examples/data/examplehuman_cellprofiler_featur...   \n",
       "2   examples/data/examplehuman_cellprofiler_featur...   \n",
       "3   examples/data/examplehuman_cellprofiler_featur...   \n",
       "4   examples/data/examplehuman_cellprofiler_featur...   \n",
       "..                                                ...   \n",
       "79  examples/data/examplehuman_cellprofiler_featur...   \n",
       "80  examples/data/examplehuman_cellprofiler_featur...   \n",
       "81  examples/data/examplehuman_cellprofiler_featur...   \n",
       "82  examples/data/examplehuman_cellprofiler_featur...   \n",
       "83  examples/data/examplehuman_cellprofiler_featur...   \n",
       "\n",
       "            data_input_renamed  cytotable_time_duration (multiprocess) (secs)  \\\n",
       "0             input_csv (1 MB)                                      20.981794   \n",
       "1             input_csv (1 MB)                                      20.731451   \n",
       "2             input_csv (1 MB)                                      20.990158   \n",
       "3             input_csv (1 MB)                                      20.725288   \n",
       "4             input_csv (1 MB)                                      20.749313   \n",
       "..                         ...                                            ...   \n",
       "79  input_csv-x8192 (10922 MB)                                     141.259489   \n",
       "80  input_csv-x8192 (10922 MB)                                     141.573577   \n",
       "81  input_csv-x8192 (10922 MB)                                     142.025290   \n",
       "82  input_csv-x8192 (10922 MB)                                     141.646941   \n",
       "83  input_csv-x8192 (10922 MB)                                     142.315501   \n",
       "\n",
       "    cytotable_peak_memory (multiprocess) (GB)  \\\n",
       "0                                    0.311966   \n",
       "1                                    0.311913   \n",
       "2                                    0.311829   \n",
       "3                                    0.312065   \n",
       "4                                    0.311314   \n",
       "..                                        ...   \n",
       "79                                   2.577644   \n",
       "80                                   2.578312   \n",
       "81                                   2.537567   \n",
       "82                                   2.608074   \n",
       "83                                   2.569603   \n",
       "\n",
       "    cytotable_time_duration (multithread) (secs)  \\\n",
       "0                                       2.997917   \n",
       "1                                       2.991671   \n",
       "2                                       3.009408   \n",
       "3                                       2.998291   \n",
       "4                                       2.941357   \n",
       "..                                           ...   \n",
       "79                                    141.305364   \n",
       "80                                    141.732157   \n",
       "81                                    141.402291   \n",
       "82                                    141.124171   \n",
       "83                                    141.356888   \n",
       "\n",
       "    cytotable_peak_memory (multithread) (GB)  pandas_time_duration (secs)  \\\n",
       "0                                   0.243740                     0.702126   \n",
       "1                                   0.248013                     0.584849   \n",
       "2                                   0.235371                     0.695516   \n",
       "3                                   0.235367                     0.701317   \n",
       "4                                   0.235741                     0.704329   \n",
       "..                                       ...                          ...   \n",
       "79                                  4.570572                    95.369457   \n",
       "80                                  4.630157                    92.656957   \n",
       "81                                  4.601284                    92.837449   \n",
       "82                                  4.666851                    92.357122   \n",
       "83                                  4.379971                    93.636200   \n",
       "\n",
       "    pandas_peak_memory (GB)  \n",
       "0                  0.110638  \n",
       "1                  0.114052  \n",
       "2                  0.112953  \n",
       "3                  0.112778  \n",
       "4                  0.112957  \n",
       "..                      ...  \n",
       "79                22.628010  \n",
       "80                22.990124  \n",
       "81                22.251102  \n",
       "82                22.409325  \n",
       "83                22.702316  \n",
       "\n",
       "[84 rows x 12 columns]"
      ]
     },
     "execution_count": 8,
     "metadata": {},
     "output_type": "execute_result"
    }
   ],
   "source": [
    "# build cols for split reference in the plot\n",
    "df_results[\"cytotable_time_duration (multiprocess) (secs)\"] = df_results[\n",
    "    df_results[\"file_input\"] == \"cytotable_convert_examplehuman_multiprocess_csv.py\"\n",
    "][\"time_duration (secs)\"]\n",
    "df_results[\"cytotable_peak_memory (multiprocess) (GB)\"] = df_results[\n",
    "    df_results[\"file_input\"] == \"cytotable_convert_examplehuman_multiprocess_csv.py\"\n",
    "][\"peak_memory (GB)\"]\n",
    "df_results[\"cytotable_time_duration (multithread) (secs)\"] = df_results[\n",
    "    df_results[\"file_input\"] == \"cytotable_convert_examplehuman_multithread_csv.py\"\n",
    "][\"time_duration (secs)\"]\n",
    "df_results[\"cytotable_peak_memory (multithread) (GB)\"] = df_results[\n",
    "    df_results[\"file_input\"] == \"cytotable_convert_examplehuman_multithread_csv.py\"\n",
    "][\"peak_memory (GB)\"]\n",
    "df_results[\"pandas_time_duration (secs)\"] = df_results[\n",
    "    df_results[\"file_input\"] == \"pandas_merge_examplehuman_csv.py\"\n",
    "][\"time_duration (secs)\"]\n",
    "df_results[\"pandas_peak_memory (GB)\"] = df_results[\n",
    "    df_results[\"file_input\"] == \"pandas_merge_examplehuman_csv.py\"\n",
    "][\"peak_memory (GB)\"]\n",
    "df_results = (\n",
    "    df_results.apply(lambda x: pd.Series(x.dropna().values))\n",
    "    .drop([\"file_input\", \"time_duration (secs)\", \"peak_memory (GB)\"], axis=1)\n",
    "    .dropna()\n",
    ")\n",
    "df_results"
   ]
  },
  {
   "cell_type": "code",
   "execution_count": 9,
   "id": "2e088609-d453-459e-b78e-4e2f07ec1af7",
   "metadata": {
    "execution": {
     "iopub.execute_input": "2025-05-14T19:56:39.376340Z",
     "iopub.status.busy": "2025-05-14T19:56:39.376091Z",
     "iopub.status.idle": "2025-05-14T19:56:39.408334Z",
     "shell.execute_reply": "2025-05-14T19:56:39.407467Z"
    },
    "papermill": {
     "duration": 0.05393,
     "end_time": "2025-05-14T19:56:39.409503",
     "exception": false,
     "start_time": "2025-05-14T19:56:39.355573",
     "status": "completed"
    },
    "tags": []
   },
   "outputs": [
    {
     "data": {
      "text/html": [
       "<div>\n",
       "<style scoped>\n",
       "    .dataframe tbody tr th:only-of-type {\n",
       "        vertical-align: middle;\n",
       "    }\n",
       "\n",
       "    .dataframe tbody tr th {\n",
       "        vertical-align: top;\n",
       "    }\n",
       "\n",
       "    .dataframe thead th {\n",
       "        text-align: right;\n",
       "    }\n",
       "</style>\n",
       "<table border=\"1\" class=\"dataframe\">\n",
       "  <thead>\n",
       "    <tr style=\"text-align: right;\">\n",
       "      <th></th>\n",
       "      <th>data_input_renamed</th>\n",
       "      <th>cytotable_time_duration (multiprocess) (secs) (mean)</th>\n",
       "      <th>cytotable_time_duration (multiprocess) (secs) (min)</th>\n",
       "      <th>cytotable_time_duration (multiprocess) (secs) (max)</th>\n",
       "      <th>cytotable_time_duration (multithread) (secs) (mean)</th>\n",
       "      <th>cytotable_time_duration (multithread) (secs) (min)</th>\n",
       "      <th>cytotable_time_duration (multithread) (secs) (max)</th>\n",
       "      <th>pandas_time_duration (secs) (mean)</th>\n",
       "      <th>pandas_time_duration (secs) (min)</th>\n",
       "      <th>pandas_time_duration (secs) (max)</th>\n",
       "      <th>cytotable_peak_memory (multiprocess) (GB) (mean)</th>\n",
       "      <th>cytotable_peak_memory (multiprocess) (GB) (min)</th>\n",
       "      <th>cytotable_peak_memory (multiprocess) (GB) (max)</th>\n",
       "      <th>cytotable_peak_memory (multithread) (GB) (mean)</th>\n",
       "      <th>cytotable_peak_memory (multithread) (GB) (min)</th>\n",
       "      <th>cytotable_peak_memory (multithread) (GB) (max)</th>\n",
       "      <th>pandas_peak_memory (GB) (mean)</th>\n",
       "      <th>pandas_peak_memory (GB) (min)</th>\n",
       "      <th>pandas_peak_memory (GB) (max)</th>\n",
       "    </tr>\n",
       "  </thead>\n",
       "  <tbody>\n",
       "    <tr>\n",
       "      <th>0</th>\n",
       "      <td>input_csv (1 MB)</td>\n",
       "      <td>20.833497</td>\n",
       "      <td>20.725288</td>\n",
       "      <td>20.990158</td>\n",
       "      <td>2.979258</td>\n",
       "      <td>2.936904</td>\n",
       "      <td>3.009408</td>\n",
       "      <td>0.680773</td>\n",
       "      <td>0.584849</td>\n",
       "      <td>0.704329</td>\n",
       "      <td>0.311885</td>\n",
       "      <td>0.311314</td>\n",
       "      <td>0.312222</td>\n",
       "      <td>0.238688</td>\n",
       "      <td>0.233894</td>\n",
       "      <td>0.248013</td>\n",
       "      <td>0.112738</td>\n",
       "      <td>0.110638</td>\n",
       "      <td>0.114052</td>\n",
       "    </tr>\n",
       "    <tr>\n",
       "      <th>4</th>\n",
       "      <td>input_csv-x2 (3 MB)</td>\n",
       "      <td>20.964547</td>\n",
       "      <td>20.640574</td>\n",
       "      <td>21.082795</td>\n",
       "      <td>3.176469</td>\n",
       "      <td>3.054220</td>\n",
       "      <td>3.243892</td>\n",
       "      <td>0.698571</td>\n",
       "      <td>0.675399</td>\n",
       "      <td>0.711165</td>\n",
       "      <td>0.312931</td>\n",
       "      <td>0.312225</td>\n",
       "      <td>0.313965</td>\n",
       "      <td>0.246026</td>\n",
       "      <td>0.236958</td>\n",
       "      <td>0.257481</td>\n",
       "      <td>0.113965</td>\n",
       "      <td>0.110260</td>\n",
       "      <td>0.115913</td>\n",
       "    </tr>\n",
       "    <tr>\n",
       "      <th>8</th>\n",
       "      <td>input_csv-x4 (5 MB)</td>\n",
       "      <td>21.097768</td>\n",
       "      <td>20.837013</td>\n",
       "      <td>21.212725</td>\n",
       "      <td>3.524618</td>\n",
       "      <td>3.487053</td>\n",
       "      <td>3.554939</td>\n",
       "      <td>0.703272</td>\n",
       "      <td>0.701723</td>\n",
       "      <td>0.708285</td>\n",
       "      <td>0.314633</td>\n",
       "      <td>0.313847</td>\n",
       "      <td>0.315407</td>\n",
       "      <td>0.245380</td>\n",
       "      <td>0.237988</td>\n",
       "      <td>0.273193</td>\n",
       "      <td>0.118576</td>\n",
       "      <td>0.118336</td>\n",
       "      <td>0.118725</td>\n",
       "    </tr>\n",
       "    <tr>\n",
       "      <th>12</th>\n",
       "      <td>input_csv-x8 (11 MB)</td>\n",
       "      <td>21.563956</td>\n",
       "      <td>21.441576</td>\n",
       "      <td>21.738663</td>\n",
       "      <td>4.149511</td>\n",
       "      <td>4.091795</td>\n",
       "      <td>4.218827</td>\n",
       "      <td>0.720569</td>\n",
       "      <td>0.701735</td>\n",
       "      <td>0.801708</td>\n",
       "      <td>0.321948</td>\n",
       "      <td>0.317844</td>\n",
       "      <td>0.339405</td>\n",
       "      <td>0.262403</td>\n",
       "      <td>0.242653</td>\n",
       "      <td>0.281143</td>\n",
       "      <td>0.126362</td>\n",
       "      <td>0.126137</td>\n",
       "      <td>0.126438</td>\n",
       "    </tr>\n",
       "    <tr>\n",
       "      <th>3</th>\n",
       "      <td>input_csv-x16 (21 MB)</td>\n",
       "      <td>21.824366</td>\n",
       "      <td>21.718493</td>\n",
       "      <td>21.920061</td>\n",
       "      <td>4.598993</td>\n",
       "      <td>4.526463</td>\n",
       "      <td>4.638726</td>\n",
       "      <td>0.846868</td>\n",
       "      <td>0.807117</td>\n",
       "      <td>0.907765</td>\n",
       "      <td>0.341398</td>\n",
       "      <td>0.339573</td>\n",
       "      <td>0.344280</td>\n",
       "      <td>0.287287</td>\n",
       "      <td>0.262241</td>\n",
       "      <td>0.318546</td>\n",
       "      <td>0.142043</td>\n",
       "      <td>0.141747</td>\n",
       "      <td>0.142303</td>\n",
       "    </tr>\n",
       "    <tr>\n",
       "      <th>7</th>\n",
       "      <td>input_csv-x32 (43 MB)</td>\n",
       "      <td>22.309466</td>\n",
       "      <td>21.711435</td>\n",
       "      <td>22.702538</td>\n",
       "      <td>5.436012</td>\n",
       "      <td>5.382754</td>\n",
       "      <td>5.496539</td>\n",
       "      <td>1.051788</td>\n",
       "      <td>1.032278</td>\n",
       "      <td>1.068415</td>\n",
       "      <td>0.403185</td>\n",
       "      <td>0.358887</td>\n",
       "      <td>0.491158</td>\n",
       "      <td>0.350104</td>\n",
       "      <td>0.331715</td>\n",
       "      <td>0.369049</td>\n",
       "      <td>0.174838</td>\n",
       "      <td>0.171955</td>\n",
       "      <td>0.175629</td>\n",
       "    </tr>\n",
       "    <tr>\n",
       "      <th>11</th>\n",
       "      <td>input_csv-x64 (85 MB)</td>\n",
       "      <td>23.376563</td>\n",
       "      <td>23.229440</td>\n",
       "      <td>23.452713</td>\n",
       "      <td>7.031577</td>\n",
       "      <td>6.958911</td>\n",
       "      <td>7.126724</td>\n",
       "      <td>1.444839</td>\n",
       "      <td>1.402900</td>\n",
       "      <td>1.473439</td>\n",
       "      <td>0.538514</td>\n",
       "      <td>0.496964</td>\n",
       "      <td>0.585533</td>\n",
       "      <td>0.498933</td>\n",
       "      <td>0.481983</td>\n",
       "      <td>0.540123</td>\n",
       "      <td>0.239684</td>\n",
       "      <td>0.237415</td>\n",
       "      <td>0.250610</td>\n",
       "    </tr>\n",
       "    <tr>\n",
       "      <th>2</th>\n",
       "      <td>input_csv-x128 (170 MB)</td>\n",
       "      <td>24.227756</td>\n",
       "      <td>24.126119</td>\n",
       "      <td>24.319255</td>\n",
       "      <td>8.203636</td>\n",
       "      <td>8.114115</td>\n",
       "      <td>8.305845</td>\n",
       "      <td>2.179335</td>\n",
       "      <td>2.100766</td>\n",
       "      <td>2.224394</td>\n",
       "      <td>0.711216</td>\n",
       "      <td>0.609779</td>\n",
       "      <td>0.779457</td>\n",
       "      <td>0.692265</td>\n",
       "      <td>0.631813</td>\n",
       "      <td>0.730137</td>\n",
       "      <td>0.378014</td>\n",
       "      <td>0.347889</td>\n",
       "      <td>0.416374</td>\n",
       "    </tr>\n",
       "    <tr>\n",
       "      <th>6</th>\n",
       "      <td>input_csv-x256 (341 MB)</td>\n",
       "      <td>25.713034</td>\n",
       "      <td>25.490880</td>\n",
       "      <td>25.904561</td>\n",
       "      <td>10.041020</td>\n",
       "      <td>9.956017</td>\n",
       "      <td>10.140570</td>\n",
       "      <td>3.798717</td>\n",
       "      <td>3.717893</td>\n",
       "      <td>3.848830</td>\n",
       "      <td>1.029647</td>\n",
       "      <td>0.857513</td>\n",
       "      <td>1.086540</td>\n",
       "      <td>1.045956</td>\n",
       "      <td>0.911758</td>\n",
       "      <td>1.174927</td>\n",
       "      <td>0.603293</td>\n",
       "      <td>0.572678</td>\n",
       "      <td>0.629745</td>\n",
       "    </tr>\n",
       "    <tr>\n",
       "      <th>10</th>\n",
       "      <td>input_csv-x512 (682 MB)</td>\n",
       "      <td>29.012794</td>\n",
       "      <td>28.721548</td>\n",
       "      <td>29.527593</td>\n",
       "      <td>13.390294</td>\n",
       "      <td>13.281820</td>\n",
       "      <td>13.477414</td>\n",
       "      <td>6.778361</td>\n",
       "      <td>6.694391</td>\n",
       "      <td>6.884983</td>\n",
       "      <td>1.490635</td>\n",
       "      <td>1.411068</td>\n",
       "      <td>1.626228</td>\n",
       "      <td>1.717751</td>\n",
       "      <td>1.649502</td>\n",
       "      <td>1.774868</td>\n",
       "      <td>1.179618</td>\n",
       "      <td>1.067192</td>\n",
       "      <td>1.271629</td>\n",
       "    </tr>\n",
       "    <tr>\n",
       "      <th>1</th>\n",
       "      <td>input_csv-x1024 (1365 MB)</td>\n",
       "      <td>33.215218</td>\n",
       "      <td>33.016151</td>\n",
       "      <td>33.412005</td>\n",
       "      <td>19.351094</td>\n",
       "      <td>19.220042</td>\n",
       "      <td>19.537978</td>\n",
       "      <td>12.781276</td>\n",
       "      <td>12.697895</td>\n",
       "      <td>12.957394</td>\n",
       "      <td>2.078131</td>\n",
       "      <td>1.946579</td>\n",
       "      <td>2.194065</td>\n",
       "      <td>2.608552</td>\n",
       "      <td>2.469242</td>\n",
       "      <td>2.662849</td>\n",
       "      <td>2.614695</td>\n",
       "      <td>2.478893</td>\n",
       "      <td>2.765415</td>\n",
       "    </tr>\n",
       "    <tr>\n",
       "      <th>5</th>\n",
       "      <td>input_csv-x2048 (2730 MB)</td>\n",
       "      <td>41.111140</td>\n",
       "      <td>40.610285</td>\n",
       "      <td>42.367468</td>\n",
       "      <td>32.022807</td>\n",
       "      <td>31.804655</td>\n",
       "      <td>32.144120</td>\n",
       "      <td>24.942650</td>\n",
       "      <td>24.080735</td>\n",
       "      <td>25.930800</td>\n",
       "      <td>2.443239</td>\n",
       "      <td>2.286900</td>\n",
       "      <td>2.606976</td>\n",
       "      <td>3.985484</td>\n",
       "      <td>3.904751</td>\n",
       "      <td>4.119381</td>\n",
       "      <td>5.367890</td>\n",
       "      <td>5.140476</td>\n",
       "      <td>5.594723</td>\n",
       "    </tr>\n",
       "    <tr>\n",
       "      <th>9</th>\n",
       "      <td>input_csv-x4096 (5461 MB)</td>\n",
       "      <td>65.287450</td>\n",
       "      <td>64.834772</td>\n",
       "      <td>66.099931</td>\n",
       "      <td>60.328364</td>\n",
       "      <td>60.104386</td>\n",
       "      <td>60.888045</td>\n",
       "      <td>47.393571</td>\n",
       "      <td>47.086578</td>\n",
       "      <td>47.651113</td>\n",
       "      <td>2.436845</td>\n",
       "      <td>2.342884</td>\n",
       "      <td>2.557785</td>\n",
       "      <td>4.161324</td>\n",
       "      <td>4.037483</td>\n",
       "      <td>4.252274</td>\n",
       "      <td>11.163800</td>\n",
       "      <td>10.848057</td>\n",
       "      <td>11.361153</td>\n",
       "    </tr>\n",
       "    <tr>\n",
       "      <th>13</th>\n",
       "      <td>input_csv-x8192 (10922 MB)</td>\n",
       "      <td>141.936739</td>\n",
       "      <td>141.259489</td>\n",
       "      <td>142.799634</td>\n",
       "      <td>141.394361</td>\n",
       "      <td>141.124171</td>\n",
       "      <td>141.732157</td>\n",
       "      <td>93.518749</td>\n",
       "      <td>92.357122</td>\n",
       "      <td>95.369457</td>\n",
       "      <td>2.586622</td>\n",
       "      <td>2.537567</td>\n",
       "      <td>2.648533</td>\n",
       "      <td>4.560195</td>\n",
       "      <td>4.379971</td>\n",
       "      <td>4.666851</td>\n",
       "      <td>22.656457</td>\n",
       "      <td>22.251102</td>\n",
       "      <td>22.990124</td>\n",
       "    </tr>\n",
       "  </tbody>\n",
       "</table>\n",
       "</div>"
      ],
      "text/plain": [
       "            data_input_renamed  \\\n",
       "0             input_csv (1 MB)   \n",
       "4          input_csv-x2 (3 MB)   \n",
       "8          input_csv-x4 (5 MB)   \n",
       "12        input_csv-x8 (11 MB)   \n",
       "3        input_csv-x16 (21 MB)   \n",
       "7        input_csv-x32 (43 MB)   \n",
       "11       input_csv-x64 (85 MB)   \n",
       "2      input_csv-x128 (170 MB)   \n",
       "6      input_csv-x256 (341 MB)   \n",
       "10     input_csv-x512 (682 MB)   \n",
       "1    input_csv-x1024 (1365 MB)   \n",
       "5    input_csv-x2048 (2730 MB)   \n",
       "9    input_csv-x4096 (5461 MB)   \n",
       "13  input_csv-x8192 (10922 MB)   \n",
       "\n",
       "    cytotable_time_duration (multiprocess) (secs) (mean)  \\\n",
       "0                                           20.833497      \n",
       "4                                           20.964547      \n",
       "8                                           21.097768      \n",
       "12                                          21.563956      \n",
       "3                                           21.824366      \n",
       "7                                           22.309466      \n",
       "11                                          23.376563      \n",
       "2                                           24.227756      \n",
       "6                                           25.713034      \n",
       "10                                          29.012794      \n",
       "1                                           33.215218      \n",
       "5                                           41.111140      \n",
       "9                                           65.287450      \n",
       "13                                         141.936739      \n",
       "\n",
       "    cytotable_time_duration (multiprocess) (secs) (min)  \\\n",
       "0                                           20.725288     \n",
       "4                                           20.640574     \n",
       "8                                           20.837013     \n",
       "12                                          21.441576     \n",
       "3                                           21.718493     \n",
       "7                                           21.711435     \n",
       "11                                          23.229440     \n",
       "2                                           24.126119     \n",
       "6                                           25.490880     \n",
       "10                                          28.721548     \n",
       "1                                           33.016151     \n",
       "5                                           40.610285     \n",
       "9                                           64.834772     \n",
       "13                                         141.259489     \n",
       "\n",
       "    cytotable_time_duration (multiprocess) (secs) (max)  \\\n",
       "0                                           20.990158     \n",
       "4                                           21.082795     \n",
       "8                                           21.212725     \n",
       "12                                          21.738663     \n",
       "3                                           21.920061     \n",
       "7                                           22.702538     \n",
       "11                                          23.452713     \n",
       "2                                           24.319255     \n",
       "6                                           25.904561     \n",
       "10                                          29.527593     \n",
       "1                                           33.412005     \n",
       "5                                           42.367468     \n",
       "9                                           66.099931     \n",
       "13                                         142.799634     \n",
       "\n",
       "    cytotable_time_duration (multithread) (secs) (mean)  \\\n",
       "0                                            2.979258     \n",
       "4                                            3.176469     \n",
       "8                                            3.524618     \n",
       "12                                           4.149511     \n",
       "3                                            4.598993     \n",
       "7                                            5.436012     \n",
       "11                                           7.031577     \n",
       "2                                            8.203636     \n",
       "6                                           10.041020     \n",
       "10                                          13.390294     \n",
       "1                                           19.351094     \n",
       "5                                           32.022807     \n",
       "9                                           60.328364     \n",
       "13                                         141.394361     \n",
       "\n",
       "    cytotable_time_duration (multithread) (secs) (min)  \\\n",
       "0                                            2.936904    \n",
       "4                                            3.054220    \n",
       "8                                            3.487053    \n",
       "12                                           4.091795    \n",
       "3                                            4.526463    \n",
       "7                                            5.382754    \n",
       "11                                           6.958911    \n",
       "2                                            8.114115    \n",
       "6                                            9.956017    \n",
       "10                                          13.281820    \n",
       "1                                           19.220042    \n",
       "5                                           31.804655    \n",
       "9                                           60.104386    \n",
       "13                                         141.124171    \n",
       "\n",
       "    cytotable_time_duration (multithread) (secs) (max)  \\\n",
       "0                                            3.009408    \n",
       "4                                            3.243892    \n",
       "8                                            3.554939    \n",
       "12                                           4.218827    \n",
       "3                                            4.638726    \n",
       "7                                            5.496539    \n",
       "11                                           7.126724    \n",
       "2                                            8.305845    \n",
       "6                                           10.140570    \n",
       "10                                          13.477414    \n",
       "1                                           19.537978    \n",
       "5                                           32.144120    \n",
       "9                                           60.888045    \n",
       "13                                         141.732157    \n",
       "\n",
       "    pandas_time_duration (secs) (mean)  pandas_time_duration (secs) (min)  \\\n",
       "0                             0.680773                           0.584849   \n",
       "4                             0.698571                           0.675399   \n",
       "8                             0.703272                           0.701723   \n",
       "12                            0.720569                           0.701735   \n",
       "3                             0.846868                           0.807117   \n",
       "7                             1.051788                           1.032278   \n",
       "11                            1.444839                           1.402900   \n",
       "2                             2.179335                           2.100766   \n",
       "6                             3.798717                           3.717893   \n",
       "10                            6.778361                           6.694391   \n",
       "1                            12.781276                          12.697895   \n",
       "5                            24.942650                          24.080735   \n",
       "9                            47.393571                          47.086578   \n",
       "13                           93.518749                          92.357122   \n",
       "\n",
       "    pandas_time_duration (secs) (max)  \\\n",
       "0                            0.704329   \n",
       "4                            0.711165   \n",
       "8                            0.708285   \n",
       "12                           0.801708   \n",
       "3                            0.907765   \n",
       "7                            1.068415   \n",
       "11                           1.473439   \n",
       "2                            2.224394   \n",
       "6                            3.848830   \n",
       "10                           6.884983   \n",
       "1                           12.957394   \n",
       "5                           25.930800   \n",
       "9                           47.651113   \n",
       "13                          95.369457   \n",
       "\n",
       "    cytotable_peak_memory (multiprocess) (GB) (mean)  \\\n",
       "0                                           0.311885   \n",
       "4                                           0.312931   \n",
       "8                                           0.314633   \n",
       "12                                          0.321948   \n",
       "3                                           0.341398   \n",
       "7                                           0.403185   \n",
       "11                                          0.538514   \n",
       "2                                           0.711216   \n",
       "6                                           1.029647   \n",
       "10                                          1.490635   \n",
       "1                                           2.078131   \n",
       "5                                           2.443239   \n",
       "9                                           2.436845   \n",
       "13                                          2.586622   \n",
       "\n",
       "    cytotable_peak_memory (multiprocess) (GB) (min)  \\\n",
       "0                                          0.311314   \n",
       "4                                          0.312225   \n",
       "8                                          0.313847   \n",
       "12                                         0.317844   \n",
       "3                                          0.339573   \n",
       "7                                          0.358887   \n",
       "11                                         0.496964   \n",
       "2                                          0.609779   \n",
       "6                                          0.857513   \n",
       "10                                         1.411068   \n",
       "1                                          1.946579   \n",
       "5                                          2.286900   \n",
       "9                                          2.342884   \n",
       "13                                         2.537567   \n",
       "\n",
       "    cytotable_peak_memory (multiprocess) (GB) (max)  \\\n",
       "0                                          0.312222   \n",
       "4                                          0.313965   \n",
       "8                                          0.315407   \n",
       "12                                         0.339405   \n",
       "3                                          0.344280   \n",
       "7                                          0.491158   \n",
       "11                                         0.585533   \n",
       "2                                          0.779457   \n",
       "6                                          1.086540   \n",
       "10                                         1.626228   \n",
       "1                                          2.194065   \n",
       "5                                          2.606976   \n",
       "9                                          2.557785   \n",
       "13                                         2.648533   \n",
       "\n",
       "    cytotable_peak_memory (multithread) (GB) (mean)  \\\n",
       "0                                          0.238688   \n",
       "4                                          0.246026   \n",
       "8                                          0.245380   \n",
       "12                                         0.262403   \n",
       "3                                          0.287287   \n",
       "7                                          0.350104   \n",
       "11                                         0.498933   \n",
       "2                                          0.692265   \n",
       "6                                          1.045956   \n",
       "10                                         1.717751   \n",
       "1                                          2.608552   \n",
       "5                                          3.985484   \n",
       "9                                          4.161324   \n",
       "13                                         4.560195   \n",
       "\n",
       "    cytotable_peak_memory (multithread) (GB) (min)  \\\n",
       "0                                         0.233894   \n",
       "4                                         0.236958   \n",
       "8                                         0.237988   \n",
       "12                                        0.242653   \n",
       "3                                         0.262241   \n",
       "7                                         0.331715   \n",
       "11                                        0.481983   \n",
       "2                                         0.631813   \n",
       "6                                         0.911758   \n",
       "10                                        1.649502   \n",
       "1                                         2.469242   \n",
       "5                                         3.904751   \n",
       "9                                         4.037483   \n",
       "13                                        4.379971   \n",
       "\n",
       "    cytotable_peak_memory (multithread) (GB) (max)  \\\n",
       "0                                         0.248013   \n",
       "4                                         0.257481   \n",
       "8                                         0.273193   \n",
       "12                                        0.281143   \n",
       "3                                         0.318546   \n",
       "7                                         0.369049   \n",
       "11                                        0.540123   \n",
       "2                                         0.730137   \n",
       "6                                         1.174927   \n",
       "10                                        1.774868   \n",
       "1                                         2.662849   \n",
       "5                                         4.119381   \n",
       "9                                         4.252274   \n",
       "13                                        4.666851   \n",
       "\n",
       "    pandas_peak_memory (GB) (mean)  pandas_peak_memory (GB) (min)  \\\n",
       "0                         0.112738                       0.110638   \n",
       "4                         0.113965                       0.110260   \n",
       "8                         0.118576                       0.118336   \n",
       "12                        0.126362                       0.126137   \n",
       "3                         0.142043                       0.141747   \n",
       "7                         0.174838                       0.171955   \n",
       "11                        0.239684                       0.237415   \n",
       "2                         0.378014                       0.347889   \n",
       "6                         0.603293                       0.572678   \n",
       "10                        1.179618                       1.067192   \n",
       "1                         2.614695                       2.478893   \n",
       "5                         5.367890                       5.140476   \n",
       "9                        11.163800                      10.848057   \n",
       "13                       22.656457                      22.251102   \n",
       "\n",
       "    pandas_peak_memory (GB) (max)  \n",
       "0                        0.114052  \n",
       "4                        0.115913  \n",
       "8                        0.118725  \n",
       "12                       0.126438  \n",
       "3                        0.142303  \n",
       "7                        0.175629  \n",
       "11                       0.250610  \n",
       "2                        0.416374  \n",
       "6                        0.629745  \n",
       "10                       1.271629  \n",
       "1                        2.765415  \n",
       "5                        5.594723  \n",
       "9                       11.361153  \n",
       "13                      22.990124  "
      ]
     },
     "execution_count": 9,
     "metadata": {},
     "output_type": "execute_result"
    }
   ],
   "source": [
    "# Group by data_input_renamed and calculate mean, min, and max\n",
    "aggregated_results = df_results.groupby(\"data_input_renamed\").agg(\n",
    "    {\n",
    "        \"cytotable_time_duration (multiprocess) (secs)\": [\"mean\", \"min\", \"max\"],\n",
    "        \"cytotable_time_duration (multithread) (secs)\": [\"mean\", \"min\", \"max\"],\n",
    "        \"pandas_time_duration (secs)\": [\"mean\", \"min\", \"max\"],\n",
    "        \"cytotable_peak_memory (multiprocess) (GB)\": [\"mean\", \"min\", \"max\"],\n",
    "        \"cytotable_peak_memory (multithread) (GB)\": [\"mean\", \"min\", \"max\"],\n",
    "        \"pandas_peak_memory (GB)\": [\"mean\", \"min\", \"max\"],\n",
    "    }\n",
    ")\n",
    "# Flatten the multi-level columns\n",
    "aggregated_results.columns = [\n",
    "    f\"{col[0]} ({col[1]})\" for col in aggregated_results.columns\n",
    "]\n",
    "aggregated_results.reset_index(inplace=True)\n",
    "\n",
    "\n",
    "# Helper function to extract numeric value or None\n",
    "def sort_key(s):\n",
    "    match = re.search(r\"\\d+\", s)\n",
    "    if match:\n",
    "        return (1, int(match.group()))  # numeric items: (1, number)\n",
    "    else:\n",
    "        return (0, s.lower())  # non-numeric items: (0, alphabetical)\n",
    "\n",
    "\n",
    "# Sort using the custom key\n",
    "aggregated_results = aggregated_results.sort_values(\n",
    "    by=\"data_input_renamed\", key=lambda col: col.map(sort_key)\n",
    ")\n",
    "aggregated_results"
   ]
  },
  {
   "cell_type": "code",
   "execution_count": 10,
   "id": "f2dec74d-bf23-40da-989d-3d45049e17b2",
   "metadata": {
    "execution": {
     "iopub.execute_input": "2025-05-14T19:56:39.451436Z",
     "iopub.status.busy": "2025-05-14T19:56:39.451120Z",
     "iopub.status.idle": "2025-05-14T19:56:40.816511Z",
     "shell.execute_reply": "2025-05-14T19:56:40.815399Z"
    },
    "papermill": {
     "duration": 1.388203,
     "end_time": "2025-05-14T19:56:40.818276",
     "exception": false,
     "start_time": "2025-05-14T19:56:39.430073",
     "status": "completed"
    },
    "tags": []
   },
   "outputs": [
    {
     "data": {
      "text/html": [
       "<img src=\"images/cytotable-and-pandas-comparisons-join-completion-time-csv.svg\"/>"
      ],
      "text/plain": [
       "<IPython.core.display.Image object>"
      ]
     },
     "execution_count": 10,
     "metadata": {},
     "output_type": "execute_result"
    }
   ],
   "source": [
    "# Time plot with min and max errors\n",
    "fig = px.line(\n",
    "    aggregated_results,\n",
    "    x=\"data_input_renamed\",\n",
    "    y=[\n",
    "        \"cytotable_time_duration (multiprocess) (secs) (mean)\",\n",
    "        \"cytotable_time_duration (multithread) (secs) (mean)\",\n",
    "        \"pandas_time_duration (secs) (mean)\",\n",
    "    ],\n",
    "    title=\"CytoTable and Pandas CSV Processing Time with Min/Max Errors\",\n",
    "    labels={\"data_input_renamed\": \"Input File\", \"value\": \"Seconds\"},\n",
    "    height=500,\n",
    "    width=900,\n",
    "    symbol_sequence=[\"diamond\"],\n",
    "    color_discrete_sequence=[\n",
    "        px.colors.qualitative.Vivid[6],\n",
    "        px.colors.qualitative.Vivid[7],\n",
    "        px.colors.qualitative.Vivid[4],\n",
    "    ],\n",
    ")\n",
    "\n",
    "# Add error bars for each trace\n",
    "for i, col in enumerate(\n",
    "    [\n",
    "        \"cytotable_time_duration (multiprocess) (secs)\",\n",
    "        \"cytotable_time_duration (multithread) (secs)\",\n",
    "        \"pandas_time_duration (secs)\",\n",
    "    ]\n",
    "):\n",
    "    fig.data[i].update(\n",
    "        error_y=dict(\n",
    "            array=(\n",
    "                aggregated_results[f\"{col} (max)\"] - aggregated_results[f\"{col} (mean)\"]\n",
    "            ),\n",
    "            arrayminus=(\n",
    "                aggregated_results[f\"{col} (mean)\"] - aggregated_results[f\"{col} (min)\"]\n",
    "            ),\n",
    "        )\n",
    "    )\n",
    "\n",
    "# Rename the lines for the legend\n",
    "newnames = {\n",
    "    \"cytotable_time_duration (multiprocess) (secs) (mean)\": \"CytoTable (multiprocess)\",\n",
    "    \"cytotable_time_duration (multithread) (secs) (mean)\": \"CytoTable (multithread)\",\n",
    "    \"pandas_time_duration (secs) (mean)\": \"Pandas\",\n",
    "}\n",
    "fig.for_each_trace(\n",
    "    lambda t: t.update(\n",
    "        name=newnames[t.name],\n",
    "        legendgroup=newnames[t.name],\n",
    "        hovertemplate=t.hovertemplate.replace(t.name, newnames[t.name]),\n",
    "    )\n",
    ")\n",
    "\n",
    "# Update the legend and layout\n",
    "fig.update_layout(\n",
    "    legend_title_text=\"\",\n",
    "    legend=dict(x=0.01, y=0.98, bgcolor=\"rgba(255,255,255,0.8)\"),\n",
    "    font=dict(size=16),  # Global font size\n",
    ")\n",
    "fig.update_traces(mode=\"lines+markers\")\n",
    "fig.update_layout(yaxis=dict(rangemode=\"tozero\", autorange=True))\n",
    "\n",
    "# Save and display the plot\n",
    "fig.write_image(join_read_time_image)\n",
    "fig.write_image(join_read_time_image.replace(\".png\", \".svg\"))\n",
    "Image(url=join_read_time_image.replace(\".png\", \".svg\"))"
   ]
  },
  {
   "cell_type": "code",
   "execution_count": 11,
   "id": "47984c80-edfa-4bab-87f2-3f6034ff7e84",
   "metadata": {
    "execution": {
     "iopub.execute_input": "2025-05-14T19:56:40.872643Z",
     "iopub.status.busy": "2025-05-14T19:56:40.872120Z",
     "iopub.status.idle": "2025-05-14T19:56:41.199571Z",
     "shell.execute_reply": "2025-05-14T19:56:41.198789Z"
    },
    "lines_to_next_cell": 0,
    "papermill": {
     "duration": 0.351038,
     "end_time": "2025-05-14T19:56:41.201059",
     "exception": false,
     "start_time": "2025-05-14T19:56:40.850021",
     "status": "completed"
    },
    "tags": []
   },
   "outputs": [
    {
     "data": {
      "text/html": [
       "<img src=\"images/cytotable-and-pandas-comparisons-join-memory-size-csv.svg\"/>"
      ],
      "text/plain": [
       "<IPython.core.display.Image object>"
      ]
     },
     "execution_count": 11,
     "metadata": {},
     "output_type": "execute_result"
    }
   ],
   "source": [
    "# Memory plot with min and max errors\n",
    "fig = px.line(\n",
    "    aggregated_results,\n",
    "    x=\"data_input_renamed\",\n",
    "    y=[\n",
    "        \"cytotable_peak_memory (multiprocess) (GB) (mean)\",\n",
    "        \"cytotable_peak_memory (multithread) (GB) (mean)\",\n",
    "        \"pandas_peak_memory (GB) (mean)\",\n",
    "    ],\n",
    "    title=\"CytoTable and Pandas CSV Peak Memory with Min/Max Errors\",\n",
    "    labels={\"data_input_renamed\": \"Input File\", \"value\": \"Gigabytes (GB)\"},\n",
    "    height=500,\n",
    "    width=900,\n",
    "    symbol_sequence=[\"diamond\"],\n",
    "    color_discrete_sequence=[\n",
    "        px.colors.qualitative.Vivid[6],\n",
    "        px.colors.qualitative.Vivid[7],\n",
    "        px.colors.qualitative.Vivid[4],\n",
    "    ],\n",
    ")\n",
    "\n",
    "# Add error bars for each trace\n",
    "for i, col in enumerate(\n",
    "    [\n",
    "        \"cytotable_peak_memory (multiprocess) (GB)\",\n",
    "        \"cytotable_peak_memory (multithread) (GB)\",\n",
    "        \"pandas_peak_memory (GB)\",\n",
    "    ]\n",
    "):\n",
    "    fig.data[i].update(\n",
    "        error_y=dict(\n",
    "            array=(\n",
    "                aggregated_results[f\"{col} (max)\"] - aggregated_results[f\"{col} (mean)\"]\n",
    "            ),\n",
    "            arrayminus=(\n",
    "                aggregated_results[f\"{col} (mean)\"] - aggregated_results[f\"{col} (min)\"]\n",
    "            ),\n",
    "        )\n",
    "    )\n",
    "\n",
    "# Rename the lines for the legend\n",
    "newnames = {\n",
    "    \"cytotable_peak_memory (multiprocess) (GB) (mean)\": \"CytoTable (multiprocess)\",\n",
    "    \"cytotable_peak_memory (multithread) (GB) (mean)\": \"CytoTable (multithread)\",\n",
    "    \"pandas_peak_memory (GB) (mean)\": \"Pandas\",\n",
    "}\n",
    "fig.for_each_trace(\n",
    "    lambda t: t.update(\n",
    "        name=newnames[t.name],\n",
    "        legendgroup=newnames[t.name],\n",
    "        hovertemplate=t.hovertemplate.replace(t.name, newnames[t.name]),\n",
    "    )\n",
    ")\n",
    "\n",
    "# Update the legend and layout\n",
    "fig.update_layout(\n",
    "    legend_title_text=\"\",\n",
    "    legend=dict(x=0.01, y=0.98, bgcolor=\"rgba(255,255,255,0.8)\"),\n",
    "    font=dict(size=16),  # Global font size\n",
    ")\n",
    "fig.update_traces(mode=\"lines+markers\")\n",
    "fig.update_layout(yaxis=dict(rangemode=\"tozero\", autorange=True))\n",
    "\n",
    "# Save and display the plot\n",
    "fig.write_image(join_mem_size_image)\n",
    "fig.write_image(join_mem_size_image.replace(\".png\", \".svg\"))\n",
    "Image(url=join_mem_size_image.replace(\".png\", \".svg\"))"
   ]
  }
 ],
 "metadata": {
  "jupytext": {
   "formats": "ipynb,py:light"
  },
  "kernelspec": {
   "display_name": "Python 3 (ipykernel)",
   "language": "python",
   "name": "python3"
  },
  "language_info": {
   "codemirror_mode": {
    "name": "ipython",
    "version": 3
   },
   "file_extension": ".py",
   "mimetype": "text/x-python",
   "name": "python",
   "nbconvert_exporter": "python",
   "pygments_lexer": "ipython3",
   "version": "3.11.9"
  },
  "papermill": {
   "default_parameters": {},
   "duration": 6161.773871,
   "end_time": "2025-05-14T19:56:43.863165",
   "environment_variables": {},
   "exception": null,
   "input_path": "cytotable_and_pandas_analysis_csv.ipynb",
   "output_path": "cytotable_and_pandas_analysis_csv.ipynb",
   "parameters": {},
   "start_time": "2025-05-14T18:14:02.089294",
   "version": "2.6.0"
  }
 },
 "nbformat": 4,
 "nbformat_minor": 5
}