{
 "cells": [
  {
   "cell_type": "markdown",
   "id": "cc479d78-e5e4-4802-81ac-45a75525cf49",
   "metadata": {},
   "source": [
    "# CytoTable looped memory usage analysis\n",
    "\n",
    "This notebook explores how CytoTable uses memory when implemented in a loop. The work is related to [CytoTable#75](https://github.com/cytomining/CytoTable/issues/75)."
   ]
  },
  {
   "cell_type": "code",
   "execution_count": 4,
   "id": "87e1ee63-7ca0-4df3-affa-7bcf7c94e3c9",
   "metadata": {
    "tags": []
   },
   "outputs": [],
   "source": [
    "import io\n",
    "import itertools\n",
    "import json\n",
    "import os\n",
    "import pathlib\n",
    "import subprocess\n",
    "\n",
    "from IPython.display import IFrame"
   ]
  },
  {
   "cell_type": "code",
   "execution_count": 5,
   "id": "961337e2-d113-4ef7-8b3a-73a1d71decc5",
   "metadata": {
    "tags": []
   },
   "outputs": [],
   "source": [
    "# setup variables for use below\n",
    "target_python_list = [\n",
    "    \"./examples/loop_cytotable_memory_one.py\",\n",
    "    \"./examples/loop_cytotable_memory_two.py\",\n",
    "]\n",
    "target_bin_list = [\n",
    "    f\"{pathlib.Path(target).name}.memray.bin\" for target in target_python_list\n",
    "]\n",
    "target_html_list = [f\"{target_bin}.html\" for target_bin in target_bin_list]"
   ]
  },
  {
   "cell_type": "code",
   "execution_count": 6,
   "id": "71fea09b-f720-480c-a3c9-fcd2b5d7d126",
   "metadata": {},
   "outputs": [
    {
     "ename": "CalledProcessError",
     "evalue": "Command '['memray', 'run', '--output', 'loop_cytotable_memory_two.py.memray.bin', '--force', './examples/loop_cytotable_memory_two.py']' returned non-zero exit status 1.",
     "output_type": "error",
     "traceback": [
      "\u001b[0;31m---------------------------------------------------------------------------\u001b[0m",
      "\u001b[0;31mCalledProcessError\u001b[0m                        Traceback (most recent call last)",
      "Cell \u001b[0;32mIn[6], line 5\u001b[0m\n\u001b[1;32m      1\u001b[0m \u001b[38;5;28;01mfor\u001b[39;00m target_python, target_bin, target_html \u001b[38;5;129;01min\u001b[39;00m \u001b[38;5;28mzip\u001b[39m(\n\u001b[1;32m      2\u001b[0m     target_python_list, target_bin_list, target_html_list\n\u001b[1;32m      3\u001b[0m ):\n\u001b[1;32m      4\u001b[0m     \u001b[38;5;66;03m# create memory profile\u001b[39;00m\n\u001b[0;32m----> 5\u001b[0m     memray_run \u001b[38;5;241m=\u001b[39m subprocess\u001b[38;5;241m.\u001b[39mrun(\n\u001b[1;32m      6\u001b[0m         [\n\u001b[1;32m      7\u001b[0m             \u001b[38;5;124m\"\u001b[39m\u001b[38;5;124mmemray\u001b[39m\u001b[38;5;124m\"\u001b[39m,\n\u001b[1;32m      8\u001b[0m             \u001b[38;5;124m\"\u001b[39m\u001b[38;5;124mrun\u001b[39m\u001b[38;5;124m\"\u001b[39m,\n\u001b[1;32m      9\u001b[0m             \u001b[38;5;124m\"\u001b[39m\u001b[38;5;124m--output\u001b[39m\u001b[38;5;124m\"\u001b[39m,\n\u001b[1;32m     10\u001b[0m             target_bin,\n\u001b[1;32m     11\u001b[0m             \u001b[38;5;124m\"\u001b[39m\u001b[38;5;124m--force\u001b[39m\u001b[38;5;124m\"\u001b[39m,\n\u001b[1;32m     12\u001b[0m             target_python,\n\u001b[1;32m     13\u001b[0m         ],\n\u001b[1;32m     14\u001b[0m         capture_output\u001b[38;5;241m=\u001b[39m\u001b[38;5;28;01mTrue\u001b[39;00m,\n\u001b[1;32m     15\u001b[0m         check\u001b[38;5;241m=\u001b[39m\u001b[38;5;28;01mTrue\u001b[39;00m,\n\u001b[1;32m     16\u001b[0m         \u001b[38;5;66;03m# env={**dict(os.environ), **{\"ARROW_DEFAULT_MEMORY_POOL\": \"jemalloc\"}},\u001b[39;00m\n\u001b[1;32m     17\u001b[0m     )\n\u001b[1;32m     18\u001b[0m     \u001b[38;5;66;03m# create flamegraph data\u001b[39;00m\n\u001b[1;32m     19\u001b[0m     memray_flamegraph \u001b[38;5;241m=\u001b[39m subprocess\u001b[38;5;241m.\u001b[39mrun(\n\u001b[1;32m     20\u001b[0m         [\n\u001b[1;32m     21\u001b[0m             \u001b[38;5;124m\"\u001b[39m\u001b[38;5;124mmemray\u001b[39m\u001b[38;5;124m\"\u001b[39m,\n\u001b[0;32m   (...)\u001b[0m\n\u001b[1;32m     29\u001b[0m         check\u001b[38;5;241m=\u001b[39m\u001b[38;5;28;01mTrue\u001b[39;00m,\n\u001b[1;32m     30\u001b[0m     )\n",
      "File \u001b[0;32m/Library/Frameworks/Python.framework/Versions/3.9/lib/python3.9/subprocess.py:528\u001b[0m, in \u001b[0;36mrun\u001b[0;34m(input, capture_output, timeout, check, *popenargs, **kwargs)\u001b[0m\n\u001b[1;32m    526\u001b[0m     retcode \u001b[38;5;241m=\u001b[39m process\u001b[38;5;241m.\u001b[39mpoll()\n\u001b[1;32m    527\u001b[0m     \u001b[38;5;28;01mif\u001b[39;00m check \u001b[38;5;129;01mand\u001b[39;00m retcode:\n\u001b[0;32m--> 528\u001b[0m         \u001b[38;5;28;01mraise\u001b[39;00m CalledProcessError(retcode, process\u001b[38;5;241m.\u001b[39margs,\n\u001b[1;32m    529\u001b[0m                                  output\u001b[38;5;241m=\u001b[39mstdout, stderr\u001b[38;5;241m=\u001b[39mstderr)\n\u001b[1;32m    530\u001b[0m \u001b[38;5;28;01mreturn\u001b[39;00m CompletedProcess(process\u001b[38;5;241m.\u001b[39margs, retcode, stdout, stderr)\n",
      "\u001b[0;31mCalledProcessError\u001b[0m: Command '['memray', 'run', '--output', 'loop_cytotable_memory_two.py.memray.bin', '--force', './examples/loop_cytotable_memory_two.py']' returned non-zero exit status 1."
     ]
    }
   ],
   "source": [
    "for target_python, target_bin, target_html in zip(\n",
    "    target_python_list, target_bin_list, target_html_list\n",
    "):\n",
    "    # create memory profile\n",
    "    memray_run = subprocess.run(\n",
    "        [\n",
    "            \"memray\",\n",
    "            \"run\",\n",
    "            \"--output\",\n",
    "            target_bin,\n",
    "            \"--force\",\n",
    "            target_python,\n",
    "        ],\n",
    "        capture_output=True,\n",
    "        check=True,\n",
    "        # env={**dict(os.environ), **{\"ARROW_DEFAULT_MEMORY_POOL\": \"jemalloc\"}},\n",
    "    )\n",
    "    # create flamegraph data\n",
    "    memray_flamegraph = subprocess.run(\n",
    "        [\n",
    "            \"memray\",\n",
    "            \"flamegraph\",\n",
    "            \"--output\",\n",
    "            target_html,\n",
    "            \"--force\",\n",
    "            target_bin,\n",
    "        ],\n",
    "        capture_output=True,\n",
    "        check=True,\n",
    "    )"
   ]
  },
  {
   "cell_type": "code",
   "execution_count": null,
   "id": "20c20413-ff61-4419-8704-45e0b027f7a9",
   "metadata": {
    "tags": []
   },
   "outputs": [],
   "source": [
    "# display flamegraph results\n",
    "print(target_html_list[0])\n",
    "IFrame(target_html_list[0], width=\"100%\", height=\"1000\")"
   ]
  },
  {
   "cell_type": "code",
   "execution_count": null,
   "id": "08bec3f2-e1b4-4c7c-aa6f-157eb99a5a2e",
   "metadata": {
    "tags": []
   },
   "outputs": [],
   "source": [
    "# display flamegraph results\n",
    "print(target_html_list[1])\n",
    "IFrame(target_html_list[1], width=\"100%\", height=\"1000\")"
   ]
  },
  {
   "cell_type": "code",
   "execution_count": null,
   "id": "da747668-7133-4ca9-a5a1-7fef64a1827a",
   "metadata": {},
   "outputs": [],
   "source": []
  }
 ],
 "metadata": {
  "jupytext": {
   "formats": "ipynb,py:light"
  },
  "kernelspec": {
   "display_name": "Python 3 (ipyflow)",
   "language": "python",
   "name": "ipyflow"
  },
  "language_info": {
   "codemirror_mode": {
    "name": "ipython",
    "version": 3
   },
   "file_extension": ".py",
   "mimetype": "text/x-python",
   "name": "python",
   "nbconvert_exporter": "python",
   "pygments_lexer": "ipython3",
   "version": "3.9.12"
  }
 },
 "nbformat": 4,
 "nbformat_minor": 5
}
