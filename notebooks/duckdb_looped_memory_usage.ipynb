{
 "cells": [
  {
   "cell_type": "markdown",
   "id": "cc479d78-e5e4-4802-81ac-45a75525cf49",
   "metadata": {},
   "source": [
    "# DuckDB looped memory usage analysis\n",
    "\n",
    "This notebook explores how DuckDB uses memory when reading parquet files implemented in a loop. The work is related to [CytoTable#75](https://github.com/cytomining/CytoTable/issues/75)."
   ]
  },
  {
   "cell_type": "code",
   "execution_count": 1,
   "id": "87e1ee63-7ca0-4df3-affa-7bcf7c94e3c9",
   "metadata": {
    "tags": []
   },
   "outputs": [],
   "source": [
    "import io\n",
    "import itertools\n",
    "import json\n",
    "import pathlib\n",
    "import subprocess\n",
    "\n",
    "from IPython.display import IFrame"
   ]
  },
  {
   "cell_type": "code",
   "execution_count": 2,
   "id": "961337e2-d113-4ef7-8b3a-73a1d71decc5",
   "metadata": {
    "tags": []
   },
   "outputs": [],
   "source": [
    "# setup variables for use below\n",
    "target_python_list = [\n",
    "    \"./examples/duckdb_parquet_reads_no_close.py\",\n",
    "    \"./examples/duckdb_parquet_reads_close.py\",\n",
    "]\n",
    "target_bin_list = [\n",
    "    f\"{pathlib.Path(target).name}.memray.bin\" for target in target_python_list\n",
    "]\n",
    "target_html_list = [f\"{target_bin}.html\" for target_bin in target_bin_list]"
   ]
  },
  {
   "cell_type": "code",
   "execution_count": 3,
   "id": "71fea09b-f720-480c-a3c9-fcd2b5d7d126",
   "metadata": {},
   "outputs": [],
   "source": [
    "for target_python, target_bin, target_html in zip(\n",
    "    target_python_list, target_bin_list, target_html_list\n",
    "):\n",
    "    # create memory profile\n",
    "    memray_run = subprocess.run(\n",
    "        [\n",
    "            \"memray\",\n",
    "            \"run\",\n",
    "            \"--output\",\n",
    "            target_bin,\n",
    "            \"--force\",\n",
    "            \"--native\",\n",
    "            \"--follow-fork\",\n",
    "            \"--trace-python-allocators\",\n",
    "            target_python,\n",
    "        ],\n",
    "        capture_output=True,\n",
    "        check=True,\n",
    "    )\n",
    "    # create flamegraph data\n",
    "    memray_flamegraph = subprocess.run(\n",
    "        [\n",
    "            \"memray\",\n",
    "            \"flamegraph\",\n",
    "            \"--output\",\n",
    "            target_html,\n",
    "            \"--force\",\n",
    "            \"--leaks\",\n",
    "            target_bin,\n",
    "        ],\n",
    "        capture_output=True,\n",
    "        check=True,\n",
    "    )"
   ]
  },
  {
   "cell_type": "code",
   "execution_count": 4,
   "id": "20c20413-ff61-4419-8704-45e0b027f7a9",
   "metadata": {
    "tags": []
   },
   "outputs": [
    {
     "data": {
      "text/html": [
       "\n",
       "        <iframe\n",
       "            width=\"100%\"\n",
       "            height=\"1000\"\n",
       "            src=\"duckdb_parquet_reads_no_close.py.memray.bin.html\"\n",
       "            frameborder=\"0\"\n",
       "            allowfullscreen\n",
       "            \n",
       "        ></iframe>\n",
       "        "
      ],
      "text/plain": [
       "<IPython.lib.display.IFrame at 0x1122d5880>"
      ]
     },
     "execution_count": 4,
     "metadata": {},
     "output_type": "execute_result"
    }
   ],
   "source": [
    "# display flamegraph results\n",
    "IFrame(target_html_list[0], width=\"100%\", height=\"1000\")"
   ]
  },
  {
   "cell_type": "code",
   "execution_count": 5,
   "id": "08bec3f2-e1b4-4c7c-aa6f-157eb99a5a2e",
   "metadata": {
    "tags": []
   },
   "outputs": [
    {
     "data": {
      "text/html": [
       "\n",
       "        <iframe\n",
       "            width=\"100%\"\n",
       "            height=\"1000\"\n",
       "            src=\"duckdb_parquet_reads_close.py.memray.bin.html\"\n",
       "            frameborder=\"0\"\n",
       "            allowfullscreen\n",
       "            \n",
       "        ></iframe>\n",
       "        "
      ],
      "text/plain": [
       "<IPython.lib.display.IFrame at 0x112259d00>"
      ]
     },
     "execution_count": 5,
     "metadata": {},
     "output_type": "execute_result"
    }
   ],
   "source": [
    "# display flamegraph results\n",
    "IFrame(target_html_list[1], width=\"100%\", height=\"1000\")"
   ]
  }
 ],
 "metadata": {
  "jupytext": {
   "formats": "ipynb,py:light"
  },
  "kernelspec": {
   "display_name": "Python 3 (ipyflow)",
   "language": "python",
   "name": "ipyflow"
  },
  "language_info": {
   "codemirror_mode": {
    "name": "ipython",
    "version": 3
   },
   "file_extension": ".py",
   "mimetype": "text/x-python",
   "name": "python",
   "nbconvert_exporter": "python",
   "pygments_lexer": "ipython3",
   "version": "3.9.12"
  }
 },
 "nbformat": 4,
 "nbformat_minor": 5
}
