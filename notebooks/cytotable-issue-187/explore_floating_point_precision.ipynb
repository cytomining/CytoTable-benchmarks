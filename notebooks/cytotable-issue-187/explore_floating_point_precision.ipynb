{
 "cells": [
  {
   "cell_type": "markdown",
   "metadata": {},
   "source": [
    "# Exploring Python, NumPy, DuckDB, and Arrow floating point precision\n",
    "\n",
    "This notebook explores how floating point number precision is captured within Python, NumPy, DuckDB, and Arrow to better understand the implications of storing data within these formats.\n",
    "The work originally was inspired by [CytoTable issue #187](https://github.com/cytomining/CytoTable/issues/187)."
   ]
  },
  {
   "cell_type": "code",
   "execution_count": 1,
   "metadata": {
    "colab": {
     "base_uri": "https://localhost:8080/"
    },
    "id": "KIQ-xx3OHSTz",
    "outputId": "5b38cb9f-23bc-4769-c74d-554d2f0b395c"
   },
   "outputs": [],
   "source": [
    "import decimal\n",
    "import sys\n",
    "\n",
    "import duckdb\n",
    "import numpy as np\n",
    "import pandas as pd\n",
    "import pyarrow as pa\n",
    "import pyarrow.csv as pacsv\n",
    "import pyarrow.parquet as parquet\n",
    "\n",
    "# add modules from a directory above this one\n",
    "sys.path = sys.path + [\"..\"]\n",
    "\n",
    "from utilities import get_system_info"
   ]
  },
  {
   "cell_type": "code",
   "execution_count": 2,
   "metadata": {
    "colab": {
     "base_uri": "https://localhost:8080/"
    },
    "id": "nCM_5ihHHUpV",
    "outputId": "de641b02-3cdd-4497-961a-5fc88eb2283f"
   },
   "outputs": [
    {
     "name": "stdout",
     "output_type": "stream",
     "text": [
      "\n",
      "System Information:\n",
      "Operating System: Darwin\n",
      "Machine Type: arm64\n",
      "Processor: arm\n",
      "CPU Cores (Logical): 12\n",
      "CPU Cores (Physical): 12\n",
      "Total RAM (GB): 48.0\n",
      "Python Version: 3.10.16\n"
     ]
    }
   ],
   "source": [
    "# show the system information\n",
    "_ = get_system_info(show_output=True)"
   ]
  },
  {
   "cell_type": "code",
   "execution_count": 3,
   "metadata": {
    "colab": {
     "base_uri": "https://localhost:8080/"
    },
    "id": "37vL3L2L9h4p",
    "outputId": "8bc37e1d-61ff-445a-94e4-3aff58667d19"
   },
   "outputs": [
    {
     "data": {
      "text/plain": [
       "3.521525712040701"
      ]
     },
     "execution_count": 3,
     "metadata": {},
     "output_type": "execute_result"
    }
   ],
   "source": [
    "# default interpreted value in Python\n",
    "float_value = 3.5215257120407011\n",
    "float_value"
   ]
  },
  {
   "cell_type": "code",
   "execution_count": 4,
   "metadata": {
    "colab": {
     "base_uri": "https://localhost:8080/",
     "height": 36
    },
    "id": "mF7CpvMg-1oo",
    "outputId": "45650ef8-3d50-47f0-bc63-a23dbc598687"
   },
   "outputs": [
    {
     "data": {
      "text/plain": [
       "'3.5215257120407011'"
      ]
     },
     "execution_count": 4,
     "metadata": {},
     "output_type": "execute_result"
    }
   ],
   "source": [
    "# as a formatted string\n",
    "\"{0:.16f}\".format(3.5215257120407011)"
   ]
  },
  {
   "cell_type": "code",
   "execution_count": 5,
   "metadata": {
    "colab": {
     "base_uri": "https://localhost:8080/"
    },
    "id": "Fxi-026I-DRY",
    "outputId": "54853fdf-d717-4503-85c8-ac2330a0733b"
   },
   "outputs": [
    {
     "data": {
      "text/plain": [
       "Decimal('3.521525712040701083793692305334843695163726806640625')"
      ]
     },
     "execution_count": 5,
     "metadata": {},
     "output_type": "execute_result"
    }
   ],
   "source": [
    "# as a python Decimal\n",
    "decimal.Decimal(3.5215257120407011)"
   ]
  },
  {
   "cell_type": "code",
   "execution_count": 6,
   "metadata": {
    "colab": {
     "base_uri": "https://localhost:8080/"
    },
    "id": "Rccc5GFA_eAU",
    "outputId": "7426e753-a5d3-4917-f2a2-07065fffcb01"
   },
   "outputs": [
    {
     "data": {
      "text/plain": [
       "3.521525712040701"
      ]
     },
     "execution_count": 6,
     "metadata": {},
     "output_type": "execute_result"
    }
   ],
   "source": [
    "# as numpy value within np.float64 array\n",
    "arr = np.array([3.5215257120407011], dtype=np.float64)\n",
    "arr[0]"
   ]
  },
  {
   "cell_type": "code",
   "execution_count": 7,
   "metadata": {
    "colab": {
     "base_uri": "https://localhost:8080/"
    },
    "id": "pjLRZ673AZgQ",
    "outputId": "612fe5b7-0401-4a58-dab9-298bd8a12c5c"
   },
   "outputs": [
    {
     "data": {
      "text/plain": [
       "3.521525712040701"
      ]
     },
     "execution_count": 7,
     "metadata": {},
     "output_type": "execute_result"
    }
   ],
   "source": [
    "# as numpy value within np.longdouble array\n",
    "arr = np.array([3.5215257120407011], dtype=np.longdouble)\n",
    "arr[0]"
   ]
  },
  {
   "cell_type": "code",
   "execution_count": 8,
   "metadata": {
    "colab": {
     "base_uri": "https://localhost:8080/",
     "height": 81
    },
    "id": "XA1tbb7dHJLj",
    "outputId": "cde6a81d-5985-4cd7-8346-319b9a4dfa1e"
   },
   "outputs": [
    {
     "data": {
      "text/html": [
       "<div>\n",
       "<style scoped>\n",
       "    .dataframe tbody tr th:only-of-type {\n",
       "        vertical-align: middle;\n",
       "    }\n",
       "\n",
       "    .dataframe tbody tr th {\n",
       "        vertical-align: top;\n",
       "    }\n",
       "\n",
       "    .dataframe thead th {\n",
       "        text-align: right;\n",
       "    }\n",
       "</style>\n",
       "<table border=\"1\" class=\"dataframe\">\n",
       "  <thead>\n",
       "    <tr style=\"text-align: right;\">\n",
       "      <th></th>\n",
       "      <th>col_a</th>\n",
       "    </tr>\n",
       "  </thead>\n",
       "  <tbody>\n",
       "    <tr>\n",
       "      <th>0</th>\n",
       "      <td>3.521526</td>\n",
       "    </tr>\n",
       "  </tbody>\n",
       "</table>\n",
       "</div>"
      ],
      "text/plain": [
       "      col_a\n",
       "0  3.521526"
      ]
     },
     "execution_count": 8,
     "metadata": {},
     "output_type": "execute_result"
    }
   ],
   "source": [
    "# try to read with pandas\n",
    "pd.DataFrame({\"col_a\": [3.5215257120407011]})"
   ]
  },
  {
   "cell_type": "code",
   "execution_count": 9,
   "metadata": {
    "colab": {
     "base_uri": "https://localhost:8080/"
    },
    "id": "6dJNxJwwHbfJ",
    "outputId": "5d49ca96-9256-47fe-ea7e-d54dee462739"
   },
   "outputs": [
    {
     "data": {
      "text/plain": [
       "0    3.5215257120407011\n",
       "Name: col_a, dtype: decimal128(17, 16)[pyarrow]"
      ]
     },
     "execution_count": 9,
     "metadata": {},
     "output_type": "execute_result"
    }
   ],
   "source": [
    "# try to read with pandas through pyarrow\n",
    "# (referenced auto-inferred duckdb decimal settings, see below, which appear to align)\n",
    "pd.DataFrame({\"col_a\": [3.5215257120407011]})[\"col_a\"].astype(\n",
    "    pd.ArrowDtype(pa.decimal128(17, 16))\n",
    ")"
   ]
  },
  {
   "cell_type": "code",
   "execution_count": 10,
   "metadata": {
    "colab": {
     "base_uri": "https://localhost:8080/",
     "height": 217
    },
    "id": "8kpEQGZ19C5X",
    "outputId": "546f3294-4146-42c7-90cc-cc6cae531886"
   },
   "outputs": [
    {
     "data": {
      "text/plain": [
       "<pyarrow.lib.Decimal128Array object at 0x15eeac580>\n",
       "[\n",
       "  3.5215257120407011\n",
       "]"
      ]
     },
     "execution_count": 10,
     "metadata": {},
     "output_type": "execute_result"
    }
   ],
   "source": [
    "# show results from pyarrow array\n",
    "pa.array([decimal.Decimal(\"3.5215257120407011\")], type=pa.decimal128(17, 16))"
   ]
  },
  {
   "cell_type": "code",
   "execution_count": 11,
   "metadata": {
    "id": "It1QyOsGNBf9"
   },
   "outputs": [],
   "source": [
    "# write the data to a parquet file to see how it's retained\n",
    "pd.DataFrame({\"col_a\": [3.5215257120407011]}).astype(\n",
    "    pd.ArrowDtype(pa.decimal128(17, 16))\n",
    ").to_parquet(\"example.parquet\")"
   ]
  },
  {
   "cell_type": "code",
   "execution_count": 12,
   "metadata": {
    "colab": {
     "base_uri": "https://localhost:8080/"
    },
    "id": "4RcWQg46NFYu",
    "outputId": "4cec0005-0921-44f8-f235-4cbd93a2a128"
   },
   "outputs": [
    {
     "name": "stdout",
     "output_type": "stream",
     "text": [
      "                col_a\n",
      "0  3.5215257120407011 \n",
      "\n",
      "pyarrow.Table\n",
      "col_a: decimal128(17, 16)\n",
      "----\n",
      "col_a: [[3.5215257120407011]] \n",
      "\n",
      "col_a: decimal128(17, 16)\n",
      "-- schema metadata --\n",
      "pandas: '{\"index_columns\": [{\"kind\": \"range\", \"name\": null, \"start\": 0, \"' + 395 \n",
      "\n"
     ]
    }
   ],
   "source": [
    "# show what's inside the file from pandas and pyarrow's perspective\n",
    "print(pd.read_parquet(\"example.parquet\"), \"\\n\")\n",
    "print(parquet.read_table(\"example.parquet\"), \"\\n\")\n",
    "print(parquet.read_schema(\"example.parquet\"), \"\\n\")"
   ]
  },
  {
   "cell_type": "code",
   "execution_count": 13,
   "metadata": {
    "colab": {
     "base_uri": "https://localhost:8080/"
    },
    "id": "okAp858D6JUp",
    "outputId": "59c9c01e-5626-4e1e-fc72-8f4449a6d1dd"
   },
   "outputs": [
    {
     "data": {
      "text/plain": [
       "pyarrow.Table\n",
       "3.5215257120407011: decimal128(17, 16)\n",
       "----\n",
       "3.5215257120407011: [[3.5215257120407011]]"
      ]
     },
     "execution_count": 13,
     "metadata": {},
     "output_type": "execute_result"
    }
   ],
   "source": [
    "# show how number is interpreted without cast in duckdb\n",
    "with duckdb.connect() as ddb:\n",
    "    result = ddb.execute(\n",
    "        \"\"\"\n",
    "  SELECT 3.5215257120407011;\n",
    "  \"\"\"\n",
    "    ).arrow()\n",
    "result"
   ]
  },
  {
   "cell_type": "code",
   "execution_count": 14,
   "metadata": {
    "colab": {
     "base_uri": "https://localhost:8080/"
    },
    "id": "XG3UvYvA3vwf",
    "outputId": "93f3d468-4e2f-48c1-d952-b0f0566dcc38"
   },
   "outputs": [
    {
     "data": {
      "text/plain": [
       "pyarrow.Table\n",
       "CAST(3.5215257120407011 AS DOUBLE): double\n",
       "----\n",
       "CAST(3.5215257120407011 AS DOUBLE): [[3.521525712040701]]"
      ]
     },
     "execution_count": 14,
     "metadata": {},
     "output_type": "execute_result"
    }
   ],
   "source": [
    "# show how number is interpreted with cast to DOUBLE\n",
    "with duckdb.connect() as ddb:\n",
    "    result = ddb.execute(\n",
    "        \"\"\"\n",
    "  SELECT CAST(3.5215257120407011 AS DOUBLE);\n",
    "  \"\"\"\n",
    "    ).arrow()\n",
    "result"
   ]
  },
  {
   "cell_type": "code",
   "execution_count": 15,
   "metadata": {
    "colab": {
     "base_uri": "https://localhost:8080/"
    },
    "id": "4kziAF6DBrZo",
    "outputId": "726694e3-d73d-4544-f9d1-741dbb47fe20"
   },
   "outputs": [
    {
     "data": {
      "text/plain": [
       "pyarrow.Table\n",
       "CAST(3.5215257120407011 AS DECIMAL(18,3)): decimal128(18, 3)\n",
       "----\n",
       "CAST(3.5215257120407011 AS DECIMAL(18,3)): [[3.522]]"
      ]
     },
     "execution_count": 15,
     "metadata": {},
     "output_type": "execute_result"
    }
   ],
   "source": [
    "# show how number is interpreted with cast to DECIMAL (inferenced size)\n",
    "with duckdb.connect() as ddb:\n",
    "    result = ddb.execute(\n",
    "        \"\"\"\n",
    "  SELECT CAST(3.5215257120407011 AS DECIMAL);\n",
    "  \"\"\"\n",
    "    ).arrow()\n",
    "result"
   ]
  },
  {
   "cell_type": "code",
   "execution_count": 16,
   "metadata": {
    "colab": {
     "base_uri": "https://localhost:8080/"
    },
    "id": "9tCCvPFAPuMK",
    "outputId": "97f631ff-0d22-47ea-f5df-420b8c8efdbc"
   },
   "outputs": [
    {
     "data": {
      "text/plain": [
       "pyarrow.Table\n",
       "col_a: decimal128(17, 16)\n",
       "----\n",
       "col_a: [[3.5215257120407011]]"
      ]
     },
     "execution_count": 16,
     "metadata": {},
     "output_type": "execute_result"
    }
   ],
   "source": [
    "# show how the data are read from Parquet\n",
    "with duckdb.connect() as ddb:\n",
    "    result = ddb.execute(\n",
    "        \"\"\"\n",
    "  SELECT *\n",
    "  FROM read_parquet('example.parquet');\n",
    "  \"\"\"\n",
    "    ).arrow()\n",
    "result"
   ]
  },
  {
   "cell_type": "code",
   "execution_count": 17,
   "metadata": {
    "id": "SCcyQCU532Gu"
   },
   "outputs": [],
   "source": [
    "# write a one column, one value csv with the floating point number\n",
    "with open(file=\"example.csv\", mode=\"w\", encoding=\"utf-8\") as file:\n",
    "    file.write(\"col_a\\n\")\n",
    "    file.write(\"3.5215257120407011\")"
   ]
  },
  {
   "cell_type": "code",
   "execution_count": 18,
   "metadata": {
    "colab": {
     "base_uri": "https://localhost:8080/",
     "height": 81
    },
    "id": "uCjxRAyfRNN1",
    "outputId": "a28806dc-5660-4b9a-9821-e4ca613829c6"
   },
   "outputs": [
    {
     "data": {
      "text/html": [
       "<div>\n",
       "<style scoped>\n",
       "    .dataframe tbody tr th:only-of-type {\n",
       "        vertical-align: middle;\n",
       "    }\n",
       "\n",
       "    .dataframe tbody tr th {\n",
       "        vertical-align: top;\n",
       "    }\n",
       "\n",
       "    .dataframe thead th {\n",
       "        text-align: right;\n",
       "    }\n",
       "</style>\n",
       "<table border=\"1\" class=\"dataframe\">\n",
       "  <thead>\n",
       "    <tr style=\"text-align: right;\">\n",
       "      <th></th>\n",
       "      <th>col_a</th>\n",
       "    </tr>\n",
       "  </thead>\n",
       "  <tbody>\n",
       "    <tr>\n",
       "      <th>0</th>\n",
       "      <td>3.521526</td>\n",
       "    </tr>\n",
       "  </tbody>\n",
       "</table>\n",
       "</div>"
      ],
      "text/plain": [
       "      col_a\n",
       "0  3.521526"
      ]
     },
     "execution_count": 18,
     "metadata": {},
     "output_type": "execute_result"
    }
   ],
   "source": [
    "# read the value from pandas\n",
    "pd.read_csv(\"example.csv\")"
   ]
  },
  {
   "cell_type": "code",
   "execution_count": 19,
   "metadata": {
    "colab": {
     "base_uri": "https://localhost:8080/"
    },
    "id": "KoWP20-c-L-Y",
    "outputId": "92b4b9c8-effd-487e-94e8-e221e57d3fbe"
   },
   "outputs": [
    {
     "data": {
      "text/plain": [
       "pyarrow.Table\n",
       "col_a: double\n",
       "----\n",
       "col_a: [[3.521525712040701]]"
      ]
     },
     "execution_count": 19,
     "metadata": {},
     "output_type": "execute_result"
    }
   ],
   "source": [
    "# try to read the value from pyarrow's csv reader\n",
    "pacsv.read_csv(input_file=\"example.csv\")"
   ]
  },
  {
   "cell_type": "code",
   "execution_count": 20,
   "metadata": {
    "colab": {
     "base_uri": "https://localhost:8080/"
    },
    "id": "CORq3iO54EsW",
    "outputId": "4e541389-0dc5-4f35-f18d-338efd1461e5"
   },
   "outputs": [
    {
     "data": {
      "text/plain": [
       "pyarrow.Table\n",
       "col_a: double\n",
       "----\n",
       "col_a: [[3.521525712040701]]"
      ]
     },
     "execution_count": 20,
     "metadata": {},
     "output_type": "execute_result"
    }
   ],
   "source": [
    "# show how the csv reader interprets the value by default (automatic settings)\n",
    "with duckdb.connect() as ddb:\n",
    "    result = ddb.execute(\n",
    "        \"\"\"\n",
    "  SELECT *\n",
    "  FROM read_csv('example.csv');\n",
    "  \"\"\"\n",
    "    ).arrow()\n",
    "\n",
    "result"
   ]
  },
  {
   "cell_type": "code",
   "execution_count": 21,
   "metadata": {
    "colab": {
     "base_uri": "https://localhost:8080/",
     "height": 332
    },
    "id": "bu8yVDCH4Nn8",
    "outputId": "51f0ecd9-91f5-437a-96d8-d80df16c95f6"
   },
   "outputs": [
    {
     "data": {
      "text/plain": [
       "pyarrow.Table\n",
       "col_a: decimal128(18, 16)\n",
       "----\n",
       "col_a: [[3.5215257120407011]]"
      ]
     },
     "execution_count": 21,
     "metadata": {},
     "output_type": "execute_result"
    }
   ],
   "source": [
    "# try to modify the auto_type_candidates to incorporate the type we saw earlier\n",
    "with duckdb.connect() as ddb:\n",
    "    result = ddb.execute(\n",
    "        \"\"\"\n",
    "  SELECT *\n",
    "  FROM read_csv('example.csv', auto_type_candidates=['DECIMAL(18,16)']);\n",
    "  \"\"\"\n",
    "    ).arrow()\n",
    "\n",
    "result"
   ]
  }
 ],
 "metadata": {
  "colab": {
   "provenance": []
  },
  "kernelspec": {
   "display_name": "Python 3 (ipykernel)",
   "language": "python",
   "name": "python3"
  },
  "language_info": {
   "codemirror_mode": {
    "name": "ipython",
    "version": 3
   },
   "file_extension": ".py",
   "mimetype": "text/x-python",
   "name": "python",
   "nbconvert_exporter": "python",
   "pygments_lexer": "ipython3",
   "version": "3.10.16"
  }
 },
 "nbformat": 4,
 "nbformat_minor": 4
}
