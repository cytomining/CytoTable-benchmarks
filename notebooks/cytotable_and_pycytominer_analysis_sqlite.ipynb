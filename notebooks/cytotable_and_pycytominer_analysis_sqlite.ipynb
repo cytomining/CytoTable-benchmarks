{
 "cells": [
  {
   "cell_type": "markdown",
   "id": "9cef710a-ff78-4598-bf7b-2b9b75448c32",
   "metadata": {
    "papermill": {
     "duration": 0.006088,
     "end_time": "2025-05-14T17:09:51.303480",
     "exception": false,
     "start_time": "2025-05-14T17:09:51.297392",
     "status": "completed"
    },
    "tags": []
   },
   "source": [
    "# CytoTable (convert) and Pycytominer (SingleCells.merge_single_cells) Performance Comparisons\n",
    "\n",
    "This notebook explores CytoTable (convert) and Pycytominer (SingleCells.merge_single_cells) usage with datasets of varying size to help describe performance impacts."
   ]
  },
  {
   "cell_type": "code",
   "execution_count": 1,
   "id": "d2e47e7d-0629-45e3-b1bd-bce07843ae4c",
   "metadata": {
    "execution": {
     "iopub.execute_input": "2025-05-14T17:09:51.314989Z",
     "iopub.status.busy": "2025-05-14T17:09:51.314666Z",
     "iopub.status.idle": "2025-05-14T17:09:52.095052Z",
     "shell.execute_reply": "2025-05-14T17:09:52.094071Z"
    },
    "papermill": {
     "duration": 0.788424,
     "end_time": "2025-05-14T17:09:52.097250",
     "exception": false,
     "start_time": "2025-05-14T17:09:51.308826",
     "status": "completed"
    },
    "tags": []
   },
   "outputs": [],
   "source": [
    "import itertools\n",
    "import pathlib\n",
    "import re\n",
    "import subprocess\n",
    "\n",
    "import pandas as pd\n",
    "import plotly.express as px\n",
    "import plotly.io as pio\n",
    "from IPython.display import Image\n",
    "from utilities import (\n",
    "    get_memory_peak_and_time_duration,\n",
    "    get_parsl_peak_memory,\n",
    "    get_system_info,\n",
    ")\n",
    "\n",
    "# set plotly default theme\n",
    "pio.templates.default = \"simple_white\"\n",
    "# monitoring database for parsl multiprocessing work\n",
    "db_file = \"runinfo/monitoring.db\""
   ]
  },
  {
   "cell_type": "code",
   "execution_count": 2,
   "id": "b1d56430-c859-4790-b57a-d81cb0622daa",
   "metadata": {
    "execution": {
     "iopub.execute_input": "2025-05-14T17:09:52.110791Z",
     "iopub.status.busy": "2025-05-14T17:09:52.110501Z",
     "iopub.status.idle": "2025-05-14T17:09:52.117022Z",
     "shell.execute_reply": "2025-05-14T17:09:52.116214Z"
    },
    "papermill": {
     "duration": 0.014269,
     "end_time": "2025-05-14T17:09:52.118742",
     "exception": false,
     "start_time": "2025-05-14T17:09:52.104473",
     "status": "completed"
    },
    "tags": []
   },
   "outputs": [
    {
     "name": "stdout",
     "output_type": "stream",
     "text": [
      "\n",
      "System Information:\n",
      "Operating System: Linux\n",
      "Machine Type: x86_64\n",
      "Processor: x86_64\n",
      "CPU Cores (Logical): 16\n",
      "CPU Cores (Physical): 8\n",
      "Total RAM (GB): 62.68\n",
      "Python Version: 3.11.9\n"
     ]
    }
   ],
   "source": [
    "# show the system information\n",
    "_ = get_system_info(show_output=True)"
   ]
  },
  {
   "cell_type": "code",
   "execution_count": 3,
   "id": "bdc968d0-a9e9-48df-9f4b-67d1f8a7a33c",
   "metadata": {
    "execution": {
     "iopub.execute_input": "2025-05-14T17:09:52.130359Z",
     "iopub.status.busy": "2025-05-14T17:09:52.130098Z",
     "iopub.status.idle": "2025-05-14T17:09:52.141271Z",
     "shell.execute_reply": "2025-05-14T17:09:52.140312Z"
    },
    "papermill": {
     "duration": 0.01906,
     "end_time": "2025-05-14T17:09:52.143028",
     "exception": false,
     "start_time": "2025-05-14T17:09:52.123968",
     "status": "completed"
    },
    "tags": []
   },
   "outputs": [
    {
     "data": {
      "text/plain": [
       "'cytotable-benchmarks-2FApAEcz-py3.11/bin/python'"
      ]
     },
     "execution_count": 3,
     "metadata": {},
     "output_type": "execute_result"
    }
   ],
   "source": [
    "# observe the virtual env for dependency inheritance with memray\n",
    "# from subprocedure calls\n",
    "\"/\".join(\n",
    "    subprocess.run(\n",
    "        [\n",
    "            \"which\",\n",
    "            \"python\",\n",
    "        ],\n",
    "        capture_output=True,\n",
    "        check=True,\n",
    "    )\n",
    "    # decode bytestring as utf-8\n",
    "    .stdout.decode(\"utf-8\")\n",
    "    # remove personal file structure\n",
    "    .split(\"/\")[6:]\n",
    "    # replace final newline\n",
    ").replace(\"\\n\", \"\")"
   ]
  },
  {
   "cell_type": "code",
   "execution_count": 4,
   "id": "8d6efd13-0dce-4baa-b779-f5ec62dc535e",
   "metadata": {
    "execution": {
     "iopub.execute_input": "2025-05-14T17:09:52.154528Z",
     "iopub.status.busy": "2025-05-14T17:09:52.154171Z",
     "iopub.status.idle": "2025-05-14T17:09:52.159791Z",
     "shell.execute_reply": "2025-05-14T17:09:52.158976Z"
    },
    "papermill": {
     "duration": 0.013054,
     "end_time": "2025-05-14T17:09:52.161343",
     "exception": false,
     "start_time": "2025-05-14T17:09:52.148289",
     "status": "completed"
    },
    "tags": []
   },
   "outputs": [],
   "source": [
    "# target file or table names\n",
    "image_dir = \"images\"\n",
    "examples_dir = \"examples\"\n",
    "join_read_time_image = (\n",
    "    f\"{image_dir}/cytotable-and-pycytominer-comparisons-join-completion-time-sqlite.png\"\n",
    ")\n",
    "join_mem_size_image = (\n",
    "    f\"{image_dir}/cytotable-and-pycytominer-comparisons-join-memory-size-sqlite.png\"\n",
    ")\n",
    "example_files_list = [\n",
    "    f\"{examples_dir}/cytotable_convert_nf1_multiprocess_sqlite.py\",\n",
    "    f\"{examples_dir}/cytotable_convert_nf1_multithread_sqlite.py\",\n",
    "    f\"{examples_dir}/pycytominer_merge_nf1_sqlite.py\",\n",
    "]\n",
    "example_data_list = [\n",
    "    f\"{examples_dir}/data/all_cellprofiler.sqlite\",\n",
    "    f\"{examples_dir}/data/all_cellprofiler-x2.sqlite\",\n",
    "    f\"{examples_dir}/data/all_cellprofiler-x4.sqlite\",\n",
    "    f\"{examples_dir}/data/all_cellprofiler-x8.sqlite\",\n",
    "    f\"{examples_dir}/data/all_cellprofiler-x16.sqlite\",\n",
    "    f\"{examples_dir}/data/all_cellprofiler-x32.sqlite\",\n",
    "    f\"{examples_dir}/data/all_cellprofiler-x64.sqlite\",\n",
    "    f\"{examples_dir}/data/all_cellprofiler-x128.sqlite\",\n",
    "    f\"{examples_dir}/data/all_cellprofiler-x256.sqlite\",\n",
    "    f\"{examples_dir}/data/all_cellprofiler-x512.sqlite\",\n",
    "]\n",
    "\n",
    "# format for memray time strings\n",
    "tformat = \"%Y-%m-%d %H:%M:%S.%f%z\""
   ]
  },
  {
   "cell_type": "code",
   "execution_count": 5,
   "id": "4346167e-7a0a-406a-9ed0-11592b3e9294",
   "metadata": {
    "execution": {
     "iopub.execute_input": "2025-05-14T17:09:52.173329Z",
     "iopub.status.busy": "2025-05-14T17:09:52.172983Z",
     "iopub.status.idle": "2025-05-14T17:09:52.178255Z",
     "shell.execute_reply": "2025-05-14T17:09:52.177096Z"
    },
    "papermill": {
     "duration": 0.013426,
     "end_time": "2025-05-14T17:09:52.179933",
     "exception": false,
     "start_time": "2025-05-14T17:09:52.166507",
     "status": "completed"
    },
    "tags": []
   },
   "outputs": [],
   "source": [
    "# Define the Parquet file path\n",
    "results_parquet_file = \"cytotable_pycytominer_results.parquet\"\n",
    "\n",
    "# Load existing results if available\n",
    "if pathlib.Path(results_parquet_file).exists():\n",
    "    df_results = pd.read_parquet(results_parquet_file)\n",
    "    results = df_results.to_dict(orient=\"records\")\n",
    "else:\n",
    "    results = []"
   ]
  },
  {
   "cell_type": "code",
   "execution_count": 6,
   "id": "a33736e4-306b-45c4-affe-cef6e20eeddf",
   "metadata": {
    "execution": {
     "iopub.execute_input": "2025-05-14T17:09:52.192072Z",
     "iopub.status.busy": "2025-05-14T17:09:52.191522Z",
     "iopub.status.idle": "2025-05-14T18:13:56.418449Z",
     "shell.execute_reply": "2025-05-14T18:13:56.417244Z"
    },
    "papermill": {
     "duration": 3844.269619,
     "end_time": "2025-05-14T18:13:56.454944",
     "exception": false,
     "start_time": "2025-05-14T17:09:52.185325",
     "status": "completed"
    },
    "tags": []
   },
   "outputs": [
    {
     "name": "stdout",
     "output_type": "stream",
     "text": [
      "Starting examples/cytotable_convert_nf1_multiprocess_sqlite.py with examples/data/all_cellprofiler.sqlite, iteration 0.\n"
     ]
    },
    {
     "name": "stdout",
     "output_type": "stream",
     "text": [
      "Finished examples/cytotable_convert_nf1_multiprocess_sqlite.py with examples/data/all_cellprofiler.sqlite, iteration 0.\n",
      "Starting examples/cytotable_convert_nf1_multiprocess_sqlite.py with examples/data/all_cellprofiler.sqlite, iteration 1.\n"
     ]
    },
    {
     "name": "stdout",
     "output_type": "stream",
     "text": [
      "Finished examples/cytotable_convert_nf1_multiprocess_sqlite.py with examples/data/all_cellprofiler.sqlite, iteration 1.\n",
      "Starting examples/cytotable_convert_nf1_multiprocess_sqlite.py with examples/data/all_cellprofiler.sqlite, iteration 2.\n"
     ]
    },
    {
     "name": "stdout",
     "output_type": "stream",
     "text": [
      "Finished examples/cytotable_convert_nf1_multiprocess_sqlite.py with examples/data/all_cellprofiler.sqlite, iteration 2.\n",
      "Starting examples/cytotable_convert_nf1_multiprocess_sqlite.py with examples/data/all_cellprofiler.sqlite, iteration 3.\n"
     ]
    },
    {
     "name": "stdout",
     "output_type": "stream",
     "text": [
      "Finished examples/cytotable_convert_nf1_multiprocess_sqlite.py with examples/data/all_cellprofiler.sqlite, iteration 3.\n",
      "Starting examples/cytotable_convert_nf1_multiprocess_sqlite.py with examples/data/all_cellprofiler.sqlite, iteration 4.\n"
     ]
    },
    {
     "name": "stdout",
     "output_type": "stream",
     "text": [
      "Finished examples/cytotable_convert_nf1_multiprocess_sqlite.py with examples/data/all_cellprofiler.sqlite, iteration 4.\n",
      "Starting examples/cytotable_convert_nf1_multiprocess_sqlite.py with examples/data/all_cellprofiler.sqlite, iteration 5.\n"
     ]
    },
    {
     "name": "stdout",
     "output_type": "stream",
     "text": [
      "Finished examples/cytotable_convert_nf1_multiprocess_sqlite.py with examples/data/all_cellprofiler.sqlite, iteration 5.\n",
      "Starting examples/cytotable_convert_nf1_multiprocess_sqlite.py with examples/data/all_cellprofiler-x2.sqlite, iteration 0.\n"
     ]
    },
    {
     "name": "stdout",
     "output_type": "stream",
     "text": [
      "Finished examples/cytotable_convert_nf1_multiprocess_sqlite.py with examples/data/all_cellprofiler-x2.sqlite, iteration 0.\n",
      "Starting examples/cytotable_convert_nf1_multiprocess_sqlite.py with examples/data/all_cellprofiler-x2.sqlite, iteration 1.\n"
     ]
    },
    {
     "name": "stdout",
     "output_type": "stream",
     "text": [
      "Finished examples/cytotable_convert_nf1_multiprocess_sqlite.py with examples/data/all_cellprofiler-x2.sqlite, iteration 1.\n",
      "Starting examples/cytotable_convert_nf1_multiprocess_sqlite.py with examples/data/all_cellprofiler-x2.sqlite, iteration 2.\n"
     ]
    },
    {
     "name": "stdout",
     "output_type": "stream",
     "text": [
      "Finished examples/cytotable_convert_nf1_multiprocess_sqlite.py with examples/data/all_cellprofiler-x2.sqlite, iteration 2.\n",
      "Starting examples/cytotable_convert_nf1_multiprocess_sqlite.py with examples/data/all_cellprofiler-x2.sqlite, iteration 3.\n"
     ]
    },
    {
     "name": "stdout",
     "output_type": "stream",
     "text": [
      "Finished examples/cytotable_convert_nf1_multiprocess_sqlite.py with examples/data/all_cellprofiler-x2.sqlite, iteration 3.\n",
      "Starting examples/cytotable_convert_nf1_multiprocess_sqlite.py with examples/data/all_cellprofiler-x2.sqlite, iteration 4.\n"
     ]
    },
    {
     "name": "stdout",
     "output_type": "stream",
     "text": [
      "Finished examples/cytotable_convert_nf1_multiprocess_sqlite.py with examples/data/all_cellprofiler-x2.sqlite, iteration 4.\n",
      "Starting examples/cytotable_convert_nf1_multiprocess_sqlite.py with examples/data/all_cellprofiler-x2.sqlite, iteration 5.\n"
     ]
    },
    {
     "name": "stdout",
     "output_type": "stream",
     "text": [
      "Finished examples/cytotable_convert_nf1_multiprocess_sqlite.py with examples/data/all_cellprofiler-x2.sqlite, iteration 5.\n",
      "Starting examples/cytotable_convert_nf1_multiprocess_sqlite.py with examples/data/all_cellprofiler-x4.sqlite, iteration 0.\n"
     ]
    },
    {
     "name": "stdout",
     "output_type": "stream",
     "text": [
      "Finished examples/cytotable_convert_nf1_multiprocess_sqlite.py with examples/data/all_cellprofiler-x4.sqlite, iteration 0.\n",
      "Starting examples/cytotable_convert_nf1_multiprocess_sqlite.py with examples/data/all_cellprofiler-x4.sqlite, iteration 1.\n"
     ]
    },
    {
     "name": "stdout",
     "output_type": "stream",
     "text": [
      "Finished examples/cytotable_convert_nf1_multiprocess_sqlite.py with examples/data/all_cellprofiler-x4.sqlite, iteration 1.\n",
      "Starting examples/cytotable_convert_nf1_multiprocess_sqlite.py with examples/data/all_cellprofiler-x4.sqlite, iteration 2.\n"
     ]
    },
    {
     "name": "stdout",
     "output_type": "stream",
     "text": [
      "Finished examples/cytotable_convert_nf1_multiprocess_sqlite.py with examples/data/all_cellprofiler-x4.sqlite, iteration 2.\n",
      "Starting examples/cytotable_convert_nf1_multiprocess_sqlite.py with examples/data/all_cellprofiler-x4.sqlite, iteration 3.\n"
     ]
    },
    {
     "name": "stdout",
     "output_type": "stream",
     "text": [
      "Finished examples/cytotable_convert_nf1_multiprocess_sqlite.py with examples/data/all_cellprofiler-x4.sqlite, iteration 3.\n",
      "Starting examples/cytotable_convert_nf1_multiprocess_sqlite.py with examples/data/all_cellprofiler-x4.sqlite, iteration 4.\n"
     ]
    },
    {
     "name": "stdout",
     "output_type": "stream",
     "text": [
      "Finished examples/cytotable_convert_nf1_multiprocess_sqlite.py with examples/data/all_cellprofiler-x4.sqlite, iteration 4.\n",
      "Starting examples/cytotable_convert_nf1_multiprocess_sqlite.py with examples/data/all_cellprofiler-x4.sqlite, iteration 5.\n"
     ]
    },
    {
     "name": "stdout",
     "output_type": "stream",
     "text": [
      "Finished examples/cytotable_convert_nf1_multiprocess_sqlite.py with examples/data/all_cellprofiler-x4.sqlite, iteration 5.\n",
      "Starting examples/cytotable_convert_nf1_multiprocess_sqlite.py with examples/data/all_cellprofiler-x8.sqlite, iteration 0.\n"
     ]
    },
    {
     "name": "stdout",
     "output_type": "stream",
     "text": [
      "Finished examples/cytotable_convert_nf1_multiprocess_sqlite.py with examples/data/all_cellprofiler-x8.sqlite, iteration 0.\n",
      "Starting examples/cytotable_convert_nf1_multiprocess_sqlite.py with examples/data/all_cellprofiler-x8.sqlite, iteration 1.\n"
     ]
    },
    {
     "name": "stdout",
     "output_type": "stream",
     "text": [
      "Finished examples/cytotable_convert_nf1_multiprocess_sqlite.py with examples/data/all_cellprofiler-x8.sqlite, iteration 1.\n",
      "Starting examples/cytotable_convert_nf1_multiprocess_sqlite.py with examples/data/all_cellprofiler-x8.sqlite, iteration 2.\n"
     ]
    },
    {
     "name": "stdout",
     "output_type": "stream",
     "text": [
      "Finished examples/cytotable_convert_nf1_multiprocess_sqlite.py with examples/data/all_cellprofiler-x8.sqlite, iteration 2.\n",
      "Starting examples/cytotable_convert_nf1_multiprocess_sqlite.py with examples/data/all_cellprofiler-x8.sqlite, iteration 3.\n"
     ]
    },
    {
     "name": "stdout",
     "output_type": "stream",
     "text": [
      "Finished examples/cytotable_convert_nf1_multiprocess_sqlite.py with examples/data/all_cellprofiler-x8.sqlite, iteration 3.\n",
      "Starting examples/cytotable_convert_nf1_multiprocess_sqlite.py with examples/data/all_cellprofiler-x8.sqlite, iteration 4.\n"
     ]
    },
    {
     "name": "stdout",
     "output_type": "stream",
     "text": [
      "Finished examples/cytotable_convert_nf1_multiprocess_sqlite.py with examples/data/all_cellprofiler-x8.sqlite, iteration 4.\n",
      "Starting examples/cytotable_convert_nf1_multiprocess_sqlite.py with examples/data/all_cellprofiler-x8.sqlite, iteration 5.\n"
     ]
    },
    {
     "name": "stdout",
     "output_type": "stream",
     "text": [
      "Finished examples/cytotable_convert_nf1_multiprocess_sqlite.py with examples/data/all_cellprofiler-x8.sqlite, iteration 5.\n",
      "Starting examples/cytotable_convert_nf1_multiprocess_sqlite.py with examples/data/all_cellprofiler-x16.sqlite, iteration 0.\n"
     ]
    },
    {
     "name": "stdout",
     "output_type": "stream",
     "text": [
      "Finished examples/cytotable_convert_nf1_multiprocess_sqlite.py with examples/data/all_cellprofiler-x16.sqlite, iteration 0.\n",
      "Starting examples/cytotable_convert_nf1_multiprocess_sqlite.py with examples/data/all_cellprofiler-x16.sqlite, iteration 1.\n"
     ]
    },
    {
     "name": "stdout",
     "output_type": "stream",
     "text": [
      "Finished examples/cytotable_convert_nf1_multiprocess_sqlite.py with examples/data/all_cellprofiler-x16.sqlite, iteration 1.\n",
      "Starting examples/cytotable_convert_nf1_multiprocess_sqlite.py with examples/data/all_cellprofiler-x16.sqlite, iteration 2.\n"
     ]
    },
    {
     "name": "stdout",
     "output_type": "stream",
     "text": [
      "Finished examples/cytotable_convert_nf1_multiprocess_sqlite.py with examples/data/all_cellprofiler-x16.sqlite, iteration 2.\n",
      "Starting examples/cytotable_convert_nf1_multiprocess_sqlite.py with examples/data/all_cellprofiler-x16.sqlite, iteration 3.\n"
     ]
    },
    {
     "name": "stdout",
     "output_type": "stream",
     "text": [
      "Finished examples/cytotable_convert_nf1_multiprocess_sqlite.py with examples/data/all_cellprofiler-x16.sqlite, iteration 3.\n",
      "Starting examples/cytotable_convert_nf1_multiprocess_sqlite.py with examples/data/all_cellprofiler-x16.sqlite, iteration 4.\n"
     ]
    },
    {
     "name": "stdout",
     "output_type": "stream",
     "text": [
      "Finished examples/cytotable_convert_nf1_multiprocess_sqlite.py with examples/data/all_cellprofiler-x16.sqlite, iteration 4.\n",
      "Starting examples/cytotable_convert_nf1_multiprocess_sqlite.py with examples/data/all_cellprofiler-x16.sqlite, iteration 5.\n"
     ]
    },
    {
     "name": "stdout",
     "output_type": "stream",
     "text": [
      "Finished examples/cytotable_convert_nf1_multiprocess_sqlite.py with examples/data/all_cellprofiler-x16.sqlite, iteration 5.\n",
      "Starting examples/cytotable_convert_nf1_multiprocess_sqlite.py with examples/data/all_cellprofiler-x32.sqlite, iteration 0.\n"
     ]
    },
    {
     "name": "stdout",
     "output_type": "stream",
     "text": [
      "Finished examples/cytotable_convert_nf1_multiprocess_sqlite.py with examples/data/all_cellprofiler-x32.sqlite, iteration 0.\n",
      "Starting examples/cytotable_convert_nf1_multiprocess_sqlite.py with examples/data/all_cellprofiler-x32.sqlite, iteration 1.\n"
     ]
    },
    {
     "name": "stdout",
     "output_type": "stream",
     "text": [
      "Finished examples/cytotable_convert_nf1_multiprocess_sqlite.py with examples/data/all_cellprofiler-x32.sqlite, iteration 1.\n",
      "Starting examples/cytotable_convert_nf1_multiprocess_sqlite.py with examples/data/all_cellprofiler-x32.sqlite, iteration 2.\n"
     ]
    },
    {
     "name": "stdout",
     "output_type": "stream",
     "text": [
      "Finished examples/cytotable_convert_nf1_multiprocess_sqlite.py with examples/data/all_cellprofiler-x32.sqlite, iteration 2.\n",
      "Starting examples/cytotable_convert_nf1_multiprocess_sqlite.py with examples/data/all_cellprofiler-x32.sqlite, iteration 3.\n"
     ]
    },
    {
     "name": "stdout",
     "output_type": "stream",
     "text": [
      "Finished examples/cytotable_convert_nf1_multiprocess_sqlite.py with examples/data/all_cellprofiler-x32.sqlite, iteration 3.\n",
      "Starting examples/cytotable_convert_nf1_multiprocess_sqlite.py with examples/data/all_cellprofiler-x32.sqlite, iteration 4.\n"
     ]
    },
    {
     "name": "stdout",
     "output_type": "stream",
     "text": [
      "Finished examples/cytotable_convert_nf1_multiprocess_sqlite.py with examples/data/all_cellprofiler-x32.sqlite, iteration 4.\n",
      "Starting examples/cytotable_convert_nf1_multiprocess_sqlite.py with examples/data/all_cellprofiler-x32.sqlite, iteration 5.\n"
     ]
    },
    {
     "name": "stdout",
     "output_type": "stream",
     "text": [
      "Finished examples/cytotable_convert_nf1_multiprocess_sqlite.py with examples/data/all_cellprofiler-x32.sqlite, iteration 5.\n",
      "Starting examples/cytotable_convert_nf1_multiprocess_sqlite.py with examples/data/all_cellprofiler-x64.sqlite, iteration 0.\n"
     ]
    },
    {
     "name": "stdout",
     "output_type": "stream",
     "text": [
      "Finished examples/cytotable_convert_nf1_multiprocess_sqlite.py with examples/data/all_cellprofiler-x64.sqlite, iteration 0.\n",
      "Starting examples/cytotable_convert_nf1_multiprocess_sqlite.py with examples/data/all_cellprofiler-x64.sqlite, iteration 1.\n"
     ]
    },
    {
     "name": "stdout",
     "output_type": "stream",
     "text": [
      "Finished examples/cytotable_convert_nf1_multiprocess_sqlite.py with examples/data/all_cellprofiler-x64.sqlite, iteration 1.\n",
      "Starting examples/cytotable_convert_nf1_multiprocess_sqlite.py with examples/data/all_cellprofiler-x64.sqlite, iteration 2.\n"
     ]
    },
    {
     "name": "stdout",
     "output_type": "stream",
     "text": [
      "Finished examples/cytotable_convert_nf1_multiprocess_sqlite.py with examples/data/all_cellprofiler-x64.sqlite, iteration 2.\n",
      "Starting examples/cytotable_convert_nf1_multiprocess_sqlite.py with examples/data/all_cellprofiler-x64.sqlite, iteration 3.\n"
     ]
    },
    {
     "name": "stdout",
     "output_type": "stream",
     "text": [
      "Finished examples/cytotable_convert_nf1_multiprocess_sqlite.py with examples/data/all_cellprofiler-x64.sqlite, iteration 3.\n",
      "Starting examples/cytotable_convert_nf1_multiprocess_sqlite.py with examples/data/all_cellprofiler-x64.sqlite, iteration 4.\n"
     ]
    },
    {
     "name": "stdout",
     "output_type": "stream",
     "text": [
      "Finished examples/cytotable_convert_nf1_multiprocess_sqlite.py with examples/data/all_cellprofiler-x64.sqlite, iteration 4.\n",
      "Starting examples/cytotable_convert_nf1_multiprocess_sqlite.py with examples/data/all_cellprofiler-x64.sqlite, iteration 5.\n"
     ]
    },
    {
     "name": "stdout",
     "output_type": "stream",
     "text": [
      "Finished examples/cytotable_convert_nf1_multiprocess_sqlite.py with examples/data/all_cellprofiler-x64.sqlite, iteration 5.\n",
      "Starting examples/cytotable_convert_nf1_multiprocess_sqlite.py with examples/data/all_cellprofiler-x128.sqlite, iteration 0.\n"
     ]
    },
    {
     "name": "stdout",
     "output_type": "stream",
     "text": [
      "Finished examples/cytotable_convert_nf1_multiprocess_sqlite.py with examples/data/all_cellprofiler-x128.sqlite, iteration 0.\n",
      "Starting examples/cytotable_convert_nf1_multiprocess_sqlite.py with examples/data/all_cellprofiler-x128.sqlite, iteration 1.\n"
     ]
    },
    {
     "name": "stdout",
     "output_type": "stream",
     "text": [
      "Finished examples/cytotable_convert_nf1_multiprocess_sqlite.py with examples/data/all_cellprofiler-x128.sqlite, iteration 1.\n",
      "Starting examples/cytotable_convert_nf1_multiprocess_sqlite.py with examples/data/all_cellprofiler-x128.sqlite, iteration 2.\n"
     ]
    },
    {
     "name": "stdout",
     "output_type": "stream",
     "text": [
      "Finished examples/cytotable_convert_nf1_multiprocess_sqlite.py with examples/data/all_cellprofiler-x128.sqlite, iteration 2.\n",
      "Starting examples/cytotable_convert_nf1_multiprocess_sqlite.py with examples/data/all_cellprofiler-x128.sqlite, iteration 3.\n"
     ]
    },
    {
     "name": "stdout",
     "output_type": "stream",
     "text": [
      "Finished examples/cytotable_convert_nf1_multiprocess_sqlite.py with examples/data/all_cellprofiler-x128.sqlite, iteration 3.\n",
      "Starting examples/cytotable_convert_nf1_multiprocess_sqlite.py with examples/data/all_cellprofiler-x128.sqlite, iteration 4.\n"
     ]
    },
    {
     "name": "stdout",
     "output_type": "stream",
     "text": [
      "Finished examples/cytotable_convert_nf1_multiprocess_sqlite.py with examples/data/all_cellprofiler-x128.sqlite, iteration 4.\n",
      "Starting examples/cytotable_convert_nf1_multiprocess_sqlite.py with examples/data/all_cellprofiler-x128.sqlite, iteration 5.\n"
     ]
    },
    {
     "name": "stdout",
     "output_type": "stream",
     "text": [
      "Finished examples/cytotable_convert_nf1_multiprocess_sqlite.py with examples/data/all_cellprofiler-x128.sqlite, iteration 5.\n",
      "Starting examples/cytotable_convert_nf1_multiprocess_sqlite.py with examples/data/all_cellprofiler-x256.sqlite, iteration 0.\n"
     ]
    },
    {
     "name": "stdout",
     "output_type": "stream",
     "text": [
      "Finished examples/cytotable_convert_nf1_multiprocess_sqlite.py with examples/data/all_cellprofiler-x256.sqlite, iteration 0.\n",
      "Starting examples/cytotable_convert_nf1_multiprocess_sqlite.py with examples/data/all_cellprofiler-x256.sqlite, iteration 1.\n"
     ]
    },
    {
     "name": "stdout",
     "output_type": "stream",
     "text": [
      "Finished examples/cytotable_convert_nf1_multiprocess_sqlite.py with examples/data/all_cellprofiler-x256.sqlite, iteration 1.\n",
      "Starting examples/cytotable_convert_nf1_multiprocess_sqlite.py with examples/data/all_cellprofiler-x256.sqlite, iteration 2.\n"
     ]
    },
    {
     "name": "stdout",
     "output_type": "stream",
     "text": [
      "Finished examples/cytotable_convert_nf1_multiprocess_sqlite.py with examples/data/all_cellprofiler-x256.sqlite, iteration 2.\n",
      "Starting examples/cytotable_convert_nf1_multiprocess_sqlite.py with examples/data/all_cellprofiler-x256.sqlite, iteration 3.\n"
     ]
    },
    {
     "name": "stdout",
     "output_type": "stream",
     "text": [
      "Finished examples/cytotable_convert_nf1_multiprocess_sqlite.py with examples/data/all_cellprofiler-x256.sqlite, iteration 3.\n",
      "Starting examples/cytotable_convert_nf1_multiprocess_sqlite.py with examples/data/all_cellprofiler-x256.sqlite, iteration 4.\n"
     ]
    },
    {
     "name": "stdout",
     "output_type": "stream",
     "text": [
      "Finished examples/cytotable_convert_nf1_multiprocess_sqlite.py with examples/data/all_cellprofiler-x256.sqlite, iteration 4.\n",
      "Starting examples/cytotable_convert_nf1_multiprocess_sqlite.py with examples/data/all_cellprofiler-x256.sqlite, iteration 5.\n"
     ]
    },
    {
     "name": "stdout",
     "output_type": "stream",
     "text": [
      "Finished examples/cytotable_convert_nf1_multiprocess_sqlite.py with examples/data/all_cellprofiler-x256.sqlite, iteration 5.\n",
      "Starting examples/cytotable_convert_nf1_multiprocess_sqlite.py with examples/data/all_cellprofiler-x512.sqlite, iteration 0.\n"
     ]
    },
    {
     "name": "stdout",
     "output_type": "stream",
     "text": [
      "Finished examples/cytotable_convert_nf1_multiprocess_sqlite.py with examples/data/all_cellprofiler-x512.sqlite, iteration 0.\n",
      "Starting examples/cytotable_convert_nf1_multiprocess_sqlite.py with examples/data/all_cellprofiler-x512.sqlite, iteration 1.\n"
     ]
    },
    {
     "name": "stdout",
     "output_type": "stream",
     "text": [
      "Finished examples/cytotable_convert_nf1_multiprocess_sqlite.py with examples/data/all_cellprofiler-x512.sqlite, iteration 1.\n",
      "Starting examples/cytotable_convert_nf1_multiprocess_sqlite.py with examples/data/all_cellprofiler-x512.sqlite, iteration 2.\n"
     ]
    },
    {
     "name": "stdout",
     "output_type": "stream",
     "text": [
      "Finished examples/cytotable_convert_nf1_multiprocess_sqlite.py with examples/data/all_cellprofiler-x512.sqlite, iteration 2.\n",
      "Starting examples/cytotable_convert_nf1_multiprocess_sqlite.py with examples/data/all_cellprofiler-x512.sqlite, iteration 3.\n"
     ]
    },
    {
     "name": "stdout",
     "output_type": "stream",
     "text": [
      "Finished examples/cytotable_convert_nf1_multiprocess_sqlite.py with examples/data/all_cellprofiler-x512.sqlite, iteration 3.\n",
      "Starting examples/cytotable_convert_nf1_multiprocess_sqlite.py with examples/data/all_cellprofiler-x512.sqlite, iteration 4.\n"
     ]
    },
    {
     "name": "stdout",
     "output_type": "stream",
     "text": [
      "Finished examples/cytotable_convert_nf1_multiprocess_sqlite.py with examples/data/all_cellprofiler-x512.sqlite, iteration 4.\n",
      "Starting examples/cytotable_convert_nf1_multiprocess_sqlite.py with examples/data/all_cellprofiler-x512.sqlite, iteration 5.\n"
     ]
    },
    {
     "name": "stdout",
     "output_type": "stream",
     "text": [
      "Finished examples/cytotable_convert_nf1_multiprocess_sqlite.py with examples/data/all_cellprofiler-x512.sqlite, iteration 5.\n",
      "Starting examples/cytotable_convert_nf1_multithread_sqlite.py with examples/data/all_cellprofiler.sqlite, iteration 0.\n"
     ]
    },
    {
     "name": "stdout",
     "output_type": "stream",
     "text": [
      "Finished examples/cytotable_convert_nf1_multithread_sqlite.py with examples/data/all_cellprofiler.sqlite, iteration 0.\n",
      "Starting examples/cytotable_convert_nf1_multithread_sqlite.py with examples/data/all_cellprofiler.sqlite, iteration 1.\n"
     ]
    },
    {
     "name": "stdout",
     "output_type": "stream",
     "text": [
      "Finished examples/cytotable_convert_nf1_multithread_sqlite.py with examples/data/all_cellprofiler.sqlite, iteration 1.\n",
      "Starting examples/cytotable_convert_nf1_multithread_sqlite.py with examples/data/all_cellprofiler.sqlite, iteration 2.\n"
     ]
    },
    {
     "name": "stdout",
     "output_type": "stream",
     "text": [
      "Finished examples/cytotable_convert_nf1_multithread_sqlite.py with examples/data/all_cellprofiler.sqlite, iteration 2.\n",
      "Starting examples/cytotable_convert_nf1_multithread_sqlite.py with examples/data/all_cellprofiler.sqlite, iteration 3.\n"
     ]
    },
    {
     "name": "stdout",
     "output_type": "stream",
     "text": [
      "Finished examples/cytotable_convert_nf1_multithread_sqlite.py with examples/data/all_cellprofiler.sqlite, iteration 3.\n",
      "Starting examples/cytotable_convert_nf1_multithread_sqlite.py with examples/data/all_cellprofiler.sqlite, iteration 4.\n"
     ]
    },
    {
     "name": "stdout",
     "output_type": "stream",
     "text": [
      "Finished examples/cytotable_convert_nf1_multithread_sqlite.py with examples/data/all_cellprofiler.sqlite, iteration 4.\n",
      "Starting examples/cytotable_convert_nf1_multithread_sqlite.py with examples/data/all_cellprofiler.sqlite, iteration 5.\n"
     ]
    },
    {
     "name": "stdout",
     "output_type": "stream",
     "text": [
      "Finished examples/cytotable_convert_nf1_multithread_sqlite.py with examples/data/all_cellprofiler.sqlite, iteration 5.\n",
      "Starting examples/cytotable_convert_nf1_multithread_sqlite.py with examples/data/all_cellprofiler-x2.sqlite, iteration 0.\n"
     ]
    },
    {
     "name": "stdout",
     "output_type": "stream",
     "text": [
      "Finished examples/cytotable_convert_nf1_multithread_sqlite.py with examples/data/all_cellprofiler-x2.sqlite, iteration 0.\n",
      "Starting examples/cytotable_convert_nf1_multithread_sqlite.py with examples/data/all_cellprofiler-x2.sqlite, iteration 1.\n"
     ]
    },
    {
     "name": "stdout",
     "output_type": "stream",
     "text": [
      "Finished examples/cytotable_convert_nf1_multithread_sqlite.py with examples/data/all_cellprofiler-x2.sqlite, iteration 1.\n",
      "Starting examples/cytotable_convert_nf1_multithread_sqlite.py with examples/data/all_cellprofiler-x2.sqlite, iteration 2.\n"
     ]
    },
    {
     "name": "stdout",
     "output_type": "stream",
     "text": [
      "Finished examples/cytotable_convert_nf1_multithread_sqlite.py with examples/data/all_cellprofiler-x2.sqlite, iteration 2.\n",
      "Starting examples/cytotable_convert_nf1_multithread_sqlite.py with examples/data/all_cellprofiler-x2.sqlite, iteration 3.\n"
     ]
    },
    {
     "name": "stdout",
     "output_type": "stream",
     "text": [
      "Finished examples/cytotable_convert_nf1_multithread_sqlite.py with examples/data/all_cellprofiler-x2.sqlite, iteration 3.\n",
      "Starting examples/cytotable_convert_nf1_multithread_sqlite.py with examples/data/all_cellprofiler-x2.sqlite, iteration 4.\n"
     ]
    },
    {
     "name": "stdout",
     "output_type": "stream",
     "text": [
      "Finished examples/cytotable_convert_nf1_multithread_sqlite.py with examples/data/all_cellprofiler-x2.sqlite, iteration 4.\n",
      "Starting examples/cytotable_convert_nf1_multithread_sqlite.py with examples/data/all_cellprofiler-x2.sqlite, iteration 5.\n"
     ]
    },
    {
     "name": "stdout",
     "output_type": "stream",
     "text": [
      "Finished examples/cytotable_convert_nf1_multithread_sqlite.py with examples/data/all_cellprofiler-x2.sqlite, iteration 5.\n",
      "Starting examples/cytotable_convert_nf1_multithread_sqlite.py with examples/data/all_cellprofiler-x4.sqlite, iteration 0.\n"
     ]
    },
    {
     "name": "stdout",
     "output_type": "stream",
     "text": [
      "Finished examples/cytotable_convert_nf1_multithread_sqlite.py with examples/data/all_cellprofiler-x4.sqlite, iteration 0.\n",
      "Starting examples/cytotable_convert_nf1_multithread_sqlite.py with examples/data/all_cellprofiler-x4.sqlite, iteration 1.\n"
     ]
    },
    {
     "name": "stdout",
     "output_type": "stream",
     "text": [
      "Finished examples/cytotable_convert_nf1_multithread_sqlite.py with examples/data/all_cellprofiler-x4.sqlite, iteration 1.\n",
      "Starting examples/cytotable_convert_nf1_multithread_sqlite.py with examples/data/all_cellprofiler-x4.sqlite, iteration 2.\n"
     ]
    },
    {
     "name": "stdout",
     "output_type": "stream",
     "text": [
      "Finished examples/cytotable_convert_nf1_multithread_sqlite.py with examples/data/all_cellprofiler-x4.sqlite, iteration 2.\n",
      "Starting examples/cytotable_convert_nf1_multithread_sqlite.py with examples/data/all_cellprofiler-x4.sqlite, iteration 3.\n"
     ]
    },
    {
     "name": "stdout",
     "output_type": "stream",
     "text": [
      "Finished examples/cytotable_convert_nf1_multithread_sqlite.py with examples/data/all_cellprofiler-x4.sqlite, iteration 3.\n",
      "Starting examples/cytotable_convert_nf1_multithread_sqlite.py with examples/data/all_cellprofiler-x4.sqlite, iteration 4.\n"
     ]
    },
    {
     "name": "stdout",
     "output_type": "stream",
     "text": [
      "Finished examples/cytotable_convert_nf1_multithread_sqlite.py with examples/data/all_cellprofiler-x4.sqlite, iteration 4.\n",
      "Starting examples/cytotable_convert_nf1_multithread_sqlite.py with examples/data/all_cellprofiler-x4.sqlite, iteration 5.\n"
     ]
    },
    {
     "name": "stdout",
     "output_type": "stream",
     "text": [
      "Finished examples/cytotable_convert_nf1_multithread_sqlite.py with examples/data/all_cellprofiler-x4.sqlite, iteration 5.\n",
      "Starting examples/cytotable_convert_nf1_multithread_sqlite.py with examples/data/all_cellprofiler-x8.sqlite, iteration 0.\n"
     ]
    },
    {
     "name": "stdout",
     "output_type": "stream",
     "text": [
      "Finished examples/cytotable_convert_nf1_multithread_sqlite.py with examples/data/all_cellprofiler-x8.sqlite, iteration 0.\n",
      "Starting examples/cytotable_convert_nf1_multithread_sqlite.py with examples/data/all_cellprofiler-x8.sqlite, iteration 1.\n"
     ]
    },
    {
     "name": "stdout",
     "output_type": "stream",
     "text": [
      "Finished examples/cytotable_convert_nf1_multithread_sqlite.py with examples/data/all_cellprofiler-x8.sqlite, iteration 1.\n",
      "Starting examples/cytotable_convert_nf1_multithread_sqlite.py with examples/data/all_cellprofiler-x8.sqlite, iteration 2.\n"
     ]
    },
    {
     "name": "stdout",
     "output_type": "stream",
     "text": [
      "Finished examples/cytotable_convert_nf1_multithread_sqlite.py with examples/data/all_cellprofiler-x8.sqlite, iteration 2.\n",
      "Starting examples/cytotable_convert_nf1_multithread_sqlite.py with examples/data/all_cellprofiler-x8.sqlite, iteration 3.\n"
     ]
    },
    {
     "name": "stdout",
     "output_type": "stream",
     "text": [
      "Finished examples/cytotable_convert_nf1_multithread_sqlite.py with examples/data/all_cellprofiler-x8.sqlite, iteration 3.\n",
      "Starting examples/cytotable_convert_nf1_multithread_sqlite.py with examples/data/all_cellprofiler-x8.sqlite, iteration 4.\n"
     ]
    },
    {
     "name": "stdout",
     "output_type": "stream",
     "text": [
      "Finished examples/cytotable_convert_nf1_multithread_sqlite.py with examples/data/all_cellprofiler-x8.sqlite, iteration 4.\n",
      "Starting examples/cytotable_convert_nf1_multithread_sqlite.py with examples/data/all_cellprofiler-x8.sqlite, iteration 5.\n"
     ]
    },
    {
     "name": "stdout",
     "output_type": "stream",
     "text": [
      "Finished examples/cytotable_convert_nf1_multithread_sqlite.py with examples/data/all_cellprofiler-x8.sqlite, iteration 5.\n",
      "Starting examples/cytotable_convert_nf1_multithread_sqlite.py with examples/data/all_cellprofiler-x16.sqlite, iteration 0.\n"
     ]
    },
    {
     "name": "stdout",
     "output_type": "stream",
     "text": [
      "Finished examples/cytotable_convert_nf1_multithread_sqlite.py with examples/data/all_cellprofiler-x16.sqlite, iteration 0.\n",
      "Starting examples/cytotable_convert_nf1_multithread_sqlite.py with examples/data/all_cellprofiler-x16.sqlite, iteration 1.\n"
     ]
    },
    {
     "name": "stdout",
     "output_type": "stream",
     "text": [
      "Finished examples/cytotable_convert_nf1_multithread_sqlite.py with examples/data/all_cellprofiler-x16.sqlite, iteration 1.\n",
      "Starting examples/cytotable_convert_nf1_multithread_sqlite.py with examples/data/all_cellprofiler-x16.sqlite, iteration 2.\n"
     ]
    },
    {
     "name": "stdout",
     "output_type": "stream",
     "text": [
      "Finished examples/cytotable_convert_nf1_multithread_sqlite.py with examples/data/all_cellprofiler-x16.sqlite, iteration 2.\n",
      "Starting examples/cytotable_convert_nf1_multithread_sqlite.py with examples/data/all_cellprofiler-x16.sqlite, iteration 3.\n"
     ]
    },
    {
     "name": "stdout",
     "output_type": "stream",
     "text": [
      "Finished examples/cytotable_convert_nf1_multithread_sqlite.py with examples/data/all_cellprofiler-x16.sqlite, iteration 3.\n",
      "Starting examples/cytotable_convert_nf1_multithread_sqlite.py with examples/data/all_cellprofiler-x16.sqlite, iteration 4.\n"
     ]
    },
    {
     "name": "stdout",
     "output_type": "stream",
     "text": [
      "Finished examples/cytotable_convert_nf1_multithread_sqlite.py with examples/data/all_cellprofiler-x16.sqlite, iteration 4.\n",
      "Starting examples/cytotable_convert_nf1_multithread_sqlite.py with examples/data/all_cellprofiler-x16.sqlite, iteration 5.\n"
     ]
    },
    {
     "name": "stdout",
     "output_type": "stream",
     "text": [
      "Finished examples/cytotable_convert_nf1_multithread_sqlite.py with examples/data/all_cellprofiler-x16.sqlite, iteration 5.\n",
      "Starting examples/cytotable_convert_nf1_multithread_sqlite.py with examples/data/all_cellprofiler-x32.sqlite, iteration 0.\n"
     ]
    },
    {
     "name": "stdout",
     "output_type": "stream",
     "text": [
      "Finished examples/cytotable_convert_nf1_multithread_sqlite.py with examples/data/all_cellprofiler-x32.sqlite, iteration 0.\n",
      "Starting examples/cytotable_convert_nf1_multithread_sqlite.py with examples/data/all_cellprofiler-x32.sqlite, iteration 1.\n"
     ]
    },
    {
     "name": "stdout",
     "output_type": "stream",
     "text": [
      "Finished examples/cytotable_convert_nf1_multithread_sqlite.py with examples/data/all_cellprofiler-x32.sqlite, iteration 1.\n",
      "Starting examples/cytotable_convert_nf1_multithread_sqlite.py with examples/data/all_cellprofiler-x32.sqlite, iteration 2.\n"
     ]
    },
    {
     "name": "stdout",
     "output_type": "stream",
     "text": [
      "Finished examples/cytotable_convert_nf1_multithread_sqlite.py with examples/data/all_cellprofiler-x32.sqlite, iteration 2.\n",
      "Starting examples/cytotable_convert_nf1_multithread_sqlite.py with examples/data/all_cellprofiler-x32.sqlite, iteration 3.\n"
     ]
    },
    {
     "name": "stdout",
     "output_type": "stream",
     "text": [
      "Finished examples/cytotable_convert_nf1_multithread_sqlite.py with examples/data/all_cellprofiler-x32.sqlite, iteration 3.\n",
      "Starting examples/cytotable_convert_nf1_multithread_sqlite.py with examples/data/all_cellprofiler-x32.sqlite, iteration 4.\n"
     ]
    },
    {
     "name": "stdout",
     "output_type": "stream",
     "text": [
      "Finished examples/cytotable_convert_nf1_multithread_sqlite.py with examples/data/all_cellprofiler-x32.sqlite, iteration 4.\n",
      "Starting examples/cytotable_convert_nf1_multithread_sqlite.py with examples/data/all_cellprofiler-x32.sqlite, iteration 5.\n"
     ]
    },
    {
     "name": "stdout",
     "output_type": "stream",
     "text": [
      "Finished examples/cytotable_convert_nf1_multithread_sqlite.py with examples/data/all_cellprofiler-x32.sqlite, iteration 5.\n",
      "Starting examples/cytotable_convert_nf1_multithread_sqlite.py with examples/data/all_cellprofiler-x64.sqlite, iteration 0.\n"
     ]
    },
    {
     "name": "stdout",
     "output_type": "stream",
     "text": [
      "Finished examples/cytotable_convert_nf1_multithread_sqlite.py with examples/data/all_cellprofiler-x64.sqlite, iteration 0.\n",
      "Starting examples/cytotable_convert_nf1_multithread_sqlite.py with examples/data/all_cellprofiler-x64.sqlite, iteration 1.\n"
     ]
    },
    {
     "name": "stdout",
     "output_type": "stream",
     "text": [
      "Finished examples/cytotable_convert_nf1_multithread_sqlite.py with examples/data/all_cellprofiler-x64.sqlite, iteration 1.\n",
      "Starting examples/cytotable_convert_nf1_multithread_sqlite.py with examples/data/all_cellprofiler-x64.sqlite, iteration 2.\n"
     ]
    },
    {
     "name": "stdout",
     "output_type": "stream",
     "text": [
      "Finished examples/cytotable_convert_nf1_multithread_sqlite.py with examples/data/all_cellprofiler-x64.sqlite, iteration 2.\n",
      "Starting examples/cytotable_convert_nf1_multithread_sqlite.py with examples/data/all_cellprofiler-x64.sqlite, iteration 3.\n"
     ]
    },
    {
     "name": "stdout",
     "output_type": "stream",
     "text": [
      "Finished examples/cytotable_convert_nf1_multithread_sqlite.py with examples/data/all_cellprofiler-x64.sqlite, iteration 3.\n",
      "Starting examples/cytotable_convert_nf1_multithread_sqlite.py with examples/data/all_cellprofiler-x64.sqlite, iteration 4.\n"
     ]
    },
    {
     "name": "stdout",
     "output_type": "stream",
     "text": [
      "Finished examples/cytotable_convert_nf1_multithread_sqlite.py with examples/data/all_cellprofiler-x64.sqlite, iteration 4.\n",
      "Starting examples/cytotable_convert_nf1_multithread_sqlite.py with examples/data/all_cellprofiler-x64.sqlite, iteration 5.\n"
     ]
    },
    {
     "name": "stdout",
     "output_type": "stream",
     "text": [
      "Finished examples/cytotable_convert_nf1_multithread_sqlite.py with examples/data/all_cellprofiler-x64.sqlite, iteration 5.\n",
      "Starting examples/cytotable_convert_nf1_multithread_sqlite.py with examples/data/all_cellprofiler-x128.sqlite, iteration 0.\n"
     ]
    },
    {
     "name": "stdout",
     "output_type": "stream",
     "text": [
      "Finished examples/cytotable_convert_nf1_multithread_sqlite.py with examples/data/all_cellprofiler-x128.sqlite, iteration 0.\n",
      "Starting examples/cytotable_convert_nf1_multithread_sqlite.py with examples/data/all_cellprofiler-x128.sqlite, iteration 1.\n"
     ]
    },
    {
     "name": "stdout",
     "output_type": "stream",
     "text": [
      "Finished examples/cytotable_convert_nf1_multithread_sqlite.py with examples/data/all_cellprofiler-x128.sqlite, iteration 1.\n",
      "Starting examples/cytotable_convert_nf1_multithread_sqlite.py with examples/data/all_cellprofiler-x128.sqlite, iteration 2.\n"
     ]
    },
    {
     "name": "stdout",
     "output_type": "stream",
     "text": [
      "Finished examples/cytotable_convert_nf1_multithread_sqlite.py with examples/data/all_cellprofiler-x128.sqlite, iteration 2.\n",
      "Starting examples/cytotable_convert_nf1_multithread_sqlite.py with examples/data/all_cellprofiler-x128.sqlite, iteration 3.\n"
     ]
    },
    {
     "name": "stdout",
     "output_type": "stream",
     "text": [
      "Finished examples/cytotable_convert_nf1_multithread_sqlite.py with examples/data/all_cellprofiler-x128.sqlite, iteration 3.\n",
      "Starting examples/cytotable_convert_nf1_multithread_sqlite.py with examples/data/all_cellprofiler-x128.sqlite, iteration 4.\n"
     ]
    },
    {
     "name": "stdout",
     "output_type": "stream",
     "text": [
      "Finished examples/cytotable_convert_nf1_multithread_sqlite.py with examples/data/all_cellprofiler-x128.sqlite, iteration 4.\n",
      "Starting examples/cytotable_convert_nf1_multithread_sqlite.py with examples/data/all_cellprofiler-x128.sqlite, iteration 5.\n"
     ]
    },
    {
     "name": "stdout",
     "output_type": "stream",
     "text": [
      "Finished examples/cytotable_convert_nf1_multithread_sqlite.py with examples/data/all_cellprofiler-x128.sqlite, iteration 5.\n",
      "Starting examples/cytotable_convert_nf1_multithread_sqlite.py with examples/data/all_cellprofiler-x256.sqlite, iteration 0.\n"
     ]
    },
    {
     "name": "stdout",
     "output_type": "stream",
     "text": [
      "Finished examples/cytotable_convert_nf1_multithread_sqlite.py with examples/data/all_cellprofiler-x256.sqlite, iteration 0.\n",
      "Starting examples/cytotable_convert_nf1_multithread_sqlite.py with examples/data/all_cellprofiler-x256.sqlite, iteration 1.\n"
     ]
    },
    {
     "name": "stdout",
     "output_type": "stream",
     "text": [
      "Finished examples/cytotable_convert_nf1_multithread_sqlite.py with examples/data/all_cellprofiler-x256.sqlite, iteration 1.\n",
      "Starting examples/cytotable_convert_nf1_multithread_sqlite.py with examples/data/all_cellprofiler-x256.sqlite, iteration 2.\n"
     ]
    },
    {
     "name": "stdout",
     "output_type": "stream",
     "text": [
      "Finished examples/cytotable_convert_nf1_multithread_sqlite.py with examples/data/all_cellprofiler-x256.sqlite, iteration 2.\n",
      "Starting examples/cytotable_convert_nf1_multithread_sqlite.py with examples/data/all_cellprofiler-x256.sqlite, iteration 3.\n"
     ]
    },
    {
     "name": "stdout",
     "output_type": "stream",
     "text": [
      "Finished examples/cytotable_convert_nf1_multithread_sqlite.py with examples/data/all_cellprofiler-x256.sqlite, iteration 3.\n",
      "Starting examples/cytotable_convert_nf1_multithread_sqlite.py with examples/data/all_cellprofiler-x256.sqlite, iteration 4.\n"
     ]
    },
    {
     "name": "stdout",
     "output_type": "stream",
     "text": [
      "Finished examples/cytotable_convert_nf1_multithread_sqlite.py with examples/data/all_cellprofiler-x256.sqlite, iteration 4.\n",
      "Starting examples/cytotable_convert_nf1_multithread_sqlite.py with examples/data/all_cellprofiler-x256.sqlite, iteration 5.\n"
     ]
    },
    {
     "name": "stdout",
     "output_type": "stream",
     "text": [
      "Finished examples/cytotable_convert_nf1_multithread_sqlite.py with examples/data/all_cellprofiler-x256.sqlite, iteration 5.\n",
      "Starting examples/cytotable_convert_nf1_multithread_sqlite.py with examples/data/all_cellprofiler-x512.sqlite, iteration 0.\n"
     ]
    },
    {
     "name": "stdout",
     "output_type": "stream",
     "text": [
      "Finished examples/cytotable_convert_nf1_multithread_sqlite.py with examples/data/all_cellprofiler-x512.sqlite, iteration 0.\n",
      "Starting examples/cytotable_convert_nf1_multithread_sqlite.py with examples/data/all_cellprofiler-x512.sqlite, iteration 1.\n"
     ]
    },
    {
     "name": "stdout",
     "output_type": "stream",
     "text": [
      "Finished examples/cytotable_convert_nf1_multithread_sqlite.py with examples/data/all_cellprofiler-x512.sqlite, iteration 1.\n",
      "Starting examples/cytotable_convert_nf1_multithread_sqlite.py with examples/data/all_cellprofiler-x512.sqlite, iteration 2.\n"
     ]
    },
    {
     "name": "stdout",
     "output_type": "stream",
     "text": [
      "Finished examples/cytotable_convert_nf1_multithread_sqlite.py with examples/data/all_cellprofiler-x512.sqlite, iteration 2.\n",
      "Starting examples/cytotable_convert_nf1_multithread_sqlite.py with examples/data/all_cellprofiler-x512.sqlite, iteration 3.\n"
     ]
    },
    {
     "name": "stdout",
     "output_type": "stream",
     "text": [
      "Finished examples/cytotable_convert_nf1_multithread_sqlite.py with examples/data/all_cellprofiler-x512.sqlite, iteration 3.\n",
      "Starting examples/cytotable_convert_nf1_multithread_sqlite.py with examples/data/all_cellprofiler-x512.sqlite, iteration 4.\n"
     ]
    },
    {
     "name": "stdout",
     "output_type": "stream",
     "text": [
      "Finished examples/cytotable_convert_nf1_multithread_sqlite.py with examples/data/all_cellprofiler-x512.sqlite, iteration 4.\n",
      "Starting examples/cytotable_convert_nf1_multithread_sqlite.py with examples/data/all_cellprofiler-x512.sqlite, iteration 5.\n"
     ]
    },
    {
     "name": "stdout",
     "output_type": "stream",
     "text": [
      "Finished examples/cytotable_convert_nf1_multithread_sqlite.py with examples/data/all_cellprofiler-x512.sqlite, iteration 5.\n",
      "Starting examples/pycytominer_merge_nf1_sqlite.py with examples/data/all_cellprofiler.sqlite, iteration 0.\n"
     ]
    },
    {
     "name": "stderr",
     "output_type": "stream",
     "text": [
      "/home/davebunten/.cache/pypoetry/virtualenvs/cytotable-benchmarks-2FApAEcz-py3.11/lib/python3.11/site-packages/pycytominer/cyto_utils/util.py:59: UserWarning: Non-canonical compartment detected: Per_Cells, Per_Cytoplasm, Per_Nuclei\n",
      "  warnings.warn(warn_str)\n"
     ]
    },
    {
     "name": "stdout",
     "output_type": "stream",
     "text": [
      "Finished examples/pycytominer_merge_nf1_sqlite.py with examples/data/all_cellprofiler.sqlite, iteration 0.\n",
      "Starting examples/pycytominer_merge_nf1_sqlite.py with examples/data/all_cellprofiler.sqlite, iteration 1.\n"
     ]
    },
    {
     "name": "stderr",
     "output_type": "stream",
     "text": [
      "/home/davebunten/.cache/pypoetry/virtualenvs/cytotable-benchmarks-2FApAEcz-py3.11/lib/python3.11/site-packages/pycytominer/cyto_utils/util.py:59: UserWarning: Non-canonical compartment detected: Per_Cells, Per_Cytoplasm, Per_Nuclei\n",
      "  warnings.warn(warn_str)\n"
     ]
    },
    {
     "name": "stdout",
     "output_type": "stream",
     "text": [
      "Finished examples/pycytominer_merge_nf1_sqlite.py with examples/data/all_cellprofiler.sqlite, iteration 1.\n",
      "Starting examples/pycytominer_merge_nf1_sqlite.py with examples/data/all_cellprofiler.sqlite, iteration 2.\n"
     ]
    },
    {
     "name": "stderr",
     "output_type": "stream",
     "text": [
      "/home/davebunten/.cache/pypoetry/virtualenvs/cytotable-benchmarks-2FApAEcz-py3.11/lib/python3.11/site-packages/pycytominer/cyto_utils/util.py:59: UserWarning: Non-canonical compartment detected: Per_Cells, Per_Cytoplasm, Per_Nuclei\n",
      "  warnings.warn(warn_str)\n"
     ]
    },
    {
     "name": "stdout",
     "output_type": "stream",
     "text": [
      "Finished examples/pycytominer_merge_nf1_sqlite.py with examples/data/all_cellprofiler.sqlite, iteration 2.\n",
      "Starting examples/pycytominer_merge_nf1_sqlite.py with examples/data/all_cellprofiler.sqlite, iteration 3.\n"
     ]
    },
    {
     "name": "stderr",
     "output_type": "stream",
     "text": [
      "/home/davebunten/.cache/pypoetry/virtualenvs/cytotable-benchmarks-2FApAEcz-py3.11/lib/python3.11/site-packages/pycytominer/cyto_utils/util.py:59: UserWarning: Non-canonical compartment detected: Per_Cells, Per_Cytoplasm, Per_Nuclei\n",
      "  warnings.warn(warn_str)\n"
     ]
    },
    {
     "name": "stdout",
     "output_type": "stream",
     "text": [
      "Finished examples/pycytominer_merge_nf1_sqlite.py with examples/data/all_cellprofiler.sqlite, iteration 3.\n",
      "Starting examples/pycytominer_merge_nf1_sqlite.py with examples/data/all_cellprofiler.sqlite, iteration 4.\n"
     ]
    },
    {
     "name": "stderr",
     "output_type": "stream",
     "text": [
      "/home/davebunten/.cache/pypoetry/virtualenvs/cytotable-benchmarks-2FApAEcz-py3.11/lib/python3.11/site-packages/pycytominer/cyto_utils/util.py:59: UserWarning: Non-canonical compartment detected: Per_Cells, Per_Cytoplasm, Per_Nuclei\n",
      "  warnings.warn(warn_str)\n"
     ]
    },
    {
     "name": "stdout",
     "output_type": "stream",
     "text": [
      "Finished examples/pycytominer_merge_nf1_sqlite.py with examples/data/all_cellprofiler.sqlite, iteration 4.\n",
      "Starting examples/pycytominer_merge_nf1_sqlite.py with examples/data/all_cellprofiler.sqlite, iteration 5.\n"
     ]
    },
    {
     "name": "stderr",
     "output_type": "stream",
     "text": [
      "/home/davebunten/.cache/pypoetry/virtualenvs/cytotable-benchmarks-2FApAEcz-py3.11/lib/python3.11/site-packages/pycytominer/cyto_utils/util.py:59: UserWarning: Non-canonical compartment detected: Per_Cells, Per_Cytoplasm, Per_Nuclei\n",
      "  warnings.warn(warn_str)\n"
     ]
    },
    {
     "name": "stdout",
     "output_type": "stream",
     "text": [
      "Finished examples/pycytominer_merge_nf1_sqlite.py with examples/data/all_cellprofiler.sqlite, iteration 5.\n",
      "Starting examples/pycytominer_merge_nf1_sqlite.py with examples/data/all_cellprofiler-x2.sqlite, iteration 0.\n"
     ]
    },
    {
     "name": "stderr",
     "output_type": "stream",
     "text": [
      "/home/davebunten/.cache/pypoetry/virtualenvs/cytotable-benchmarks-2FApAEcz-py3.11/lib/python3.11/site-packages/pycytominer/cyto_utils/util.py:59: UserWarning: Non-canonical compartment detected: Per_Cells, Per_Cytoplasm, Per_Nuclei\n",
      "  warnings.warn(warn_str)\n"
     ]
    },
    {
     "name": "stdout",
     "output_type": "stream",
     "text": [
      "Finished examples/pycytominer_merge_nf1_sqlite.py with examples/data/all_cellprofiler-x2.sqlite, iteration 0.\n",
      "Starting examples/pycytominer_merge_nf1_sqlite.py with examples/data/all_cellprofiler-x2.sqlite, iteration 1.\n"
     ]
    },
    {
     "name": "stderr",
     "output_type": "stream",
     "text": [
      "/home/davebunten/.cache/pypoetry/virtualenvs/cytotable-benchmarks-2FApAEcz-py3.11/lib/python3.11/site-packages/pycytominer/cyto_utils/util.py:59: UserWarning: Non-canonical compartment detected: Per_Cells, Per_Cytoplasm, Per_Nuclei\n",
      "  warnings.warn(warn_str)\n"
     ]
    },
    {
     "name": "stdout",
     "output_type": "stream",
     "text": [
      "Finished examples/pycytominer_merge_nf1_sqlite.py with examples/data/all_cellprofiler-x2.sqlite, iteration 1.\n",
      "Starting examples/pycytominer_merge_nf1_sqlite.py with examples/data/all_cellprofiler-x2.sqlite, iteration 2.\n"
     ]
    },
    {
     "name": "stderr",
     "output_type": "stream",
     "text": [
      "/home/davebunten/.cache/pypoetry/virtualenvs/cytotable-benchmarks-2FApAEcz-py3.11/lib/python3.11/site-packages/pycytominer/cyto_utils/util.py:59: UserWarning: Non-canonical compartment detected: Per_Cells, Per_Cytoplasm, Per_Nuclei\n",
      "  warnings.warn(warn_str)\n"
     ]
    },
    {
     "name": "stdout",
     "output_type": "stream",
     "text": [
      "Finished examples/pycytominer_merge_nf1_sqlite.py with examples/data/all_cellprofiler-x2.sqlite, iteration 2.\n",
      "Starting examples/pycytominer_merge_nf1_sqlite.py with examples/data/all_cellprofiler-x2.sqlite, iteration 3.\n"
     ]
    },
    {
     "name": "stderr",
     "output_type": "stream",
     "text": [
      "/home/davebunten/.cache/pypoetry/virtualenvs/cytotable-benchmarks-2FApAEcz-py3.11/lib/python3.11/site-packages/pycytominer/cyto_utils/util.py:59: UserWarning: Non-canonical compartment detected: Per_Cells, Per_Cytoplasm, Per_Nuclei\n",
      "  warnings.warn(warn_str)\n"
     ]
    },
    {
     "name": "stdout",
     "output_type": "stream",
     "text": [
      "Finished examples/pycytominer_merge_nf1_sqlite.py with examples/data/all_cellprofiler-x2.sqlite, iteration 3.\n",
      "Starting examples/pycytominer_merge_nf1_sqlite.py with examples/data/all_cellprofiler-x2.sqlite, iteration 4.\n"
     ]
    },
    {
     "name": "stderr",
     "output_type": "stream",
     "text": [
      "/home/davebunten/.cache/pypoetry/virtualenvs/cytotable-benchmarks-2FApAEcz-py3.11/lib/python3.11/site-packages/pycytominer/cyto_utils/util.py:59: UserWarning: Non-canonical compartment detected: Per_Cells, Per_Cytoplasm, Per_Nuclei\n",
      "  warnings.warn(warn_str)\n"
     ]
    },
    {
     "name": "stdout",
     "output_type": "stream",
     "text": [
      "Finished examples/pycytominer_merge_nf1_sqlite.py with examples/data/all_cellprofiler-x2.sqlite, iteration 4.\n",
      "Starting examples/pycytominer_merge_nf1_sqlite.py with examples/data/all_cellprofiler-x2.sqlite, iteration 5.\n"
     ]
    },
    {
     "name": "stderr",
     "output_type": "stream",
     "text": [
      "/home/davebunten/.cache/pypoetry/virtualenvs/cytotable-benchmarks-2FApAEcz-py3.11/lib/python3.11/site-packages/pycytominer/cyto_utils/util.py:59: UserWarning: Non-canonical compartment detected: Per_Cells, Per_Cytoplasm, Per_Nuclei\n",
      "  warnings.warn(warn_str)\n"
     ]
    },
    {
     "name": "stdout",
     "output_type": "stream",
     "text": [
      "Finished examples/pycytominer_merge_nf1_sqlite.py with examples/data/all_cellprofiler-x2.sqlite, iteration 5.\n",
      "Starting examples/pycytominer_merge_nf1_sqlite.py with examples/data/all_cellprofiler-x4.sqlite, iteration 0.\n"
     ]
    },
    {
     "name": "stderr",
     "output_type": "stream",
     "text": [
      "/home/davebunten/.cache/pypoetry/virtualenvs/cytotable-benchmarks-2FApAEcz-py3.11/lib/python3.11/site-packages/pycytominer/cyto_utils/util.py:59: UserWarning: Non-canonical compartment detected: Per_Cells, Per_Cytoplasm, Per_Nuclei\n",
      "  warnings.warn(warn_str)\n"
     ]
    },
    {
     "name": "stdout",
     "output_type": "stream",
     "text": [
      "Finished examples/pycytominer_merge_nf1_sqlite.py with examples/data/all_cellprofiler-x4.sqlite, iteration 0.\n",
      "Starting examples/pycytominer_merge_nf1_sqlite.py with examples/data/all_cellprofiler-x4.sqlite, iteration 1.\n"
     ]
    },
    {
     "name": "stderr",
     "output_type": "stream",
     "text": [
      "/home/davebunten/.cache/pypoetry/virtualenvs/cytotable-benchmarks-2FApAEcz-py3.11/lib/python3.11/site-packages/pycytominer/cyto_utils/util.py:59: UserWarning: Non-canonical compartment detected: Per_Cells, Per_Cytoplasm, Per_Nuclei\n",
      "  warnings.warn(warn_str)\n"
     ]
    },
    {
     "name": "stdout",
     "output_type": "stream",
     "text": [
      "Finished examples/pycytominer_merge_nf1_sqlite.py with examples/data/all_cellprofiler-x4.sqlite, iteration 1.\n",
      "Starting examples/pycytominer_merge_nf1_sqlite.py with examples/data/all_cellprofiler-x4.sqlite, iteration 2.\n"
     ]
    },
    {
     "name": "stderr",
     "output_type": "stream",
     "text": [
      "/home/davebunten/.cache/pypoetry/virtualenvs/cytotable-benchmarks-2FApAEcz-py3.11/lib/python3.11/site-packages/pycytominer/cyto_utils/util.py:59: UserWarning: Non-canonical compartment detected: Per_Cells, Per_Cytoplasm, Per_Nuclei\n",
      "  warnings.warn(warn_str)\n"
     ]
    },
    {
     "name": "stdout",
     "output_type": "stream",
     "text": [
      "Finished examples/pycytominer_merge_nf1_sqlite.py with examples/data/all_cellprofiler-x4.sqlite, iteration 2.\n",
      "Starting examples/pycytominer_merge_nf1_sqlite.py with examples/data/all_cellprofiler-x4.sqlite, iteration 3.\n"
     ]
    },
    {
     "name": "stderr",
     "output_type": "stream",
     "text": [
      "/home/davebunten/.cache/pypoetry/virtualenvs/cytotable-benchmarks-2FApAEcz-py3.11/lib/python3.11/site-packages/pycytominer/cyto_utils/util.py:59: UserWarning: Non-canonical compartment detected: Per_Cells, Per_Cytoplasm, Per_Nuclei\n",
      "  warnings.warn(warn_str)\n"
     ]
    },
    {
     "name": "stdout",
     "output_type": "stream",
     "text": [
      "Finished examples/pycytominer_merge_nf1_sqlite.py with examples/data/all_cellprofiler-x4.sqlite, iteration 3.\n",
      "Starting examples/pycytominer_merge_nf1_sqlite.py with examples/data/all_cellprofiler-x4.sqlite, iteration 4.\n"
     ]
    },
    {
     "name": "stderr",
     "output_type": "stream",
     "text": [
      "/home/davebunten/.cache/pypoetry/virtualenvs/cytotable-benchmarks-2FApAEcz-py3.11/lib/python3.11/site-packages/pycytominer/cyto_utils/util.py:59: UserWarning: Non-canonical compartment detected: Per_Cells, Per_Cytoplasm, Per_Nuclei\n",
      "  warnings.warn(warn_str)\n"
     ]
    },
    {
     "name": "stdout",
     "output_type": "stream",
     "text": [
      "Finished examples/pycytominer_merge_nf1_sqlite.py with examples/data/all_cellprofiler-x4.sqlite, iteration 4.\n",
      "Starting examples/pycytominer_merge_nf1_sqlite.py with examples/data/all_cellprofiler-x4.sqlite, iteration 5.\n"
     ]
    },
    {
     "name": "stderr",
     "output_type": "stream",
     "text": [
      "/home/davebunten/.cache/pypoetry/virtualenvs/cytotable-benchmarks-2FApAEcz-py3.11/lib/python3.11/site-packages/pycytominer/cyto_utils/util.py:59: UserWarning: Non-canonical compartment detected: Per_Cells, Per_Cytoplasm, Per_Nuclei\n",
      "  warnings.warn(warn_str)\n"
     ]
    },
    {
     "name": "stdout",
     "output_type": "stream",
     "text": [
      "Finished examples/pycytominer_merge_nf1_sqlite.py with examples/data/all_cellprofiler-x4.sqlite, iteration 5.\n",
      "Starting examples/pycytominer_merge_nf1_sqlite.py with examples/data/all_cellprofiler-x8.sqlite, iteration 0.\n"
     ]
    },
    {
     "name": "stderr",
     "output_type": "stream",
     "text": [
      "/home/davebunten/.cache/pypoetry/virtualenvs/cytotable-benchmarks-2FApAEcz-py3.11/lib/python3.11/site-packages/pycytominer/cyto_utils/util.py:59: UserWarning: Non-canonical compartment detected: Per_Cells, Per_Cytoplasm, Per_Nuclei\n",
      "  warnings.warn(warn_str)\n"
     ]
    },
    {
     "name": "stdout",
     "output_type": "stream",
     "text": [
      "Finished examples/pycytominer_merge_nf1_sqlite.py with examples/data/all_cellprofiler-x8.sqlite, iteration 0.\n",
      "Starting examples/pycytominer_merge_nf1_sqlite.py with examples/data/all_cellprofiler-x8.sqlite, iteration 1.\n"
     ]
    },
    {
     "name": "stderr",
     "output_type": "stream",
     "text": [
      "/home/davebunten/.cache/pypoetry/virtualenvs/cytotable-benchmarks-2FApAEcz-py3.11/lib/python3.11/site-packages/pycytominer/cyto_utils/util.py:59: UserWarning: Non-canonical compartment detected: Per_Cells, Per_Cytoplasm, Per_Nuclei\n",
      "  warnings.warn(warn_str)\n"
     ]
    },
    {
     "name": "stdout",
     "output_type": "stream",
     "text": [
      "Finished examples/pycytominer_merge_nf1_sqlite.py with examples/data/all_cellprofiler-x8.sqlite, iteration 1.\n",
      "Starting examples/pycytominer_merge_nf1_sqlite.py with examples/data/all_cellprofiler-x8.sqlite, iteration 2.\n"
     ]
    },
    {
     "name": "stderr",
     "output_type": "stream",
     "text": [
      "/home/davebunten/.cache/pypoetry/virtualenvs/cytotable-benchmarks-2FApAEcz-py3.11/lib/python3.11/site-packages/pycytominer/cyto_utils/util.py:59: UserWarning: Non-canonical compartment detected: Per_Cells, Per_Cytoplasm, Per_Nuclei\n",
      "  warnings.warn(warn_str)\n"
     ]
    },
    {
     "name": "stdout",
     "output_type": "stream",
     "text": [
      "Finished examples/pycytominer_merge_nf1_sqlite.py with examples/data/all_cellprofiler-x8.sqlite, iteration 2.\n",
      "Starting examples/pycytominer_merge_nf1_sqlite.py with examples/data/all_cellprofiler-x8.sqlite, iteration 3.\n"
     ]
    },
    {
     "name": "stderr",
     "output_type": "stream",
     "text": [
      "/home/davebunten/.cache/pypoetry/virtualenvs/cytotable-benchmarks-2FApAEcz-py3.11/lib/python3.11/site-packages/pycytominer/cyto_utils/util.py:59: UserWarning: Non-canonical compartment detected: Per_Cells, Per_Cytoplasm, Per_Nuclei\n",
      "  warnings.warn(warn_str)\n"
     ]
    },
    {
     "name": "stdout",
     "output_type": "stream",
     "text": [
      "Finished examples/pycytominer_merge_nf1_sqlite.py with examples/data/all_cellprofiler-x8.sqlite, iteration 3.\n",
      "Starting examples/pycytominer_merge_nf1_sqlite.py with examples/data/all_cellprofiler-x8.sqlite, iteration 4.\n"
     ]
    },
    {
     "name": "stderr",
     "output_type": "stream",
     "text": [
      "/home/davebunten/.cache/pypoetry/virtualenvs/cytotable-benchmarks-2FApAEcz-py3.11/lib/python3.11/site-packages/pycytominer/cyto_utils/util.py:59: UserWarning: Non-canonical compartment detected: Per_Cells, Per_Cytoplasm, Per_Nuclei\n",
      "  warnings.warn(warn_str)\n"
     ]
    },
    {
     "name": "stdout",
     "output_type": "stream",
     "text": [
      "Finished examples/pycytominer_merge_nf1_sqlite.py with examples/data/all_cellprofiler-x8.sqlite, iteration 4.\n",
      "Starting examples/pycytominer_merge_nf1_sqlite.py with examples/data/all_cellprofiler-x8.sqlite, iteration 5.\n"
     ]
    },
    {
     "name": "stderr",
     "output_type": "stream",
     "text": [
      "/home/davebunten/.cache/pypoetry/virtualenvs/cytotable-benchmarks-2FApAEcz-py3.11/lib/python3.11/site-packages/pycytominer/cyto_utils/util.py:59: UserWarning: Non-canonical compartment detected: Per_Cells, Per_Cytoplasm, Per_Nuclei\n",
      "  warnings.warn(warn_str)\n"
     ]
    },
    {
     "name": "stdout",
     "output_type": "stream",
     "text": [
      "Finished examples/pycytominer_merge_nf1_sqlite.py with examples/data/all_cellprofiler-x8.sqlite, iteration 5.\n",
      "Starting examples/pycytominer_merge_nf1_sqlite.py with examples/data/all_cellprofiler-x16.sqlite, iteration 0.\n"
     ]
    },
    {
     "name": "stderr",
     "output_type": "stream",
     "text": [
      "/home/davebunten/.cache/pypoetry/virtualenvs/cytotable-benchmarks-2FApAEcz-py3.11/lib/python3.11/site-packages/pycytominer/cyto_utils/util.py:59: UserWarning: Non-canonical compartment detected: Per_Cells, Per_Cytoplasm, Per_Nuclei\n",
      "  warnings.warn(warn_str)\n"
     ]
    },
    {
     "name": "stdout",
     "output_type": "stream",
     "text": [
      "Finished examples/pycytominer_merge_nf1_sqlite.py with examples/data/all_cellprofiler-x16.sqlite, iteration 0.\n",
      "Starting examples/pycytominer_merge_nf1_sqlite.py with examples/data/all_cellprofiler-x16.sqlite, iteration 1.\n"
     ]
    },
    {
     "name": "stderr",
     "output_type": "stream",
     "text": [
      "/home/davebunten/.cache/pypoetry/virtualenvs/cytotable-benchmarks-2FApAEcz-py3.11/lib/python3.11/site-packages/pycytominer/cyto_utils/util.py:59: UserWarning: Non-canonical compartment detected: Per_Cells, Per_Cytoplasm, Per_Nuclei\n",
      "  warnings.warn(warn_str)\n"
     ]
    },
    {
     "name": "stdout",
     "output_type": "stream",
     "text": [
      "Finished examples/pycytominer_merge_nf1_sqlite.py with examples/data/all_cellprofiler-x16.sqlite, iteration 1.\n",
      "Starting examples/pycytominer_merge_nf1_sqlite.py with examples/data/all_cellprofiler-x16.sqlite, iteration 2.\n"
     ]
    },
    {
     "name": "stderr",
     "output_type": "stream",
     "text": [
      "/home/davebunten/.cache/pypoetry/virtualenvs/cytotable-benchmarks-2FApAEcz-py3.11/lib/python3.11/site-packages/pycytominer/cyto_utils/util.py:59: UserWarning: Non-canonical compartment detected: Per_Cells, Per_Cytoplasm, Per_Nuclei\n",
      "  warnings.warn(warn_str)\n"
     ]
    },
    {
     "name": "stdout",
     "output_type": "stream",
     "text": [
      "Finished examples/pycytominer_merge_nf1_sqlite.py with examples/data/all_cellprofiler-x16.sqlite, iteration 2.\n",
      "Starting examples/pycytominer_merge_nf1_sqlite.py with examples/data/all_cellprofiler-x16.sqlite, iteration 3.\n"
     ]
    },
    {
     "name": "stderr",
     "output_type": "stream",
     "text": [
      "/home/davebunten/.cache/pypoetry/virtualenvs/cytotable-benchmarks-2FApAEcz-py3.11/lib/python3.11/site-packages/pycytominer/cyto_utils/util.py:59: UserWarning: Non-canonical compartment detected: Per_Cells, Per_Cytoplasm, Per_Nuclei\n",
      "  warnings.warn(warn_str)\n"
     ]
    },
    {
     "name": "stdout",
     "output_type": "stream",
     "text": [
      "Finished examples/pycytominer_merge_nf1_sqlite.py with examples/data/all_cellprofiler-x16.sqlite, iteration 3.\n",
      "Starting examples/pycytominer_merge_nf1_sqlite.py with examples/data/all_cellprofiler-x16.sqlite, iteration 4.\n"
     ]
    },
    {
     "name": "stderr",
     "output_type": "stream",
     "text": [
      "/home/davebunten/.cache/pypoetry/virtualenvs/cytotable-benchmarks-2FApAEcz-py3.11/lib/python3.11/site-packages/pycytominer/cyto_utils/util.py:59: UserWarning: Non-canonical compartment detected: Per_Cells, Per_Cytoplasm, Per_Nuclei\n",
      "  warnings.warn(warn_str)\n"
     ]
    },
    {
     "name": "stdout",
     "output_type": "stream",
     "text": [
      "Finished examples/pycytominer_merge_nf1_sqlite.py with examples/data/all_cellprofiler-x16.sqlite, iteration 4.\n",
      "Starting examples/pycytominer_merge_nf1_sqlite.py with examples/data/all_cellprofiler-x16.sqlite, iteration 5.\n"
     ]
    },
    {
     "name": "stderr",
     "output_type": "stream",
     "text": [
      "/home/davebunten/.cache/pypoetry/virtualenvs/cytotable-benchmarks-2FApAEcz-py3.11/lib/python3.11/site-packages/pycytominer/cyto_utils/util.py:59: UserWarning: Non-canonical compartment detected: Per_Cells, Per_Cytoplasm, Per_Nuclei\n",
      "  warnings.warn(warn_str)\n"
     ]
    },
    {
     "name": "stdout",
     "output_type": "stream",
     "text": [
      "Finished examples/pycytominer_merge_nf1_sqlite.py with examples/data/all_cellprofiler-x16.sqlite, iteration 5.\n",
      "Starting examples/pycytominer_merge_nf1_sqlite.py with examples/data/all_cellprofiler-x32.sqlite, iteration 0.\n"
     ]
    },
    {
     "name": "stderr",
     "output_type": "stream",
     "text": [
      "/home/davebunten/.cache/pypoetry/virtualenvs/cytotable-benchmarks-2FApAEcz-py3.11/lib/python3.11/site-packages/pycytominer/cyto_utils/util.py:59: UserWarning: Non-canonical compartment detected: Per_Cells, Per_Cytoplasm, Per_Nuclei\n",
      "  warnings.warn(warn_str)\n"
     ]
    },
    {
     "name": "stdout",
     "output_type": "stream",
     "text": [
      "Finished examples/pycytominer_merge_nf1_sqlite.py with examples/data/all_cellprofiler-x32.sqlite, iteration 0.\n",
      "Starting examples/pycytominer_merge_nf1_sqlite.py with examples/data/all_cellprofiler-x32.sqlite, iteration 1.\n"
     ]
    },
    {
     "name": "stderr",
     "output_type": "stream",
     "text": [
      "/home/davebunten/.cache/pypoetry/virtualenvs/cytotable-benchmarks-2FApAEcz-py3.11/lib/python3.11/site-packages/pycytominer/cyto_utils/util.py:59: UserWarning: Non-canonical compartment detected: Per_Cells, Per_Cytoplasm, Per_Nuclei\n",
      "  warnings.warn(warn_str)\n"
     ]
    },
    {
     "name": "stdout",
     "output_type": "stream",
     "text": [
      "Finished examples/pycytominer_merge_nf1_sqlite.py with examples/data/all_cellprofiler-x32.sqlite, iteration 1.\n",
      "Starting examples/pycytominer_merge_nf1_sqlite.py with examples/data/all_cellprofiler-x32.sqlite, iteration 2.\n"
     ]
    },
    {
     "name": "stderr",
     "output_type": "stream",
     "text": [
      "/home/davebunten/.cache/pypoetry/virtualenvs/cytotable-benchmarks-2FApAEcz-py3.11/lib/python3.11/site-packages/pycytominer/cyto_utils/util.py:59: UserWarning: Non-canonical compartment detected: Per_Cells, Per_Cytoplasm, Per_Nuclei\n",
      "  warnings.warn(warn_str)\n"
     ]
    },
    {
     "name": "stdout",
     "output_type": "stream",
     "text": [
      "Finished examples/pycytominer_merge_nf1_sqlite.py with examples/data/all_cellprofiler-x32.sqlite, iteration 2.\n",
      "Starting examples/pycytominer_merge_nf1_sqlite.py with examples/data/all_cellprofiler-x32.sqlite, iteration 3.\n"
     ]
    },
    {
     "name": "stderr",
     "output_type": "stream",
     "text": [
      "/home/davebunten/.cache/pypoetry/virtualenvs/cytotable-benchmarks-2FApAEcz-py3.11/lib/python3.11/site-packages/pycytominer/cyto_utils/util.py:59: UserWarning: Non-canonical compartment detected: Per_Cells, Per_Cytoplasm, Per_Nuclei\n",
      "  warnings.warn(warn_str)\n"
     ]
    },
    {
     "name": "stdout",
     "output_type": "stream",
     "text": [
      "Finished examples/pycytominer_merge_nf1_sqlite.py with examples/data/all_cellprofiler-x32.sqlite, iteration 3.\n",
      "Starting examples/pycytominer_merge_nf1_sqlite.py with examples/data/all_cellprofiler-x32.sqlite, iteration 4.\n"
     ]
    },
    {
     "name": "stderr",
     "output_type": "stream",
     "text": [
      "/home/davebunten/.cache/pypoetry/virtualenvs/cytotable-benchmarks-2FApAEcz-py3.11/lib/python3.11/site-packages/pycytominer/cyto_utils/util.py:59: UserWarning: Non-canonical compartment detected: Per_Cells, Per_Cytoplasm, Per_Nuclei\n",
      "  warnings.warn(warn_str)\n"
     ]
    },
    {
     "name": "stdout",
     "output_type": "stream",
     "text": [
      "Finished examples/pycytominer_merge_nf1_sqlite.py with examples/data/all_cellprofiler-x32.sqlite, iteration 4.\n",
      "Starting examples/pycytominer_merge_nf1_sqlite.py with examples/data/all_cellprofiler-x32.sqlite, iteration 5.\n"
     ]
    },
    {
     "name": "stderr",
     "output_type": "stream",
     "text": [
      "/home/davebunten/.cache/pypoetry/virtualenvs/cytotable-benchmarks-2FApAEcz-py3.11/lib/python3.11/site-packages/pycytominer/cyto_utils/util.py:59: UserWarning: Non-canonical compartment detected: Per_Cells, Per_Cytoplasm, Per_Nuclei\n",
      "  warnings.warn(warn_str)\n"
     ]
    },
    {
     "name": "stdout",
     "output_type": "stream",
     "text": [
      "Finished examples/pycytominer_merge_nf1_sqlite.py with examples/data/all_cellprofiler-x32.sqlite, iteration 5.\n",
      "Starting examples/pycytominer_merge_nf1_sqlite.py with examples/data/all_cellprofiler-x64.sqlite, iteration 0.\n"
     ]
    },
    {
     "name": "stderr",
     "output_type": "stream",
     "text": [
      "/home/davebunten/.cache/pypoetry/virtualenvs/cytotable-benchmarks-2FApAEcz-py3.11/lib/python3.11/site-packages/pycytominer/cyto_utils/util.py:59: UserWarning: Non-canonical compartment detected: Per_Cells, Per_Cytoplasm, Per_Nuclei\n",
      "  warnings.warn(warn_str)\n"
     ]
    },
    {
     "name": "stdout",
     "output_type": "stream",
     "text": [
      "Finished examples/pycytominer_merge_nf1_sqlite.py with examples/data/all_cellprofiler-x64.sqlite, iteration 0.\n",
      "Starting examples/pycytominer_merge_nf1_sqlite.py with examples/data/all_cellprofiler-x64.sqlite, iteration 1.\n"
     ]
    },
    {
     "name": "stderr",
     "output_type": "stream",
     "text": [
      "/home/davebunten/.cache/pypoetry/virtualenvs/cytotable-benchmarks-2FApAEcz-py3.11/lib/python3.11/site-packages/pycytominer/cyto_utils/util.py:59: UserWarning: Non-canonical compartment detected: Per_Cells, Per_Cytoplasm, Per_Nuclei\n",
      "  warnings.warn(warn_str)\n"
     ]
    },
    {
     "name": "stdout",
     "output_type": "stream",
     "text": [
      "Finished examples/pycytominer_merge_nf1_sqlite.py with examples/data/all_cellprofiler-x64.sqlite, iteration 1.\n",
      "Starting examples/pycytominer_merge_nf1_sqlite.py with examples/data/all_cellprofiler-x64.sqlite, iteration 2.\n"
     ]
    },
    {
     "name": "stderr",
     "output_type": "stream",
     "text": [
      "/home/davebunten/.cache/pypoetry/virtualenvs/cytotable-benchmarks-2FApAEcz-py3.11/lib/python3.11/site-packages/pycytominer/cyto_utils/util.py:59: UserWarning: Non-canonical compartment detected: Per_Cells, Per_Cytoplasm, Per_Nuclei\n",
      "  warnings.warn(warn_str)\n"
     ]
    },
    {
     "name": "stdout",
     "output_type": "stream",
     "text": [
      "Finished examples/pycytominer_merge_nf1_sqlite.py with examples/data/all_cellprofiler-x64.sqlite, iteration 2.\n",
      "Starting examples/pycytominer_merge_nf1_sqlite.py with examples/data/all_cellprofiler-x64.sqlite, iteration 3.\n"
     ]
    },
    {
     "name": "stderr",
     "output_type": "stream",
     "text": [
      "/home/davebunten/.cache/pypoetry/virtualenvs/cytotable-benchmarks-2FApAEcz-py3.11/lib/python3.11/site-packages/pycytominer/cyto_utils/util.py:59: UserWarning: Non-canonical compartment detected: Per_Cells, Per_Cytoplasm, Per_Nuclei\n",
      "  warnings.warn(warn_str)\n"
     ]
    },
    {
     "name": "stdout",
     "output_type": "stream",
     "text": [
      "Finished examples/pycytominer_merge_nf1_sqlite.py with examples/data/all_cellprofiler-x64.sqlite, iteration 3.\n",
      "Starting examples/pycytominer_merge_nf1_sqlite.py with examples/data/all_cellprofiler-x64.sqlite, iteration 4.\n"
     ]
    },
    {
     "name": "stderr",
     "output_type": "stream",
     "text": [
      "/home/davebunten/.cache/pypoetry/virtualenvs/cytotable-benchmarks-2FApAEcz-py3.11/lib/python3.11/site-packages/pycytominer/cyto_utils/util.py:59: UserWarning: Non-canonical compartment detected: Per_Cells, Per_Cytoplasm, Per_Nuclei\n",
      "  warnings.warn(warn_str)\n"
     ]
    },
    {
     "name": "stdout",
     "output_type": "stream",
     "text": [
      "Finished examples/pycytominer_merge_nf1_sqlite.py with examples/data/all_cellprofiler-x64.sqlite, iteration 4.\n",
      "Starting examples/pycytominer_merge_nf1_sqlite.py with examples/data/all_cellprofiler-x64.sqlite, iteration 5.\n"
     ]
    },
    {
     "name": "stderr",
     "output_type": "stream",
     "text": [
      "/home/davebunten/.cache/pypoetry/virtualenvs/cytotable-benchmarks-2FApAEcz-py3.11/lib/python3.11/site-packages/pycytominer/cyto_utils/util.py:59: UserWarning: Non-canonical compartment detected: Per_Cells, Per_Cytoplasm, Per_Nuclei\n",
      "  warnings.warn(warn_str)\n"
     ]
    },
    {
     "name": "stdout",
     "output_type": "stream",
     "text": [
      "Finished examples/pycytominer_merge_nf1_sqlite.py with examples/data/all_cellprofiler-x64.sqlite, iteration 5.\n",
      "Starting examples/pycytominer_merge_nf1_sqlite.py with examples/data/all_cellprofiler-x128.sqlite, iteration 0.\n"
     ]
    },
    {
     "name": "stderr",
     "output_type": "stream",
     "text": [
      "/home/davebunten/.cache/pypoetry/virtualenvs/cytotable-benchmarks-2FApAEcz-py3.11/lib/python3.11/site-packages/pycytominer/cyto_utils/util.py:59: UserWarning: Non-canonical compartment detected: Per_Cells, Per_Cytoplasm, Per_Nuclei\n",
      "  warnings.warn(warn_str)\n"
     ]
    },
    {
     "name": "stdout",
     "output_type": "stream",
     "text": [
      "Finished examples/pycytominer_merge_nf1_sqlite.py with examples/data/all_cellprofiler-x128.sqlite, iteration 0.\n",
      "Starting examples/pycytominer_merge_nf1_sqlite.py with examples/data/all_cellprofiler-x128.sqlite, iteration 1.\n"
     ]
    },
    {
     "name": "stderr",
     "output_type": "stream",
     "text": [
      "/home/davebunten/.cache/pypoetry/virtualenvs/cytotable-benchmarks-2FApAEcz-py3.11/lib/python3.11/site-packages/pycytominer/cyto_utils/util.py:59: UserWarning: Non-canonical compartment detected: Per_Cells, Per_Cytoplasm, Per_Nuclei\n",
      "  warnings.warn(warn_str)\n"
     ]
    },
    {
     "name": "stdout",
     "output_type": "stream",
     "text": [
      "Finished examples/pycytominer_merge_nf1_sqlite.py with examples/data/all_cellprofiler-x128.sqlite, iteration 1.\n",
      "Starting examples/pycytominer_merge_nf1_sqlite.py with examples/data/all_cellprofiler-x128.sqlite, iteration 2.\n"
     ]
    },
    {
     "name": "stderr",
     "output_type": "stream",
     "text": [
      "/home/davebunten/.cache/pypoetry/virtualenvs/cytotable-benchmarks-2FApAEcz-py3.11/lib/python3.11/site-packages/pycytominer/cyto_utils/util.py:59: UserWarning: Non-canonical compartment detected: Per_Cells, Per_Cytoplasm, Per_Nuclei\n",
      "  warnings.warn(warn_str)\n"
     ]
    },
    {
     "name": "stdout",
     "output_type": "stream",
     "text": [
      "Finished examples/pycytominer_merge_nf1_sqlite.py with examples/data/all_cellprofiler-x128.sqlite, iteration 2.\n",
      "Starting examples/pycytominer_merge_nf1_sqlite.py with examples/data/all_cellprofiler-x128.sqlite, iteration 3.\n"
     ]
    },
    {
     "name": "stderr",
     "output_type": "stream",
     "text": [
      "/home/davebunten/.cache/pypoetry/virtualenvs/cytotable-benchmarks-2FApAEcz-py3.11/lib/python3.11/site-packages/pycytominer/cyto_utils/util.py:59: UserWarning: Non-canonical compartment detected: Per_Cells, Per_Cytoplasm, Per_Nuclei\n",
      "  warnings.warn(warn_str)\n"
     ]
    },
    {
     "name": "stdout",
     "output_type": "stream",
     "text": [
      "Finished examples/pycytominer_merge_nf1_sqlite.py with examples/data/all_cellprofiler-x128.sqlite, iteration 3.\n",
      "Starting examples/pycytominer_merge_nf1_sqlite.py with examples/data/all_cellprofiler-x128.sqlite, iteration 4.\n"
     ]
    },
    {
     "name": "stderr",
     "output_type": "stream",
     "text": [
      "/home/davebunten/.cache/pypoetry/virtualenvs/cytotable-benchmarks-2FApAEcz-py3.11/lib/python3.11/site-packages/pycytominer/cyto_utils/util.py:59: UserWarning: Non-canonical compartment detected: Per_Cells, Per_Cytoplasm, Per_Nuclei\n",
      "  warnings.warn(warn_str)\n"
     ]
    },
    {
     "name": "stdout",
     "output_type": "stream",
     "text": [
      "Finished examples/pycytominer_merge_nf1_sqlite.py with examples/data/all_cellprofiler-x128.sqlite, iteration 4.\n",
      "Starting examples/pycytominer_merge_nf1_sqlite.py with examples/data/all_cellprofiler-x128.sqlite, iteration 5.\n"
     ]
    },
    {
     "name": "stderr",
     "output_type": "stream",
     "text": [
      "/home/davebunten/.cache/pypoetry/virtualenvs/cytotable-benchmarks-2FApAEcz-py3.11/lib/python3.11/site-packages/pycytominer/cyto_utils/util.py:59: UserWarning: Non-canonical compartment detected: Per_Cells, Per_Cytoplasm, Per_Nuclei\n",
      "  warnings.warn(warn_str)\n"
     ]
    },
    {
     "name": "stdout",
     "output_type": "stream",
     "text": [
      "Finished examples/pycytominer_merge_nf1_sqlite.py with examples/data/all_cellprofiler-x128.sqlite, iteration 5.\n",
      "Starting examples/pycytominer_merge_nf1_sqlite.py with examples/data/all_cellprofiler-x256.sqlite, iteration 0.\n"
     ]
    },
    {
     "name": "stderr",
     "output_type": "stream",
     "text": [
      "/home/davebunten/.cache/pypoetry/virtualenvs/cytotable-benchmarks-2FApAEcz-py3.11/lib/python3.11/site-packages/pycytominer/cyto_utils/util.py:59: UserWarning: Non-canonical compartment detected: Per_Cells, Per_Cytoplasm, Per_Nuclei\n",
      "  warnings.warn(warn_str)\n"
     ]
    },
    {
     "name": "stdout",
     "output_type": "stream",
     "text": [
      "Finished examples/pycytominer_merge_nf1_sqlite.py with examples/data/all_cellprofiler-x256.sqlite, iteration 0.\n",
      "Starting examples/pycytominer_merge_nf1_sqlite.py with examples/data/all_cellprofiler-x256.sqlite, iteration 1.\n"
     ]
    },
    {
     "name": "stderr",
     "output_type": "stream",
     "text": [
      "/home/davebunten/.cache/pypoetry/virtualenvs/cytotable-benchmarks-2FApAEcz-py3.11/lib/python3.11/site-packages/pycytominer/cyto_utils/util.py:59: UserWarning: Non-canonical compartment detected: Per_Cells, Per_Cytoplasm, Per_Nuclei\n",
      "  warnings.warn(warn_str)\n"
     ]
    },
    {
     "name": "stdout",
     "output_type": "stream",
     "text": [
      "Finished examples/pycytominer_merge_nf1_sqlite.py with examples/data/all_cellprofiler-x256.sqlite, iteration 1.\n",
      "Starting examples/pycytominer_merge_nf1_sqlite.py with examples/data/all_cellprofiler-x256.sqlite, iteration 2.\n"
     ]
    },
    {
     "name": "stderr",
     "output_type": "stream",
     "text": [
      "/home/davebunten/.cache/pypoetry/virtualenvs/cytotable-benchmarks-2FApAEcz-py3.11/lib/python3.11/site-packages/pycytominer/cyto_utils/util.py:59: UserWarning: Non-canonical compartment detected: Per_Cells, Per_Cytoplasm, Per_Nuclei\n",
      "  warnings.warn(warn_str)\n"
     ]
    },
    {
     "name": "stdout",
     "output_type": "stream",
     "text": [
      "Finished examples/pycytominer_merge_nf1_sqlite.py with examples/data/all_cellprofiler-x256.sqlite, iteration 2.\n",
      "Starting examples/pycytominer_merge_nf1_sqlite.py with examples/data/all_cellprofiler-x256.sqlite, iteration 3.\n"
     ]
    },
    {
     "name": "stderr",
     "output_type": "stream",
     "text": [
      "/home/davebunten/.cache/pypoetry/virtualenvs/cytotable-benchmarks-2FApAEcz-py3.11/lib/python3.11/site-packages/pycytominer/cyto_utils/util.py:59: UserWarning: Non-canonical compartment detected: Per_Cells, Per_Cytoplasm, Per_Nuclei\n",
      "  warnings.warn(warn_str)\n"
     ]
    },
    {
     "name": "stdout",
     "output_type": "stream",
     "text": [
      "Finished examples/pycytominer_merge_nf1_sqlite.py with examples/data/all_cellprofiler-x256.sqlite, iteration 3.\n",
      "Starting examples/pycytominer_merge_nf1_sqlite.py with examples/data/all_cellprofiler-x256.sqlite, iteration 4.\n"
     ]
    },
    {
     "name": "stderr",
     "output_type": "stream",
     "text": [
      "/home/davebunten/.cache/pypoetry/virtualenvs/cytotable-benchmarks-2FApAEcz-py3.11/lib/python3.11/site-packages/pycytominer/cyto_utils/util.py:59: UserWarning: Non-canonical compartment detected: Per_Cells, Per_Cytoplasm, Per_Nuclei\n",
      "  warnings.warn(warn_str)\n"
     ]
    },
    {
     "name": "stdout",
     "output_type": "stream",
     "text": [
      "Finished examples/pycytominer_merge_nf1_sqlite.py with examples/data/all_cellprofiler-x256.sqlite, iteration 4.\n",
      "Starting examples/pycytominer_merge_nf1_sqlite.py with examples/data/all_cellprofiler-x256.sqlite, iteration 5.\n"
     ]
    },
    {
     "name": "stderr",
     "output_type": "stream",
     "text": [
      "/home/davebunten/.cache/pypoetry/virtualenvs/cytotable-benchmarks-2FApAEcz-py3.11/lib/python3.11/site-packages/pycytominer/cyto_utils/util.py:59: UserWarning: Non-canonical compartment detected: Per_Cells, Per_Cytoplasm, Per_Nuclei\n",
      "  warnings.warn(warn_str)\n"
     ]
    },
    {
     "name": "stdout",
     "output_type": "stream",
     "text": [
      "Finished examples/pycytominer_merge_nf1_sqlite.py with examples/data/all_cellprofiler-x256.sqlite, iteration 5.\n",
      "Starting examples/pycytominer_merge_nf1_sqlite.py with examples/data/all_cellprofiler-x512.sqlite, iteration 0.\n"
     ]
    },
    {
     "name": "stderr",
     "output_type": "stream",
     "text": [
      "/home/davebunten/.cache/pypoetry/virtualenvs/cytotable-benchmarks-2FApAEcz-py3.11/lib/python3.11/site-packages/pycytominer/cyto_utils/util.py:59: UserWarning: Non-canonical compartment detected: Per_Cells, Per_Cytoplasm, Per_Nuclei\n",
      "  warnings.warn(warn_str)\n"
     ]
    },
    {
     "name": "stdout",
     "output_type": "stream",
     "text": [
      "Finished examples/pycytominer_merge_nf1_sqlite.py with examples/data/all_cellprofiler-x512.sqlite, iteration 0.\n",
      "Starting examples/pycytominer_merge_nf1_sqlite.py with examples/data/all_cellprofiler-x512.sqlite, iteration 1.\n"
     ]
    },
    {
     "name": "stderr",
     "output_type": "stream",
     "text": [
      "/home/davebunten/.cache/pypoetry/virtualenvs/cytotable-benchmarks-2FApAEcz-py3.11/lib/python3.11/site-packages/pycytominer/cyto_utils/util.py:59: UserWarning: Non-canonical compartment detected: Per_Cells, Per_Cytoplasm, Per_Nuclei\n",
      "  warnings.warn(warn_str)\n"
     ]
    },
    {
     "name": "stdout",
     "output_type": "stream",
     "text": [
      "Finished examples/pycytominer_merge_nf1_sqlite.py with examples/data/all_cellprofiler-x512.sqlite, iteration 1.\n",
      "Starting examples/pycytominer_merge_nf1_sqlite.py with examples/data/all_cellprofiler-x512.sqlite, iteration 2.\n"
     ]
    },
    {
     "name": "stderr",
     "output_type": "stream",
     "text": [
      "/home/davebunten/.cache/pypoetry/virtualenvs/cytotable-benchmarks-2FApAEcz-py3.11/lib/python3.11/site-packages/pycytominer/cyto_utils/util.py:59: UserWarning: Non-canonical compartment detected: Per_Cells, Per_Cytoplasm, Per_Nuclei\n",
      "  warnings.warn(warn_str)\n"
     ]
    },
    {
     "name": "stdout",
     "output_type": "stream",
     "text": [
      "Finished examples/pycytominer_merge_nf1_sqlite.py with examples/data/all_cellprofiler-x512.sqlite, iteration 2.\n",
      "Starting examples/pycytominer_merge_nf1_sqlite.py with examples/data/all_cellprofiler-x512.sqlite, iteration 3.\n"
     ]
    },
    {
     "name": "stderr",
     "output_type": "stream",
     "text": [
      "/home/davebunten/.cache/pypoetry/virtualenvs/cytotable-benchmarks-2FApAEcz-py3.11/lib/python3.11/site-packages/pycytominer/cyto_utils/util.py:59: UserWarning: Non-canonical compartment detected: Per_Cells, Per_Cytoplasm, Per_Nuclei\n",
      "  warnings.warn(warn_str)\n"
     ]
    },
    {
     "name": "stdout",
     "output_type": "stream",
     "text": [
      "Finished examples/pycytominer_merge_nf1_sqlite.py with examples/data/all_cellprofiler-x512.sqlite, iteration 3.\n",
      "Starting examples/pycytominer_merge_nf1_sqlite.py with examples/data/all_cellprofiler-x512.sqlite, iteration 4.\n"
     ]
    },
    {
     "name": "stderr",
     "output_type": "stream",
     "text": [
      "/home/davebunten/.cache/pypoetry/virtualenvs/cytotable-benchmarks-2FApAEcz-py3.11/lib/python3.11/site-packages/pycytominer/cyto_utils/util.py:59: UserWarning: Non-canonical compartment detected: Per_Cells, Per_Cytoplasm, Per_Nuclei\n",
      "  warnings.warn(warn_str)\n"
     ]
    },
    {
     "name": "stdout",
     "output_type": "stream",
     "text": [
      "Finished examples/pycytominer_merge_nf1_sqlite.py with examples/data/all_cellprofiler-x512.sqlite, iteration 4.\n",
      "Starting examples/pycytominer_merge_nf1_sqlite.py with examples/data/all_cellprofiler-x512.sqlite, iteration 5.\n"
     ]
    },
    {
     "name": "stderr",
     "output_type": "stream",
     "text": [
      "/home/davebunten/.cache/pypoetry/virtualenvs/cytotable-benchmarks-2FApAEcz-py3.11/lib/python3.11/site-packages/pycytominer/cyto_utils/util.py:59: UserWarning: Non-canonical compartment detected: Per_Cells, Per_Cytoplasm, Per_Nuclei\n",
      "  warnings.warn(warn_str)\n"
     ]
    },
    {
     "name": "stdout",
     "output_type": "stream",
     "text": [
      "Finished examples/pycytominer_merge_nf1_sqlite.py with examples/data/all_cellprofiler-x512.sqlite, iteration 5.\n",
      "Processing complete. Results saved to 'cytotable_pycytominer_results.parquet'.\n"
     ]
    }
   ],
   "source": [
    "# Number of iterations for each combination\n",
    "num_iterations = 6\n",
    "\n",
    "# Loop through each combination of example file and data file\n",
    "for example_file, example_data in itertools.product(\n",
    "    example_files_list, example_data_list\n",
    "):\n",
    "    for iteration in range(num_iterations):\n",
    "        print(f\"Starting {example_file} with {example_data}, iteration {iteration}.\")\n",
    "        # Skip if this combination and iteration are already processed\n",
    "        if any(\n",
    "            result[\"file_input\"] == example_file\n",
    "            and result[\"data_input\"] == example_data\n",
    "            and result[\"iteration\"] == iteration\n",
    "            for result in results\n",
    "        ):\n",
    "            print(\n",
    "                f\"Skipping already processed: {example_file} with {example_data}, iteration {iteration}\"\n",
    "            )\n",
    "            continue\n",
    "\n",
    "        try:\n",
    "            # gather memory peak and time duration\n",
    "            memory_peak, time_duration = get_memory_peak_and_time_duration(\n",
    "                cmd=[\n",
    "                    \"python\",\n",
    "                    example_file,\n",
    "                    example_data,\n",
    "                ],\n",
    "                polling_pause_seconds=0.1,\n",
    "                # if we have a multiprocessed parsl process skip memory\n",
    "                # (we will check this via parsl monitoring).\n",
    "                skip_memory_check=(\"multiprocess\" in example_file),\n",
    "            )\n",
    "\n",
    "            # Append the result\n",
    "            results.append(\n",
    "                {\n",
    "                    \"file_input\": example_file.replace(f\"{examples_dir}/\", \"\"),\n",
    "                    \"data_input\": example_data,\n",
    "                    \"iteration\": iteration,\n",
    "                    \"time_duration (secs)\": time_duration,\n",
    "                    \"peak_memory (bytes)\": (\n",
    "                        memory_peak\n",
    "                        # if we have a multiprocessed parsl result we must\n",
    "                        # gather the peak memory using parsl's monitoring\n",
    "                        # database.\n",
    "                        if \"multiprocess\" not in example_file\n",
    "                        else get_parsl_peak_memory(db_file=db_file)\n",
    "                    ),\n",
    "                }\n",
    "            )\n",
    "\n",
    "            # Save intermediate results to Parquet\n",
    "            df_results = pd.DataFrame(results)\n",
    "            df_results.to_parquet(results_parquet_file, index=False)\n",
    "\n",
    "        except Exception as e:\n",
    "            print(\n",
    "                f\"Error processing {example_file} with {example_data}, iteration {iteration}: {e}\"\n",
    "            )\n",
    "\n",
    "        finally:\n",
    "            # remove monitoring database if present from parsl processing\n",
    "            if pathlib.Path(db_file).is_file():\n",
    "                pathlib.Path(db_file).unlink()\n",
    "            print(\n",
    "                f\"Finished {example_file} with {example_data}, iteration {iteration}.\"\n",
    "            )\n",
    "\n",
    "\n",
    "# Final save to Parquet\n",
    "df_results = pd.DataFrame(results)\n",
    "df_results.to_parquet(results_parquet_file, index=False)\n",
    "\n",
    "print(f\"Processing complete. Results saved to '{results_parquet_file}'.\")"
   ]
  },
  {
   "cell_type": "code",
   "execution_count": 7,
   "id": "d7812972-0470-4892-b47e-b90074a473c4",
   "metadata": {
    "execution": {
     "iopub.execute_input": "2025-05-14T18:13:56.500538Z",
     "iopub.status.busy": "2025-05-14T18:13:56.499659Z",
     "iopub.status.idle": "2025-05-14T18:13:56.539182Z",
     "shell.execute_reply": "2025-05-14T18:13:56.538229Z"
    },
    "papermill": {
     "duration": 0.060065,
     "end_time": "2025-05-14T18:13:56.540533",
     "exception": false,
     "start_time": "2025-05-14T18:13:56.480468",
     "status": "completed"
    },
    "tags": []
   },
   "outputs": [
    {
     "data": {
      "text/html": [
       "<div>\n",
       "<style scoped>\n",
       "    .dataframe tbody tr th:only-of-type {\n",
       "        vertical-align: middle;\n",
       "    }\n",
       "\n",
       "    .dataframe tbody tr th {\n",
       "        vertical-align: top;\n",
       "    }\n",
       "\n",
       "    .dataframe thead th {\n",
       "        text-align: right;\n",
       "    }\n",
       "</style>\n",
       "<table border=\"1\" class=\"dataframe\">\n",
       "  <thead>\n",
       "    <tr style=\"text-align: right;\">\n",
       "      <th></th>\n",
       "      <th>file_input</th>\n",
       "      <th>data_input</th>\n",
       "      <th>iteration</th>\n",
       "      <th>time_duration (secs)</th>\n",
       "      <th>peak_memory (bytes)</th>\n",
       "      <th>peak_memory (GB)</th>\n",
       "      <th>data_input_size_mb</th>\n",
       "      <th>data_input_with_size</th>\n",
       "      <th>data_input_renamed</th>\n",
       "    </tr>\n",
       "  </thead>\n",
       "  <tbody>\n",
       "    <tr>\n",
       "      <th>0</th>\n",
       "      <td>cytotable_convert_nf1_multiprocess_sqlite.py</td>\n",
       "      <td>examples/data/all_cellprofiler.sqlite</td>\n",
       "      <td>0</td>\n",
       "      <td>21.384496</td>\n",
       "      <td>3.631473e+08</td>\n",
       "      <td>0.338207</td>\n",
       "      <td>3.843750</td>\n",
       "      <td>examples/data/all_cellprofiler.sqlite (4 MB)</td>\n",
       "      <td>input.sqlite (4 MB)</td>\n",
       "    </tr>\n",
       "    <tr>\n",
       "      <th>1</th>\n",
       "      <td>cytotable_convert_nf1_multiprocess_sqlite.py</td>\n",
       "      <td>examples/data/all_cellprofiler.sqlite</td>\n",
       "      <td>1</td>\n",
       "      <td>21.018959</td>\n",
       "      <td>3.596739e+08</td>\n",
       "      <td>0.334972</td>\n",
       "      <td>3.843750</td>\n",
       "      <td>examples/data/all_cellprofiler.sqlite (4 MB)</td>\n",
       "      <td>input.sqlite (4 MB)</td>\n",
       "    </tr>\n",
       "    <tr>\n",
       "      <th>2</th>\n",
       "      <td>cytotable_convert_nf1_multiprocess_sqlite.py</td>\n",
       "      <td>examples/data/all_cellprofiler.sqlite</td>\n",
       "      <td>2</td>\n",
       "      <td>21.405169</td>\n",
       "      <td>3.521085e+08</td>\n",
       "      <td>0.327927</td>\n",
       "      <td>3.843750</td>\n",
       "      <td>examples/data/all_cellprofiler.sqlite (4 MB)</td>\n",
       "      <td>input.sqlite (4 MB)</td>\n",
       "    </tr>\n",
       "    <tr>\n",
       "      <th>3</th>\n",
       "      <td>cytotable_convert_nf1_multiprocess_sqlite.py</td>\n",
       "      <td>examples/data/all_cellprofiler.sqlite</td>\n",
       "      <td>3</td>\n",
       "      <td>21.244814</td>\n",
       "      <td>3.731005e+08</td>\n",
       "      <td>0.347477</td>\n",
       "      <td>3.843750</td>\n",
       "      <td>examples/data/all_cellprofiler.sqlite (4 MB)</td>\n",
       "      <td>input.sqlite (4 MB)</td>\n",
       "    </tr>\n",
       "    <tr>\n",
       "      <th>4</th>\n",
       "      <td>cytotable_convert_nf1_multiprocess_sqlite.py</td>\n",
       "      <td>examples/data/all_cellprofiler.sqlite</td>\n",
       "      <td>4</td>\n",
       "      <td>21.363728</td>\n",
       "      <td>3.641754e+08</td>\n",
       "      <td>0.339165</td>\n",
       "      <td>3.843750</td>\n",
       "      <td>examples/data/all_cellprofiler.sqlite (4 MB)</td>\n",
       "      <td>input.sqlite (4 MB)</td>\n",
       "    </tr>\n",
       "    <tr>\n",
       "      <th>...</th>\n",
       "      <td>...</td>\n",
       "      <td>...</td>\n",
       "      <td>...</td>\n",
       "      <td>...</td>\n",
       "      <td>...</td>\n",
       "      <td>...</td>\n",
       "      <td>...</td>\n",
       "      <td>...</td>\n",
       "      <td>...</td>\n",
       "    </tr>\n",
       "    <tr>\n",
       "      <th>175</th>\n",
       "      <td>pycytominer_merge_nf1_sqlite.py</td>\n",
       "      <td>examples/data/all_cellprofiler-x512.sqlite</td>\n",
       "      <td>1</td>\n",
       "      <td>139.029644</td>\n",
       "      <td>8.660050e+09</td>\n",
       "      <td>8.065300</td>\n",
       "      <td>1909.335938</td>\n",
       "      <td>examples/data/all_cellprofiler-x512.sqlite (19...</td>\n",
       "      <td>input-x512.sqlite (1909 MB)</td>\n",
       "    </tr>\n",
       "    <tr>\n",
       "      <th>176</th>\n",
       "      <td>pycytominer_merge_nf1_sqlite.py</td>\n",
       "      <td>examples/data/all_cellprofiler-x512.sqlite</td>\n",
       "      <td>2</td>\n",
       "      <td>137.958207</td>\n",
       "      <td>8.659104e+09</td>\n",
       "      <td>8.064419</td>\n",
       "      <td>1909.335938</td>\n",
       "      <td>examples/data/all_cellprofiler-x512.sqlite (19...</td>\n",
       "      <td>input-x512.sqlite (1909 MB)</td>\n",
       "    </tr>\n",
       "    <tr>\n",
       "      <th>177</th>\n",
       "      <td>pycytominer_merge_nf1_sqlite.py</td>\n",
       "      <td>examples/data/all_cellprofiler-x512.sqlite</td>\n",
       "      <td>3</td>\n",
       "      <td>138.411487</td>\n",
       "      <td>8.659165e+09</td>\n",
       "      <td>8.064476</td>\n",
       "      <td>1909.335938</td>\n",
       "      <td>examples/data/all_cellprofiler-x512.sqlite (19...</td>\n",
       "      <td>input-x512.sqlite (1909 MB)</td>\n",
       "    </tr>\n",
       "    <tr>\n",
       "      <th>178</th>\n",
       "      <td>pycytominer_merge_nf1_sqlite.py</td>\n",
       "      <td>examples/data/all_cellprofiler-x512.sqlite</td>\n",
       "      <td>4</td>\n",
       "      <td>139.019377</td>\n",
       "      <td>8.659087e+09</td>\n",
       "      <td>8.064404</td>\n",
       "      <td>1909.335938</td>\n",
       "      <td>examples/data/all_cellprofiler-x512.sqlite (19...</td>\n",
       "      <td>input-x512.sqlite (1909 MB)</td>\n",
       "    </tr>\n",
       "    <tr>\n",
       "      <th>179</th>\n",
       "      <td>pycytominer_merge_nf1_sqlite.py</td>\n",
       "      <td>examples/data/all_cellprofiler-x512.sqlite</td>\n",
       "      <td>5</td>\n",
       "      <td>139.114694</td>\n",
       "      <td>8.660046e+09</td>\n",
       "      <td>8.065296</td>\n",
       "      <td>1909.335938</td>\n",
       "      <td>examples/data/all_cellprofiler-x512.sqlite (19...</td>\n",
       "      <td>input-x512.sqlite (1909 MB)</td>\n",
       "    </tr>\n",
       "  </tbody>\n",
       "</table>\n",
       "<p>180 rows × 9 columns</p>\n",
       "</div>"
      ],
      "text/plain": [
       "                                       file_input  \\\n",
       "0    cytotable_convert_nf1_multiprocess_sqlite.py   \n",
       "1    cytotable_convert_nf1_multiprocess_sqlite.py   \n",
       "2    cytotable_convert_nf1_multiprocess_sqlite.py   \n",
       "3    cytotable_convert_nf1_multiprocess_sqlite.py   \n",
       "4    cytotable_convert_nf1_multiprocess_sqlite.py   \n",
       "..                                            ...   \n",
       "175               pycytominer_merge_nf1_sqlite.py   \n",
       "176               pycytominer_merge_nf1_sqlite.py   \n",
       "177               pycytominer_merge_nf1_sqlite.py   \n",
       "178               pycytominer_merge_nf1_sqlite.py   \n",
       "179               pycytominer_merge_nf1_sqlite.py   \n",
       "\n",
       "                                     data_input  iteration  \\\n",
       "0         examples/data/all_cellprofiler.sqlite          0   \n",
       "1         examples/data/all_cellprofiler.sqlite          1   \n",
       "2         examples/data/all_cellprofiler.sqlite          2   \n",
       "3         examples/data/all_cellprofiler.sqlite          3   \n",
       "4         examples/data/all_cellprofiler.sqlite          4   \n",
       "..                                          ...        ...   \n",
       "175  examples/data/all_cellprofiler-x512.sqlite          1   \n",
       "176  examples/data/all_cellprofiler-x512.sqlite          2   \n",
       "177  examples/data/all_cellprofiler-x512.sqlite          3   \n",
       "178  examples/data/all_cellprofiler-x512.sqlite          4   \n",
       "179  examples/data/all_cellprofiler-x512.sqlite          5   \n",
       "\n",
       "     time_duration (secs)  peak_memory (bytes)  peak_memory (GB)  \\\n",
       "0               21.384496         3.631473e+08          0.338207   \n",
       "1               21.018959         3.596739e+08          0.334972   \n",
       "2               21.405169         3.521085e+08          0.327927   \n",
       "3               21.244814         3.731005e+08          0.347477   \n",
       "4               21.363728         3.641754e+08          0.339165   \n",
       "..                    ...                  ...               ...   \n",
       "175            139.029644         8.660050e+09          8.065300   \n",
       "176            137.958207         8.659104e+09          8.064419   \n",
       "177            138.411487         8.659165e+09          8.064476   \n",
       "178            139.019377         8.659087e+09          8.064404   \n",
       "179            139.114694         8.660046e+09          8.065296   \n",
       "\n",
       "     data_input_size_mb                               data_input_with_size  \\\n",
       "0              3.843750       examples/data/all_cellprofiler.sqlite (4 MB)   \n",
       "1              3.843750       examples/data/all_cellprofiler.sqlite (4 MB)   \n",
       "2              3.843750       examples/data/all_cellprofiler.sqlite (4 MB)   \n",
       "3              3.843750       examples/data/all_cellprofiler.sqlite (4 MB)   \n",
       "4              3.843750       examples/data/all_cellprofiler.sqlite (4 MB)   \n",
       "..                  ...                                                ...   \n",
       "175         1909.335938  examples/data/all_cellprofiler-x512.sqlite (19...   \n",
       "176         1909.335938  examples/data/all_cellprofiler-x512.sqlite (19...   \n",
       "177         1909.335938  examples/data/all_cellprofiler-x512.sqlite (19...   \n",
       "178         1909.335938  examples/data/all_cellprofiler-x512.sqlite (19...   \n",
       "179         1909.335938  examples/data/all_cellprofiler-x512.sqlite (19...   \n",
       "\n",
       "              data_input_renamed  \n",
       "0            input.sqlite (4 MB)  \n",
       "1            input.sqlite (4 MB)  \n",
       "2            input.sqlite (4 MB)  \n",
       "3            input.sqlite (4 MB)  \n",
       "4            input.sqlite (4 MB)  \n",
       "..                           ...  \n",
       "175  input-x512.sqlite (1909 MB)  \n",
       "176  input-x512.sqlite (1909 MB)  \n",
       "177  input-x512.sqlite (1909 MB)  \n",
       "178  input-x512.sqlite (1909 MB)  \n",
       "179  input-x512.sqlite (1909 MB)  \n",
       "\n",
       "[180 rows x 9 columns]"
      ]
     },
     "execution_count": 7,
     "metadata": {},
     "output_type": "execute_result"
    }
   ],
   "source": [
    "# add columns for data understandability in plots\n",
    "\n",
    "\n",
    "def get_file_size_mb(file_path):\n",
    "    \"\"\"\n",
    "    Gather filesize given a file_path\n",
    "    \"\"\"\n",
    "    try:\n",
    "        return pathlib.Path(file_path).stat().st_size / 1024 / 1024\n",
    "    except FileNotFoundError:\n",
    "        return None\n",
    "\n",
    "\n",
    "# memory usage in MB\n",
    "df_results[\"peak_memory (GB)\"] = df_results[\"peak_memory (bytes)\"] / 1024 / 1024 / 1024\n",
    "\n",
    "# data input size additions for greater context\n",
    "df_results[\"data_input_size_mb\"] = df_results[\"data_input\"].apply(get_file_size_mb)\n",
    "df_results[\"data_input_with_size\"] = (\n",
    "    df_results[\"data_input\"]\n",
    "    + \" (\"\n",
    "    + round(df_results[\"data_input_size_mb\"]).astype(\"int64\").astype(\"str\")\n",
    "    + \" MB)\"\n",
    ")\n",
    "\n",
    "# rename data input to simplify\n",
    "df_results[\"data_input_renamed\"] = (\n",
    "    df_results[\"data_input_with_size\"]\n",
    "    .str.replace(f\"{examples_dir}/data/\", \"\")\n",
    "    .str.replace(\"all_cellprofiler\", \"input\")\n",
    ")\n",
    "df_results"
   ]
  },
  {
   "cell_type": "code",
   "execution_count": 8,
   "id": "6f96b829-7d8f-438d-9f65-62f62ec264b3",
   "metadata": {
    "execution": {
     "iopub.execute_input": "2025-05-14T18:13:56.578199Z",
     "iopub.status.busy": "2025-05-14T18:13:56.577854Z",
     "iopub.status.idle": "2025-05-14T18:13:56.638481Z",
     "shell.execute_reply": "2025-05-14T18:13:56.637822Z"
    },
    "papermill": {
     "duration": 0.080586,
     "end_time": "2025-05-14T18:13:56.639422",
     "exception": false,
     "start_time": "2025-05-14T18:13:56.558836",
     "status": "completed"
    },
    "tags": []
   },
   "outputs": [
    {
     "data": {
      "text/html": [
       "<div>\n",
       "<style scoped>\n",
       "    .dataframe tbody tr th:only-of-type {\n",
       "        vertical-align: middle;\n",
       "    }\n",
       "\n",
       "    .dataframe tbody tr th {\n",
       "        vertical-align: top;\n",
       "    }\n",
       "\n",
       "    .dataframe thead th {\n",
       "        text-align: right;\n",
       "    }\n",
       "</style>\n",
       "<table border=\"1\" class=\"dataframe\">\n",
       "  <thead>\n",
       "    <tr style=\"text-align: right;\">\n",
       "      <th></th>\n",
       "      <th>data_input</th>\n",
       "      <th>iteration</th>\n",
       "      <th>peak_memory (bytes)</th>\n",
       "      <th>data_input_size_mb</th>\n",
       "      <th>data_input_with_size</th>\n",
       "      <th>data_input_renamed</th>\n",
       "      <th>cytotable_time_duration (multiprocess) (secs)</th>\n",
       "      <th>cytotable_peak_memory (multiprocess) (GB)</th>\n",
       "      <th>cytotable_time_duration (multithread) (secs)</th>\n",
       "      <th>cytotable_peak_memory (multithread) (GB)</th>\n",
       "      <th>pycytominer_time_duration (secs)</th>\n",
       "      <th>pycytominer_peak_memory (GB)</th>\n",
       "    </tr>\n",
       "  </thead>\n",
       "  <tbody>\n",
       "    <tr>\n",
       "      <th>0</th>\n",
       "      <td>examples/data/all_cellprofiler.sqlite</td>\n",
       "      <td>0</td>\n",
       "      <td>3.631473e+08</td>\n",
       "      <td>3.843750</td>\n",
       "      <td>examples/data/all_cellprofiler.sqlite (4 MB)</td>\n",
       "      <td>input.sqlite (4 MB)</td>\n",
       "      <td>21.384496</td>\n",
       "      <td>0.338207</td>\n",
       "      <td>3.382802</td>\n",
       "      <td>0.311058</td>\n",
       "      <td>1.776670</td>\n",
       "      <td>0.207531</td>\n",
       "    </tr>\n",
       "    <tr>\n",
       "      <th>1</th>\n",
       "      <td>examples/data/all_cellprofiler.sqlite</td>\n",
       "      <td>1</td>\n",
       "      <td>3.596739e+08</td>\n",
       "      <td>3.843750</td>\n",
       "      <td>examples/data/all_cellprofiler.sqlite (4 MB)</td>\n",
       "      <td>input.sqlite (4 MB)</td>\n",
       "      <td>21.018959</td>\n",
       "      <td>0.334972</td>\n",
       "      <td>3.359946</td>\n",
       "      <td>0.333794</td>\n",
       "      <td>1.768085</td>\n",
       "      <td>0.207428</td>\n",
       "    </tr>\n",
       "    <tr>\n",
       "      <th>2</th>\n",
       "      <td>examples/data/all_cellprofiler.sqlite</td>\n",
       "      <td>2</td>\n",
       "      <td>3.521085e+08</td>\n",
       "      <td>3.843750</td>\n",
       "      <td>examples/data/all_cellprofiler.sqlite (4 MB)</td>\n",
       "      <td>input.sqlite (4 MB)</td>\n",
       "      <td>21.405169</td>\n",
       "      <td>0.327927</td>\n",
       "      <td>3.406309</td>\n",
       "      <td>0.317390</td>\n",
       "      <td>1.775051</td>\n",
       "      <td>0.207069</td>\n",
       "    </tr>\n",
       "    <tr>\n",
       "      <th>3</th>\n",
       "      <td>examples/data/all_cellprofiler.sqlite</td>\n",
       "      <td>3</td>\n",
       "      <td>3.731005e+08</td>\n",
       "      <td>3.843750</td>\n",
       "      <td>examples/data/all_cellprofiler.sqlite (4 MB)</td>\n",
       "      <td>input.sqlite (4 MB)</td>\n",
       "      <td>21.244814</td>\n",
       "      <td>0.347477</td>\n",
       "      <td>3.450309</td>\n",
       "      <td>0.318626</td>\n",
       "      <td>1.773164</td>\n",
       "      <td>0.206005</td>\n",
       "    </tr>\n",
       "    <tr>\n",
       "      <th>4</th>\n",
       "      <td>examples/data/all_cellprofiler.sqlite</td>\n",
       "      <td>4</td>\n",
       "      <td>3.641754e+08</td>\n",
       "      <td>3.843750</td>\n",
       "      <td>examples/data/all_cellprofiler.sqlite (4 MB)</td>\n",
       "      <td>input.sqlite (4 MB)</td>\n",
       "      <td>21.363728</td>\n",
       "      <td>0.339165</td>\n",
       "      <td>3.344983</td>\n",
       "      <td>0.301388</td>\n",
       "      <td>1.778455</td>\n",
       "      <td>0.207150</td>\n",
       "    </tr>\n",
       "    <tr>\n",
       "      <th>5</th>\n",
       "      <td>examples/data/all_cellprofiler.sqlite</td>\n",
       "      <td>5</td>\n",
       "      <td>3.526410e+08</td>\n",
       "      <td>3.843750</td>\n",
       "      <td>examples/data/all_cellprofiler.sqlite (4 MB)</td>\n",
       "      <td>input.sqlite (4 MB)</td>\n",
       "      <td>21.729096</td>\n",
       "      <td>0.328423</td>\n",
       "      <td>3.339835</td>\n",
       "      <td>0.302345</td>\n",
       "      <td>1.743157</td>\n",
       "      <td>0.207054</td>\n",
       "    </tr>\n",
       "    <tr>\n",
       "      <th>6</th>\n",
       "      <td>examples/data/all_cellprofiler-x2.sqlite</td>\n",
       "      <td>0</td>\n",
       "      <td>3.561923e+08</td>\n",
       "      <td>7.578125</td>\n",
       "      <td>examples/data/all_cellprofiler-x2.sqlite (8 MB)</td>\n",
       "      <td>input-x2.sqlite (8 MB)</td>\n",
       "      <td>21.973524</td>\n",
       "      <td>0.331730</td>\n",
       "      <td>3.400347</td>\n",
       "      <td>0.301991</td>\n",
       "      <td>1.958470</td>\n",
       "      <td>0.221584</td>\n",
       "    </tr>\n",
       "    <tr>\n",
       "      <th>7</th>\n",
       "      <td>examples/data/all_cellprofiler-x2.sqlite</td>\n",
       "      <td>1</td>\n",
       "      <td>3.561636e+08</td>\n",
       "      <td>7.578125</td>\n",
       "      <td>examples/data/all_cellprofiler-x2.sqlite (8 MB)</td>\n",
       "      <td>input-x2.sqlite (8 MB)</td>\n",
       "      <td>21.370225</td>\n",
       "      <td>0.331703</td>\n",
       "      <td>3.443927</td>\n",
       "      <td>0.320011</td>\n",
       "      <td>1.955712</td>\n",
       "      <td>0.221718</td>\n",
       "    </tr>\n",
       "    <tr>\n",
       "      <th>8</th>\n",
       "      <td>examples/data/all_cellprofiler-x2.sqlite</td>\n",
       "      <td>2</td>\n",
       "      <td>3.756278e+08</td>\n",
       "      <td>7.578125</td>\n",
       "      <td>examples/data/all_cellprofiler-x2.sqlite (8 MB)</td>\n",
       "      <td>input-x2.sqlite (8 MB)</td>\n",
       "      <td>21.611075</td>\n",
       "      <td>0.349831</td>\n",
       "      <td>3.447607</td>\n",
       "      <td>0.318329</td>\n",
       "      <td>1.979242</td>\n",
       "      <td>0.221439</td>\n",
       "    </tr>\n",
       "    <tr>\n",
       "      <th>9</th>\n",
       "      <td>examples/data/all_cellprofiler-x2.sqlite</td>\n",
       "      <td>3</td>\n",
       "      <td>3.925975e+08</td>\n",
       "      <td>7.578125</td>\n",
       "      <td>examples/data/all_cellprofiler-x2.sqlite (8 MB)</td>\n",
       "      <td>input-x2.sqlite (8 MB)</td>\n",
       "      <td>21.235337</td>\n",
       "      <td>0.365635</td>\n",
       "      <td>3.452294</td>\n",
       "      <td>0.346390</td>\n",
       "      <td>2.037822</td>\n",
       "      <td>0.215111</td>\n",
       "    </tr>\n",
       "    <tr>\n",
       "      <th>10</th>\n",
       "      <td>examples/data/all_cellprofiler-x2.sqlite</td>\n",
       "      <td>4</td>\n",
       "      <td>3.584573e+08</td>\n",
       "      <td>7.578125</td>\n",
       "      <td>examples/data/all_cellprofiler-x2.sqlite (8 MB)</td>\n",
       "      <td>input-x2.sqlite (8 MB)</td>\n",
       "      <td>21.300289</td>\n",
       "      <td>0.333839</td>\n",
       "      <td>3.500978</td>\n",
       "      <td>0.350273</td>\n",
       "      <td>1.996777</td>\n",
       "      <td>0.226254</td>\n",
       "    </tr>\n",
       "    <tr>\n",
       "      <th>11</th>\n",
       "      <td>examples/data/all_cellprofiler-x2.sqlite</td>\n",
       "      <td>5</td>\n",
       "      <td>3.575112e+08</td>\n",
       "      <td>7.578125</td>\n",
       "      <td>examples/data/all_cellprofiler-x2.sqlite (8 MB)</td>\n",
       "      <td>input-x2.sqlite (8 MB)</td>\n",
       "      <td>21.403198</td>\n",
       "      <td>0.332958</td>\n",
       "      <td>3.415675</td>\n",
       "      <td>0.339626</td>\n",
       "      <td>1.967663</td>\n",
       "      <td>0.221939</td>\n",
       "    </tr>\n",
       "    <tr>\n",
       "      <th>12</th>\n",
       "      <td>examples/data/all_cellprofiler-x4.sqlite</td>\n",
       "      <td>0</td>\n",
       "      <td>3.820626e+08</td>\n",
       "      <td>15.031250</td>\n",
       "      <td>examples/data/all_cellprofiler-x4.sqlite (15 MB)</td>\n",
       "      <td>input-x4.sqlite (15 MB)</td>\n",
       "      <td>21.310329</td>\n",
       "      <td>0.355824</td>\n",
       "      <td>3.644090</td>\n",
       "      <td>0.414268</td>\n",
       "      <td>2.338809</td>\n",
       "      <td>0.251209</td>\n",
       "    </tr>\n",
       "    <tr>\n",
       "      <th>13</th>\n",
       "      <td>examples/data/all_cellprofiler-x4.sqlite</td>\n",
       "      <td>1</td>\n",
       "      <td>3.993108e+08</td>\n",
       "      <td>15.031250</td>\n",
       "      <td>examples/data/all_cellprofiler-x4.sqlite (15 MB)</td>\n",
       "      <td>input-x4.sqlite (15 MB)</td>\n",
       "      <td>21.233880</td>\n",
       "      <td>0.371887</td>\n",
       "      <td>3.603753</td>\n",
       "      <td>0.372887</td>\n",
       "      <td>2.331016</td>\n",
       "      <td>0.251354</td>\n",
       "    </tr>\n",
       "    <tr>\n",
       "      <th>14</th>\n",
       "      <td>examples/data/all_cellprofiler-x4.sqlite</td>\n",
       "      <td>2</td>\n",
       "      <td>3.829883e+08</td>\n",
       "      <td>15.031250</td>\n",
       "      <td>examples/data/all_cellprofiler-x4.sqlite (15 MB)</td>\n",
       "      <td>input-x4.sqlite (15 MB)</td>\n",
       "      <td>21.611241</td>\n",
       "      <td>0.356686</td>\n",
       "      <td>3.648146</td>\n",
       "      <td>0.351509</td>\n",
       "      <td>2.367945</td>\n",
       "      <td>0.250782</td>\n",
       "    </tr>\n",
       "    <tr>\n",
       "      <th>15</th>\n",
       "      <td>examples/data/all_cellprofiler-x4.sqlite</td>\n",
       "      <td>3</td>\n",
       "      <td>3.772785e+08</td>\n",
       "      <td>15.031250</td>\n",
       "      <td>examples/data/all_cellprofiler-x4.sqlite (15 MB)</td>\n",
       "      <td>input-x4.sqlite (15 MB)</td>\n",
       "      <td>21.189033</td>\n",
       "      <td>0.351368</td>\n",
       "      <td>3.587915</td>\n",
       "      <td>0.388134</td>\n",
       "      <td>2.340204</td>\n",
       "      <td>0.251244</td>\n",
       "    </tr>\n",
       "    <tr>\n",
       "      <th>16</th>\n",
       "      <td>examples/data/all_cellprofiler-x4.sqlite</td>\n",
       "      <td>4</td>\n",
       "      <td>3.774054e+08</td>\n",
       "      <td>15.031250</td>\n",
       "      <td>examples/data/all_cellprofiler-x4.sqlite (15 MB)</td>\n",
       "      <td>input-x4.sqlite (15 MB)</td>\n",
       "      <td>21.169588</td>\n",
       "      <td>0.351486</td>\n",
       "      <td>3.668450</td>\n",
       "      <td>0.406666</td>\n",
       "      <td>2.348739</td>\n",
       "      <td>0.251541</td>\n",
       "    </tr>\n",
       "    <tr>\n",
       "      <th>17</th>\n",
       "      <td>examples/data/all_cellprofiler-x4.sqlite</td>\n",
       "      <td>5</td>\n",
       "      <td>3.777495e+08</td>\n",
       "      <td>15.031250</td>\n",
       "      <td>examples/data/all_cellprofiler-x4.sqlite (15 MB)</td>\n",
       "      <td>input-x4.sqlite (15 MB)</td>\n",
       "      <td>21.693600</td>\n",
       "      <td>0.351807</td>\n",
       "      <td>3.670504</td>\n",
       "      <td>0.354252</td>\n",
       "      <td>2.350373</td>\n",
       "      <td>0.251175</td>\n",
       "    </tr>\n",
       "    <tr>\n",
       "      <th>18</th>\n",
       "      <td>examples/data/all_cellprofiler-x8.sqlite</td>\n",
       "      <td>0</td>\n",
       "      <td>4.656701e+08</td>\n",
       "      <td>29.937500</td>\n",
       "      <td>examples/data/all_cellprofiler-x8.sqlite (30 MB)</td>\n",
       "      <td>input-x8.sqlite (30 MB)</td>\n",
       "      <td>21.719416</td>\n",
       "      <td>0.433689</td>\n",
       "      <td>4.061007</td>\n",
       "      <td>0.470730</td>\n",
       "      <td>3.174598</td>\n",
       "      <td>0.305126</td>\n",
       "    </tr>\n",
       "    <tr>\n",
       "      <th>19</th>\n",
       "      <td>examples/data/all_cellprofiler-x8.sqlite</td>\n",
       "      <td>1</td>\n",
       "      <td>4.387185e+08</td>\n",
       "      <td>29.937500</td>\n",
       "      <td>examples/data/all_cellprofiler-x8.sqlite (30 MB)</td>\n",
       "      <td>input-x8.sqlite (30 MB)</td>\n",
       "      <td>21.639305</td>\n",
       "      <td>0.408588</td>\n",
       "      <td>4.056178</td>\n",
       "      <td>0.409195</td>\n",
       "      <td>3.263625</td>\n",
       "      <td>0.311493</td>\n",
       "    </tr>\n",
       "    <tr>\n",
       "      <th>20</th>\n",
       "      <td>examples/data/all_cellprofiler-x8.sqlite</td>\n",
       "      <td>2</td>\n",
       "      <td>4.561265e+08</td>\n",
       "      <td>29.937500</td>\n",
       "      <td>examples/data/all_cellprofiler-x8.sqlite (30 MB)</td>\n",
       "      <td>input-x8.sqlite (30 MB)</td>\n",
       "      <td>21.540652</td>\n",
       "      <td>0.424801</td>\n",
       "      <td>3.985098</td>\n",
       "      <td>0.415234</td>\n",
       "      <td>3.174081</td>\n",
       "      <td>0.304535</td>\n",
       "    </tr>\n",
       "    <tr>\n",
       "      <th>21</th>\n",
       "      <td>examples/data/all_cellprofiler-x8.sqlite</td>\n",
       "      <td>3</td>\n",
       "      <td>4.511498e+08</td>\n",
       "      <td>29.937500</td>\n",
       "      <td>examples/data/all_cellprofiler-x8.sqlite (30 MB)</td>\n",
       "      <td>input-x8.sqlite (30 MB)</td>\n",
       "      <td>21.738744</td>\n",
       "      <td>0.420166</td>\n",
       "      <td>4.078631</td>\n",
       "      <td>0.451820</td>\n",
       "      <td>3.183313</td>\n",
       "      <td>0.315937</td>\n",
       "    </tr>\n",
       "    <tr>\n",
       "      <th>22</th>\n",
       "      <td>examples/data/all_cellprofiler-x8.sqlite</td>\n",
       "      <td>4</td>\n",
       "      <td>5.187052e+08</td>\n",
       "      <td>29.937500</td>\n",
       "      <td>examples/data/all_cellprofiler-x8.sqlite (30 MB)</td>\n",
       "      <td>input-x8.sqlite (30 MB)</td>\n",
       "      <td>21.770709</td>\n",
       "      <td>0.483082</td>\n",
       "      <td>4.070775</td>\n",
       "      <td>0.468502</td>\n",
       "      <td>3.146029</td>\n",
       "      <td>0.315948</td>\n",
       "    </tr>\n",
       "    <tr>\n",
       "      <th>23</th>\n",
       "      <td>examples/data/all_cellprofiler-x8.sqlite</td>\n",
       "      <td>5</td>\n",
       "      <td>4.383293e+08</td>\n",
       "      <td>29.937500</td>\n",
       "      <td>examples/data/all_cellprofiler-x8.sqlite (30 MB)</td>\n",
       "      <td>input-x8.sqlite (30 MB)</td>\n",
       "      <td>21.653080</td>\n",
       "      <td>0.408226</td>\n",
       "      <td>3.989197</td>\n",
       "      <td>0.444408</td>\n",
       "      <td>3.171839</td>\n",
       "      <td>0.304459</td>\n",
       "    </tr>\n",
       "    <tr>\n",
       "      <th>24</th>\n",
       "      <td>examples/data/all_cellprofiler-x16.sqlite</td>\n",
       "      <td>0</td>\n",
       "      <td>5.004534e+08</td>\n",
       "      <td>59.765625</td>\n",
       "      <td>examples/data/all_cellprofiler-x16.sqlite (60 MB)</td>\n",
       "      <td>input-x16.sqlite (60 MB)</td>\n",
       "      <td>22.350140</td>\n",
       "      <td>0.466084</td>\n",
       "      <td>4.391573</td>\n",
       "      <td>0.584862</td>\n",
       "      <td>4.942839</td>\n",
       "      <td>0.434032</td>\n",
       "    </tr>\n",
       "    <tr>\n",
       "      <th>25</th>\n",
       "      <td>examples/data/all_cellprofiler-x16.sqlite</td>\n",
       "      <td>1</td>\n",
       "      <td>5.876081e+08</td>\n",
       "      <td>59.765625</td>\n",
       "      <td>examples/data/all_cellprofiler-x16.sqlite (60 MB)</td>\n",
       "      <td>input-x16.sqlite (60 MB)</td>\n",
       "      <td>21.965426</td>\n",
       "      <td>0.547253</td>\n",
       "      <td>4.393216</td>\n",
       "      <td>0.570023</td>\n",
       "      <td>5.044000</td>\n",
       "      <td>0.438519</td>\n",
       "    </tr>\n",
       "    <tr>\n",
       "      <th>26</th>\n",
       "      <td>examples/data/all_cellprofiler-x16.sqlite</td>\n",
       "      <td>2</td>\n",
       "      <td>5.441782e+08</td>\n",
       "      <td>59.765625</td>\n",
       "      <td>examples/data/all_cellprofiler-x16.sqlite (60 MB)</td>\n",
       "      <td>input-x16.sqlite (60 MB)</td>\n",
       "      <td>21.928231</td>\n",
       "      <td>0.506805</td>\n",
       "      <td>4.516592</td>\n",
       "      <td>0.562775</td>\n",
       "      <td>4.978796</td>\n",
       "      <td>0.434334</td>\n",
       "    </tr>\n",
       "    <tr>\n",
       "      <th>27</th>\n",
       "      <td>examples/data/all_cellprofiler-x16.sqlite</td>\n",
       "      <td>3</td>\n",
       "      <td>5.743698e+08</td>\n",
       "      <td>59.765625</td>\n",
       "      <td>examples/data/all_cellprofiler-x16.sqlite (60 MB)</td>\n",
       "      <td>input-x16.sqlite (60 MB)</td>\n",
       "      <td>22.404097</td>\n",
       "      <td>0.534924</td>\n",
       "      <td>4.346780</td>\n",
       "      <td>0.532894</td>\n",
       "      <td>4.947732</td>\n",
       "      <td>0.434422</td>\n",
       "    </tr>\n",
       "    <tr>\n",
       "      <th>28</th>\n",
       "      <td>examples/data/all_cellprofiler-x16.sqlite</td>\n",
       "      <td>4</td>\n",
       "      <td>6.021734e+08</td>\n",
       "      <td>59.765625</td>\n",
       "      <td>examples/data/all_cellprofiler-x16.sqlite (60 MB)</td>\n",
       "      <td>input-x16.sqlite (60 MB)</td>\n",
       "      <td>22.036380</td>\n",
       "      <td>0.560818</td>\n",
       "      <td>4.389602</td>\n",
       "      <td>0.544773</td>\n",
       "      <td>5.039386</td>\n",
       "      <td>0.438606</td>\n",
       "    </tr>\n",
       "    <tr>\n",
       "      <th>29</th>\n",
       "      <td>examples/data/all_cellprofiler-x16.sqlite</td>\n",
       "      <td>5</td>\n",
       "      <td>5.186314e+08</td>\n",
       "      <td>59.765625</td>\n",
       "      <td>examples/data/all_cellprofiler-x16.sqlite (60 MB)</td>\n",
       "      <td>input-x16.sqlite (60 MB)</td>\n",
       "      <td>21.997540</td>\n",
       "      <td>0.483013</td>\n",
       "      <td>4.700246</td>\n",
       "      <td>0.572739</td>\n",
       "      <td>4.951326</td>\n",
       "      <td>0.438133</td>\n",
       "    </tr>\n",
       "    <tr>\n",
       "      <th>30</th>\n",
       "      <td>examples/data/all_cellprofiler-x32.sqlite</td>\n",
       "      <td>0</td>\n",
       "      <td>6.940140e+08</td>\n",
       "      <td>119.390625</td>\n",
       "      <td>examples/data/all_cellprofiler-x32.sqlite (119...</td>\n",
       "      <td>input-x32.sqlite (119 MB)</td>\n",
       "      <td>22.734063</td>\n",
       "      <td>0.646351</td>\n",
       "      <td>5.339699</td>\n",
       "      <td>0.616547</td>\n",
       "      <td>8.613049</td>\n",
       "      <td>0.684189</td>\n",
       "    </tr>\n",
       "    <tr>\n",
       "      <th>31</th>\n",
       "      <td>examples/data/all_cellprofiler-x32.sqlite</td>\n",
       "      <td>1</td>\n",
       "      <td>7.405937e+08</td>\n",
       "      <td>119.390625</td>\n",
       "      <td>examples/data/all_cellprofiler-x32.sqlite (119...</td>\n",
       "      <td>input-x32.sqlite (119 MB)</td>\n",
       "      <td>22.647534</td>\n",
       "      <td>0.689732</td>\n",
       "      <td>5.489901</td>\n",
       "      <td>0.605682</td>\n",
       "      <td>8.661658</td>\n",
       "      <td>0.684010</td>\n",
       "    </tr>\n",
       "    <tr>\n",
       "      <th>32</th>\n",
       "      <td>examples/data/all_cellprofiler-x32.sqlite</td>\n",
       "      <td>2</td>\n",
       "      <td>7.773676e+08</td>\n",
       "      <td>119.390625</td>\n",
       "      <td>examples/data/all_cellprofiler-x32.sqlite (119...</td>\n",
       "      <td>input-x32.sqlite (119 MB)</td>\n",
       "      <td>22.998181</td>\n",
       "      <td>0.723980</td>\n",
       "      <td>5.205241</td>\n",
       "      <td>0.693443</td>\n",
       "      <td>8.497556</td>\n",
       "      <td>0.683960</td>\n",
       "    </tr>\n",
       "    <tr>\n",
       "      <th>33</th>\n",
       "      <td>examples/data/all_cellprofiler-x32.sqlite</td>\n",
       "      <td>3</td>\n",
       "      <td>6.571049e+08</td>\n",
       "      <td>119.390625</td>\n",
       "      <td>examples/data/all_cellprofiler-x32.sqlite (119...</td>\n",
       "      <td>input-x32.sqlite (119 MB)</td>\n",
       "      <td>23.631211</td>\n",
       "      <td>0.611977</td>\n",
       "      <td>5.560186</td>\n",
       "      <td>0.751198</td>\n",
       "      <td>8.703588</td>\n",
       "      <td>0.684074</td>\n",
       "    </tr>\n",
       "    <tr>\n",
       "      <th>34</th>\n",
       "      <td>examples/data/all_cellprofiler-x32.sqlite</td>\n",
       "      <td>4</td>\n",
       "      <td>7.114506e+08</td>\n",
       "      <td>119.390625</td>\n",
       "      <td>examples/data/all_cellprofiler-x32.sqlite (119...</td>\n",
       "      <td>input-x32.sqlite (119 MB)</td>\n",
       "      <td>23.055712</td>\n",
       "      <td>0.662590</td>\n",
       "      <td>5.244938</td>\n",
       "      <td>0.734558</td>\n",
       "      <td>8.355879</td>\n",
       "      <td>0.684231</td>\n",
       "    </tr>\n",
       "    <tr>\n",
       "      <th>35</th>\n",
       "      <td>examples/data/all_cellprofiler-x32.sqlite</td>\n",
       "      <td>5</td>\n",
       "      <td>7.408968e+08</td>\n",
       "      <td>119.390625</td>\n",
       "      <td>examples/data/all_cellprofiler-x32.sqlite (119...</td>\n",
       "      <td>input-x32.sqlite (119 MB)</td>\n",
       "      <td>22.842169</td>\n",
       "      <td>0.690014</td>\n",
       "      <td>5.359227</td>\n",
       "      <td>0.716000</td>\n",
       "      <td>8.265502</td>\n",
       "      <td>0.684067</td>\n",
       "    </tr>\n",
       "    <tr>\n",
       "      <th>36</th>\n",
       "      <td>examples/data/all_cellprofiler-x64.sqlite</td>\n",
       "      <td>0</td>\n",
       "      <td>1.049985e+09</td>\n",
       "      <td>238.683594</td>\n",
       "      <td>examples/data/all_cellprofiler-x64.sqlite (239...</td>\n",
       "      <td>input-x64.sqlite (239 MB)</td>\n",
       "      <td>24.701099</td>\n",
       "      <td>0.977875</td>\n",
       "      <td>7.560812</td>\n",
       "      <td>0.979176</td>\n",
       "      <td>15.793225</td>\n",
       "      <td>1.172638</td>\n",
       "    </tr>\n",
       "    <tr>\n",
       "      <th>37</th>\n",
       "      <td>examples/data/all_cellprofiler-x64.sqlite</td>\n",
       "      <td>1</td>\n",
       "      <td>1.058116e+09</td>\n",
       "      <td>238.683594</td>\n",
       "      <td>examples/data/all_cellprofiler-x64.sqlite (239...</td>\n",
       "      <td>input-x64.sqlite (239 MB)</td>\n",
       "      <td>24.623586</td>\n",
       "      <td>0.985447</td>\n",
       "      <td>6.998953</td>\n",
       "      <td>0.930183</td>\n",
       "      <td>16.120421</td>\n",
       "      <td>1.173111</td>\n",
       "    </tr>\n",
       "    <tr>\n",
       "      <th>38</th>\n",
       "      <td>examples/data/all_cellprofiler-x64.sqlite</td>\n",
       "      <td>2</td>\n",
       "      <td>8.571535e+08</td>\n",
       "      <td>238.683594</td>\n",
       "      <td>examples/data/all_cellprofiler-x64.sqlite (239...</td>\n",
       "      <td>input-x64.sqlite (239 MB)</td>\n",
       "      <td>24.081396</td>\n",
       "      <td>0.798286</td>\n",
       "      <td>7.465187</td>\n",
       "      <td>1.150074</td>\n",
       "      <td>16.114251</td>\n",
       "      <td>1.172928</td>\n",
       "    </tr>\n",
       "    <tr>\n",
       "      <th>39</th>\n",
       "      <td>examples/data/all_cellprofiler-x64.sqlite</td>\n",
       "      <td>3</td>\n",
       "      <td>1.146679e+09</td>\n",
       "      <td>238.683594</td>\n",
       "      <td>examples/data/all_cellprofiler-x64.sqlite (239...</td>\n",
       "      <td>input-x64.sqlite (239 MB)</td>\n",
       "      <td>24.844759</td>\n",
       "      <td>1.067928</td>\n",
       "      <td>7.151062</td>\n",
       "      <td>1.154560</td>\n",
       "      <td>16.523982</td>\n",
       "      <td>1.173168</td>\n",
       "    </tr>\n",
       "    <tr>\n",
       "      <th>40</th>\n",
       "      <td>examples/data/all_cellprofiler-x64.sqlite</td>\n",
       "      <td>4</td>\n",
       "      <td>8.266793e+08</td>\n",
       "      <td>238.683594</td>\n",
       "      <td>examples/data/all_cellprofiler-x64.sqlite (239...</td>\n",
       "      <td>input-x64.sqlite (239 MB)</td>\n",
       "      <td>24.749289</td>\n",
       "      <td>0.769905</td>\n",
       "      <td>6.922514</td>\n",
       "      <td>0.972641</td>\n",
       "      <td>16.534453</td>\n",
       "      <td>1.173050</td>\n",
       "    </tr>\n",
       "    <tr>\n",
       "      <th>41</th>\n",
       "      <td>examples/data/all_cellprofiler-x64.sqlite</td>\n",
       "      <td>5</td>\n",
       "      <td>1.082065e+09</td>\n",
       "      <td>238.683594</td>\n",
       "      <td>examples/data/all_cellprofiler-x64.sqlite (239...</td>\n",
       "      <td>input-x64.sqlite (239 MB)</td>\n",
       "      <td>24.936935</td>\n",
       "      <td>1.007751</td>\n",
       "      <td>7.511013</td>\n",
       "      <td>0.919926</td>\n",
       "      <td>16.274912</td>\n",
       "      <td>1.173416</td>\n",
       "    </tr>\n",
       "    <tr>\n",
       "      <th>42</th>\n",
       "      <td>examples/data/all_cellprofiler-x128.sqlite</td>\n",
       "      <td>0</td>\n",
       "      <td>1.493266e+09</td>\n",
       "      <td>477.300781</td>\n",
       "      <td>examples/data/all_cellprofiler-x128.sqlite (47...</td>\n",
       "      <td>input-x128.sqlite (477 MB)</td>\n",
       "      <td>28.198151</td>\n",
       "      <td>1.390713</td>\n",
       "      <td>10.630057</td>\n",
       "      <td>1.608109</td>\n",
       "      <td>33.770621</td>\n",
       "      <td>2.156013</td>\n",
       "    </tr>\n",
       "    <tr>\n",
       "      <th>43</th>\n",
       "      <td>examples/data/all_cellprofiler-x128.sqlite</td>\n",
       "      <td>1</td>\n",
       "      <td>1.456452e+09</td>\n",
       "      <td>477.300781</td>\n",
       "      <td>examples/data/all_cellprofiler-x128.sqlite (47...</td>\n",
       "      <td>input-x128.sqlite (477 MB)</td>\n",
       "      <td>28.263927</td>\n",
       "      <td>1.356426</td>\n",
       "      <td>10.596211</td>\n",
       "      <td>1.618408</td>\n",
       "      <td>34.400265</td>\n",
       "      <td>2.156075</td>\n",
       "    </tr>\n",
       "    <tr>\n",
       "      <th>44</th>\n",
       "      <td>examples/data/all_cellprofiler-x128.sqlite</td>\n",
       "      <td>2</td>\n",
       "      <td>1.367351e+09</td>\n",
       "      <td>477.300781</td>\n",
       "      <td>examples/data/all_cellprofiler-x128.sqlite (47...</td>\n",
       "      <td>input-x128.sqlite (477 MB)</td>\n",
       "      <td>28.780152</td>\n",
       "      <td>1.273445</td>\n",
       "      <td>10.657022</td>\n",
       "      <td>1.791695</td>\n",
       "      <td>33.595574</td>\n",
       "      <td>2.156452</td>\n",
       "    </tr>\n",
       "    <tr>\n",
       "      <th>45</th>\n",
       "      <td>examples/data/all_cellprofiler-x128.sqlite</td>\n",
       "      <td>3</td>\n",
       "      <td>1.459278e+09</td>\n",
       "      <td>477.300781</td>\n",
       "      <td>examples/data/all_cellprofiler-x128.sqlite (47...</td>\n",
       "      <td>input-x128.sqlite (477 MB)</td>\n",
       "      <td>28.259569</td>\n",
       "      <td>1.359058</td>\n",
       "      <td>11.667468</td>\n",
       "      <td>1.698059</td>\n",
       "      <td>33.684726</td>\n",
       "      <td>2.156483</td>\n",
       "    </tr>\n",
       "    <tr>\n",
       "      <th>46</th>\n",
       "      <td>examples/data/all_cellprofiler-x128.sqlite</td>\n",
       "      <td>4</td>\n",
       "      <td>1.491804e+09</td>\n",
       "      <td>477.300781</td>\n",
       "      <td>examples/data/all_cellprofiler-x128.sqlite (47...</td>\n",
       "      <td>input-x128.sqlite (477 MB)</td>\n",
       "      <td>28.863461</td>\n",
       "      <td>1.389351</td>\n",
       "      <td>10.690261</td>\n",
       "      <td>1.718346</td>\n",
       "      <td>33.527879</td>\n",
       "      <td>2.156277</td>\n",
       "    </tr>\n",
       "    <tr>\n",
       "      <th>47</th>\n",
       "      <td>examples/data/all_cellprofiler-x128.sqlite</td>\n",
       "      <td>5</td>\n",
       "      <td>1.354052e+09</td>\n",
       "      <td>477.300781</td>\n",
       "      <td>examples/data/all_cellprofiler-x128.sqlite (47...</td>\n",
       "      <td>input-x128.sqlite (477 MB)</td>\n",
       "      <td>28.602534</td>\n",
       "      <td>1.261059</td>\n",
       "      <td>11.501536</td>\n",
       "      <td>1.649403</td>\n",
       "      <td>33.529777</td>\n",
       "      <td>2.156258</td>\n",
       "    </tr>\n",
       "    <tr>\n",
       "      <th>48</th>\n",
       "      <td>examples/data/all_cellprofiler-x256.sqlite</td>\n",
       "      <td>0</td>\n",
       "      <td>1.927168e+09</td>\n",
       "      <td>954.632812</td>\n",
       "      <td>examples/data/all_cellprofiler-x256.sqlite (95...</td>\n",
       "      <td>input-x256.sqlite (955 MB)</td>\n",
       "      <td>34.270991</td>\n",
       "      <td>1.794815</td>\n",
       "      <td>17.225282</td>\n",
       "      <td>2.695831</td>\n",
       "      <td>67.078228</td>\n",
       "      <td>4.124538</td>\n",
       "    </tr>\n",
       "    <tr>\n",
       "      <th>49</th>\n",
       "      <td>examples/data/all_cellprofiler-x256.sqlite</td>\n",
       "      <td>1</td>\n",
       "      <td>1.938010e+09</td>\n",
       "      <td>954.632812</td>\n",
       "      <td>examples/data/all_cellprofiler-x256.sqlite (95...</td>\n",
       "      <td>input-x256.sqlite (955 MB)</td>\n",
       "      <td>34.684165</td>\n",
       "      <td>1.804913</td>\n",
       "      <td>19.183701</td>\n",
       "      <td>2.627945</td>\n",
       "      <td>67.363990</td>\n",
       "      <td>4.124924</td>\n",
       "    </tr>\n",
       "    <tr>\n",
       "      <th>50</th>\n",
       "      <td>examples/data/all_cellprofiler-x256.sqlite</td>\n",
       "      <td>2</td>\n",
       "      <td>1.927012e+09</td>\n",
       "      <td>954.632812</td>\n",
       "      <td>examples/data/all_cellprofiler-x256.sqlite (95...</td>\n",
       "      <td>input-x256.sqlite (955 MB)</td>\n",
       "      <td>34.324571</td>\n",
       "      <td>1.794670</td>\n",
       "      <td>19.243667</td>\n",
       "      <td>2.558720</td>\n",
       "      <td>66.641576</td>\n",
       "      <td>4.124908</td>\n",
       "    </tr>\n",
       "    <tr>\n",
       "      <th>51</th>\n",
       "      <td>examples/data/all_cellprofiler-x256.sqlite</td>\n",
       "      <td>3</td>\n",
       "      <td>2.033209e+09</td>\n",
       "      <td>954.632812</td>\n",
       "      <td>examples/data/all_cellprofiler-x256.sqlite (95...</td>\n",
       "      <td>input-x256.sqlite (955 MB)</td>\n",
       "      <td>34.833079</td>\n",
       "      <td>1.893574</td>\n",
       "      <td>17.172862</td>\n",
       "      <td>2.662228</td>\n",
       "      <td>66.948338</td>\n",
       "      <td>4.125107</td>\n",
       "    </tr>\n",
       "    <tr>\n",
       "      <th>52</th>\n",
       "      <td>examples/data/all_cellprofiler-x256.sqlite</td>\n",
       "      <td>4</td>\n",
       "      <td>2.025837e+09</td>\n",
       "      <td>954.632812</td>\n",
       "      <td>examples/data/all_cellprofiler-x256.sqlite (95...</td>\n",
       "      <td>input-x256.sqlite (955 MB)</td>\n",
       "      <td>34.556473</td>\n",
       "      <td>1.886707</td>\n",
       "      <td>16.877595</td>\n",
       "      <td>2.700455</td>\n",
       "      <td>66.739086</td>\n",
       "      <td>4.124996</td>\n",
       "    </tr>\n",
       "    <tr>\n",
       "      <th>53</th>\n",
       "      <td>examples/data/all_cellprofiler-x256.sqlite</td>\n",
       "      <td>5</td>\n",
       "      <td>2.043949e+09</td>\n",
       "      <td>954.632812</td>\n",
       "      <td>examples/data/all_cellprofiler-x256.sqlite (95...</td>\n",
       "      <td>input-x256.sqlite (955 MB)</td>\n",
       "      <td>34.807957</td>\n",
       "      <td>1.903576</td>\n",
       "      <td>17.179406</td>\n",
       "      <td>2.696598</td>\n",
       "      <td>66.421230</td>\n",
       "      <td>4.124554</td>\n",
       "    </tr>\n",
       "    <tr>\n",
       "      <th>54</th>\n",
       "      <td>examples/data/all_cellprofiler-x512.sqlite</td>\n",
       "      <td>0</td>\n",
       "      <td>3.052036e+09</td>\n",
       "      <td>1909.335938</td>\n",
       "      <td>examples/data/all_cellprofiler-x512.sqlite (19...</td>\n",
       "      <td>input-x512.sqlite (1909 MB)</td>\n",
       "      <td>49.546370</td>\n",
       "      <td>2.842430</td>\n",
       "      <td>33.659611</td>\n",
       "      <td>4.126251</td>\n",
       "      <td>138.107148</td>\n",
       "      <td>8.064884</td>\n",
       "    </tr>\n",
       "    <tr>\n",
       "      <th>55</th>\n",
       "      <td>examples/data/all_cellprofiler-x512.sqlite</td>\n",
       "      <td>1</td>\n",
       "      <td>3.270365e+09</td>\n",
       "      <td>1909.335938</td>\n",
       "      <td>examples/data/all_cellprofiler-x512.sqlite (19...</td>\n",
       "      <td>input-x512.sqlite (1909 MB)</td>\n",
       "      <td>49.685872</td>\n",
       "      <td>3.045765</td>\n",
       "      <td>34.662256</td>\n",
       "      <td>4.243469</td>\n",
       "      <td>139.029644</td>\n",
       "      <td>8.065300</td>\n",
       "    </tr>\n",
       "    <tr>\n",
       "      <th>56</th>\n",
       "      <td>examples/data/all_cellprofiler-x512.sqlite</td>\n",
       "      <td>2</td>\n",
       "      <td>2.973872e+09</td>\n",
       "      <td>1909.335938</td>\n",
       "      <td>examples/data/all_cellprofiler-x512.sqlite (19...</td>\n",
       "      <td>input-x512.sqlite (1909 MB)</td>\n",
       "      <td>48.402538</td>\n",
       "      <td>2.769634</td>\n",
       "      <td>34.577611</td>\n",
       "      <td>4.209339</td>\n",
       "      <td>137.958207</td>\n",
       "      <td>8.064419</td>\n",
       "    </tr>\n",
       "    <tr>\n",
       "      <th>57</th>\n",
       "      <td>examples/data/all_cellprofiler-x512.sqlite</td>\n",
       "      <td>3</td>\n",
       "      <td>2.980778e+09</td>\n",
       "      <td>1909.335938</td>\n",
       "      <td>examples/data/all_cellprofiler-x512.sqlite (19...</td>\n",
       "      <td>input-x512.sqlite (1909 MB)</td>\n",
       "      <td>49.622563</td>\n",
       "      <td>2.776066</td>\n",
       "      <td>33.528387</td>\n",
       "      <td>4.279091</td>\n",
       "      <td>138.411487</td>\n",
       "      <td>8.064476</td>\n",
       "    </tr>\n",
       "    <tr>\n",
       "      <th>58</th>\n",
       "      <td>examples/data/all_cellprofiler-x512.sqlite</td>\n",
       "      <td>4</td>\n",
       "      <td>3.012682e+09</td>\n",
       "      <td>1909.335938</td>\n",
       "      <td>examples/data/all_cellprofiler-x512.sqlite (19...</td>\n",
       "      <td>input-x512.sqlite (1909 MB)</td>\n",
       "      <td>49.639454</td>\n",
       "      <td>2.805779</td>\n",
       "      <td>33.557639</td>\n",
       "      <td>4.223537</td>\n",
       "      <td>139.019377</td>\n",
       "      <td>8.064404</td>\n",
       "    </tr>\n",
       "    <tr>\n",
       "      <th>59</th>\n",
       "      <td>examples/data/all_cellprofiler-x512.sqlite</td>\n",
       "      <td>5</td>\n",
       "      <td>2.997576e+09</td>\n",
       "      <td>1909.335938</td>\n",
       "      <td>examples/data/all_cellprofiler-x512.sqlite (19...</td>\n",
       "      <td>input-x512.sqlite (1909 MB)</td>\n",
       "      <td>47.990966</td>\n",
       "      <td>2.791710</td>\n",
       "      <td>34.684057</td>\n",
       "      <td>3.942654</td>\n",
       "      <td>139.114694</td>\n",
       "      <td>8.065296</td>\n",
       "    </tr>\n",
       "  </tbody>\n",
       "</table>\n",
       "</div>"
      ],
      "text/plain": [
       "                                    data_input  iteration  \\\n",
       "0        examples/data/all_cellprofiler.sqlite          0   \n",
       "1        examples/data/all_cellprofiler.sqlite          1   \n",
       "2        examples/data/all_cellprofiler.sqlite          2   \n",
       "3        examples/data/all_cellprofiler.sqlite          3   \n",
       "4        examples/data/all_cellprofiler.sqlite          4   \n",
       "5        examples/data/all_cellprofiler.sqlite          5   \n",
       "6     examples/data/all_cellprofiler-x2.sqlite          0   \n",
       "7     examples/data/all_cellprofiler-x2.sqlite          1   \n",
       "8     examples/data/all_cellprofiler-x2.sqlite          2   \n",
       "9     examples/data/all_cellprofiler-x2.sqlite          3   \n",
       "10    examples/data/all_cellprofiler-x2.sqlite          4   \n",
       "11    examples/data/all_cellprofiler-x2.sqlite          5   \n",
       "12    examples/data/all_cellprofiler-x4.sqlite          0   \n",
       "13    examples/data/all_cellprofiler-x4.sqlite          1   \n",
       "14    examples/data/all_cellprofiler-x4.sqlite          2   \n",
       "15    examples/data/all_cellprofiler-x4.sqlite          3   \n",
       "16    examples/data/all_cellprofiler-x4.sqlite          4   \n",
       "17    examples/data/all_cellprofiler-x4.sqlite          5   \n",
       "18    examples/data/all_cellprofiler-x8.sqlite          0   \n",
       "19    examples/data/all_cellprofiler-x8.sqlite          1   \n",
       "20    examples/data/all_cellprofiler-x8.sqlite          2   \n",
       "21    examples/data/all_cellprofiler-x8.sqlite          3   \n",
       "22    examples/data/all_cellprofiler-x8.sqlite          4   \n",
       "23    examples/data/all_cellprofiler-x8.sqlite          5   \n",
       "24   examples/data/all_cellprofiler-x16.sqlite          0   \n",
       "25   examples/data/all_cellprofiler-x16.sqlite          1   \n",
       "26   examples/data/all_cellprofiler-x16.sqlite          2   \n",
       "27   examples/data/all_cellprofiler-x16.sqlite          3   \n",
       "28   examples/data/all_cellprofiler-x16.sqlite          4   \n",
       "29   examples/data/all_cellprofiler-x16.sqlite          5   \n",
       "30   examples/data/all_cellprofiler-x32.sqlite          0   \n",
       "31   examples/data/all_cellprofiler-x32.sqlite          1   \n",
       "32   examples/data/all_cellprofiler-x32.sqlite          2   \n",
       "33   examples/data/all_cellprofiler-x32.sqlite          3   \n",
       "34   examples/data/all_cellprofiler-x32.sqlite          4   \n",
       "35   examples/data/all_cellprofiler-x32.sqlite          5   \n",
       "36   examples/data/all_cellprofiler-x64.sqlite          0   \n",
       "37   examples/data/all_cellprofiler-x64.sqlite          1   \n",
       "38   examples/data/all_cellprofiler-x64.sqlite          2   \n",
       "39   examples/data/all_cellprofiler-x64.sqlite          3   \n",
       "40   examples/data/all_cellprofiler-x64.sqlite          4   \n",
       "41   examples/data/all_cellprofiler-x64.sqlite          5   \n",
       "42  examples/data/all_cellprofiler-x128.sqlite          0   \n",
       "43  examples/data/all_cellprofiler-x128.sqlite          1   \n",
       "44  examples/data/all_cellprofiler-x128.sqlite          2   \n",
       "45  examples/data/all_cellprofiler-x128.sqlite          3   \n",
       "46  examples/data/all_cellprofiler-x128.sqlite          4   \n",
       "47  examples/data/all_cellprofiler-x128.sqlite          5   \n",
       "48  examples/data/all_cellprofiler-x256.sqlite          0   \n",
       "49  examples/data/all_cellprofiler-x256.sqlite          1   \n",
       "50  examples/data/all_cellprofiler-x256.sqlite          2   \n",
       "51  examples/data/all_cellprofiler-x256.sqlite          3   \n",
       "52  examples/data/all_cellprofiler-x256.sqlite          4   \n",
       "53  examples/data/all_cellprofiler-x256.sqlite          5   \n",
       "54  examples/data/all_cellprofiler-x512.sqlite          0   \n",
       "55  examples/data/all_cellprofiler-x512.sqlite          1   \n",
       "56  examples/data/all_cellprofiler-x512.sqlite          2   \n",
       "57  examples/data/all_cellprofiler-x512.sqlite          3   \n",
       "58  examples/data/all_cellprofiler-x512.sqlite          4   \n",
       "59  examples/data/all_cellprofiler-x512.sqlite          5   \n",
       "\n",
       "    peak_memory (bytes)  data_input_size_mb  \\\n",
       "0          3.631473e+08            3.843750   \n",
       "1          3.596739e+08            3.843750   \n",
       "2          3.521085e+08            3.843750   \n",
       "3          3.731005e+08            3.843750   \n",
       "4          3.641754e+08            3.843750   \n",
       "5          3.526410e+08            3.843750   \n",
       "6          3.561923e+08            7.578125   \n",
       "7          3.561636e+08            7.578125   \n",
       "8          3.756278e+08            7.578125   \n",
       "9          3.925975e+08            7.578125   \n",
       "10         3.584573e+08            7.578125   \n",
       "11         3.575112e+08            7.578125   \n",
       "12         3.820626e+08           15.031250   \n",
       "13         3.993108e+08           15.031250   \n",
       "14         3.829883e+08           15.031250   \n",
       "15         3.772785e+08           15.031250   \n",
       "16         3.774054e+08           15.031250   \n",
       "17         3.777495e+08           15.031250   \n",
       "18         4.656701e+08           29.937500   \n",
       "19         4.387185e+08           29.937500   \n",
       "20         4.561265e+08           29.937500   \n",
       "21         4.511498e+08           29.937500   \n",
       "22         5.187052e+08           29.937500   \n",
       "23         4.383293e+08           29.937500   \n",
       "24         5.004534e+08           59.765625   \n",
       "25         5.876081e+08           59.765625   \n",
       "26         5.441782e+08           59.765625   \n",
       "27         5.743698e+08           59.765625   \n",
       "28         6.021734e+08           59.765625   \n",
       "29         5.186314e+08           59.765625   \n",
       "30         6.940140e+08          119.390625   \n",
       "31         7.405937e+08          119.390625   \n",
       "32         7.773676e+08          119.390625   \n",
       "33         6.571049e+08          119.390625   \n",
       "34         7.114506e+08          119.390625   \n",
       "35         7.408968e+08          119.390625   \n",
       "36         1.049985e+09          238.683594   \n",
       "37         1.058116e+09          238.683594   \n",
       "38         8.571535e+08          238.683594   \n",
       "39         1.146679e+09          238.683594   \n",
       "40         8.266793e+08          238.683594   \n",
       "41         1.082065e+09          238.683594   \n",
       "42         1.493266e+09          477.300781   \n",
       "43         1.456452e+09          477.300781   \n",
       "44         1.367351e+09          477.300781   \n",
       "45         1.459278e+09          477.300781   \n",
       "46         1.491804e+09          477.300781   \n",
       "47         1.354052e+09          477.300781   \n",
       "48         1.927168e+09          954.632812   \n",
       "49         1.938010e+09          954.632812   \n",
       "50         1.927012e+09          954.632812   \n",
       "51         2.033209e+09          954.632812   \n",
       "52         2.025837e+09          954.632812   \n",
       "53         2.043949e+09          954.632812   \n",
       "54         3.052036e+09         1909.335938   \n",
       "55         3.270365e+09         1909.335938   \n",
       "56         2.973872e+09         1909.335938   \n",
       "57         2.980778e+09         1909.335938   \n",
       "58         3.012682e+09         1909.335938   \n",
       "59         2.997576e+09         1909.335938   \n",
       "\n",
       "                                 data_input_with_size  \\\n",
       "0        examples/data/all_cellprofiler.sqlite (4 MB)   \n",
       "1        examples/data/all_cellprofiler.sqlite (4 MB)   \n",
       "2        examples/data/all_cellprofiler.sqlite (4 MB)   \n",
       "3        examples/data/all_cellprofiler.sqlite (4 MB)   \n",
       "4        examples/data/all_cellprofiler.sqlite (4 MB)   \n",
       "5        examples/data/all_cellprofiler.sqlite (4 MB)   \n",
       "6     examples/data/all_cellprofiler-x2.sqlite (8 MB)   \n",
       "7     examples/data/all_cellprofiler-x2.sqlite (8 MB)   \n",
       "8     examples/data/all_cellprofiler-x2.sqlite (8 MB)   \n",
       "9     examples/data/all_cellprofiler-x2.sqlite (8 MB)   \n",
       "10    examples/data/all_cellprofiler-x2.sqlite (8 MB)   \n",
       "11    examples/data/all_cellprofiler-x2.sqlite (8 MB)   \n",
       "12   examples/data/all_cellprofiler-x4.sqlite (15 MB)   \n",
       "13   examples/data/all_cellprofiler-x4.sqlite (15 MB)   \n",
       "14   examples/data/all_cellprofiler-x4.sqlite (15 MB)   \n",
       "15   examples/data/all_cellprofiler-x4.sqlite (15 MB)   \n",
       "16   examples/data/all_cellprofiler-x4.sqlite (15 MB)   \n",
       "17   examples/data/all_cellprofiler-x4.sqlite (15 MB)   \n",
       "18   examples/data/all_cellprofiler-x8.sqlite (30 MB)   \n",
       "19   examples/data/all_cellprofiler-x8.sqlite (30 MB)   \n",
       "20   examples/data/all_cellprofiler-x8.sqlite (30 MB)   \n",
       "21   examples/data/all_cellprofiler-x8.sqlite (30 MB)   \n",
       "22   examples/data/all_cellprofiler-x8.sqlite (30 MB)   \n",
       "23   examples/data/all_cellprofiler-x8.sqlite (30 MB)   \n",
       "24  examples/data/all_cellprofiler-x16.sqlite (60 MB)   \n",
       "25  examples/data/all_cellprofiler-x16.sqlite (60 MB)   \n",
       "26  examples/data/all_cellprofiler-x16.sqlite (60 MB)   \n",
       "27  examples/data/all_cellprofiler-x16.sqlite (60 MB)   \n",
       "28  examples/data/all_cellprofiler-x16.sqlite (60 MB)   \n",
       "29  examples/data/all_cellprofiler-x16.sqlite (60 MB)   \n",
       "30  examples/data/all_cellprofiler-x32.sqlite (119...   \n",
       "31  examples/data/all_cellprofiler-x32.sqlite (119...   \n",
       "32  examples/data/all_cellprofiler-x32.sqlite (119...   \n",
       "33  examples/data/all_cellprofiler-x32.sqlite (119...   \n",
       "34  examples/data/all_cellprofiler-x32.sqlite (119...   \n",
       "35  examples/data/all_cellprofiler-x32.sqlite (119...   \n",
       "36  examples/data/all_cellprofiler-x64.sqlite (239...   \n",
       "37  examples/data/all_cellprofiler-x64.sqlite (239...   \n",
       "38  examples/data/all_cellprofiler-x64.sqlite (239...   \n",
       "39  examples/data/all_cellprofiler-x64.sqlite (239...   \n",
       "40  examples/data/all_cellprofiler-x64.sqlite (239...   \n",
       "41  examples/data/all_cellprofiler-x64.sqlite (239...   \n",
       "42  examples/data/all_cellprofiler-x128.sqlite (47...   \n",
       "43  examples/data/all_cellprofiler-x128.sqlite (47...   \n",
       "44  examples/data/all_cellprofiler-x128.sqlite (47...   \n",
       "45  examples/data/all_cellprofiler-x128.sqlite (47...   \n",
       "46  examples/data/all_cellprofiler-x128.sqlite (47...   \n",
       "47  examples/data/all_cellprofiler-x128.sqlite (47...   \n",
       "48  examples/data/all_cellprofiler-x256.sqlite (95...   \n",
       "49  examples/data/all_cellprofiler-x256.sqlite (95...   \n",
       "50  examples/data/all_cellprofiler-x256.sqlite (95...   \n",
       "51  examples/data/all_cellprofiler-x256.sqlite (95...   \n",
       "52  examples/data/all_cellprofiler-x256.sqlite (95...   \n",
       "53  examples/data/all_cellprofiler-x256.sqlite (95...   \n",
       "54  examples/data/all_cellprofiler-x512.sqlite (19...   \n",
       "55  examples/data/all_cellprofiler-x512.sqlite (19...   \n",
       "56  examples/data/all_cellprofiler-x512.sqlite (19...   \n",
       "57  examples/data/all_cellprofiler-x512.sqlite (19...   \n",
       "58  examples/data/all_cellprofiler-x512.sqlite (19...   \n",
       "59  examples/data/all_cellprofiler-x512.sqlite (19...   \n",
       "\n",
       "             data_input_renamed  \\\n",
       "0           input.sqlite (4 MB)   \n",
       "1           input.sqlite (4 MB)   \n",
       "2           input.sqlite (4 MB)   \n",
       "3           input.sqlite (4 MB)   \n",
       "4           input.sqlite (4 MB)   \n",
       "5           input.sqlite (4 MB)   \n",
       "6        input-x2.sqlite (8 MB)   \n",
       "7        input-x2.sqlite (8 MB)   \n",
       "8        input-x2.sqlite (8 MB)   \n",
       "9        input-x2.sqlite (8 MB)   \n",
       "10       input-x2.sqlite (8 MB)   \n",
       "11       input-x2.sqlite (8 MB)   \n",
       "12      input-x4.sqlite (15 MB)   \n",
       "13      input-x4.sqlite (15 MB)   \n",
       "14      input-x4.sqlite (15 MB)   \n",
       "15      input-x4.sqlite (15 MB)   \n",
       "16      input-x4.sqlite (15 MB)   \n",
       "17      input-x4.sqlite (15 MB)   \n",
       "18      input-x8.sqlite (30 MB)   \n",
       "19      input-x8.sqlite (30 MB)   \n",
       "20      input-x8.sqlite (30 MB)   \n",
       "21      input-x8.sqlite (30 MB)   \n",
       "22      input-x8.sqlite (30 MB)   \n",
       "23      input-x8.sqlite (30 MB)   \n",
       "24     input-x16.sqlite (60 MB)   \n",
       "25     input-x16.sqlite (60 MB)   \n",
       "26     input-x16.sqlite (60 MB)   \n",
       "27     input-x16.sqlite (60 MB)   \n",
       "28     input-x16.sqlite (60 MB)   \n",
       "29     input-x16.sqlite (60 MB)   \n",
       "30    input-x32.sqlite (119 MB)   \n",
       "31    input-x32.sqlite (119 MB)   \n",
       "32    input-x32.sqlite (119 MB)   \n",
       "33    input-x32.sqlite (119 MB)   \n",
       "34    input-x32.sqlite (119 MB)   \n",
       "35    input-x32.sqlite (119 MB)   \n",
       "36    input-x64.sqlite (239 MB)   \n",
       "37    input-x64.sqlite (239 MB)   \n",
       "38    input-x64.sqlite (239 MB)   \n",
       "39    input-x64.sqlite (239 MB)   \n",
       "40    input-x64.sqlite (239 MB)   \n",
       "41    input-x64.sqlite (239 MB)   \n",
       "42   input-x128.sqlite (477 MB)   \n",
       "43   input-x128.sqlite (477 MB)   \n",
       "44   input-x128.sqlite (477 MB)   \n",
       "45   input-x128.sqlite (477 MB)   \n",
       "46   input-x128.sqlite (477 MB)   \n",
       "47   input-x128.sqlite (477 MB)   \n",
       "48   input-x256.sqlite (955 MB)   \n",
       "49   input-x256.sqlite (955 MB)   \n",
       "50   input-x256.sqlite (955 MB)   \n",
       "51   input-x256.sqlite (955 MB)   \n",
       "52   input-x256.sqlite (955 MB)   \n",
       "53   input-x256.sqlite (955 MB)   \n",
       "54  input-x512.sqlite (1909 MB)   \n",
       "55  input-x512.sqlite (1909 MB)   \n",
       "56  input-x512.sqlite (1909 MB)   \n",
       "57  input-x512.sqlite (1909 MB)   \n",
       "58  input-x512.sqlite (1909 MB)   \n",
       "59  input-x512.sqlite (1909 MB)   \n",
       "\n",
       "    cytotable_time_duration (multiprocess) (secs)  \\\n",
       "0                                       21.384496   \n",
       "1                                       21.018959   \n",
       "2                                       21.405169   \n",
       "3                                       21.244814   \n",
       "4                                       21.363728   \n",
       "5                                       21.729096   \n",
       "6                                       21.973524   \n",
       "7                                       21.370225   \n",
       "8                                       21.611075   \n",
       "9                                       21.235337   \n",
       "10                                      21.300289   \n",
       "11                                      21.403198   \n",
       "12                                      21.310329   \n",
       "13                                      21.233880   \n",
       "14                                      21.611241   \n",
       "15                                      21.189033   \n",
       "16                                      21.169588   \n",
       "17                                      21.693600   \n",
       "18                                      21.719416   \n",
       "19                                      21.639305   \n",
       "20                                      21.540652   \n",
       "21                                      21.738744   \n",
       "22                                      21.770709   \n",
       "23                                      21.653080   \n",
       "24                                      22.350140   \n",
       "25                                      21.965426   \n",
       "26                                      21.928231   \n",
       "27                                      22.404097   \n",
       "28                                      22.036380   \n",
       "29                                      21.997540   \n",
       "30                                      22.734063   \n",
       "31                                      22.647534   \n",
       "32                                      22.998181   \n",
       "33                                      23.631211   \n",
       "34                                      23.055712   \n",
       "35                                      22.842169   \n",
       "36                                      24.701099   \n",
       "37                                      24.623586   \n",
       "38                                      24.081396   \n",
       "39                                      24.844759   \n",
       "40                                      24.749289   \n",
       "41                                      24.936935   \n",
       "42                                      28.198151   \n",
       "43                                      28.263927   \n",
       "44                                      28.780152   \n",
       "45                                      28.259569   \n",
       "46                                      28.863461   \n",
       "47                                      28.602534   \n",
       "48                                      34.270991   \n",
       "49                                      34.684165   \n",
       "50                                      34.324571   \n",
       "51                                      34.833079   \n",
       "52                                      34.556473   \n",
       "53                                      34.807957   \n",
       "54                                      49.546370   \n",
       "55                                      49.685872   \n",
       "56                                      48.402538   \n",
       "57                                      49.622563   \n",
       "58                                      49.639454   \n",
       "59                                      47.990966   \n",
       "\n",
       "    cytotable_peak_memory (multiprocess) (GB)  \\\n",
       "0                                    0.338207   \n",
       "1                                    0.334972   \n",
       "2                                    0.327927   \n",
       "3                                    0.347477   \n",
       "4                                    0.339165   \n",
       "5                                    0.328423   \n",
       "6                                    0.331730   \n",
       "7                                    0.331703   \n",
       "8                                    0.349831   \n",
       "9                                    0.365635   \n",
       "10                                   0.333839   \n",
       "11                                   0.332958   \n",
       "12                                   0.355824   \n",
       "13                                   0.371887   \n",
       "14                                   0.356686   \n",
       "15                                   0.351368   \n",
       "16                                   0.351486   \n",
       "17                                   0.351807   \n",
       "18                                   0.433689   \n",
       "19                                   0.408588   \n",
       "20                                   0.424801   \n",
       "21                                   0.420166   \n",
       "22                                   0.483082   \n",
       "23                                   0.408226   \n",
       "24                                   0.466084   \n",
       "25                                   0.547253   \n",
       "26                                   0.506805   \n",
       "27                                   0.534924   \n",
       "28                                   0.560818   \n",
       "29                                   0.483013   \n",
       "30                                   0.646351   \n",
       "31                                   0.689732   \n",
       "32                                   0.723980   \n",
       "33                                   0.611977   \n",
       "34                                   0.662590   \n",
       "35                                   0.690014   \n",
       "36                                   0.977875   \n",
       "37                                   0.985447   \n",
       "38                                   0.798286   \n",
       "39                                   1.067928   \n",
       "40                                   0.769905   \n",
       "41                                   1.007751   \n",
       "42                                   1.390713   \n",
       "43                                   1.356426   \n",
       "44                                   1.273445   \n",
       "45                                   1.359058   \n",
       "46                                   1.389351   \n",
       "47                                   1.261059   \n",
       "48                                   1.794815   \n",
       "49                                   1.804913   \n",
       "50                                   1.794670   \n",
       "51                                   1.893574   \n",
       "52                                   1.886707   \n",
       "53                                   1.903576   \n",
       "54                                   2.842430   \n",
       "55                                   3.045765   \n",
       "56                                   2.769634   \n",
       "57                                   2.776066   \n",
       "58                                   2.805779   \n",
       "59                                   2.791710   \n",
       "\n",
       "    cytotable_time_duration (multithread) (secs)  \\\n",
       "0                                       3.382802   \n",
       "1                                       3.359946   \n",
       "2                                       3.406309   \n",
       "3                                       3.450309   \n",
       "4                                       3.344983   \n",
       "5                                       3.339835   \n",
       "6                                       3.400347   \n",
       "7                                       3.443927   \n",
       "8                                       3.447607   \n",
       "9                                       3.452294   \n",
       "10                                      3.500978   \n",
       "11                                      3.415675   \n",
       "12                                      3.644090   \n",
       "13                                      3.603753   \n",
       "14                                      3.648146   \n",
       "15                                      3.587915   \n",
       "16                                      3.668450   \n",
       "17                                      3.670504   \n",
       "18                                      4.061007   \n",
       "19                                      4.056178   \n",
       "20                                      3.985098   \n",
       "21                                      4.078631   \n",
       "22                                      4.070775   \n",
       "23                                      3.989197   \n",
       "24                                      4.391573   \n",
       "25                                      4.393216   \n",
       "26                                      4.516592   \n",
       "27                                      4.346780   \n",
       "28                                      4.389602   \n",
       "29                                      4.700246   \n",
       "30                                      5.339699   \n",
       "31                                      5.489901   \n",
       "32                                      5.205241   \n",
       "33                                      5.560186   \n",
       "34                                      5.244938   \n",
       "35                                      5.359227   \n",
       "36                                      7.560812   \n",
       "37                                      6.998953   \n",
       "38                                      7.465187   \n",
       "39                                      7.151062   \n",
       "40                                      6.922514   \n",
       "41                                      7.511013   \n",
       "42                                     10.630057   \n",
       "43                                     10.596211   \n",
       "44                                     10.657022   \n",
       "45                                     11.667468   \n",
       "46                                     10.690261   \n",
       "47                                     11.501536   \n",
       "48                                     17.225282   \n",
       "49                                     19.183701   \n",
       "50                                     19.243667   \n",
       "51                                     17.172862   \n",
       "52                                     16.877595   \n",
       "53                                     17.179406   \n",
       "54                                     33.659611   \n",
       "55                                     34.662256   \n",
       "56                                     34.577611   \n",
       "57                                     33.528387   \n",
       "58                                     33.557639   \n",
       "59                                     34.684057   \n",
       "\n",
       "    cytotable_peak_memory (multithread) (GB)  \\\n",
       "0                                   0.311058   \n",
       "1                                   0.333794   \n",
       "2                                   0.317390   \n",
       "3                                   0.318626   \n",
       "4                                   0.301388   \n",
       "5                                   0.302345   \n",
       "6                                   0.301991   \n",
       "7                                   0.320011   \n",
       "8                                   0.318329   \n",
       "9                                   0.346390   \n",
       "10                                  0.350273   \n",
       "11                                  0.339626   \n",
       "12                                  0.414268   \n",
       "13                                  0.372887   \n",
       "14                                  0.351509   \n",
       "15                                  0.388134   \n",
       "16                                  0.406666   \n",
       "17                                  0.354252   \n",
       "18                                  0.470730   \n",
       "19                                  0.409195   \n",
       "20                                  0.415234   \n",
       "21                                  0.451820   \n",
       "22                                  0.468502   \n",
       "23                                  0.444408   \n",
       "24                                  0.584862   \n",
       "25                                  0.570023   \n",
       "26                                  0.562775   \n",
       "27                                  0.532894   \n",
       "28                                  0.544773   \n",
       "29                                  0.572739   \n",
       "30                                  0.616547   \n",
       "31                                  0.605682   \n",
       "32                                  0.693443   \n",
       "33                                  0.751198   \n",
       "34                                  0.734558   \n",
       "35                                  0.716000   \n",
       "36                                  0.979176   \n",
       "37                                  0.930183   \n",
       "38                                  1.150074   \n",
       "39                                  1.154560   \n",
       "40                                  0.972641   \n",
       "41                                  0.919926   \n",
       "42                                  1.608109   \n",
       "43                                  1.618408   \n",
       "44                                  1.791695   \n",
       "45                                  1.698059   \n",
       "46                                  1.718346   \n",
       "47                                  1.649403   \n",
       "48                                  2.695831   \n",
       "49                                  2.627945   \n",
       "50                                  2.558720   \n",
       "51                                  2.662228   \n",
       "52                                  2.700455   \n",
       "53                                  2.696598   \n",
       "54                                  4.126251   \n",
       "55                                  4.243469   \n",
       "56                                  4.209339   \n",
       "57                                  4.279091   \n",
       "58                                  4.223537   \n",
       "59                                  3.942654   \n",
       "\n",
       "    pycytominer_time_duration (secs)  pycytominer_peak_memory (GB)  \n",
       "0                           1.776670                      0.207531  \n",
       "1                           1.768085                      0.207428  \n",
       "2                           1.775051                      0.207069  \n",
       "3                           1.773164                      0.206005  \n",
       "4                           1.778455                      0.207150  \n",
       "5                           1.743157                      0.207054  \n",
       "6                           1.958470                      0.221584  \n",
       "7                           1.955712                      0.221718  \n",
       "8                           1.979242                      0.221439  \n",
       "9                           2.037822                      0.215111  \n",
       "10                          1.996777                      0.226254  \n",
       "11                          1.967663                      0.221939  \n",
       "12                          2.338809                      0.251209  \n",
       "13                          2.331016                      0.251354  \n",
       "14                          2.367945                      0.250782  \n",
       "15                          2.340204                      0.251244  \n",
       "16                          2.348739                      0.251541  \n",
       "17                          2.350373                      0.251175  \n",
       "18                          3.174598                      0.305126  \n",
       "19                          3.263625                      0.311493  \n",
       "20                          3.174081                      0.304535  \n",
       "21                          3.183313                      0.315937  \n",
       "22                          3.146029                      0.315948  \n",
       "23                          3.171839                      0.304459  \n",
       "24                          4.942839                      0.434032  \n",
       "25                          5.044000                      0.438519  \n",
       "26                          4.978796                      0.434334  \n",
       "27                          4.947732                      0.434422  \n",
       "28                          5.039386                      0.438606  \n",
       "29                          4.951326                      0.438133  \n",
       "30                          8.613049                      0.684189  \n",
       "31                          8.661658                      0.684010  \n",
       "32                          8.497556                      0.683960  \n",
       "33                          8.703588                      0.684074  \n",
       "34                          8.355879                      0.684231  \n",
       "35                          8.265502                      0.684067  \n",
       "36                         15.793225                      1.172638  \n",
       "37                         16.120421                      1.173111  \n",
       "38                         16.114251                      1.172928  \n",
       "39                         16.523982                      1.173168  \n",
       "40                         16.534453                      1.173050  \n",
       "41                         16.274912                      1.173416  \n",
       "42                         33.770621                      2.156013  \n",
       "43                         34.400265                      2.156075  \n",
       "44                         33.595574                      2.156452  \n",
       "45                         33.684726                      2.156483  \n",
       "46                         33.527879                      2.156277  \n",
       "47                         33.529777                      2.156258  \n",
       "48                         67.078228                      4.124538  \n",
       "49                         67.363990                      4.124924  \n",
       "50                         66.641576                      4.124908  \n",
       "51                         66.948338                      4.125107  \n",
       "52                         66.739086                      4.124996  \n",
       "53                         66.421230                      4.124554  \n",
       "54                        138.107148                      8.064884  \n",
       "55                        139.029644                      8.065300  \n",
       "56                        137.958207                      8.064419  \n",
       "57                        138.411487                      8.064476  \n",
       "58                        139.019377                      8.064404  \n",
       "59                        139.114694                      8.065296  "
      ]
     },
     "execution_count": 8,
     "metadata": {},
     "output_type": "execute_result"
    }
   ],
   "source": [
    "# build cols for split reference in the plot\n",
    "df_results[\"cytotable_time_duration (multiprocess) (secs)\"] = df_results[\n",
    "    df_results[\"file_input\"] == \"cytotable_convert_nf1_multiprocess_sqlite.py\"\n",
    "][\"time_duration (secs)\"]\n",
    "df_results[\"cytotable_peak_memory (multiprocess) (GB)\"] = df_results[\n",
    "    df_results[\"file_input\"] == \"cytotable_convert_nf1_multiprocess_sqlite.py\"\n",
    "][\"peak_memory (GB)\"]\n",
    "df_results[\"cytotable_time_duration (multithread) (secs)\"] = df_results[\n",
    "    df_results[\"file_input\"] == \"cytotable_convert_nf1_multithread_sqlite.py\"\n",
    "][\"time_duration (secs)\"]\n",
    "df_results[\"cytotable_peak_memory (multithread) (GB)\"] = df_results[\n",
    "    df_results[\"file_input\"] == \"cytotable_convert_nf1_multithread_sqlite.py\"\n",
    "][\"peak_memory (GB)\"]\n",
    "df_results[\"pycytominer_time_duration (secs)\"] = df_results[\n",
    "    df_results[\"file_input\"] == \"pycytominer_merge_nf1_sqlite.py\"\n",
    "][\"time_duration (secs)\"]\n",
    "df_results[\"pycytominer_peak_memory (GB)\"] = df_results[\n",
    "    df_results[\"file_input\"] == \"pycytominer_merge_nf1_sqlite.py\"\n",
    "][\"peak_memory (GB)\"]\n",
    "df_results = (\n",
    "    df_results.apply(lambda x: pd.Series(x.dropna().values))\n",
    "    .drop([\"file_input\", \"time_duration (secs)\", \"peak_memory (GB)\"], axis=1)\n",
    "    .dropna()\n",
    ")\n",
    "df_results"
   ]
  },
  {
   "cell_type": "code",
   "execution_count": 9,
   "id": "2e088609-d453-459e-b78e-4e2f07ec1af7",
   "metadata": {
    "execution": {
     "iopub.execute_input": "2025-05-14T18:13:56.680698Z",
     "iopub.status.busy": "2025-05-14T18:13:56.680078Z",
     "iopub.status.idle": "2025-05-14T18:13:56.712561Z",
     "shell.execute_reply": "2025-05-14T18:13:56.711638Z"
    },
    "papermill": {
     "duration": 0.054746,
     "end_time": "2025-05-14T18:13:56.713702",
     "exception": false,
     "start_time": "2025-05-14T18:13:56.658956",
     "status": "completed"
    },
    "tags": []
   },
   "outputs": [
    {
     "data": {
      "text/html": [
       "<div>\n",
       "<style scoped>\n",
       "    .dataframe tbody tr th:only-of-type {\n",
       "        vertical-align: middle;\n",
       "    }\n",
       "\n",
       "    .dataframe tbody tr th {\n",
       "        vertical-align: top;\n",
       "    }\n",
       "\n",
       "    .dataframe thead th {\n",
       "        text-align: right;\n",
       "    }\n",
       "</style>\n",
       "<table border=\"1\" class=\"dataframe\">\n",
       "  <thead>\n",
       "    <tr style=\"text-align: right;\">\n",
       "      <th></th>\n",
       "      <th>data_input_renamed</th>\n",
       "      <th>cytotable_time_duration (multiprocess) (secs) (mean)</th>\n",
       "      <th>cytotable_time_duration (multiprocess) (secs) (min)</th>\n",
       "      <th>cytotable_time_duration (multiprocess) (secs) (max)</th>\n",
       "      <th>cytotable_time_duration (multithread) (secs) (mean)</th>\n",
       "      <th>cytotable_time_duration (multithread) (secs) (min)</th>\n",
       "      <th>cytotable_time_duration (multithread) (secs) (max)</th>\n",
       "      <th>pycytominer_time_duration (secs) (mean)</th>\n",
       "      <th>pycytominer_time_duration (secs) (min)</th>\n",
       "      <th>pycytominer_time_duration (secs) (max)</th>\n",
       "      <th>cytotable_peak_memory (multiprocess) (GB) (mean)</th>\n",
       "      <th>cytotable_peak_memory (multiprocess) (GB) (min)</th>\n",
       "      <th>cytotable_peak_memory (multiprocess) (GB) (max)</th>\n",
       "      <th>cytotable_peak_memory (multithread) (GB) (mean)</th>\n",
       "      <th>cytotable_peak_memory (multithread) (GB) (min)</th>\n",
       "      <th>cytotable_peak_memory (multithread) (GB) (max)</th>\n",
       "      <th>pycytominer_peak_memory (GB) (mean)</th>\n",
       "      <th>pycytominer_peak_memory (GB) (min)</th>\n",
       "      <th>pycytominer_peak_memory (GB) (max)</th>\n",
       "    </tr>\n",
       "  </thead>\n",
       "  <tbody>\n",
       "    <tr>\n",
       "      <th>2</th>\n",
       "      <td>input-x2.sqlite (8 MB)</td>\n",
       "      <td>21.482275</td>\n",
       "      <td>21.235337</td>\n",
       "      <td>21.973524</td>\n",
       "      <td>3.443471</td>\n",
       "      <td>3.400347</td>\n",
       "      <td>3.500978</td>\n",
       "      <td>1.982614</td>\n",
       "      <td>1.955712</td>\n",
       "      <td>2.037822</td>\n",
       "      <td>0.340949</td>\n",
       "      <td>0.331703</td>\n",
       "      <td>0.365635</td>\n",
       "      <td>0.329437</td>\n",
       "      <td>0.301991</td>\n",
       "      <td>0.350273</td>\n",
       "      <td>0.221341</td>\n",
       "      <td>0.215111</td>\n",
       "      <td>0.226254</td>\n",
       "    </tr>\n",
       "    <tr>\n",
       "      <th>5</th>\n",
       "      <td>input-x4.sqlite (15 MB)</td>\n",
       "      <td>21.367945</td>\n",
       "      <td>21.169588</td>\n",
       "      <td>21.693600</td>\n",
       "      <td>3.637143</td>\n",
       "      <td>3.587915</td>\n",
       "      <td>3.670504</td>\n",
       "      <td>2.346181</td>\n",
       "      <td>2.331016</td>\n",
       "      <td>2.367945</td>\n",
       "      <td>0.356510</td>\n",
       "      <td>0.351368</td>\n",
       "      <td>0.371887</td>\n",
       "      <td>0.381286</td>\n",
       "      <td>0.351509</td>\n",
       "      <td>0.414268</td>\n",
       "      <td>0.251218</td>\n",
       "      <td>0.250782</td>\n",
       "      <td>0.251541</td>\n",
       "    </tr>\n",
       "    <tr>\n",
       "      <th>9</th>\n",
       "      <td>input.sqlite (4 MB)</td>\n",
       "      <td>21.357710</td>\n",
       "      <td>21.018959</td>\n",
       "      <td>21.729096</td>\n",
       "      <td>3.380697</td>\n",
       "      <td>3.339835</td>\n",
       "      <td>3.450309</td>\n",
       "      <td>1.769097</td>\n",
       "      <td>1.743157</td>\n",
       "      <td>1.778455</td>\n",
       "      <td>0.336028</td>\n",
       "      <td>0.327927</td>\n",
       "      <td>0.347477</td>\n",
       "      <td>0.314100</td>\n",
       "      <td>0.301388</td>\n",
       "      <td>0.333794</td>\n",
       "      <td>0.207040</td>\n",
       "      <td>0.206005</td>\n",
       "      <td>0.207531</td>\n",
       "    </tr>\n",
       "    <tr>\n",
       "      <th>8</th>\n",
       "      <td>input-x8.sqlite (30 MB)</td>\n",
       "      <td>21.676985</td>\n",
       "      <td>21.540652</td>\n",
       "      <td>21.770709</td>\n",
       "      <td>4.040147</td>\n",
       "      <td>3.985098</td>\n",
       "      <td>4.078631</td>\n",
       "      <td>3.185581</td>\n",
       "      <td>3.146029</td>\n",
       "      <td>3.263625</td>\n",
       "      <td>0.429759</td>\n",
       "      <td>0.408226</td>\n",
       "      <td>0.483082</td>\n",
       "      <td>0.443315</td>\n",
       "      <td>0.409195</td>\n",
       "      <td>0.470730</td>\n",
       "      <td>0.309583</td>\n",
       "      <td>0.304459</td>\n",
       "      <td>0.315948</td>\n",
       "    </tr>\n",
       "    <tr>\n",
       "      <th>1</th>\n",
       "      <td>input-x16.sqlite (60 MB)</td>\n",
       "      <td>22.113636</td>\n",
       "      <td>21.928231</td>\n",
       "      <td>22.404097</td>\n",
       "      <td>4.456335</td>\n",
       "      <td>4.346780</td>\n",
       "      <td>4.700246</td>\n",
       "      <td>4.984013</td>\n",
       "      <td>4.942839</td>\n",
       "      <td>5.044000</td>\n",
       "      <td>0.516483</td>\n",
       "      <td>0.466084</td>\n",
       "      <td>0.560818</td>\n",
       "      <td>0.561344</td>\n",
       "      <td>0.532894</td>\n",
       "      <td>0.584862</td>\n",
       "      <td>0.436341</td>\n",
       "      <td>0.434032</td>\n",
       "      <td>0.438606</td>\n",
       "    </tr>\n",
       "    <tr>\n",
       "      <th>4</th>\n",
       "      <td>input-x32.sqlite (119 MB)</td>\n",
       "      <td>22.984812</td>\n",
       "      <td>22.647534</td>\n",
       "      <td>23.631211</td>\n",
       "      <td>5.366532</td>\n",
       "      <td>5.205241</td>\n",
       "      <td>5.560186</td>\n",
       "      <td>8.516205</td>\n",
       "      <td>8.265502</td>\n",
       "      <td>8.703588</td>\n",
       "      <td>0.670774</td>\n",
       "      <td>0.611977</td>\n",
       "      <td>0.723980</td>\n",
       "      <td>0.686238</td>\n",
       "      <td>0.605682</td>\n",
       "      <td>0.751198</td>\n",
       "      <td>0.684088</td>\n",
       "      <td>0.683960</td>\n",
       "      <td>0.684231</td>\n",
       "    </tr>\n",
       "    <tr>\n",
       "      <th>7</th>\n",
       "      <td>input-x64.sqlite (239 MB)</td>\n",
       "      <td>24.656177</td>\n",
       "      <td>24.081396</td>\n",
       "      <td>24.936935</td>\n",
       "      <td>7.268257</td>\n",
       "      <td>6.922514</td>\n",
       "      <td>7.560812</td>\n",
       "      <td>16.226874</td>\n",
       "      <td>15.793225</td>\n",
       "      <td>16.534453</td>\n",
       "      <td>0.934532</td>\n",
       "      <td>0.769905</td>\n",
       "      <td>1.067928</td>\n",
       "      <td>1.017760</td>\n",
       "      <td>0.919926</td>\n",
       "      <td>1.154560</td>\n",
       "      <td>1.173052</td>\n",
       "      <td>1.172638</td>\n",
       "      <td>1.173416</td>\n",
       "    </tr>\n",
       "    <tr>\n",
       "      <th>0</th>\n",
       "      <td>input-x128.sqlite (477 MB)</td>\n",
       "      <td>28.494632</td>\n",
       "      <td>28.198151</td>\n",
       "      <td>28.863461</td>\n",
       "      <td>10.957092</td>\n",
       "      <td>10.596211</td>\n",
       "      <td>11.667468</td>\n",
       "      <td>33.751474</td>\n",
       "      <td>33.527879</td>\n",
       "      <td>34.400265</td>\n",
       "      <td>1.338342</td>\n",
       "      <td>1.261059</td>\n",
       "      <td>1.390713</td>\n",
       "      <td>1.680670</td>\n",
       "      <td>1.608109</td>\n",
       "      <td>1.791695</td>\n",
       "      <td>2.156260</td>\n",
       "      <td>2.156013</td>\n",
       "      <td>2.156483</td>\n",
       "    </tr>\n",
       "    <tr>\n",
       "      <th>3</th>\n",
       "      <td>input-x256.sqlite (955 MB)</td>\n",
       "      <td>34.579539</td>\n",
       "      <td>34.270991</td>\n",
       "      <td>34.833079</td>\n",
       "      <td>17.813752</td>\n",
       "      <td>16.877595</td>\n",
       "      <td>19.243667</td>\n",
       "      <td>66.865408</td>\n",
       "      <td>66.421230</td>\n",
       "      <td>67.363990</td>\n",
       "      <td>1.846376</td>\n",
       "      <td>1.794670</td>\n",
       "      <td>1.903576</td>\n",
       "      <td>2.656963</td>\n",
       "      <td>2.558720</td>\n",
       "      <td>2.700455</td>\n",
       "      <td>4.124838</td>\n",
       "      <td>4.124538</td>\n",
       "      <td>4.125107</td>\n",
       "    </tr>\n",
       "    <tr>\n",
       "      <th>6</th>\n",
       "      <td>input-x512.sqlite (1909 MB)</td>\n",
       "      <td>49.147961</td>\n",
       "      <td>47.990966</td>\n",
       "      <td>49.685872</td>\n",
       "      <td>34.111594</td>\n",
       "      <td>33.528387</td>\n",
       "      <td>34.684057</td>\n",
       "      <td>138.606760</td>\n",
       "      <td>137.958207</td>\n",
       "      <td>139.114694</td>\n",
       "      <td>2.838564</td>\n",
       "      <td>2.769634</td>\n",
       "      <td>3.045765</td>\n",
       "      <td>4.170724</td>\n",
       "      <td>3.942654</td>\n",
       "      <td>4.279091</td>\n",
       "      <td>8.064796</td>\n",
       "      <td>8.064404</td>\n",
       "      <td>8.065300</td>\n",
       "    </tr>\n",
       "  </tbody>\n",
       "</table>\n",
       "</div>"
      ],
      "text/plain": [
       "            data_input_renamed  \\\n",
       "2       input-x2.sqlite (8 MB)   \n",
       "5      input-x4.sqlite (15 MB)   \n",
       "9          input.sqlite (4 MB)   \n",
       "8      input-x8.sqlite (30 MB)   \n",
       "1     input-x16.sqlite (60 MB)   \n",
       "4    input-x32.sqlite (119 MB)   \n",
       "7    input-x64.sqlite (239 MB)   \n",
       "0   input-x128.sqlite (477 MB)   \n",
       "3   input-x256.sqlite (955 MB)   \n",
       "6  input-x512.sqlite (1909 MB)   \n",
       "\n",
       "   cytotable_time_duration (multiprocess) (secs) (mean)  \\\n",
       "2                                          21.482275      \n",
       "5                                          21.367945      \n",
       "9                                          21.357710      \n",
       "8                                          21.676985      \n",
       "1                                          22.113636      \n",
       "4                                          22.984812      \n",
       "7                                          24.656177      \n",
       "0                                          28.494632      \n",
       "3                                          34.579539      \n",
       "6                                          49.147961      \n",
       "\n",
       "   cytotable_time_duration (multiprocess) (secs) (min)  \\\n",
       "2                                          21.235337     \n",
       "5                                          21.169588     \n",
       "9                                          21.018959     \n",
       "8                                          21.540652     \n",
       "1                                          21.928231     \n",
       "4                                          22.647534     \n",
       "7                                          24.081396     \n",
       "0                                          28.198151     \n",
       "3                                          34.270991     \n",
       "6                                          47.990966     \n",
       "\n",
       "   cytotable_time_duration (multiprocess) (secs) (max)  \\\n",
       "2                                          21.973524     \n",
       "5                                          21.693600     \n",
       "9                                          21.729096     \n",
       "8                                          21.770709     \n",
       "1                                          22.404097     \n",
       "4                                          23.631211     \n",
       "7                                          24.936935     \n",
       "0                                          28.863461     \n",
       "3                                          34.833079     \n",
       "6                                          49.685872     \n",
       "\n",
       "   cytotable_time_duration (multithread) (secs) (mean)  \\\n",
       "2                                           3.443471     \n",
       "5                                           3.637143     \n",
       "9                                           3.380697     \n",
       "8                                           4.040147     \n",
       "1                                           4.456335     \n",
       "4                                           5.366532     \n",
       "7                                           7.268257     \n",
       "0                                          10.957092     \n",
       "3                                          17.813752     \n",
       "6                                          34.111594     \n",
       "\n",
       "   cytotable_time_duration (multithread) (secs) (min)  \\\n",
       "2                                           3.400347    \n",
       "5                                           3.587915    \n",
       "9                                           3.339835    \n",
       "8                                           3.985098    \n",
       "1                                           4.346780    \n",
       "4                                           5.205241    \n",
       "7                                           6.922514    \n",
       "0                                          10.596211    \n",
       "3                                          16.877595    \n",
       "6                                          33.528387    \n",
       "\n",
       "   cytotable_time_duration (multithread) (secs) (max)  \\\n",
       "2                                           3.500978    \n",
       "5                                           3.670504    \n",
       "9                                           3.450309    \n",
       "8                                           4.078631    \n",
       "1                                           4.700246    \n",
       "4                                           5.560186    \n",
       "7                                           7.560812    \n",
       "0                                          11.667468    \n",
       "3                                          19.243667    \n",
       "6                                          34.684057    \n",
       "\n",
       "   pycytominer_time_duration (secs) (mean)  \\\n",
       "2                                 1.982614   \n",
       "5                                 2.346181   \n",
       "9                                 1.769097   \n",
       "8                                 3.185581   \n",
       "1                                 4.984013   \n",
       "4                                 8.516205   \n",
       "7                                16.226874   \n",
       "0                                33.751474   \n",
       "3                                66.865408   \n",
       "6                               138.606760   \n",
       "\n",
       "   pycytominer_time_duration (secs) (min)  \\\n",
       "2                                1.955712   \n",
       "5                                2.331016   \n",
       "9                                1.743157   \n",
       "8                                3.146029   \n",
       "1                                4.942839   \n",
       "4                                8.265502   \n",
       "7                               15.793225   \n",
       "0                               33.527879   \n",
       "3                               66.421230   \n",
       "6                              137.958207   \n",
       "\n",
       "   pycytominer_time_duration (secs) (max)  \\\n",
       "2                                2.037822   \n",
       "5                                2.367945   \n",
       "9                                1.778455   \n",
       "8                                3.263625   \n",
       "1                                5.044000   \n",
       "4                                8.703588   \n",
       "7                               16.534453   \n",
       "0                               34.400265   \n",
       "3                               67.363990   \n",
       "6                              139.114694   \n",
       "\n",
       "   cytotable_peak_memory (multiprocess) (GB) (mean)  \\\n",
       "2                                          0.340949   \n",
       "5                                          0.356510   \n",
       "9                                          0.336028   \n",
       "8                                          0.429759   \n",
       "1                                          0.516483   \n",
       "4                                          0.670774   \n",
       "7                                          0.934532   \n",
       "0                                          1.338342   \n",
       "3                                          1.846376   \n",
       "6                                          2.838564   \n",
       "\n",
       "   cytotable_peak_memory (multiprocess) (GB) (min)  \\\n",
       "2                                         0.331703   \n",
       "5                                         0.351368   \n",
       "9                                         0.327927   \n",
       "8                                         0.408226   \n",
       "1                                         0.466084   \n",
       "4                                         0.611977   \n",
       "7                                         0.769905   \n",
       "0                                         1.261059   \n",
       "3                                         1.794670   \n",
       "6                                         2.769634   \n",
       "\n",
       "   cytotable_peak_memory (multiprocess) (GB) (max)  \\\n",
       "2                                         0.365635   \n",
       "5                                         0.371887   \n",
       "9                                         0.347477   \n",
       "8                                         0.483082   \n",
       "1                                         0.560818   \n",
       "4                                         0.723980   \n",
       "7                                         1.067928   \n",
       "0                                         1.390713   \n",
       "3                                         1.903576   \n",
       "6                                         3.045765   \n",
       "\n",
       "   cytotable_peak_memory (multithread) (GB) (mean)  \\\n",
       "2                                         0.329437   \n",
       "5                                         0.381286   \n",
       "9                                         0.314100   \n",
       "8                                         0.443315   \n",
       "1                                         0.561344   \n",
       "4                                         0.686238   \n",
       "7                                         1.017760   \n",
       "0                                         1.680670   \n",
       "3                                         2.656963   \n",
       "6                                         4.170724   \n",
       "\n",
       "   cytotable_peak_memory (multithread) (GB) (min)  \\\n",
       "2                                        0.301991   \n",
       "5                                        0.351509   \n",
       "9                                        0.301388   \n",
       "8                                        0.409195   \n",
       "1                                        0.532894   \n",
       "4                                        0.605682   \n",
       "7                                        0.919926   \n",
       "0                                        1.608109   \n",
       "3                                        2.558720   \n",
       "6                                        3.942654   \n",
       "\n",
       "   cytotable_peak_memory (multithread) (GB) (max)  \\\n",
       "2                                        0.350273   \n",
       "5                                        0.414268   \n",
       "9                                        0.333794   \n",
       "8                                        0.470730   \n",
       "1                                        0.584862   \n",
       "4                                        0.751198   \n",
       "7                                        1.154560   \n",
       "0                                        1.791695   \n",
       "3                                        2.700455   \n",
       "6                                        4.279091   \n",
       "\n",
       "   pycytominer_peak_memory (GB) (mean)  pycytominer_peak_memory (GB) (min)  \\\n",
       "2                             0.221341                            0.215111   \n",
       "5                             0.251218                            0.250782   \n",
       "9                             0.207040                            0.206005   \n",
       "8                             0.309583                            0.304459   \n",
       "1                             0.436341                            0.434032   \n",
       "4                             0.684088                            0.683960   \n",
       "7                             1.173052                            1.172638   \n",
       "0                             2.156260                            2.156013   \n",
       "3                             4.124838                            4.124538   \n",
       "6                             8.064796                            8.064404   \n",
       "\n",
       "   pycytominer_peak_memory (GB) (max)  \n",
       "2                            0.226254  \n",
       "5                            0.251541  \n",
       "9                            0.207531  \n",
       "8                            0.315948  \n",
       "1                            0.438606  \n",
       "4                            0.684231  \n",
       "7                            1.173416  \n",
       "0                            2.156483  \n",
       "3                            4.125107  \n",
       "6                            8.065300  "
      ]
     },
     "execution_count": 9,
     "metadata": {},
     "output_type": "execute_result"
    }
   ],
   "source": [
    "# Group by data_input_renamed and calculate mean, min, and max\n",
    "aggregated_results = df_results.groupby(\"data_input_renamed\").agg(\n",
    "    {\n",
    "        \"cytotable_time_duration (multiprocess) (secs)\": [\"mean\", \"min\", \"max\"],\n",
    "        \"cytotable_time_duration (multithread) (secs)\": [\"mean\", \"min\", \"max\"],\n",
    "        \"pycytominer_time_duration (secs)\": [\"mean\", \"min\", \"max\"],\n",
    "        \"cytotable_peak_memory (multiprocess) (GB)\": [\"mean\", \"min\", \"max\"],\n",
    "        \"cytotable_peak_memory (multithread) (GB)\": [\"mean\", \"min\", \"max\"],\n",
    "        \"pycytominer_peak_memory (GB)\": [\"mean\", \"min\", \"max\"],\n",
    "    }\n",
    ")\n",
    "# Flatten the multi-level columns\n",
    "aggregated_results.columns = [\n",
    "    f\"{col[0]} ({col[1]})\" for col in aggregated_results.columns\n",
    "]\n",
    "aggregated_results.reset_index(inplace=True)\n",
    "\n",
    "\n",
    "# Helper function to extract numeric value or None\n",
    "def sort_key(s):\n",
    "    match = re.search(r\"\\d+\", s)\n",
    "    if match:\n",
    "        return (1, int(match.group()))  # numeric items: (1, number)\n",
    "    else:\n",
    "        return (0, s.lower())  # non-numeric items: (0, alphabetical)\n",
    "\n",
    "\n",
    "# Sort using the custom key\n",
    "aggregated_results = aggregated_results.sort_values(\n",
    "    by=\"data_input_renamed\", key=lambda col: col.map(sort_key)\n",
    ")\n",
    "aggregated_results"
   ]
  },
  {
   "cell_type": "code",
   "execution_count": 10,
   "id": "f2dec74d-bf23-40da-989d-3d45049e17b2",
   "metadata": {
    "execution": {
     "iopub.execute_input": "2025-05-14T18:13:56.757227Z",
     "iopub.status.busy": "2025-05-14T18:13:56.756124Z",
     "iopub.status.idle": "2025-05-14T18:13:58.103882Z",
     "shell.execute_reply": "2025-05-14T18:13:58.102855Z"
    },
    "papermill": {
     "duration": 1.370439,
     "end_time": "2025-05-14T18:13:58.105031",
     "exception": false,
     "start_time": "2025-05-14T18:13:56.734592",
     "status": "completed"
    },
    "tags": []
   },
   "outputs": [
    {
     "data": {
      "text/html": [
       "<img src=\"images/cytotable-and-pycytominer-comparisons-join-completion-time-sqlite.svg\"/>"
      ],
      "text/plain": [
       "<IPython.core.display.Image object>"
      ]
     },
     "execution_count": 10,
     "metadata": {},
     "output_type": "execute_result"
    }
   ],
   "source": [
    "# Time plot with min and max errors\n",
    "fig = px.line(\n",
    "    aggregated_results,\n",
    "    x=\"data_input_renamed\",\n",
    "    y=[\n",
    "        \"cytotable_time_duration (multiprocess) (secs) (mean)\",\n",
    "        \"cytotable_time_duration (multithread) (secs) (mean)\",\n",
    "        \"pycytominer_time_duration (secs) (mean)\",\n",
    "    ],\n",
    "    title=\"CytoTable and Pycytominer SQLite Processing Time with Min/Max Errors\",\n",
    "    labels={\"data_input_renamed\": \"Input File\", \"value\": \"Seconds\"},\n",
    "    height=500,\n",
    "    width=900,\n",
    "    symbol_sequence=[\"diamond\"],\n",
    "    color_discrete_sequence=[\n",
    "        px.colors.qualitative.Vivid[6],\n",
    "        px.colors.qualitative.Vivid[7],\n",
    "        px.colors.qualitative.Vivid[4],\n",
    "    ],\n",
    ")\n",
    "\n",
    "# Add error bars for each trace\n",
    "for i, col in enumerate(\n",
    "    [\n",
    "        \"cytotable_time_duration (multiprocess) (secs)\",\n",
    "        \"cytotable_time_duration (multithread) (secs)\",\n",
    "        \"pycytominer_time_duration (secs)\",\n",
    "    ]\n",
    "):\n",
    "    fig.data[i].update(\n",
    "        error_y=dict(\n",
    "            array=(\n",
    "                aggregated_results[f\"{col} (max)\"] - aggregated_results[f\"{col} (mean)\"]\n",
    "            ),\n",
    "            arrayminus=(\n",
    "                aggregated_results[f\"{col} (mean)\"] - aggregated_results[f\"{col} (min)\"]\n",
    "            ),\n",
    "        )\n",
    "    )\n",
    "\n",
    "# Rename the lines for the legend\n",
    "newnames = {\n",
    "    \"cytotable_time_duration (multiprocess) (secs) (mean)\": \"CytoTable (multiprocess)\",\n",
    "    \"cytotable_time_duration (multithread) (secs) (mean)\": \"CytoTable (multithread)\",\n",
    "    \"pycytominer_time_duration (secs) (mean)\": \"Pycytominer\",\n",
    "}\n",
    "fig.for_each_trace(\n",
    "    lambda t: t.update(\n",
    "        name=newnames[t.name],\n",
    "        legendgroup=newnames[t.name],\n",
    "        hovertemplate=t.hovertemplate.replace(t.name, newnames[t.name]),\n",
    "    )\n",
    ")\n",
    "\n",
    "# Update the legend and layout\n",
    "fig.update_layout(\n",
    "    legend_title_text=\"\",\n",
    "    legend=dict(x=0.01, y=0.98, bgcolor=\"rgba(255,255,255,0.8)\"),\n",
    "    font=dict(size=16),  # Global font size\n",
    ")\n",
    "fig.update_traces(mode=\"lines+markers\")\n",
    "fig.update_layout(yaxis=dict(rangemode=\"tozero\", autorange=True))\n",
    "\n",
    "# Save and display the plot\n",
    "fig.write_image(join_read_time_image)\n",
    "fig.write_image(join_read_time_image.replace(\".png\", \".svg\"))\n",
    "Image(url=join_read_time_image.replace(\".png\", \".svg\"))"
   ]
  },
  {
   "cell_type": "code",
   "execution_count": 11,
   "id": "47984c80-edfa-4bab-87f2-3f6034ff7e84",
   "metadata": {
    "execution": {
     "iopub.execute_input": "2025-05-14T18:13:58.151710Z",
     "iopub.status.busy": "2025-05-14T18:13:58.150867Z",
     "iopub.status.idle": "2025-05-14T18:13:58.481671Z",
     "shell.execute_reply": "2025-05-14T18:13:58.480880Z"
    },
    "papermill": {
     "duration": 0.35601,
     "end_time": "2025-05-14T18:13:58.483154",
     "exception": false,
     "start_time": "2025-05-14T18:13:58.127144",
     "status": "completed"
    },
    "tags": []
   },
   "outputs": [
    {
     "data": {
      "text/html": [
       "<img src=\"images/cytotable-and-pycytominer-comparisons-join-memory-size-sqlite.svg\"/>"
      ],
      "text/plain": [
       "<IPython.core.display.Image object>"
      ]
     },
     "execution_count": 11,
     "metadata": {},
     "output_type": "execute_result"
    }
   ],
   "source": [
    "# Memory plot with min and max errors\n",
    "fig = px.line(\n",
    "    aggregated_results,\n",
    "    x=\"data_input_renamed\",\n",
    "    y=[\n",
    "        \"cytotable_peak_memory (multiprocess) (GB) (mean)\",\n",
    "        \"cytotable_peak_memory (multithread) (GB) (mean)\",\n",
    "        \"pycytominer_peak_memory (GB) (mean)\",\n",
    "    ],\n",
    "    title=\"CytoTable and Pycytominer SQLite Peak Memory with Min/Max Errors\",\n",
    "    labels={\"data_input_renamed\": \"Input File\", \"value\": \"Gigabytes (GB)\"},\n",
    "    height=500,\n",
    "    width=900,\n",
    "    symbol_sequence=[\"diamond\"],\n",
    "    color_discrete_sequence=[\n",
    "        px.colors.qualitative.Vivid[6],\n",
    "        px.colors.qualitative.Vivid[7],\n",
    "        px.colors.qualitative.Vivid[4],\n",
    "    ],\n",
    ")\n",
    "\n",
    "# Add error bars for each trace\n",
    "for i, col in enumerate(\n",
    "    [\n",
    "        \"cytotable_peak_memory (multiprocess) (GB)\",\n",
    "        \"cytotable_peak_memory (multithread) (GB)\",\n",
    "        \"pycytominer_peak_memory (GB)\",\n",
    "    ]\n",
    "):\n",
    "    fig.data[i].update(\n",
    "        error_y=dict(\n",
    "            array=(\n",
    "                aggregated_results[f\"{col} (max)\"] - aggregated_results[f\"{col} (mean)\"]\n",
    "            ),\n",
    "            arrayminus=(\n",
    "                aggregated_results[f\"{col} (mean)\"] - aggregated_results[f\"{col} (min)\"]\n",
    "            ),\n",
    "        )\n",
    "    )\n",
    "\n",
    "# Rename the lines for the legend\n",
    "newnames = {\n",
    "    \"cytotable_peak_memory (multiprocess) (GB) (mean)\": \"CytoTable (multiprocess)\",\n",
    "    \"cytotable_peak_memory (multithread) (GB) (mean)\": \"CytoTable (multithread)\",\n",
    "    \"pycytominer_peak_memory (GB) (mean)\": \"Pycytominer\",\n",
    "}\n",
    "fig.for_each_trace(\n",
    "    lambda t: t.update(\n",
    "        name=newnames[t.name],\n",
    "        legendgroup=newnames[t.name],\n",
    "        hovertemplate=t.hovertemplate.replace(t.name, newnames[t.name]),\n",
    "    )\n",
    ")\n",
    "\n",
    "# Update the legend and layout\n",
    "fig.update_layout(\n",
    "    legend_title_text=\"\",\n",
    "    legend=dict(x=0.01, y=0.98, bgcolor=\"rgba(255,255,255,0.8)\"),\n",
    "    font=dict(size=16),  # Global font size\n",
    ")\n",
    "fig.update_traces(mode=\"lines+markers\")\n",
    "fig.update_layout(yaxis=dict(rangemode=\"tozero\", autorange=True))\n",
    "\n",
    "# Save and display the plot\n",
    "fig.write_image(join_mem_size_image)\n",
    "fig.write_image(join_mem_size_image.replace(\".png\", \".svg\"))\n",
    "Image(url=join_mem_size_image.replace(\".png\", \".svg\"))"
   ]
  }
 ],
 "metadata": {
  "jupytext": {
   "formats": "ipynb,py:light"
  },
  "kernelspec": {
   "display_name": "Python 3 (ipykernel)",
   "language": "python",
   "name": "python3"
  },
  "language_info": {
   "codemirror_mode": {
    "name": "ipython",
    "version": 3
   },
   "file_extension": ".py",
   "mimetype": "text/x-python",
   "name": "python",
   "nbconvert_exporter": "python",
   "pygments_lexer": "ipython3",
   "version": "3.11.9"
  },
  "papermill": {
   "default_parameters": {},
   "duration": 3850.810089,
   "end_time": "2025-05-14T18:14:01.144744",
   "environment_variables": {},
   "exception": null,
   "input_path": "cytotable_and_pycytominer_analysis_sqlite.ipynb",
   "output_path": "cytotable_and_pycytominer_analysis_sqlite.ipynb",
   "parameters": {},
   "start_time": "2025-05-14T17:09:50.334655",
   "version": "2.6.0"
  }
 },
 "nbformat": 4,
 "nbformat_minor": 5
}
