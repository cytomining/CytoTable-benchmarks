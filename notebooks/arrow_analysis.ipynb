{
 "cells": [
  {
   "cell_type": "markdown",
   "id": "cbc19f47-429e-44f1-9fee-f495e93b4cbe",
   "metadata": {},
   "source": [
    "# Why Arrow?\n",
    "\n",
    "This notebook explores the benefits or drawbacks of using the [Arrow](https://arrow.apache.org) in-memory data format relative to other formats such as Pandas DataFrames."
   ]
  },
  {
   "cell_type": "code",
   "execution_count": 2,
   "id": "f9c3c2c7-0c7a-4643-948e-50aa832f432c",
   "metadata": {},
   "outputs": [],
   "source": [
    "import pathlib\n",
    "\n",
    "import numpy as np\n",
    "import pandas as pd\n",
    "import plotly.express as px\n",
    "import plotly.io as pio\n",
    "import polars as pl\n",
    "from IPython.display import Image\n",
    "from pyarrow import parquet\n",
    "from pympler.asizeof import asizeof\n",
    "from utilities import timer"
   ]
  },
  {
   "cell_type": "code",
   "execution_count": 3,
   "id": "49f31031-aee1-463c-ba97-8fe42cebe05b",
   "metadata": {
    "tags": []
   },
   "outputs": [],
   "source": [
    "# target file or table names\n",
    "image_dir = \"images\"\n",
    "parquet_name = \"example.parquet\"\n",
    "mem_times_image = f\"{image_dir}/arrow-comparisons-mem-read-times.png\"\n",
    "mem_read_size_image = f\"{image_dir}/arrow-comparisons-mem-read-size.png\""
   ]
  },
  {
   "cell_type": "code",
   "execution_count": 4,
   "id": "19020031-8a87-4bf0-ace0-be215c687023",
   "metadata": {
    "tags": []
   },
   "outputs": [],
   "source": [
    "# remove any existing prior work\n",
    "pathlib.Path(parquet_name).unlink(missing_ok=True)"
   ]
  },
  {
   "cell_type": "code",
   "execution_count": 5,
   "id": "a9f7561a-ea51-4b00-b1bd-2e1979e46aa7",
   "metadata": {
    "lines_to_next_cell": 0,
    "tags": []
   },
   "outputs": [
    {
     "data": {
      "text/html": [
       "<div>\n",
       "<style scoped>\n",
       "    .dataframe tbody tr th:only-of-type {\n",
       "        vertical-align: middle;\n",
       "    }\n",
       "\n",
       "    .dataframe tbody tr th {\n",
       "        vertical-align: top;\n",
       "    }\n",
       "\n",
       "    .dataframe thead th {\n",
       "        text-align: right;\n",
       "    }\n",
       "</style>\n",
       "<table border=\"1\" class=\"dataframe\">\n",
       "  <thead>\n",
       "    <tr style=\"text-align: right;\">\n",
       "      <th></th>\n",
       "      <th>dataframe_shape (rows, cols)</th>\n",
       "      <th>pandas_read_time (secs)</th>\n",
       "      <th>pandas_size (bytes)</th>\n",
       "      <th>pyarrow_read_time (secs)</th>\n",
       "      <th>pyarrow_size (bytes)</th>\n",
       "      <th>polars_read_time (secs)</th>\n",
       "      <th>polars_size (bytes)</th>\n",
       "    </tr>\n",
       "  </thead>\n",
       "  <tbody>\n",
       "    <tr>\n",
       "      <th>0</th>\n",
       "      <td>(640, 320)</td>\n",
       "      <td>0.036028</td>\n",
       "      <td>3823648</td>\n",
       "      <td>0.016468</td>\n",
       "      <td>1664056</td>\n",
       "      <td>0.004589</td>\n",
       "      <td>1638400</td>\n",
       "    </tr>\n",
       "    <tr>\n",
       "      <th>1</th>\n",
       "      <td>(1280, 640)</td>\n",
       "      <td>0.049001</td>\n",
       "      <td>14198296</td>\n",
       "      <td>0.029412</td>\n",
       "      <td>6656056</td>\n",
       "      <td>0.015651</td>\n",
       "      <td>6553600</td>\n",
       "    </tr>\n",
       "    <tr>\n",
       "      <th>2</th>\n",
       "      <td>(2560, 1280)</td>\n",
       "      <td>0.085693</td>\n",
       "      <td>54610656</td>\n",
       "      <td>0.063291</td>\n",
       "      <td>26624056</td>\n",
       "      <td>0.017274</td>\n",
       "      <td>26214400</td>\n",
       "    </tr>\n",
       "  </tbody>\n",
       "</table>\n",
       "</div>"
      ],
      "text/plain": [
       "  dataframe_shape (rows, cols)  pandas_read_time (secs)  pandas_size (bytes)  \\\n",
       "0                   (640, 320)                 0.036028              3823648   \n",
       "1                  (1280, 640)                 0.049001             14198296   \n",
       "2                 (2560, 1280)                 0.085693             54610656   \n",
       "\n",
       "   pyarrow_read_time (secs)  pyarrow_size (bytes)  polars_read_time (secs)  \\\n",
       "0                  0.016468               1664056                 0.004589   \n",
       "1                  0.029412               6656056                 0.015651   \n",
       "2                  0.063291              26624056                 0.017274   \n",
       "\n",
       "   polars_size (bytes)  \n",
       "0              1638400  \n",
       "1              6553600  \n",
       "2             26214400  "
      ]
     },
     "execution_count": 5,
     "metadata": {},
     "output_type": "execute_result"
    }
   ],
   "source": [
    "# starting rowcount and col count\n",
    "nrows = 320\n",
    "ncols = 160\n",
    "\n",
    "# result list for storing data\n",
    "results = []\n",
    "\n",
    "# loop for iterating over increasingly large dataframes\n",
    "# and gathering data about operations on them\n",
    "for _ in range(1, 4):\n",
    "    # increase the size of the dataframe\n",
    "    nrows *= 2\n",
    "    ncols *= 2\n",
    "\n",
    "    # form a dataframe using randomized data\n",
    "    df = pd.DataFrame(\n",
    "        np.random.rand(nrows, ncols), columns=[f\"col_{num}\" for num in range(0, ncols)]\n",
    "    )\n",
    "    # write to parquet for tests below\n",
    "    df.to_parquet(path=parquet_name, compression=\"snappy\")\n",
    "\n",
    "    # append data to the result list\n",
    "    results.append(\n",
    "        {\n",
    "            # general information about the dataframe\n",
    "            \"dataframe_shape (rows, cols)\": str(df.shape),\n",
    "            # information about pandas\n",
    "            \"pandas_read_time (secs)\": timer(pd.read_parquet, path=parquet_name),\n",
    "            \"pandas_size (bytes)\": asizeof(pd.read_parquet(path=parquet_name)),\n",
    "            # information about pyarrow\n",
    "            \"pyarrow_read_time (secs)\": timer(parquet.read_table, source=parquet_name),\n",
    "            \"pyarrow_size (bytes)\": asizeof(parquet.read_table(source=parquet_name)),\n",
    "            # information about polars\n",
    "            \"polars_read_time (secs)\": timer(\n",
    "                pl.scan_parquet, source=parquet_name, method_chain=\"collect\"\n",
    "            ),\n",
    "            \"polars_size (bytes)\": pl.scan_parquet(source=parquet_name)\n",
    "            .collect()\n",
    "            .estimated_size(),\n",
    "        }\n",
    "    )\n",
    "\n",
    "    # remove any existing files in preparation for next steps\n",
    "    pathlib.Path(parquet_name).unlink(missing_ok=True)\n",
    "\n",
    "\n",
    "df_results = pd.DataFrame(results)\n",
    "df_results"
   ]
  },
  {
   "cell_type": "code",
   "execution_count": 6,
   "id": "7ba3a394-ed68-4bf7-8a72-4d7162be0105",
   "metadata": {
    "lines_to_next_cell": 2
   },
   "outputs": [
    {
     "data": {
      "text/html": [
       "<img src=\"images/arrow-comparisons-mem-read-times.png\"/>"
      ],
      "text/plain": [
       "<IPython.core.display.Image object>"
      ]
     },
     "execution_count": 6,
     "metadata": {},
     "output_type": "execute_result"
    }
   ],
   "source": [
    "# write times barchart\n",
    "fig = px.bar(\n",
    "    df_results,\n",
    "    x=[\n",
    "        \"pandas_read_time (secs)\",\n",
    "        \"pyarrow_read_time (secs)\",\n",
    "        \"polars_read_time (secs)\",\n",
    "    ],\n",
    "    y=\"dataframe_shape (rows, cols)\",\n",
    "    orientation=\"h\",\n",
    "    barmode=\"group\",\n",
    "    labels={\"dataframe_shape (rows, cols)\": \"Data Shape\", \"value\": \"Seconds\"},\n",
    "    width=1300,\n",
    ")\n",
    "fig.update_layout(\n",
    "    legend_title_text=\"In-memory Read Duration\",\n",
    "    legend=dict(x=0.72, y=0.02, bgcolor=\"rgba(255,255,255,0.8)\"),\n",
    "    font=dict(\n",
    "        size=17.5,  # global font size\n",
    "    ),\n",
    ")\n",
    "\n",
    "pio.write_image(fig, mem_times_image)\n",
    "Image(url=mem_times_image)"
   ]
  },
  {
   "cell_type": "code",
   "execution_count": 7,
   "id": "c572e61c-fde3-4edf-9c18-e30ff9cf4b89",
   "metadata": {
    "tags": []
   },
   "outputs": [
    {
     "data": {
      "text/html": [
       "<img src=\"images/arrow-comparisons-mem-read-size.png\"/>"
      ],
      "text/plain": [
       "<IPython.core.display.Image object>"
      ]
     },
     "execution_count": 7,
     "metadata": {},
     "output_type": "execute_result"
    }
   ],
   "source": [
    "# write times barchart\n",
    "fig = px.bar(\n",
    "    df_results,\n",
    "    x=[\n",
    "        \"pandas_size (bytes)\",\n",
    "        \"pyarrow_size (bytes)\",\n",
    "        \"polars_size (bytes)\",\n",
    "    ],\n",
    "    y=\"dataframe_shape (rows, cols)\",\n",
    "    orientation=\"h\",\n",
    "    barmode=\"group\",\n",
    "    labels={\"dataframe_shape (rows, cols)\": \"Data Shape\", \"value\": \"Bytes\"},\n",
    "    width=1300,\n",
    ")\n",
    "fig.update_layout(\n",
    "    legend_title_text=\"In-memory Data Size\",\n",
    "    legend=dict(x=0.72, y=0.02, bgcolor=\"rgba(255,255,255,0.8)\"),\n",
    "    font=dict(\n",
    "        size=20,  # global font size\n",
    "    ),\n",
    ")\n",
    "\n",
    "pio.write_image(fig, mem_read_size_image)\n",
    "Image(url=mem_read_size_image)"
   ]
  }
 ],
 "metadata": {
  "jupytext": {
   "formats": "ipynb,py:light"
  },
  "kernelspec": {
   "display_name": "Python 3 (ipyflow)",
   "language": "python",
   "name": "ipyflow"
  },
  "language_info": {
   "codemirror_mode": {
    "name": "ipython",
    "version": 3
   },
   "file_extension": ".py",
   "mimetype": "text/x-python",
   "name": "python",
   "nbconvert_exporter": "python",
   "pygments_lexer": "ipython3",
   "version": "3.11.11"
  }
 },
 "nbformat": 4,
 "nbformat_minor": 5
}
