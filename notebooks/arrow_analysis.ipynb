{
 "cells": [
  {
   "cell_type": "markdown",
   "id": "cbc19f47-429e-44f1-9fee-f495e93b4cbe",
   "metadata": {
    "papermill": {
     "duration": 0.004678,
     "end_time": "2025-04-17T22:54:18.121580",
     "exception": false,
     "start_time": "2025-04-17T22:54:18.116902",
     "status": "completed"
    },
    "tags": []
   },
   "source": [
    "# Why Arrow?\n",
    "\n",
    "This notebook explores the benefits or drawbacks of using the [Arrow](https://arrow.apache.org) in-memory data format relative to other formats such as Pandas DataFrames."
   ]
  },
  {
   "cell_type": "code",
   "execution_count": 1,
   "id": "f9c3c2c7-0c7a-4643-948e-50aa832f432c",
   "metadata": {
    "execution": {
     "iopub.execute_input": "2025-04-17T22:54:18.132628Z",
     "iopub.status.busy": "2025-04-17T22:54:18.131936Z",
     "iopub.status.idle": "2025-04-17T22:54:18.863265Z",
     "shell.execute_reply": "2025-04-17T22:54:18.862488Z"
    },
    "papermill": {
     "duration": 0.737769,
     "end_time": "2025-04-17T22:54:18.864697",
     "exception": false,
     "start_time": "2025-04-17T22:54:18.126928",
     "status": "completed"
    },
    "tags": []
   },
   "outputs": [],
   "source": [
    "import pathlib\n",
    "\n",
    "import numpy as np\n",
    "import pandas as pd\n",
    "import plotly.express as px\n",
    "import plotly.io as pio\n",
    "import polars as pl\n",
    "from IPython.display import Image\n",
    "from pyarrow import parquet\n",
    "from pympler.asizeof import asizeof\n",
    "from utilities import timer\n",
    "from utilities import get_system_info"
   ]
  },
  {
   "cell_type": "code",
   "execution_count": 2,
   "id": "6769d548-741d-4cbe-b9f4-1a79c9edb71d",
   "metadata": {
    "execution": {
     "iopub.execute_input": "2025-04-17T22:54:18.876178Z",
     "iopub.status.busy": "2025-04-17T22:54:18.875762Z",
     "iopub.status.idle": "2025-04-17T22:54:18.882113Z",
     "shell.execute_reply": "2025-04-17T22:54:18.881410Z"
    },
    "papermill": {
     "duration": 0.013943,
     "end_time": "2025-04-17T22:54:18.883434",
     "exception": false,
     "start_time": "2025-04-17T22:54:18.869491",
     "status": "completed"
    },
    "tags": []
   },
   "outputs": [
    {
     "name": "stdout",
     "output_type": "stream",
     "text": [
      "\n",
      "System Information:\n",
      "Operating System: Linux\n",
      "Machine Type: x86_64\n",
      "Processor: x86_64\n",
      "CPU Cores (Logical): 16\n",
      "CPU Cores (Physical): 8\n",
      "Total RAM (GB): 62.68\n",
      "Python Version: 3.11.9\n"
     ]
    }
   ],
   "source": [
    "# show the system information\n",
    "_ = get_system_info(show_output=True)"
   ]
  },
  {
   "cell_type": "code",
   "execution_count": 3,
   "id": "49f31031-aee1-463c-ba97-8fe42cebe05b",
   "metadata": {
    "execution": {
     "iopub.execute_input": "2025-04-17T22:54:18.891174Z",
     "iopub.status.busy": "2025-04-17T22:54:18.890972Z",
     "iopub.status.idle": "2025-04-17T22:54:18.894920Z",
     "shell.execute_reply": "2025-04-17T22:54:18.894154Z"
    },
    "papermill": {
     "duration": 0.009206,
     "end_time": "2025-04-17T22:54:18.896169",
     "exception": false,
     "start_time": "2025-04-17T22:54:18.886963",
     "status": "completed"
    },
    "tags": []
   },
   "outputs": [],
   "source": [
    "# target file or table names\n",
    "image_dir = \"images\"\n",
    "parquet_name = \"example.parquet\"\n",
    "mem_times_image = f\"{image_dir}/arrow-comparisons-mem-read-times.png\"\n",
    "mem_read_size_image = f\"{image_dir}/arrow-comparisons-mem-read-size.png\""
   ]
  },
  {
   "cell_type": "code",
   "execution_count": 4,
   "id": "19020031-8a87-4bf0-ace0-be215c687023",
   "metadata": {
    "execution": {
     "iopub.execute_input": "2025-04-17T22:54:18.903648Z",
     "iopub.status.busy": "2025-04-17T22:54:18.903453Z",
     "iopub.status.idle": "2025-04-17T22:54:18.907046Z",
     "shell.execute_reply": "2025-04-17T22:54:18.906353Z"
    },
    "papermill": {
     "duration": 0.008686,
     "end_time": "2025-04-17T22:54:18.908246",
     "exception": false,
     "start_time": "2025-04-17T22:54:18.899560",
     "status": "completed"
    },
    "tags": []
   },
   "outputs": [],
   "source": [
    "# remove any existing prior work\n",
    "pathlib.Path(parquet_name).unlink(missing_ok=True)"
   ]
  },
  {
   "cell_type": "code",
   "execution_count": 5,
   "id": "495e43dd-6b6f-4d54-8e81-5629d5265b11",
   "metadata": {
    "execution": {
     "iopub.execute_input": "2025-04-17T22:54:18.917107Z",
     "iopub.status.busy": "2025-04-17T22:54:18.916735Z",
     "iopub.status.idle": "2025-04-17T22:54:18.946431Z",
     "shell.execute_reply": "2025-04-17T22:54:18.945807Z"
    },
    "papermill": {
     "duration": 0.035291,
     "end_time": "2025-04-17T22:54:18.947735",
     "exception": false,
     "start_time": "2025-04-17T22:54:18.912444",
     "status": "completed"
    },
    "tags": []
   },
   "outputs": [],
   "source": [
    "# avoid a \"cold start\" for tested packages by using them before benchmarks\n",
    "df = pd.DataFrame(np.random.rand(2, 2), columns=[f\"col_{num}\" for num in range(0, 2)])\n",
    "# write to parquet for tests below\n",
    "df.to_parquet(path=(coldstart_file := \"coldstart.parquet\"), compression=\"snappy\")\n",
    "\n",
    "# read the file using the benchmarked packages\n",
    "pd.read_parquet(path=coldstart_file)\n",
    "parquet.read_table(source=coldstart_file)\n",
    "pl.scan_parquet(source=coldstart_file).collect()\n",
    "\n",
    "# remove the coldstart file\n",
    "pathlib.Path(coldstart_file).unlink(missing_ok=True)"
   ]
  },
  {
   "cell_type": "code",
   "execution_count": 6,
   "id": "a9f7561a-ea51-4b00-b1bd-2e1979e46aa7",
   "metadata": {
    "execution": {
     "iopub.execute_input": "2025-04-17T22:54:18.954635Z",
     "iopub.status.busy": "2025-04-17T22:54:18.954340Z",
     "iopub.status.idle": "2025-04-17T22:54:21.044050Z",
     "shell.execute_reply": "2025-04-17T22:54:21.043432Z"
    },
    "lines_to_next_cell": 0,
    "papermill": {
     "duration": 2.095359,
     "end_time": "2025-04-17T22:54:21.045584",
     "exception": false,
     "start_time": "2025-04-17T22:54:18.950225",
     "status": "completed"
    },
    "tags": []
   },
   "outputs": [
    {
     "data": {
      "text/html": [
       "<div>\n",
       "<style scoped>\n",
       "    .dataframe tbody tr th:only-of-type {\n",
       "        vertical-align: middle;\n",
       "    }\n",
       "\n",
       "    .dataframe tbody tr th {\n",
       "        vertical-align: top;\n",
       "    }\n",
       "\n",
       "    .dataframe thead th {\n",
       "        text-align: right;\n",
       "    }\n",
       "</style>\n",
       "<table border=\"1\" class=\"dataframe\">\n",
       "  <thead>\n",
       "    <tr style=\"text-align: right;\">\n",
       "      <th></th>\n",
       "      <th>dataframe_shape (rows, cols)</th>\n",
       "      <th>pandas_read_time (secs)</th>\n",
       "      <th>pandas_size (bytes)</th>\n",
       "      <th>pyarrow_read_time (secs)</th>\n",
       "      <th>pyarrow_size (bytes)</th>\n",
       "      <th>polars_read_time (secs)</th>\n",
       "      <th>polars_size (bytes)</th>\n",
       "    </tr>\n",
       "  </thead>\n",
       "  <tbody>\n",
       "    <tr>\n",
       "      <th>0</th>\n",
       "      <td>(640, 320)</td>\n",
       "      <td>0.047262</td>\n",
       "      <td>3859600</td>\n",
       "      <td>0.021131</td>\n",
       "      <td>1664064</td>\n",
       "      <td>0.009114</td>\n",
       "      <td>1638400</td>\n",
       "    </tr>\n",
       "    <tr>\n",
       "      <th>1</th>\n",
       "      <td>(1280, 640)</td>\n",
       "      <td>0.049211</td>\n",
       "      <td>14269872</td>\n",
       "      <td>0.074660</td>\n",
       "      <td>6656064</td>\n",
       "      <td>0.009949</td>\n",
       "      <td>6553600</td>\n",
       "    </tr>\n",
       "    <tr>\n",
       "      <th>2</th>\n",
       "      <td>(2560, 1280)</td>\n",
       "      <td>0.143712</td>\n",
       "      <td>54753520</td>\n",
       "      <td>0.114969</td>\n",
       "      <td>26624064</td>\n",
       "      <td>0.020607</td>\n",
       "      <td>26214400</td>\n",
       "    </tr>\n",
       "  </tbody>\n",
       "</table>\n",
       "</div>"
      ],
      "text/plain": [
       "  dataframe_shape (rows, cols)  pandas_read_time (secs)  pandas_size (bytes)  \\\n",
       "0                   (640, 320)                 0.047262              3859600   \n",
       "1                  (1280, 640)                 0.049211             14269872   \n",
       "2                 (2560, 1280)                 0.143712             54753520   \n",
       "\n",
       "   pyarrow_read_time (secs)  pyarrow_size (bytes)  polars_read_time (secs)  \\\n",
       "0                  0.021131               1664064                 0.009114   \n",
       "1                  0.074660               6656064                 0.009949   \n",
       "2                  0.114969              26624064                 0.020607   \n",
       "\n",
       "   polars_size (bytes)  \n",
       "0              1638400  \n",
       "1              6553600  \n",
       "2             26214400  "
      ]
     },
     "execution_count": 6,
     "metadata": {},
     "output_type": "execute_result"
    }
   ],
   "source": [
    "# starting rowcount and col count\n",
    "nrows = 320\n",
    "ncols = 160\n",
    "\n",
    "# result list for storing data\n",
    "results = []\n",
    "\n",
    "# loop for iterating over increasingly large dataframes\n",
    "# and gathering data about operations on them\n",
    "for _ in range(1, 4):\n",
    "    # increase the size of the dataframe\n",
    "    nrows *= 2\n",
    "    ncols *= 2\n",
    "\n",
    "    # form a dataframe using randomized data\n",
    "    df = pd.DataFrame(\n",
    "        np.random.rand(nrows, ncols), columns=[f\"col_{num}\" for num in range(0, ncols)]\n",
    "    )\n",
    "    # write to parquet for tests below\n",
    "    df.to_parquet(path=parquet_name, compression=\"snappy\")\n",
    "\n",
    "    # append data to the result list\n",
    "    results.append(\n",
    "        {\n",
    "            # general information about the dataframe\n",
    "            \"dataframe_shape (rows, cols)\": str(df.shape),\n",
    "            # information about pandas\n",
    "            \"pandas_read_time (secs)\": timer(pd.read_parquet, path=parquet_name),\n",
    "            \"pandas_size (bytes)\": asizeof(pd.read_parquet(path=parquet_name)),\n",
    "            # information about pyarrow\n",
    "            \"pyarrow_read_time (secs)\": timer(parquet.read_table, source=parquet_name),\n",
    "            \"pyarrow_size (bytes)\": asizeof(parquet.read_table(source=parquet_name)),\n",
    "            # information about polars\n",
    "            \"polars_read_time (secs)\": timer(\n",
    "                pl.scan_parquet, source=parquet_name, method_chain=\"collect\"\n",
    "            ),\n",
    "            \"polars_size (bytes)\": pl.scan_parquet(source=parquet_name)\n",
    "            .collect()\n",
    "            .estimated_size(),\n",
    "        }\n",
    "    )\n",
    "\n",
    "    # remove any existing files in preparation for next steps\n",
    "    pathlib.Path(parquet_name).unlink(missing_ok=True)\n",
    "\n",
    "\n",
    "df_results = pd.DataFrame(results)\n",
    "df_results"
   ]
  },
  {
   "cell_type": "code",
   "execution_count": 7,
   "id": "7ba3a394-ed68-4bf7-8a72-4d7162be0105",
   "metadata": {
    "execution": {
     "iopub.execute_input": "2025-04-17T22:54:21.057102Z",
     "iopub.status.busy": "2025-04-17T22:54:21.056883Z",
     "iopub.status.idle": "2025-04-17T22:54:22.456316Z",
     "shell.execute_reply": "2025-04-17T22:54:22.455362Z"
    },
    "lines_to_next_cell": 2,
    "papermill": {
     "duration": 1.407029,
     "end_time": "2025-04-17T22:54:22.457867",
     "exception": false,
     "start_time": "2025-04-17T22:54:21.050838",
     "status": "completed"
    },
    "tags": []
   },
   "outputs": [
    {
     "data": {
      "text/html": [
       "<img src=\"images/arrow-comparisons-mem-read-times.png\"/>"
      ],
      "text/plain": [
       "<IPython.core.display.Image object>"
      ]
     },
     "execution_count": 7,
     "metadata": {},
     "output_type": "execute_result"
    }
   ],
   "source": [
    "# write times barchart\n",
    "fig = px.bar(\n",
    "    df_results,\n",
    "    x=[\n",
    "        \"pandas_read_time (secs)\",\n",
    "        \"pyarrow_read_time (secs)\",\n",
    "        \"polars_read_time (secs)\",\n",
    "    ],\n",
    "    y=\"dataframe_shape (rows, cols)\",\n",
    "    orientation=\"h\",\n",
    "    barmode=\"group\",\n",
    "    labels={\"dataframe_shape (rows, cols)\": \"Data Shape\", \"value\": \"Seconds\"},\n",
    "    width=1300,\n",
    ")\n",
    "fig.update_layout(\n",
    "    legend_title_text=\"In-memory Read Duration\",\n",
    "    legend=dict(x=0.72, y=0.02, bgcolor=\"rgba(255,255,255,0.8)\"),\n",
    "    font=dict(\n",
    "        size=17.5,  # global font size\n",
    "    ),\n",
    ")\n",
    "\n",
    "pio.write_image(fig, mem_times_image)\n",
    "Image(url=mem_times_image)"
   ]
  },
  {
   "cell_type": "code",
   "execution_count": 8,
   "id": "c572e61c-fde3-4edf-9c18-e30ff9cf4b89",
   "metadata": {
    "execution": {
     "iopub.execute_input": "2025-04-17T22:54:22.470231Z",
     "iopub.status.busy": "2025-04-17T22:54:22.469385Z",
     "iopub.status.idle": "2025-04-17T22:54:22.696802Z",
     "shell.execute_reply": "2025-04-17T22:54:22.696005Z"
    },
    "papermill": {
     "duration": 0.235252,
     "end_time": "2025-04-17T22:54:22.698547",
     "exception": false,
     "start_time": "2025-04-17T22:54:22.463295",
     "status": "completed"
    },
    "tags": []
   },
   "outputs": [
    {
     "data": {
      "text/html": [
       "<img src=\"images/arrow-comparisons-mem-read-size.png\"/>"
      ],
      "text/plain": [
       "<IPython.core.display.Image object>"
      ]
     },
     "execution_count": 8,
     "metadata": {},
     "output_type": "execute_result"
    }
   ],
   "source": [
    "# write times barchart\n",
    "fig = px.bar(\n",
    "    df_results,\n",
    "    x=[\n",
    "        \"pandas_size (bytes)\",\n",
    "        \"pyarrow_size (bytes)\",\n",
    "        \"polars_size (bytes)\",\n",
    "    ],\n",
    "    y=\"dataframe_shape (rows, cols)\",\n",
    "    orientation=\"h\",\n",
    "    barmode=\"group\",\n",
    "    labels={\"dataframe_shape (rows, cols)\": \"Data Shape\", \"value\": \"Bytes\"},\n",
    "    width=1300,\n",
    ")\n",
    "fig.update_layout(\n",
    "    legend_title_text=\"In-memory Data Size\",\n",
    "    legend=dict(x=0.72, y=0.02, bgcolor=\"rgba(255,255,255,0.8)\"),\n",
    "    font=dict(\n",
    "        size=20,  # global font size\n",
    "    ),\n",
    ")\n",
    "\n",
    "pio.write_image(fig, mem_read_size_image)\n",
    "Image(url=mem_read_size_image)"
   ]
  }
 ],
 "metadata": {
  "jupytext": {
   "formats": "ipynb,py:light"
  },
  "kernelspec": {
   "display_name": "Python 3 (ipykernel)",
   "language": "python",
   "name": "python3"
  },
  "language_info": {
   "codemirror_mode": {
    "name": "ipython",
    "version": 3
   },
   "file_extension": ".py",
   "mimetype": "text/x-python",
   "name": "python",
   "nbconvert_exporter": "python",
   "pygments_lexer": "ipython3",
   "version": "3.11.9"
  },
  "papermill": {
   "default_parameters": {},
   "duration": 8.544475,
   "end_time": "2025-04-17T22:54:25.330548",
   "environment_variables": {},
   "exception": null,
   "input_path": "arrow_analysis.ipynb",
   "output_path": "arrow_analysis.ipynb",
   "parameters": {},
   "start_time": "2025-04-17T22:54:16.786073",
   "version": "2.6.0"
  }
 },
 "nbformat": 4,
 "nbformat_minor": 5
}