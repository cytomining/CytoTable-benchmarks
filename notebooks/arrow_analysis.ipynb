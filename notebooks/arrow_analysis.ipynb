{
 "cells": [
  {
   "cell_type": "markdown",
   "id": "cbc19f47-429e-44f1-9fee-f495e93b4cbe",
   "metadata": {
    "papermill": {
     "duration": 0.002917,
     "end_time": "2025-05-14T17:08:09.837556",
     "exception": false,
     "start_time": "2025-05-14T17:08:09.834639",
     "status": "completed"
    },
    "tags": []
   },
   "source": [
    "# Why Arrow?\n",
    "\n",
    "This notebook explores the benefits or drawbacks of using the [Arrow](https://arrow.apache.org) in-memory data format relative to other formats such as Pandas DataFrames."
   ]
  },
  {
   "cell_type": "code",
   "execution_count": null,
   "id": "f9c3c2c7-0c7a-4643-948e-50aa832f432c",
   "metadata": {
    "papermill": {
     "duration": 0.652163,
     "end_time": "2025-05-14T17:08:10.495039",
     "exception": false,
     "start_time": "2025-05-14T17:08:09.842876",
     "status": "completed"
    },
    "tags": []
   },
   "outputs": [],
   "source": [
    "import pathlib\n",
    "\n",
    "import numpy as np\n",
    "import pandas as pd\n",
    "import plotly.express as px\n",
    "import plotly.io as pio\n",
    "import polars as pl\n",
    "from IPython.display import Image\n",
    "from pyarrow import parquet\n",
    "from pympler.asizeof import asizeof\n",
    "from utilities import get_system_info, timer"
   ]
  },
  {
   "cell_type": "code",
   "execution_count": null,
   "id": "6769d548-741d-4cbe-b9f4-1a79c9edb71d",
   "metadata": {
    "papermill": {
     "duration": 0.013927,
     "end_time": "2025-05-14T17:08:10.511606",
     "exception": false,
     "start_time": "2025-05-14T17:08:10.497679",
     "status": "completed"
    },
    "tags": []
   },
   "outputs": [],
   "source": [
    "# show the system information\n",
    "_ = get_system_info(show_output=True)"
   ]
  },
  {
   "cell_type": "code",
   "execution_count": null,
   "id": "49f31031-aee1-463c-ba97-8fe42cebe05b",
   "metadata": {
    "papermill": {
     "duration": 0.008306,
     "end_time": "2025-05-14T17:08:10.522475",
     "exception": false,
     "start_time": "2025-05-14T17:08:10.514169",
     "status": "completed"
    },
    "tags": []
   },
   "outputs": [],
   "source": [
    "# target file or table names\n",
    "image_dir = \"images\"\n",
    "parquet_name = \"example.parquet\"\n",
    "mem_times_image = f\"{image_dir}/arrow-comparisons-mem-read-times.png\"\n",
    "mem_read_size_image = f\"{image_dir}/arrow-comparisons-mem-read-size.png\""
   ]
  },
  {
   "cell_type": "code",
   "execution_count": null,
   "id": "19020031-8a87-4bf0-ace0-be215c687023",
   "metadata": {
    "papermill": {
     "duration": 0.007631,
     "end_time": "2025-05-14T17:08:10.532742",
     "exception": false,
     "start_time": "2025-05-14T17:08:10.525111",
     "status": "completed"
    },
    "tags": []
   },
   "outputs": [],
   "source": [
    "# remove any existing prior work\n",
    "pathlib.Path(parquet_name).unlink(missing_ok=True)"
   ]
  },
  {
   "cell_type": "code",
   "execution_count": null,
   "id": "495e43dd-6b6f-4d54-8e81-5629d5265b11",
   "metadata": {
    "papermill": {
     "duration": 0.088766,
     "end_time": "2025-05-14T17:08:10.624040",
     "exception": false,
     "start_time": "2025-05-14T17:08:10.535274",
     "status": "completed"
    },
    "tags": []
   },
   "outputs": [],
   "source": [
    "# avoid a \"cold start\" for tested packages by using them before benchmarks\n",
    "df = pd.DataFrame(np.random.rand(2, 2), columns=[f\"col_{num}\" for num in range(0, 2)])\n",
    "# write to parquet for tests below\n",
    "df.to_parquet(path=(coldstart_file := \"coldstart.parquet\"), compression=\"snappy\")\n",
    "\n",
    "# read the file using the benchmarked packages\n",
    "pd.read_parquet(path=coldstart_file)\n",
    "parquet.read_table(source=coldstart_file)\n",
    "pl.scan_parquet(source=coldstart_file).collect()\n",
    "\n",
    "# remove the coldstart file\n",
    "pathlib.Path(coldstart_file).unlink(missing_ok=True)"
   ]
  },
  {
   "cell_type": "code",
   "execution_count": null,
   "id": "a9f7561a-ea51-4b00-b1bd-2e1979e46aa7",
   "metadata": {
    "lines_to_next_cell": 0,
    "papermill": {
     "duration": 1.879187,
     "end_time": "2025-05-14T17:08:12.506121",
     "exception": false,
     "start_time": "2025-05-14T17:08:10.626934",
     "status": "completed"
    },
    "tags": []
   },
   "outputs": [],
   "source": [
    "# starting rowcount and col count\n",
    "nrows = 320\n",
    "ncols = 160\n",
    "\n",
    "# result list for storing data\n",
    "results = []\n",
    "\n",
    "# loop for iterating over increasingly large dataframes\n",
    "# and gathering data about operations on them\n",
    "for _ in range(1, 4):\n",
    "    # increase the size of the dataframe\n",
    "    nrows *= 2\n",
    "    ncols *= 2\n",
    "\n",
    "    # form a dataframe using randomized data\n",
    "    df = pd.DataFrame(\n",
    "        np.random.rand(nrows, ncols), columns=[f\"col_{num}\" for num in range(0, ncols)]\n",
    "    )\n",
    "    # write to parquet for tests below\n",
    "    df.to_parquet(path=parquet_name, compression=\"snappy\")\n",
    "\n",
    "    # append data to the result list\n",
    "    results.append(\n",
    "        {\n",
    "            # general information about the dataframe\n",
    "            \"dataframe_shape (rows, cols)\": str(df.shape),\n",
    "            # information about pandas\n",
    "            \"pandas_read_time (secs)\": timer(pd.read_parquet, path=parquet_name),\n",
    "            \"pandas_size (bytes)\": asizeof(pd.read_parquet(path=parquet_name)),\n",
    "            # information about pyarrow\n",
    "            \"pyarrow_read_time (secs)\": timer(parquet.read_table, source=parquet_name),\n",
    "            \"pyarrow_size (bytes)\": asizeof(parquet.read_table(source=parquet_name)),\n",
    "            # information about polars\n",
    "            \"polars_read_time (secs)\": timer(\n",
    "                pl.scan_parquet, source=parquet_name, method_chain=\"collect\"\n",
    "            ),\n",
    "            \"polars_size (bytes)\": pl.scan_parquet(source=parquet_name)\n",
    "            .collect()\n",
    "            .estimated_size(),\n",
    "        }\n",
    "    )\n",
    "\n",
    "    # remove any existing files in preparation for next steps\n",
    "    pathlib.Path(parquet_name).unlink(missing_ok=True)\n",
    "\n",
    "\n",
    "df_results = pd.DataFrame(results)\n",
    "df_results"
   ]
  },
  {
   "cell_type": "code",
   "execution_count": null,
   "id": "7ba3a394-ed68-4bf7-8a72-4d7162be0105",
   "metadata": {
    "lines_to_next_cell": 2,
    "papermill": {
     "duration": 1.327157,
     "end_time": "2025-05-14T17:08:13.838450",
     "exception": false,
     "start_time": "2025-05-14T17:08:12.511293",
     "status": "completed"
    },
    "tags": []
   },
   "outputs": [],
   "source": [
    "# write times barchart\n",
    "fig = px.bar(\n",
    "    df_results,\n",
    "    x=[\n",
    "        \"pandas_read_time (secs)\",\n",
    "        \"pyarrow_read_time (secs)\",\n",
    "        \"polars_read_time (secs)\",\n",
    "    ],\n",
    "    y=\"dataframe_shape (rows, cols)\",\n",
    "    orientation=\"h\",\n",
    "    barmode=\"group\",\n",
    "    labels={\"dataframe_shape (rows, cols)\": \"Data Shape\", \"value\": \"Seconds\"},\n",
    "    width=1300,\n",
    "    color_discrete_sequence=px.colors.qualitative.T10\n",
    ")\n",
    "fig.update_layout(\n",
    "    legend_title_text=\"In-memory Read Duration\",\n",
    "    legend=dict(x=0.72, y=0.02, bgcolor=\"rgba(255,255,255,0.8)\"),\n",
    "    font=dict(\n",
    "        size=17.5,  # global font size\n",
    "    ),\n",
    ")\n",
    "\n",
    "pio.write_image(fig, mem_times_image)\n",
    "Image(url=mem_times_image)"
   ]
  },
  {
   "cell_type": "code",
   "execution_count": null,
   "id": "c572e61c-fde3-4edf-9c18-e30ff9cf4b89",
   "metadata": {
    "papermill": {
     "duration": 0.210952,
     "end_time": "2025-05-14T17:08:14.055171",
     "exception": false,
     "start_time": "2025-05-14T17:08:13.844219",
     "status": "completed"
    },
    "tags": []
   },
   "outputs": [],
   "source": [
    "# write times barchart\n",
    "fig = px.bar(\n",
    "    df_results,\n",
    "    x=[\n",
    "        \"pandas_size (bytes)\",\n",
    "        \"pyarrow_size (bytes)\",\n",
    "        \"polars_size (bytes)\",\n",
    "    ],\n",
    "    y=\"dataframe_shape (rows, cols)\",\n",
    "    orientation=\"h\",\n",
    "    barmode=\"group\",\n",
    "    labels={\"dataframe_shape (rows, cols)\": \"Data Shape\", \"value\": \"Bytes\"},\n",
    "    width=1300,\n",
    "    color_discrete_sequence=px.colors.qualitative.T10\n",
    ")\n",
    "fig.update_layout(\n",
    "    legend_title_text=\"In-memory Data Size\",\n",
    "    legend=dict(x=0.72, y=0.02, bgcolor=\"rgba(255,255,255,0.8)\"),\n",
    "    font=dict(\n",
    "        size=20,  # global font size\n",
    "    ),\n",
    ")\n",
    "\n",
    "pio.write_image(fig, mem_read_size_image)\n",
    "Image(url=mem_read_size_image)"
   ]
  },
  {
   "cell_type": "code",
   "execution_count": null,
   "id": "80c7cf2e-62d4-4c56-aaad-223572cb5591",
   "metadata": {
    "papermill": {
     "duration": 0.005354,
     "end_time": "2025-05-14T17:08:14.066558",
     "exception": false,
     "start_time": "2025-05-14T17:08:14.061204",
     "status": "completed"
    },
    "tags": []
   },
   "outputs": [],
   "source": []
  }
 ],
 "metadata": {
  "jupytext": {
   "formats": "ipynb,py:light"
  },
  "kernelspec": {
   "display_name": "Python 3 (ipykernel)",
   "language": "python",
   "name": "python3"
  },
  "language_info": {
   "codemirror_mode": {
    "name": "ipython",
    "version": 3
   },
   "file_extension": ".py",
   "mimetype": "text/x-python",
   "name": "python",
   "nbconvert_exporter": "python",
   "pygments_lexer": "ipython3",
   "version": "3.12.2"
  },
  "papermill": {
   "default_parameters": {},
   "duration": 8.014761,
   "end_time": "2025-05-14T17:08:16.689786",
   "environment_variables": {},
   "exception": null,
   "input_path": "arrow_analysis.ipynb",
   "output_path": "arrow_analysis.ipynb",
   "parameters": {},
   "start_time": "2025-05-14T17:08:08.675025",
   "version": "2.6.0"
  }
 },
 "nbformat": 4,
 "nbformat_minor": 5
}
