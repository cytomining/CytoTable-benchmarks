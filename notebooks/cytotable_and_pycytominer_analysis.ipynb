{
 "cells": [
  {
   "cell_type": "markdown",
   "id": "9cef710a-ff78-4598-bf7b-2b9b75448c32",
   "metadata": {},
   "source": [
    "# Why DuckDB?\n",
    "\n",
    "This notebook explores the benefits or drawbacks of using the [DuckDB](https://duckdb.org/) data joins relative to other methods such as Pandas DataFrames."
   ]
  },
  {
   "cell_type": "code",
   "execution_count": 1,
   "id": "2965a9d7-d1eb-4314-8527-291111357888",
   "metadata": {
    "tags": []
   },
   "outputs": [],
   "source": [
    "# set ipyflow reactive mode\n",
    "%flow mode reactive"
   ]
  },
  {
   "cell_type": "code",
   "execution_count": 6,
   "id": "d2e47e7d-0629-45e3-b1bd-bce07843ae4c",
   "metadata": {
    "tags": []
   },
   "outputs": [],
   "source": [
    "import io\n",
    "import itertools\n",
    "import json\n",
    "import pathlib\n",
    "import subprocess\n",
    "import tokenize\n",
    "from datetime import datetime\n",
    "\n",
    "import pandas as pd\n",
    "import plotly.express as px\n",
    "import plotly.io as pio\n",
    "from IPython.display import Image"
   ]
  },
  {
   "cell_type": "code",
   "execution_count": 11,
   "id": "8d6efd13-0dce-4baa-b779-f5ec62dc535e",
   "metadata": {
    "tags": []
   },
   "outputs": [],
   "source": [
    "# target file or table names\n",
    "image_dir = \"images\"\n",
    "examples_dir = \"examples\"\n",
    "join_read_time_image = (\n",
    "    f\"{image_dir}/cytotable-and-pycytominer-comparisons-join-read-time.png\"\n",
    ")\n",
    "join_mem_size_image = (\n",
    "    f\"{image_dir}/cytotable-and-pycytominer-comparisons-join-memory-size.png\"\n",
    ")\n",
    "example_files_list = [\n",
    "    f\"{examples_dir}/cytotable_convert_nf1.py\",\n",
    "    # f\"{examples_dir}/pycytominer_merge.py\",\n",
    "]\n",
    "example_data_list = [\n",
    "    f\"{examples_dir}/data/all_cellprofiler.sqlite\",\n",
    "    f\"{examples_dir}/data/all_cellprofiler-x2.sqlite\",\n",
    "    f\"{examples_dir}/data/all_cellprofiler-x4.sqlite\",\n",
    "    f\"{examples_dir}/data/all_cellprofiler-x8.sqlite\",\n",
    "    f\"{examples_dir}/data/all_cellprofiler-x16.sqlite\",\n",
    "    f\"{examples_dir}/data/all_cellprofiler-x32.sqlite\",\n",
    "]\n",
    "# format for memray time strings\n",
    "tformat = \"%Y-%m-%d %H:%M:%S.%f\""
   ]
  },
  {
   "cell_type": "code",
   "execution_count": 14,
   "id": "a33736e4-306b-45c4-affe-cef6e20eeddf",
   "metadata": {
    "tags": []
   },
   "outputs": [
    {
     "ename": "CalledProcessError",
     "evalue": "Command '['memray', 'run', '--output', 'examples/cytotable_convert_nf1.py_with_all_cellprofiler.sqlite.memray.bin', '--force', 'examples/cytotable_convert_nf1.py', 'examples/data/all_cellprofiler.sqlite']' returned non-zero exit status 1.",
     "output_type": "error",
     "traceback": [
      "\u001b[0;31m---------------------------------------------------------------------------\u001b[0m",
      "\u001b[0;31mCalledProcessError\u001b[0m                        Traceback (most recent call last)",
      "Cell \u001b[0;32mIn[14], line 12\u001b[0m\n\u001b[1;32m     10\u001b[0m target_bin \u001b[38;5;241m=\u001b[39m \u001b[38;5;124mf\u001b[39m\u001b[38;5;124m\"\u001b[39m\u001b[38;5;132;01m{\u001b[39;00mexample_file\u001b[38;5;132;01m}\u001b[39;00m\u001b[38;5;124m_with_\u001b[39m\u001b[38;5;132;01m{\u001b[39;00mexample_data\u001b[38;5;241m.\u001b[39mreplace(\u001b[38;5;124mf\u001b[39m\u001b[38;5;124m'\u001b[39m\u001b[38;5;132;01m{\u001b[39;00mexamples_dir\u001b[38;5;132;01m}\u001b[39;00m\u001b[38;5;124m/data/\u001b[39m\u001b[38;5;124m'\u001b[39m,\u001b[38;5;124m'\u001b[39m\u001b[38;5;124m'\u001b[39m)\u001b[38;5;132;01m}\u001b[39;00m\u001b[38;5;124m.memray.bin\u001b[39m\u001b[38;5;124m\"\u001b[39m\n\u001b[1;32m     11\u001b[0m target_json \u001b[38;5;241m=\u001b[39m \u001b[38;5;124mf\u001b[39m\u001b[38;5;124m\"\u001b[39m\u001b[38;5;132;01m{\u001b[39;00mtarget_bin\u001b[38;5;132;01m}\u001b[39;00m\u001b[38;5;124m.json\u001b[39m\u001b[38;5;124m\"\u001b[39m\n\u001b[0;32m---> 12\u001b[0m memray_run \u001b[38;5;241m=\u001b[39m subprocess\u001b[38;5;241m.\u001b[39mrun(\n\u001b[1;32m     13\u001b[0m     [\n\u001b[1;32m     14\u001b[0m         \u001b[38;5;124m\"\u001b[39m\u001b[38;5;124mmemray\u001b[39m\u001b[38;5;124m\"\u001b[39m,\n\u001b[1;32m     15\u001b[0m         \u001b[38;5;124m\"\u001b[39m\u001b[38;5;124mrun\u001b[39m\u001b[38;5;124m\"\u001b[39m,\n\u001b[1;32m     16\u001b[0m         \u001b[38;5;124m\"\u001b[39m\u001b[38;5;124m--output\u001b[39m\u001b[38;5;124m\"\u001b[39m,\n\u001b[1;32m     17\u001b[0m         target_bin,\n\u001b[1;32m     18\u001b[0m         \u001b[38;5;124m\"\u001b[39m\u001b[38;5;124m--force\u001b[39m\u001b[38;5;124m\"\u001b[39m,\n\u001b[1;32m     19\u001b[0m         example_file,\n\u001b[1;32m     20\u001b[0m         example_data,\n\u001b[1;32m     21\u001b[0m     ],\n\u001b[1;32m     22\u001b[0m     capture_output\u001b[38;5;241m=\u001b[39m\u001b[38;5;28;01mTrue\u001b[39;00m,\n\u001b[1;32m     23\u001b[0m     check\u001b[38;5;241m=\u001b[39m\u001b[38;5;28;01mTrue\u001b[39;00m,\n\u001b[1;32m     24\u001b[0m )\n\u001b[1;32m     26\u001b[0m memray_stats \u001b[38;5;241m=\u001b[39m subprocess\u001b[38;5;241m.\u001b[39mrun(\n\u001b[1;32m     27\u001b[0m     [\n\u001b[1;32m     28\u001b[0m         \u001b[38;5;124m\"\u001b[39m\u001b[38;5;124mmemray\u001b[39m\u001b[38;5;124m\"\u001b[39m,\n\u001b[0;32m   (...)\u001b[0m\n\u001b[1;32m     37\u001b[0m     check\u001b[38;5;241m=\u001b[39m\u001b[38;5;28;01mTrue\u001b[39;00m,\n\u001b[1;32m     38\u001b[0m )\n\u001b[1;32m     40\u001b[0m \u001b[38;5;66;03m# open the json data\u001b[39;00m\n",
      "File \u001b[0;32m~/.pyenv/versions/3.9.16/lib/python3.9/subprocess.py:528\u001b[0m, in \u001b[0;36mrun\u001b[0;34m(input, capture_output, timeout, check, *popenargs, **kwargs)\u001b[0m\n\u001b[1;32m    526\u001b[0m     retcode \u001b[38;5;241m=\u001b[39m process\u001b[38;5;241m.\u001b[39mpoll()\n\u001b[1;32m    527\u001b[0m     \u001b[38;5;28;01mif\u001b[39;00m check \u001b[38;5;129;01mand\u001b[39;00m retcode:\n\u001b[0;32m--> 528\u001b[0m         \u001b[38;5;28;01mraise\u001b[39;00m CalledProcessError(retcode, process\u001b[38;5;241m.\u001b[39margs,\n\u001b[1;32m    529\u001b[0m                                  output\u001b[38;5;241m=\u001b[39mstdout, stderr\u001b[38;5;241m=\u001b[39mstderr)\n\u001b[1;32m    530\u001b[0m \u001b[38;5;28;01mreturn\u001b[39;00m CompletedProcess(process\u001b[38;5;241m.\u001b[39margs, retcode, stdout, stderr)\n",
      "\u001b[0;31mCalledProcessError\u001b[0m: Command '['memray', 'run', '--output', 'examples/cytotable_convert_nf1.py_with_all_cellprofiler.sqlite.memray.bin', '--force', 'examples/cytotable_convert_nf1.py', 'examples/data/all_cellprofiler.sqlite']' returned non-zero exit status 1."
     ]
    }
   ],
   "source": [
    "# result list for storing data\n",
    "results = []\n",
    "\n",
    "# loop for iterating over examples and example data\n",
    "# and gathering data about operations on them\n",
    "for example_file, example_data in itertools.product(\n",
    "    example_files_list,\n",
    "    example_data_list,\n",
    "):\n",
    "    target_bin = f\"{example_file}_with_{example_data.replace(f'{examples_dir}/data/','')}.memray.bin\"\n",
    "    target_json = f\"{target_bin}.json\"\n",
    "    memray_run = subprocess.run(\n",
    "        [\n",
    "            \"memray\",\n",
    "            \"run\",\n",
    "            \"--output\",\n",
    "            target_bin,\n",
    "            \"--force\",\n",
    "            example_file,\n",
    "            example_data,\n",
    "        ],\n",
    "        capture_output=True,\n",
    "        check=True,\n",
    "    )\n",
    "\n",
    "    memray_stats = subprocess.run(\n",
    "        [\n",
    "            \"memray\",\n",
    "            \"stats\",\n",
    "            \"--json\",\n",
    "            \"--output\",\n",
    "            target_json,\n",
    "            \"--force\",\n",
    "            target_bin,\n",
    "        ],\n",
    "        capture_output=True,\n",
    "        check=True,\n",
    "    )\n",
    "\n",
    "    # open the json data\n",
    "    with open(target_json) as memray_json_file:\n",
    "        memray_data = json.load(memray_json_file)\n",
    "\n",
    "    # append data to the result list\n",
    "    results.append(\n",
    "        {\n",
    "            # general information about the dataframe\n",
    "            \"file_input\": example_file.replace(f\"{examples_dir}/\", \"\"),\n",
    "            \"data_input\": example_data.replace(f\"{examples_dir}/data/\", \"\"),\n",
    "            # information about pandas\n",
    "            \"time_duration (secs)\": (\n",
    "                datetime.strptime(memray_data[\"metadata\"][\"end_time\"], tformat)\n",
    "                - datetime.strptime(memray_data[\"metadata\"][\"start_time\"], tformat)\n",
    "            ).total_seconds(),\n",
    "            \"total_memory (bytes)\": memray_data[\"total_bytes_allocated\"],\n",
    "        }\n",
    "    )\n",
    "\n",
    "    # cleanup\n",
    "    pathlib.Path(target_bin).unlink(missing_ok=True)\n",
    "    pathlib.Path(target_json).unlink(missing_ok=True)\n",
    "\n",
    "df_results = pd.DataFrame(results)\n",
    "df_results"
   ]
  },
  {
   "cell_type": "code",
   "execution_count": 13,
   "id": "6f96b829-7d8f-438d-9f65-62f62ec264b3",
   "metadata": {
    "tags": []
   },
   "outputs": [
    {
     "ename": "NameError",
     "evalue": "name 'df_results' is not defined",
     "output_type": "error",
     "traceback": [
      "\u001b[0;31m---------------------------------------------------------------------------\u001b[0m",
      "\u001b[0;31mNameError\u001b[0m                                 Traceback (most recent call last)",
      "Cell \u001b[0;32mIn[13], line 1\u001b[0m\n\u001b[0;32m----> 1\u001b[0m df_results[\u001b[38;5;124m\"\u001b[39m\u001b[38;5;124mdata_input_renamed\u001b[39m\u001b[38;5;124m\"\u001b[39m] \u001b[38;5;241m=\u001b[39m df_results[\u001b[38;5;124m\"\u001b[39m\u001b[38;5;124mdata_input\u001b[39m\u001b[38;5;124m\"\u001b[39m]\u001b[38;5;241m.\u001b[39mstr\u001b[38;5;241m.\u001b[39mreplace(\n\u001b[1;32m      2\u001b[0m     \u001b[38;5;124m\"\u001b[39m\u001b[38;5;124mall_cellprofiler\u001b[39m\u001b[38;5;124m\"\u001b[39m, \u001b[38;5;124m\"\u001b[39m\u001b[38;5;124minput\u001b[39m\u001b[38;5;124m\"\u001b[39m\n\u001b[1;32m      3\u001b[0m )\n\u001b[1;32m      4\u001b[0m df_results[\u001b[38;5;124m\"\u001b[39m\u001b[38;5;124mpandas_time_duration (secs)\u001b[39m\u001b[38;5;124m\"\u001b[39m] \u001b[38;5;241m=\u001b[39m df_results[\n\u001b[1;32m      5\u001b[0m     df_results[\u001b[38;5;124m\"\u001b[39m\u001b[38;5;124mfile_input\u001b[39m\u001b[38;5;124m\"\u001b[39m] \u001b[38;5;241m==\u001b[39m \u001b[38;5;124m\"\u001b[39m\u001b[38;5;124mjoin_pandas.py\u001b[39m\u001b[38;5;124m\"\u001b[39m\n\u001b[1;32m      6\u001b[0m ][\u001b[38;5;124m\"\u001b[39m\u001b[38;5;124mtime_duration (secs)\u001b[39m\u001b[38;5;124m\"\u001b[39m]\n\u001b[1;32m      7\u001b[0m df_results[\u001b[38;5;124m\"\u001b[39m\u001b[38;5;124mpandas_total_memory (bytes)\u001b[39m\u001b[38;5;124m\"\u001b[39m] \u001b[38;5;241m=\u001b[39m df_results[\n\u001b[1;32m      8\u001b[0m     df_results[\u001b[38;5;124m\"\u001b[39m\u001b[38;5;124mfile_input\u001b[39m\u001b[38;5;124m\"\u001b[39m] \u001b[38;5;241m==\u001b[39m \u001b[38;5;124m\"\u001b[39m\u001b[38;5;124mjoin_pandas.py\u001b[39m\u001b[38;5;124m\"\u001b[39m\n\u001b[1;32m      9\u001b[0m ][\u001b[38;5;124m\"\u001b[39m\u001b[38;5;124mtotal_memory (bytes)\u001b[39m\u001b[38;5;124m\"\u001b[39m]\n",
      "\u001b[0;31mNameError\u001b[0m: name 'df_results' is not defined"
     ]
    }
   ],
   "source": [
    "df_results[\"data_input_renamed\"] = df_results[\"data_input\"].str.replace(\n",
    "    \"all_cellprofiler\", \"input\"\n",
    ")\n",
    "df_results[\"pandas_time_duration (secs)\"] = df_results[\n",
    "    df_results[\"file_input\"] == \"join_pandas.py\"\n",
    "][\"time_duration (secs)\"]\n",
    "df_results[\"pandas_total_memory (bytes)\"] = df_results[\n",
    "    df_results[\"file_input\"] == \"join_pandas.py\"\n",
    "][\"total_memory (bytes)\"]\n",
    "df_results[\"duckdb_time_duration (secs)\"] = df_results[\n",
    "    df_results[\"file_input\"] == \"join_duckdb.py\"\n",
    "][\"time_duration (secs)\"]\n",
    "df_results[\"duckdb_total_memory (bytes)\"] = df_results[\n",
    "    df_results[\"file_input\"] == \"join_duckdb.py\"\n",
    "][\"total_memory (bytes)\"]\n",
    "df_results = (\n",
    "    df_results.apply(lambda x: pd.Series(x.dropna().values))\n",
    "    .drop([\"file_input\", \"time_duration (secs)\", \"total_memory (bytes)\"], axis=1)\n",
    "    .dropna()\n",
    ")\n",
    "df_results"
   ]
  },
  {
   "cell_type": "code",
   "execution_count": 6,
   "id": "f2dec74d-bf23-40da-989d-3d45049e17b2",
   "metadata": {
    "tags": []
   },
   "outputs": [
    {
     "data": {
      "text/html": [
       "<img src=\"images/duckdb-comparisons-join-read-time.png\"/>"
      ],
      "text/plain": [
       "<IPython.core.display.Image object>"
      ]
     },
     "execution_count": 6,
     "metadata": {},
     "output_type": "execute_result"
    }
   ],
   "source": [
    "# read time chart\n",
    "fig = px.line(\n",
    "    df_results,\n",
    "    y=[\n",
    "        \"pandas_time_duration (secs)\",\n",
    "        \"duckdb_time_duration (secs)\",\n",
    "    ],\n",
    "    x=\"data_input_renamed\",\n",
    "    labels={\"data_input_renamed\": \"Input File\", \"value\": \"Seconds\"},\n",
    "    width=1300,\n",
    "    color_discrete_sequence=px.colors.qualitative.T10,\n",
    ")\n",
    "fig.update_layout(\n",
    "    legend_title_text=\"Read Time Duration\",\n",
    "    legend=dict(x=0.01, y=0.98, bgcolor=\"rgba(255,255,255,0.8)\"),\n",
    "    font=dict(\n",
    "        size=20,  # global font size\n",
    "    ),\n",
    ")\n",
    "fig.update_xaxes(range=[-0.03, 5.2])\n",
    "fig.update_traces(mode=\"lines+markers\")\n",
    "\n",
    "pio.write_image(fig, join_read_time_image)\n",
    "Image(url=join_read_time_image)"
   ]
  },
  {
   "cell_type": "code",
   "execution_count": 7,
   "id": "47984c80-edfa-4bab-87f2-3f6034ff7e84",
   "metadata": {
    "tags": []
   },
   "outputs": [
    {
     "data": {
      "text/html": [
       "<img src=\"images/duckdb-comparisons-join-memory-size.png\"/>"
      ],
      "text/plain": [
       "<IPython.core.display.Image object>"
      ]
     },
     "execution_count": 7,
     "metadata": {},
     "output_type": "execute_result"
    }
   ],
   "source": [
    "# memory size\n",
    "fig = px.bar(\n",
    "    df_results,\n",
    "    x=[\n",
    "        \"pandas_total_memory (bytes)\",\n",
    "        \"duckdb_total_memory (bytes)\",\n",
    "    ],\n",
    "    y=\"data_input_renamed\",\n",
    "    labels={\"data_input_renamed\": \"Input File\", \"value\": \"Bytes\"},\n",
    "    orientation=\"h\",\n",
    "    barmode=\"group\",\n",
    "    width=1300,\n",
    "    color_discrete_sequence=px.colors.qualitative.T10,\n",
    ")\n",
    "fig.update_layout(\n",
    "    legend_title_text=\"In-memory Data Size\",\n",
    "    legend=dict(x=0.58, y=0.02, bgcolor=\"rgba(255,255,255,0.8)\"),\n",
    "    font=dict(\n",
    "        size=20,  # global font size\n",
    "    ),\n",
    ")\n",
    "\n",
    "pio.write_image(fig, join_mem_size_image)\n",
    "Image(url=join_mem_size_image)"
   ]
  }
 ],
 "metadata": {
  "jupytext": {
   "formats": "ipynb,py:light"
  },
  "kernelspec": {
   "display_name": "Python 3 (ipyflow)",
   "language": "python",
   "name": "ipyflow"
  },
  "language_info": {
   "codemirror_mode": {
    "name": "ipython",
    "version": 3
   },
   "file_extension": ".py",
   "mimetype": "text/x-python",
   "name": "python",
   "nbconvert_exporter": "python",
   "pygments_lexer": "ipython3",
   "version": "3.9.16"
  }
 },
 "nbformat": 4,
 "nbformat_minor": 5
}
